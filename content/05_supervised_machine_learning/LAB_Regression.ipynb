{
 "cells": [
  {
   "cell_type": "markdown",
   "id": "694022e9",
   "metadata": {},
   "source": [
    "##                                                  Day 1 - Part_1 LAB\n",
    "\n",
    "###  REGRESSION MACHINE LEARNING - Baseline Model Implementation"
   ]
  },
  {
   "cell_type": "code",
   "execution_count": 10,
   "id": "3d5e511f",
   "metadata": {},
   "outputs": [],
   "source": [
    "#importing required libraries for data analysis\n",
    "import pandas as pd\n",
    "import numpy as np\n",
    "import time\n",
    "\n",
    "# Import models from sklearn\n",
    "from sklearn.linear_model import LinearRegression,ElasticNet,Ridge,Lasso,LassoCV,RidgeCV\n",
    "from sklearn.tree import DecisionTreeRegressor\n",
    "\n",
    "#Import Ensemble models\n",
    "from sklearn.ensemble import RandomForestRegressor,GradientBoostingRegressor, AdaBoostRegressor, BaggingRegressor\n",
    "from xgboost import XGBRegressor\n",
    "\n",
    "# Import evaluation metrics\n",
    "from sklearn.model_selection import cross_val_score\n",
    "from sklearn.metrics import mean_absolute_error, mean_squared_error, mean_squared_log_error, r2_score\n",
    "\n",
    "#Visuals\n",
    "import matplotlib.pyplot as plt"
   ]
  },
  {
   "cell_type": "code",
   "execution_count": 11,
   "id": "19d6f538",
   "metadata": {},
   "outputs": [
    {
     "name": "stdout",
     "output_type": "stream",
     "text": [
      "(909, 31) (427, 31) (909, 1) (427, 1)\n"
     ]
    }
   ],
   "source": [
    "# Read the training & test datasets from Part1-Preprocessing part\n",
    "\n",
    "X_train=pd.read_csv(\"./regression_dataset/X_train.csv\", index_col=0)\n",
    "y_train=pd.read_csv(\"./regression_dataset/y_train.csv\", index_col=0)\n",
    "                    \n",
    "X_test=pd.read_csv(\"./regression_dataset/X_test.csv\", index_col=0)\n",
    "y_test=pd.read_csv(\"./regression_dataset/y_test.csv\", index_col=0)\n",
    "\n",
    "print(X_train.shape,X_test.shape,y_train.shape,y_test.shape)"
   ]
  },
  {
   "cell_type": "markdown",
   "id": "defe5f3f",
   "metadata": {
    "id": "1HD-O64CJaWG"
   },
   "source": [
    "## 1. Linear Regression Model"
   ]
  },
  {
   "cell_type": "code",
   "execution_count": 12,
   "id": "295d1b34",
   "metadata": {
    "colab": {
     "base_uri": "https://localhost:8080/"
    },
    "id": "xltV-JKlH76A",
    "outputId": "7c475b05-d52e-43e5-d06b-98ae5ff16b6b"
   },
   "outputs": [],
   "source": [
    "# Importing the Linear Regression Model\n",
    "lrmodel = LinearRegression()\n",
    "start = time.time()\n",
    "#Train the model\n",
    "lrmodel.fit(X_train, y_train)\n",
    "stop = time.time()\n",
    "\n",
    "# predicting the y test observations\n",
    "y_pred = lrmodel.predict(X_test)\n",
    "y_train_pred = lrmodel.predict(X_train)"
   ]
  },
  {
   "cell_type": "code",
   "execution_count": 13,
   "id": "5f617e14",
   "metadata": {
    "colab": {
     "base_uri": "https://localhost:8080/"
    },
    "id": "WUYBmWtyNfUs",
    "outputId": "514389aa-365a-4c20-fc73-f3ab00cdae36"
   },
   "outputs": [
    {
     "name": "stdout",
     "output_type": "stream",
     "text": [
      "y = 10.723706484134702  + \n",
      "0.00030504812279513765 * OpenPorchSF  + 0.142854320808746 * x0_Y  + -0.026690167805138335 * x3_No  + 0.0001496363744616284 * GarageArea  + -0.0026620642735121856 * YearRemodAdd  + 0.008921651816753074 * TotRmsAbvGrd  + 0.006457181245353147 * x4_SBrkr  + -0.022999915293182942 * x1_2fmCon  + 0.01026163915615694 * x9_BrkTil  + 0.13381684957033552 * x2_2Story  + 0.05408181352373154 * x3_Gd  + 0.07746574396554341 * x9_PConc  + 0.06511803457904271 * x6_CulDSac  + 0.07426876151284302 * x2_1.5Fin  + 0.0020025795716005703 * LotFrontage_median  + 0.00013125951001046824 * WoodDeckSF  + 0.007769279779374693 * x6_Inside  + 0.06368546676771786 * isNew  + -0.027088500067798903 * x1_Twnhs  + 0.08494620058483258 * FullBath  + -0.1762889724556731 * x5_Grav  + 8.233603188442678e-06 * LotArea  + -0.01371658882679391 * x12_MnPrv  + 0.07741354110281186 * HalfBath  + -0.07330556373042178 * x12_GdWo  + 0.00036442898836611055 * firstFlrSF  + -0.004698638665784773 * x3_Av  + 0.12585087039127754 * hasGarage  + 0.06867073525578771 * Fireplaces  + -0.05245730295396776 * x4_FuseF  + 0.0724351304021971 * BsmtFullBath  +  E\n"
     ]
    }
   ],
   "source": [
    "# y = beta0 + beta1 * X1 + beta2 * X3 +...+ E\n",
    "intercept= lrmodel.intercept_[0]\n",
    "coefficients=lrmodel.coef_[0]\n",
    "print(\"y =\",intercept,\" + \")\n",
    "for i in range(len(coefficients)):\n",
    "    print(coefficients[i],\"*\",X_train.columns[i],\" + \", end=\"\")\n",
    "print(\" E\")"
   ]
  },
  {
   "cell_type": "code",
   "execution_count": 14,
   "id": "a58380a4",
   "metadata": {
    "scrolled": true
   },
   "outputs": [
    {
     "data": {
      "text/plain": [
       "Text(0, 0.5, 'y_pred_manual')"
      ]
     },
     "execution_count": 14,
     "metadata": {},
     "output_type": "execute_result"
    },
    {
     "data": {
      "image/png": "[encoded data removed]",
      "text/plain": [
       "<Figure size 432x288 with 1 Axes>"
      ]
     },
     "metadata": {
      "needs_background": "light"
     },
     "output_type": "display_data"
    }
   ],
   "source": [
    "# predicting the y test observations manually\n",
    "y_pred_mn=intercept + np.sum(coefficients * X_test, axis=1)\n",
    "plt.scatter(y_pred_mn,y_pred)\n",
    "plt.xlabel(\"y_pred\")\n",
    "plt.ylabel(\"y_pred_manual\")"
   ]
  },
  {
   "cell_type": "markdown",
   "id": "7c0ae2ca",
   "metadata": {},
   "source": [
    "### Feature Importance "
   ]
  },
  {
   "cell_type": "markdown",
   "id": "0f8aae40",
   "metadata": {},
   "source": [
    "In regression analysis, the magnitude of your coefficients is not necessarily related to their importance."
   ]
  },
  {
   "cell_type": "code",
   "execution_count": 15,
   "id": "9cc62247",
   "metadata": {},
   "outputs": [],
   "source": [
    "stdevs= []\n",
    "for i in X_train.columns:\n",
    "    stdev=X_train[i].std()\n",
    "    stdevs.append(stdev)"
   ]
  },
  {
   "cell_type": "code",
   "execution_count": 16,
   "id": "0f724bdb",
   "metadata": {},
   "outputs": [],
   "source": [
    "features=pd.DataFrame(coefficients, X_train.columns, columns=['coef'])\n",
    "\n",
    "#normalized feature importance \n",
    "features['importance']=np.array(stdevs)*features[\"coef\"].abs()/max(np.array(stdevs)*features[\"coef\"].abs()) \n",
    "features = features.sort_values(by = \"importance\")\n",
    "features.reset_index(inplace=True)\n",
    "features = features.rename(columns = {'index':'features'})"
   ]
  },
  {
   "cell_type": "code",
   "execution_count": 17,
   "id": "e57d49a4",
   "metadata": {},
   "outputs": [
    {
     "data": {
      "text/plain": [
       "Text(0.5, 0, 'Feature Importance')"
      ]
     },
     "execution_count": 17,
     "metadata": {},
     "output_type": "execute_result"
    },
    {
     "data": {
      "image/png": "[encoded data removed]",
      "text/plain": [
       "<Figure size 720x360 with 1 Axes>"
      ]
     },
     "metadata": {
      "needs_background": "light"
     },
     "output_type": "display_data"
    }
   ],
   "source": [
    "#Feature Importance\n",
    "plt.figure(figsize=(10,5))\n",
    "plt.barh(features['features'][-15:], features['importance'][-15:])\n",
    "plt.xlabel(\"Feature Importance\")"
   ]
  },
  {
   "cell_type": "markdown",
   "id": "eb12b359",
   "metadata": {},
   "source": [
    "### Model Evaluation"
   ]
  },
  {
   "cell_type": "code",
   "execution_count": 18,
   "id": "76e6a09c",
   "metadata": {},
   "outputs": [
    {
     "data": {
      "text/html": [
       "<div>\n",
       "<style scoped>\n",
       "    .dataframe tbody tr th:only-of-type {\n",
       "        vertical-align: middle;\n",
       "    }\n",
       "\n",
       "    .dataframe tbody tr th {\n",
       "        vertical-align: top;\n",
       "    }\n",
       "\n",
       "    .dataframe thead th {\n",
       "        text-align: right;\n",
       "    }\n",
       "</style>\n",
       "<table border=\"1\" class=\"dataframe\">\n",
       "  <thead>\n",
       "    <tr style=\"text-align: right;\">\n",
       "      <th></th>\n",
       "      <th>Model</th>\n",
       "      <th>Train Score</th>\n",
       "      <th>Test Score/R-Square</th>\n",
       "      <th>Adjusted R^2</th>\n",
       "      <th>MAE</th>\n",
       "      <th>MSE</th>\n",
       "      <th>RMSE</th>\n",
       "      <th>Training Time(s)</th>\n",
       "      <th>Important Features</th>\n",
       "    </tr>\n",
       "  </thead>\n",
       "  <tbody>\n",
       "    <tr>\n",
       "      <th>0</th>\n",
       "      <td>Linear Regression</td>\n",
       "      <td>0.811</td>\n",
       "      <td>0.786</td>\n",
       "      <td>0.769</td>\n",
       "      <td>0.128</td>\n",
       "      <td>0.032</td>\n",
       "      <td>0.178</td>\n",
       "      <td>0.006192</td>\n",
       "      <td>[firstFlrSF, x2_2Story, YearRemodAdd]</td>\n",
       "    </tr>\n",
       "  </tbody>\n",
       "</table>\n",
       "</div>"
      ],
      "text/plain": [
       "               Model  Train Score  Test Score/R-Square  Adjusted R^2    MAE  \\\n",
       "0  Linear Regression        0.811                0.786         0.769  0.128   \n",
       "\n",
       "     MSE   RMSE  Training Time(s)                     Important Features  \n",
       "0  0.032  0.178          0.006192  [firstFlrSF, x2_2Story, YearRemodAdd]  "
      ]
     },
     "execution_count": 18,
     "metadata": {},
     "output_type": "execute_result"
    }
   ],
   "source": [
    "#Model Evaluation\n",
    "lrm_trscore = round(lrmodel.score(X_train, y_train),3)\n",
    "lrm_tescore = round(lrmodel.score(X_test, y_test),3)\n",
    "lrm_r2= round(r2_score(y_test,y_pred),3) #coefficient of determination\n",
    "lrm_adj= round(1 - (1-lrm_r2)*(len(y_test)-1)/(len(y_test)-len(X_test.columns)-1),3)\n",
    "lrm_mae= round(mean_absolute_error(y_test,y_pred),3)                      \n",
    "lrm_mse= round(mean_squared_error(y_test,y_pred),3)\n",
    "lrm_rmse= round(np.sqrt(mean_squared_error(y_test,y_pred)),3)\n",
    "lrm_feat=np.array(features['features'][::-1][:3])\n",
    "#Training time of the model\n",
    "lrm_time=stop-start\n",
    "\n",
    "results = pd.DataFrame([['Linear Regression', lrm_trscore, lrm_tescore, lrm_adj, lrm_mae, lrm_mse, lrm_rmse, lrm_time, lrm_feat]],\n",
    "               columns = ['Model', 'Train Score', 'Test Score/R-Square','Adjusted R^2', 'MAE', 'MSE', 'RMSE', \"Training Time(s)\",\"Important Features\"])\n",
    "pd.set_option('display.max_colwidth', 100)\n",
    "results"
   ]
  },
  {
   "cell_type": "code",
   "execution_count": 19,
   "id": "a223b23d",
   "metadata": {},
   "outputs": [
    {
     "data": {
      "text/plain": [
       "<matplotlib.collections.PathCollection at 0x7fb0d0adc520>"
      ]
     },
     "execution_count": 19,
     "metadata": {},
     "output_type": "execute_result"
    },
    {
     "data": {
      "image/png": "[encoded data removed]",
      "text/plain": [
       "<Figure size 432x432 with 1 Axes>"
      ]
     },
     "metadata": {
      "needs_background": "light"
     },
     "output_type": "display_data"
    }
   ],
   "source": [
    "# Test vs Prediction\n",
    "plt.figure(figsize=(6,6))\n",
    "plt.scatter(y_test,y_pred)"
   ]
  },
  {
   "cell_type": "markdown",
   "id": "ddeaec8e",
   "metadata": {
    "id": "1HD-O64CJaWG"
   },
   "source": [
    "### Task 1 - **Build a different model, Evaluate the predictions & Compare the results**"
   ]
  },
  {
   "cell_type": "code",
   "execution_count": 20,
   "id": "a0891b93",
   "metadata": {},
   "outputs": [],
   "source": [
    "# Import the Model from sklearn\n",
    "\n"
   ]
  },
  {
   "cell_type": "code",
   "execution_count": 21,
   "id": "66a3a419",
   "metadata": {},
   "outputs": [],
   "source": [
    "# Fit the Model & Predict  - X_train, y_train, X_test, y_test\n",
    "\n",
    "\n",
    "\n"
   ]
  },
  {
   "cell_type": "code",
   "execution_count": 22,
   "id": "017f672c",
   "metadata": {},
   "outputs": [],
   "source": [
    "# Visualize Important Features\n",
    "\n",
    "\n",
    "\n"
   ]
  },
  {
   "cell_type": "code",
   "execution_count": 23,
   "id": "8c71dae2",
   "metadata": {},
   "outputs": [],
   "source": [
    "# Evaluation the model predictions\n",
    "\n",
    "###  **Build a different model, Evaluate the predictions & Compare the results**\n",
    "\n",
    "\n"
   ]
  },
  {
   "cell_type": "markdown",
   "id": "f5fe2313-c09c-43ae-9370-3e4d17d357eb",
   "metadata": {},
   "source": [
    "##                                                  Day 2 -Part_1 LAB\n",
    "\n",
    "###  REGRESSION MACHINE LEARNING - Ensemble Model Implementation"
   ]
  },
  {
   "cell_type": "markdown",
   "id": "f61aae80-1e89-4e0a-ae5e-70f02dc71d07",
   "metadata": {},
   "source": [
    "### **Random Forest Regression Model**"
   ]
  },
  {
   "cell_type": "code",
   "execution_count": 24,
   "id": "8730d1cc-280c-4fc0-b712-eef3fef9a4e2",
   "metadata": {},
   "outputs": [
    {
     "name": "stdout",
     "output_type": "stream",
     "text": [
      "1659512834.6557698\n"
     ]
    },
    {
     "name": "stderr",
     "output_type": "stream",
     "text": [
      "/tmp/ipykernel_150/103226387.py:6: DataConversionWarning: A column-vector y was passed when a 1d array was expected. Please change the shape of y to (n_samples,), for example using ravel().\n",
      "  rfr.fit(X_train, y_train)\n"
     ]
    },
    {
     "name": "stdout",
     "output_type": "stream",
     "text": [
      "1659512834.9488018\n"
     ]
    }
   ],
   "source": [
    "# Importing the Random Forest Regressor\n",
    "rfr= RandomForestRegressor()\n",
    "start = time.time()\n",
    "print(start)\n",
    "#Fitting data into Random Forest Regressor\n",
    "rfr.fit(X_train, y_train)\n",
    "stop = time.time()\n",
    "print(stop)\n",
    "#print(\"dif\",stop-start)\n",
    "# predicting the y test observations\n",
    "y_pred = rfr.predict(X_test)\n",
    "y_train_pred = rfr.predict(X_train)"
   ]
  },
  {
   "cell_type": "markdown",
   "id": "590b5ca6-2563-49f5-b8cb-093ba03ff5dd",
   "metadata": {},
   "source": [
    "#### **Feature Importance**"
   ]
  },
  {
   "cell_type": "code",
   "execution_count": 26,
   "id": "ccd51bde-89f5-49bc-804b-4cdd0f19e4ac",
   "metadata": {},
   "outputs": [
    {
     "data": {
      "text/plain": [
       "Text(0.5, 1.0, 'Feature Importance')"
      ]
     },
     "execution_count": 26,
     "metadata": {},
     "output_type": "execute_result"
    },
    {
     "data": {
      "image/png": "[encoded data removed]",
      "text/plain": [
       "<Figure size 576x288 with 1 Axes>"
      ]
     },
     "metadata": {
      "needs_background": "light"
     },
     "output_type": "display_data"
    }
   ],
   "source": [
    "#Feature Importance\n",
    "sort = rfr.feature_importances_.argsort()\n",
    "plt.figure(figsize=(8,4))\n",
    "plt.barh(X_train.columns[sort[-15:]], rfr.feature_importances_[sort[-15:]])\n",
    "plt.title('Feature Importance', size=15)"
   ]
  },
  {
   "cell_type": "code",
   "execution_count": 27,
   "id": "b6eb5a78-b8e8-4488-8696-522b11f56121",
   "metadata": {},
   "outputs": [
    {
     "data": {
      "text/plain": [
       "<matplotlib.collections.PathCollection at 0x7fb0d09d5df0>"
      ]
     },
     "execution_count": 27,
     "metadata": {},
     "output_type": "execute_result"
    },
    {
     "data": {
      "image/png": "[encoded data removed]",
      "text/plain": [
       "<Figure size 432x432 with 1 Axes>"
      ]
     },
     "metadata": {
      "needs_background": "light"
     },
     "output_type": "display_data"
    }
   ],
   "source": [
    "# Test vs Prediction\n",
    "plt.figure(figsize=(6,6))\n",
    "plt.scatter(y_test,y_pred)"
   ]
  },
  {
   "cell_type": "markdown",
   "id": "d8b47187-bd76-493d-a5cb-eb3bdf79a3d8",
   "metadata": {},
   "source": [
    "#### **Model Evaluation**"
   ]
  },
  {
   "cell_type": "code",
   "execution_count": 28,
   "id": "7e5c35d8-43b1-42b3-b0ae-4c59d23c3523",
   "metadata": {},
   "outputs": [
    {
     "data": {
      "text/html": [
       "<div>\n",
       "<style scoped>\n",
       "    .dataframe tbody tr th:only-of-type {\n",
       "        vertical-align: middle;\n",
       "    }\n",
       "\n",
       "    .dataframe tbody tr th {\n",
       "        vertical-align: top;\n",
       "    }\n",
       "\n",
       "    .dataframe thead th {\n",
       "        text-align: right;\n",
       "    }\n",
       "</style>\n",
       "<table border=\"1\" class=\"dataframe\">\n",
       "  <thead>\n",
       "    <tr style=\"text-align: right;\">\n",
       "      <th></th>\n",
       "      <th>Model</th>\n",
       "      <th>Train Score</th>\n",
       "      <th>Test Score/R-Square</th>\n",
       "      <th>Adjusted R^2</th>\n",
       "      <th>MAE</th>\n",
       "      <th>MSE</th>\n",
       "      <th>RMSE</th>\n",
       "      <th>Training Time(s)</th>\n",
       "      <th>Important Features</th>\n",
       "    </tr>\n",
       "  </thead>\n",
       "  <tbody>\n",
       "    <tr>\n",
       "      <th>0</th>\n",
       "      <td>Random Forest</td>\n",
       "      <td>0.97</td>\n",
       "      <td>0.808</td>\n",
       "      <td>0.793</td>\n",
       "      <td>0.117</td>\n",
       "      <td>0.029</td>\n",
       "      <td>0.169</td>\n",
       "      <td>0.293032</td>\n",
       "      <td>{'FullBath': 0.314, 'GarageArea': 0.167, 'firstFlrSF': 0.122}</td>\n",
       "    </tr>\n",
       "  </tbody>\n",
       "</table>\n",
       "</div>"
      ],
      "text/plain": [
       "           Model  Train Score  Test Score/R-Square  Adjusted R^2    MAE  \\\n",
       "0  Random Forest         0.97                0.808         0.793  0.117   \n",
       "\n",
       "     MSE   RMSE  Training Time(s)  \\\n",
       "0  0.029  0.169          0.293032   \n",
       "\n",
       "                                              Important Features  \n",
       "0  {'FullBath': 0.314, 'GarageArea': 0.167, 'firstFlrSF': 0.122}  "
      ]
     },
     "execution_count": 28,
     "metadata": {},
     "output_type": "execute_result"
    }
   ],
   "source": [
    "#Model Evaluation\n",
    "rfr_trscore = round(rfr.score(X_train, y_train),3)\n",
    "rfr_tescore = round(rfr.score(X_test, y_test),3)\n",
    "rfr_r2= round(r2_score(y_test,y_pred),3)\n",
    "rfr_adj= round(1 - (1-rfr_r2)*(len(y_test)-1)/(len(y_test)-len(X_test.columns)-1),3)\n",
    "rfr_mae= round(mean_absolute_error(y_test,y_pred),3)                      \n",
    "rfr_mse= round(mean_squared_error(y_test,y_pred),3)\n",
    "rfr_rmse= round(np.sqrt(mean_squared_error(y_test,y_pred)),3)\n",
    "rfr_feat = dict(zip(X_train.columns[sort[::-1][:3]], np.round(rfr.feature_importances_[sort[::-1][:3]],3)))\n",
    "#Training time of the model\n",
    "rfr_time=stop-start\n",
    "\n",
    "results = pd.DataFrame([['Random Forest', rfr_trscore, rfr_tescore, rfr_adj, rfr_mae, rfr_mse, rfr_rmse, rfr_time, rfr_feat]],\n",
    "               columns = ['Model', 'Train Score', 'Test Score/R-Square','Adjusted R^2', 'MAE', 'MSE', 'RMSE', \"Training Time(s)\",\"Important Features\"])\n",
    "results"
   ]
  },
  {
   "cell_type": "markdown",
   "id": "dc2e535c-d872-4d6f-b397-24e2957d864c",
   "metadata": {},
   "source": [
    "### Task 1 -  **Build a Boosting model, Evaluate the predictions & Compare the results**"
   ]
  },
  {
   "cell_type": "code",
   "execution_count": null,
   "id": "5af3ae7f-5428-4e80-b6fe-b44bac6fedc9",
   "metadata": {},
   "outputs": [],
   "source": [
    "# Import the Model from sklearn\n",
    "\n"
   ]
  },
  {
   "cell_type": "code",
   "execution_count": null,
   "id": "40ce373d-5b9e-4eed-aa67-9bddcb44903e",
   "metadata": {},
   "outputs": [],
   "source": [
    "# Fit the Model & Predict  - X_train, y_train, X_test, y_test\n",
    "\n"
   ]
  },
  {
   "cell_type": "code",
   "execution_count": null,
   "id": "c6ae7508-cadc-463a-ae82-7a340603b354",
   "metadata": {},
   "outputs": [],
   "source": [
    "# Visualize Important Features\n",
    "\n",
    "\n",
    "\n"
   ]
  },
  {
   "cell_type": "code",
   "execution_count": null,
   "id": "7bb60823-781e-44a1-8865-066d53de7218",
   "metadata": {},
   "outputs": [],
   "source": [
    "# Evaluation the model predictions\n",
    "\n",
    "\n",
    "\n"
   ]
  },
  {
   "cell_type": "markdown",
   "id": "d0b4a8dc-6be4-4f81-bd31-fcd03e7766f3",
   "metadata": {},
   "source": [
    "### Task 2 -  **Build a Bagging model, Evaluate the predictions & Compare the results**"
   ]
  },
  {
   "cell_type": "code",
   "execution_count": null,
   "id": "f009314e-0b13-4f40-b791-0b9b48034e13",
   "metadata": {},
   "outputs": [],
   "source": [
    "# Import the Model from sklearn\n",
    "\n"
   ]
  },
  {
   "cell_type": "code",
   "execution_count": null,
   "id": "44cb8303-4a37-4f51-981d-bec0ede76011",
   "metadata": {},
   "outputs": [],
   "source": [
    "# Fit the Model & Predict  - X_train, y_train, X_test, y_test\n",
    "\n"
   ]
  },
  {
   "cell_type": "code",
   "execution_count": null,
   "id": "4f39e69f-c74d-4f0d-a8cc-cbe23acb6094",
   "metadata": {},
   "outputs": [],
   "source": [
    "# Visualize Important Features\n",
    "\n",
    "\n",
    "\n"
   ]
  },
  {
   "cell_type": "code",
   "execution_count": null,
   "id": "79dc3371-7112-46eb-bc31-72a2cfa1e5eb",
   "metadata": {},
   "outputs": [],
   "source": [
    "# Evaluation the model predictions\n",
    "\n",
    "\n",
    "\n"
   ]
  }
 ],
 "metadata": {
  "kernelspec": {
   "display_name": "Python 3 (ipykernel)",
   "language": "python",
   "name": "python3"
  },
  "language_info": {
   "codemirror_mode": {
    "name": "ipython",
    "version": 3
   },
   "file_extension": ".py",
   "mimetype": "text/x-python",
   "name": "python",
   "nbconvert_exporter": "python",
   "pygments_lexer": "ipython3",
   "version": "3.9.7"
  }
 },
 "nbformat": 4,
 "nbformat_minor": 5
}
