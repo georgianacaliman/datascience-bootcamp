{
 "cells": [
  {
   "cell_type": "markdown",
   "id": "694022e9",
   "metadata": {},
   "source": [
    "##                                                  Day 1 - Part_1 LAB\n",
    "\n",
    "###  REGRESSION MACHINE LEARNING - Baseline Model Implementation"
   ]
  },
  {
   "cell_type": "code",
   "execution_count": null,
   "id": "3d5e511f",
   "metadata": {},
   "outputs": [],
   "source": [
    "#importing required libraries for data analysis\n",
    "import pandas as pd\n",
    "import numpy as np\n",
    "import time\n",
    "\n",
    "# Import models from sklearn\n",
    "from sklearn.linear_model import LinearRegression,ElasticNet,Ridge,Lasso,LassoCV,RidgeCV\n",
    "from sklearn.tree import DecisionTreeRegressor\n",
    "from xgboost import XGBRegressor\n",
    "\n",
    "# Import evaluation metrics\n",
    "from sklearn.model_selection import cross_val_score\n",
    "from sklearn.metrics import mean_absolute_error, mean_squared_error, mean_squared_log_error, r2_score\n",
    "\n",
    "#Visuals\n",
    "import matplotlib.pyplot as plt"
   ]
  },
  {
   "cell_type": "code",
   "execution_count": null,
   "id": "19d6f538",
   "metadata": {},
   "outputs": [],
   "source": [
    "# Read the training & test datasets from Part1-Preprocessing part\n",
    "\n",
    "X_train=pd.read_csv(\"./regression_dataset/X_train.csv\", index_col=0)\n",
    "y_train=pd.read_csv(\"./regression_dataset/y_train.csv\", index_col=0)\n",
    "                    \n",
    "X_test=pd.read_csv(\"./regression_dataset/X_test.csv\", index_col=0)\n",
    "y_test=pd.read_csv(\"./regression_dataset/y_test.csv\", index_col=0)\n",
    "\n",
    "print(X_train.shape,X_test.shape,y_train.shape,y_test.shape)"
   ]
  },
  {
   "cell_type": "markdown",
   "id": "defe5f3f",
   "metadata": {
    "id": "1HD-O64CJaWG"
   },
   "source": [
    "## 1. Linear Regression Model"
   ]
  },
  {
   "cell_type": "code",
   "execution_count": null,
   "id": "295d1b34",
   "metadata": {
    "colab": {
     "base_uri": "https://localhost:8080/"
    },
    "id": "xltV-JKlH76A",
    "outputId": "7c475b05-d52e-43e5-d06b-98ae5ff16b6b"
   },
   "outputs": [],
   "source": [
    "# Importing the Linear Regression Model\n",
    "lrmodel = LinearRegression()\n",
    "start = time.time()\n",
    "#Train the model\n",
    "lrmodel.fit(X_train, y_train)\n",
    "stop = time.time()\n",
    "\n",
    "# predicting the y test observations\n",
    "y_pred = lrmodel.predict(X_test)\n",
    "y_train_pred = lrmodel.predict(X_train)"
   ]
  },
  {
   "cell_type": "code",
   "execution_count": null,
   "id": "5f617e14",
   "metadata": {
    "colab": {
     "base_uri": "https://localhost:8080/"
    },
    "id": "WUYBmWtyNfUs",
    "outputId": "514389aa-365a-4c20-fc73-f3ab00cdae36"
   },
   "outputs": [],
   "source": [
    "# y = beta0 + beta1 * X1 + beta2 * X3 +...+ E\n",
    "intercept= lrmodel.intercept_[0]\n",
    "coefficients=lrmodel.coef_[0]\n",
    "print(\"y =\",intercept,\" + \")\n",
    "for i in range(len(coefficients)):\n",
    "    print(coefficients[i],\"*\",X_train.columns[i],\" + \", end=\"\")\n",
    "print(\" E\")"
   ]
  },
  {
   "cell_type": "code",
   "execution_count": null,
   "id": "a58380a4",
   "metadata": {
    "scrolled": true
   },
   "outputs": [],
   "source": [
    "# predicting the y test observations manually\n",
    "y_pred_mn=intercept + np.sum(coefficients * X_test, axis=1)\n",
    "plt.scatter(y_pred_mn,y_pred)\n",
    "plt.xlabel(\"y_pred\")\n",
    "plt.ylabel(\"y_pred_manual\")"
   ]
  },
  {
   "cell_type": "markdown",
   "id": "7c0ae2ca",
   "metadata": {},
   "source": [
    "### Feature Importance "
   ]
  },
  {
   "cell_type": "markdown",
   "id": "0f8aae40",
   "metadata": {},
   "source": [
    "In regression analysis, the magnitude of your coefficients is not necessarily related to their importance."
   ]
  },
  {
   "cell_type": "code",
   "execution_count": null,
   "id": "9cc62247",
   "metadata": {},
   "outputs": [],
   "source": [
    "stdevs= []\n",
    "for i in X_train.columns:\n",
    "    stdev=X_train[i].std()\n",
    "    stdevs.append(stdev)"
   ]
  },
  {
   "cell_type": "code",
   "execution_count": null,
   "id": "0f724bdb",
   "metadata": {},
   "outputs": [],
   "source": [
    "features=pd.DataFrame(coefficients, X_train.columns, columns=['coef'])\n",
    "\n",
    "#normalized feature importance \n",
    "features['importance']=np.array(stdevs)*features[\"coef\"].abs()/max(np.array(stdevs)*features[\"coef\"].abs()) \n",
    "features = features.sort_values(by = \"importance\")\n",
    "features.reset_index(inplace=True)\n",
    "features = features.rename(columns = {'index':'features'})"
   ]
  },
  {
   "cell_type": "code",
   "execution_count": null,
   "id": "e57d49a4",
   "metadata": {},
   "outputs": [],
   "source": [
    "#Feature Importance\n",
    "plt.figure(figsize=(10,5))\n",
    "plt.barh(features['features'][-15:], features['importance'][-15:])\n",
    "plt.xlabel(\"Feature Importance\")"
   ]
  },
  {
   "cell_type": "markdown",
   "id": "eb12b359",
   "metadata": {},
   "source": [
    "### Model Evaluation"
   ]
  },
  {
   "cell_type": "code",
   "execution_count": null,
   "id": "76e6a09c",
   "metadata": {},
   "outputs": [],
   "source": [
    "#Model Evaluation\n",
    "lrm_trscore = round(lrmodel.score(X_train, y_train),3)\n",
    "lrm_tescore = round(lrmodel.score(X_test, y_test),3)\n",
    "lrm_r2= round(r2_score(y_test,y_pred),3) #coefficient of determination\n",
    "lrm_adj= round(1 - (1-lrm_r2)*(len(y_test)-1)/(len(y_test)-len(X_test.columns)-1),3)\n",
    "lrm_mae= round(mean_absolute_error(y_test,y_pred),3)                      \n",
    "lrm_mse= round(mean_squared_error(y_test,y_pred),3)\n",
    "lrm_rmse= round(np.sqrt(mean_squared_error(y_test,y_pred)),3)\n",
    "lrm_feat=np.array(features['features'][::-1][:3])\n",
    "#Training time of the model\n",
    "lrm_time=stop-start\n",
    "\n",
    "results = pd.DataFrame([['Linear Regression', lrm_trscore, lrm_tescore, lrm_adj, lrm_mae, lrm_mse, lrm_rmse, lrm_time, lrm_feat]],\n",
    "               columns = ['Model', 'Train Score', 'Test Score/R-Square','Adjusted R^2', 'MAE', 'MSE', 'RMSE', \"Training Time(s)\",\"Important Features\"])\n",
    "pd.set_option('display.max_colwidth', 100)\n",
    "results"
   ]
  },
  {
   "cell_type": "code",
   "execution_count": null,
   "id": "a223b23d",
   "metadata": {},
   "outputs": [],
   "source": [
    "# Test vs Prediction\n",
    "plt.figure(figsize=(6,6))\n",
    "plt.scatter(y_test,y_pred)"
   ]
  },
  {
   "cell_type": "markdown",
   "id": "ddeaec8e",
   "metadata": {
    "id": "1HD-O64CJaWG"
   },
   "source": [
    "### Task 1 - **Build a different model, Evaluate the predictions & Compare the results**"
   ]
  },
  {
   "cell_type": "code",
   "execution_count": null,
   "id": "a0891b93",
   "metadata": {},
   "outputs": [],
   "source": [
    "# Import the Model from sklearn\n",
    "\n"
   ]
  },
  {
   "cell_type": "code",
   "execution_count": null,
   "id": "66a3a419",
   "metadata": {},
   "outputs": [],
   "source": [
    "# Fit the Model & Predict  - X_train, y_train, X_test, y_test\n",
    "\n",
    "\n",
    "\n"
   ]
  },
  {
   "cell_type": "code",
   "execution_count": null,
   "id": "017f672c",
   "metadata": {},
   "outputs": [],
   "source": [
    "# Visualize Important Features\n",
    "\n",
    "\n",
    "\n"
   ]
  },
  {
   "cell_type": "code",
   "execution_count": null,
   "id": "8c71dae2",
   "metadata": {},
   "outputs": [],
   "source": [
    "# Evaluation the model predictions\n",
    "\n",
    "###  **Build a different model, Evaluate the predictions & Compare the results**\n",
    "\n",
    "\n"
   ]
  }
 ],
 "metadata": {
  "kernelspec": {
   "display_name": "Python 3 (ipykernel)",
   "language": "python",
   "name": "python3"
  },
  "language_info": {
   "codemirror_mode": {
    "name": "ipython",
    "version": 3
   },
   "file_extension": ".py",
   "mimetype": "text/x-python",
   "name": "python",
   "nbconvert_exporter": "python",
   "pygments_lexer": "ipython3",
   "version": "3.9.7"
  }
 },
 "nbformat": 4,
 "nbformat_minor": 5
}
