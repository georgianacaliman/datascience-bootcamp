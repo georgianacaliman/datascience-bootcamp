{
 "cells": [
  {
   "cell_type": "markdown",
   "metadata": {
    "id": "Y4LQk7OwuGue"
   },
   "source": [
    "# **Baseline Model Implementation**"
   ]
  },
  {
   "cell_type": "markdown",
   "metadata": {},
   "source": [
    "#### Importing libraries"
   ]
  },
  {
   "cell_type": "code",
   "execution_count": 1,
   "metadata": {
    "id": "dByMsuzT8Tnw"
   },
   "outputs": [],
   "source": [
    "#importing required libraries for data analysis\n",
    "import pandas as pd\n",
    "import numpy as np\n",
    "\n",
    "#Visuals and Time libraries\n",
    "import matplotlib.pyplot as plt\n",
    "import time\n",
    "\n",
    "import warnings\n",
    "warnings.filterwarnings('ignore')\n",
    "\n",
    "#Import Data balancing libraries\n",
    "import imblearn\n",
    "from imblearn.over_sampling import SMOTE\n",
    "\n",
    "# Import models from sklearn\n",
    "from sklearn.model_selection import train_test_split\n",
    "\n",
    "from sklearn.linear_model import LogisticRegression\n",
    "from sklearn.neighbors import KNeighborsClassifier\n",
    "from sklearn.naive_bayes import GaussianNB\n",
    "from sklearn.svm import SVC\n",
    "\n",
    "from sklearn.tree import DecisionTreeClassifier\n",
    "from sklearn.ensemble import RandomForestClassifier\n",
    "from sklearn.ensemble import AdaBoostClassifier\n",
    "from sklearn.ensemble import BaggingClassifier\n",
    "from sklearn.ensemble import GradientBoostingClassifier\n",
    "from xgboost import XGBClassifier\n",
    "\n",
    "# Import evaluation metrics\n",
    "from sklearn.model_selection import cross_val_score\n",
    "from sklearn.metrics import confusion_matrix, classification_report, accuracy_score, precision_score, recall_score, f1_score\n",
    "from sklearn.metrics import roc_auc_score, roc_curve, auc"
   ]
  },
  {
   "cell_type": "code",
   "execution_count": 2,
   "metadata": {},
   "outputs": [
    {
     "name": "stdout",
     "output_type": "stream",
     "text": [
      "(19141, 19) (8984, 19) (19141, 1) (8984, 1)\n"
     ]
    }
   ],
   "source": [
    "# Read the training & test datasets from Part1-Preprocessing part\n",
    "\n",
    "x_train=pd.read_csv('x_train.csv')\n",
    "x_test=pd.read_csv('x_test.csv')\n",
    "\n",
    "y_train=pd.read_csv('y_train.csv')\n",
    "y_test=pd.read_csv('y_test.csv')\n",
    "\n",
    "print(x_train.shape,x_test.shape,y_train.shape,y_test.shape)"
   ]
  },
  {
   "cell_type": "markdown",
   "metadata": {},
   "source": [
    "### Data Balancing\n",
    "\n",
    "\n",
    "In supervised learning, a common strategy to overcome the class imbalance problem is to resample the original training dataset to decrease the overall level of class imbalance. Resampling is done either by oversampling the minority (positive) class and/or under-sampling the majority (negative) class until the classes are approximately equally represented.\n",
    "\n",
    "All resampling operations are applied to only training datasets. If upsampling is done before splitting the dataset into a train and validation set, then it could end up with the same observation in both datasets. As a result, a machine learning model will be able to perfectly predict the value for those observations when predicting on the validation set, hence inflating the accuracy and recall.\n",
    "\n",
    "A. Under Sampling:\n",
    "\n",
    "    1. Random undersampling --> rus =  RandomUnderSampler()\n",
    "    2. Near Miss --> nm = NearMiss()\n",
    "\n",
    "B. Over Sampling:\n",
    "    \n",
    "    3. Random oversampling  --> ros =  RandomOverSampler()\n",
    "    4. SMOTE (Synthetic Minority Over-Sampling Technique)\n",
    "        sm = SMOTE()\n",
    "        x_train_smote, y_train_smote = sm.fit_sample(x_train, y_train)\n",
    "        x_train_smote.shape,y_train_smote.shape\n",
    "    5. ADASYN (Adaptive Synthetic Sampling) --> adasyn =  ADASYN()\n",
    "\n",
    "C. Hybrid Sampling:\n",
    "\n",
    "    6. SMOTE+ENN --> smtenn =  SMOTEENN()\n",
    "    7. SMOTE+Tomek link --> smtom =  SMOTETomek()"
   ]
  },
  {
   "cell_type": "code",
   "execution_count": 3,
   "metadata": {},
   "outputs": [
    {
     "name": "stdout",
     "output_type": "stream",
     "text": [
      "Original unbalanced dataset shape 19141\n",
      "Resampled balanced dataset shape 29886\n"
     ]
    }
   ],
   "source": [
    "#importing SMOTE to handle class imbalance\n",
    "from imblearn.over_sampling import SMOTE\n",
    "\n",
    "smote = SMOTE()\n",
    "\n",
    "# fit predictor and target variable\n",
    "x_smote, y_smote = smote.fit_resample(x_train, y_train)\n",
    "\n",
    "print('Original unbalanced dataset shape', len(y_train))\n",
    "print('Resampled balanced dataset shape', len(y_smote))"
   ]
  },
  {
   "cell_type": "code",
   "execution_count": 4,
   "metadata": {},
   "outputs": [],
   "source": [
    "# Saving final balanced files in csv format for future reference (for Part 3)\n",
    "\n",
    "pd.DataFrame(x_smote).to_csv(\"x_smote.csv\", index=None)\n",
    "pd.DataFrame(y_smote).to_csv(\"y_smote.csv\", index=None)"
   ]
  },
  {
   "cell_type": "markdown",
   "metadata": {
    "id": "1HD-O64CJaWG"
   },
   "source": [
    "### 1. **Logistic Regression Model**"
   ]
  },
  {
   "cell_type": "code",
   "execution_count": 5,
   "metadata": {
    "colab": {
     "base_uri": "https://localhost:8080/"
    },
    "id": "xltV-JKlH76A",
    "outputId": "7c475b05-d52e-43e5-d06b-98ae5ff16b6b"
   },
   "outputs": [],
   "source": [
    "# Importing the Logistic Regression Model\n",
    "start = time.time()\n",
    "logmodel = LogisticRegression(random_state=1)\n",
    "logmodel.fit(x_smote,y_smote)\n",
    "stop = time.time()\n",
    "\n",
    "# predicting the y test observations\n",
    "y_pred = logmodel.predict(x_test)\n",
    "y_train_pred = logmodel.predict(x_smote)"
   ]
  },
  {
   "cell_type": "code",
   "execution_count": 6,
   "metadata": {
    "colab": {
     "base_uri": "https://localhost:8080/"
    },
    "id": "WUYBmWtyNfUs",
    "outputId": "514389aa-365a-4c20-fc73-f3ab00cdae36"
   },
   "outputs": [
    {
     "data": {
      "text/html": [
       "<div>\n",
       "<style scoped>\n",
       "    .dataframe tbody tr th:only-of-type {\n",
       "        vertical-align: middle;\n",
       "    }\n",
       "\n",
       "    .dataframe tbody tr th {\n",
       "        vertical-align: top;\n",
       "    }\n",
       "\n",
       "    .dataframe thead th {\n",
       "        text-align: right;\n",
       "    }\n",
       "</style>\n",
       "<table border=\"1\" class=\"dataframe\">\n",
       "  <thead>\n",
       "    <tr style=\"text-align: right;\">\n",
       "      <th></th>\n",
       "      <th>Model</th>\n",
       "      <th>Train Accuracy</th>\n",
       "      <th>Test Accuracy</th>\n",
       "      <th>Precision</th>\n",
       "      <th>Recall</th>\n",
       "      <th>F1 Score</th>\n",
       "      <th>ROC</th>\n",
       "      <th>Training Time(s)</th>\n",
       "    </tr>\n",
       "  </thead>\n",
       "  <tbody>\n",
       "    <tr>\n",
       "      <th>0</th>\n",
       "      <td>Logistic Regression</td>\n",
       "      <td>0.58</td>\n",
       "      <td>0.614</td>\n",
       "      <td>0.479</td>\n",
       "      <td>0.283</td>\n",
       "      <td>0.356</td>\n",
       "      <td>0.548</td>\n",
       "      <td>0.123402</td>\n",
       "    </tr>\n",
       "  </tbody>\n",
       "</table>\n",
       "</div>"
      ],
      "text/plain": [
       "                 Model  Train Accuracy  Test Accuracy  Precision  Recall  \\\n",
       "0  Logistic Regression            0.58          0.614      0.479   0.283   \n",
       "\n",
       "   F1 Score    ROC  Training Time(s)  \n",
       "0     0.356  0.548          0.123402  "
      ]
     },
     "execution_count": 6,
     "metadata": {},
     "output_type": "execute_result"
    }
   ],
   "source": [
    "#getting all scores for Logistic Regression\n",
    "log_acctr = round(accuracy_score(y_train_pred,y_smote), 3)\n",
    "log_acc = round(accuracy_score(y_pred,y_test), 3)\n",
    "log_prec = round(precision_score(y_pred,y_test), 3)\n",
    "log_rec = round(recall_score(y_pred,y_test), 3)\n",
    "log_f1 = round(f1_score(y_pred,y_test), 3)\n",
    "log_roc = round(roc_auc_score(y_pred,y_test), 3)\n",
    "log_time=stop-start\n",
    "\n",
    "results = pd.DataFrame([['Logistic Regression', log_acctr, log_acc, log_prec, log_rec, log_f1, log_roc, log_time]],\n",
    "            columns = ['Model', 'Train Accuracy', 'Test Accuracy', 'Precision', 'Recall', 'F1 Score','ROC', 'Training Time(s)'])\n",
    "results"
   ]
  },
  {
   "cell_type": "code",
   "execution_count": 7,
   "metadata": {
    "scrolled": true
   },
   "outputs": [
    {
     "name": "stdout",
     "output_type": "stream",
     "text": [
      "              precision    recall  f1-score   support\n",
      "\n",
      "           0       0.81      0.65      0.72      6985\n",
      "           1       0.28      0.48      0.36      1999\n",
      "\n",
      "    accuracy                           0.61      8984\n",
      "   macro avg       0.55      0.57      0.54      8984\n",
      "weighted avg       0.70      0.61      0.64      8984\n",
      "\n",
      "[[4557 2428]\n",
      " [1041  958]]\n"
     ]
    }
   ],
   "source": [
    "# Confusion Matrix\n",
    "print(classification_report(y_test, y_pred))\n",
    "print(confusion_matrix(y_test, y_pred))"
   ]
  },
  {
   "cell_type": "code",
   "execution_count": 8,
   "metadata": {},
   "outputs": [],
   "source": [
    "# # Identifying Important features used for Training\n",
    "# feature_imp = pd.Series(logmodel.coef_, index=x_smote.columns).sort_values(ascending=False).head(15)\n",
    "# sns.barplot(x=feature_imp, y=feature_imp.index)\n",
    "# plt.xlabel('Feature Importance Score')\n",
    "# plt.title(\"Visualizing significant features from Logistic Regression\")\n",
    "\n",
    "\n",
    "# ft_imp = pd.DataFrame(data={\n",
    "#     'Attribute': x_smote.columns,\n",
    "#     'Importance': logmodel.coef_[0]})\n",
    "# ft_imp = ft_imp.sort_values(by='Importance', ascending=False)\n",
    "# plt.bar(x=importances['Attribute'], height=importances['Importance'], color='#087E8B')\n",
    "# plt.title('Feature importances obtained from coefficients', size=10)\n",
    "# plt.xticks(rotation='vertical')\n",
    "# plt.show()"
   ]
  },
  {
   "cell_type": "markdown",
   "metadata": {
    "id": "1HD-O64CJaWG"
   },
   "source": [
    "### 2. **Support Vector Machines**"
   ]
  },
  {
   "cell_type": "code",
   "execution_count": 9,
   "metadata": {
    "colab": {
     "base_uri": "https://localhost:8080/"
    },
    "id": "xltV-JKlH76A",
    "outputId": "7c475b05-d52e-43e5-d06b-98ae5ff16b6b"
   },
   "outputs": [],
   "source": [
    "# # Importing the Naive Bayes Model\n",
    "# start = time.time()\n",
    "# svm = SVC(kernel = 'rbf', random_state = 0)\n",
    "# svm.fit(x_smote,y_smote)\n",
    "# stop = time.time()\n",
    "\n",
    "# # predicting the y test observations\n",
    "# y_pred = svm.predict(x_test)\n",
    "# y_train_pred = svm.predict(x_smote)"
   ]
  },
  {
   "cell_type": "code",
   "execution_count": 10,
   "metadata": {
    "colab": {
     "base_uri": "https://localhost:8080/"
    },
    "id": "WUYBmWtyNfUs",
    "outputId": "514389aa-365a-4c20-fc73-f3ab00cdae36"
   },
   "outputs": [],
   "source": [
    "# #getting all scores for Naive Bayes Model\n",
    "# svm_acctr = round(accuracy_score(y_train_pred,y_smote), 3)\n",
    "# svm_acc = round(accuracy_score(y_pred,y_test), 3)\n",
    "# svm_prec = round(precision_score(y_pred,y_test), 3)\n",
    "# svm_rec = round(recall_score(y_pred,y_test), 3)\n",
    "# svm_f1 = round(f1_score(y_pred,y_test), 3)\n",
    "# svm_roc = round(roc_auc_score(y_pred,y_test), 3)\n",
    "# svm_time=stop-start\n",
    "\n",
    "# results = pd.DataFrame([['Support Vector Machines', svm_acctr, svm_acc, svm_prec, svm_rec, svm_f1, svm_roc, svm_time]],\n",
    "#              columns = ['Model', 'Train Accuracy', 'Test Accuracy', 'Precision', 'Recall', 'F1 Score','ROC', 'Training Time(s)'])\n",
    "# results"
   ]
  },
  {
   "cell_type": "code",
   "execution_count": 11,
   "metadata": {
    "scrolled": true
   },
   "outputs": [],
   "source": [
    "# # Confusion Matrix\n",
    "# print(classification_report(y_test, y_pred))\n",
    "# print(confusion_matrix(y_test, y_pred))"
   ]
  },
  {
   "cell_type": "markdown",
   "metadata": {
    "id": "1HD-O64CJaWG"
   },
   "source": [
    "### 2. **Naive Bayes**"
   ]
  },
  {
   "cell_type": "code",
   "execution_count": 12,
   "metadata": {
    "colab": {
     "base_uri": "https://localhost:8080/"
    },
    "id": "xltV-JKlH76A",
    "outputId": "7c475b05-d52e-43e5-d06b-98ae5ff16b6b"
   },
   "outputs": [],
   "source": [
    "# Importing the Naive Bayes Model\n",
    "start = time.time()\n",
    "nb = GaussianNB()\n",
    "nb.fit(x_smote,y_smote)\n",
    "stop = time.time()\n",
    "\n",
    "# predicting the y test observations\n",
    "y_pred = nb.predict(x_test)\n",
    "y_train_pred = nb.predict(x_smote)"
   ]
  },
  {
   "cell_type": "code",
   "execution_count": 13,
   "metadata": {
    "colab": {
     "base_uri": "https://localhost:8080/"
    },
    "id": "WUYBmWtyNfUs",
    "outputId": "514389aa-365a-4c20-fc73-f3ab00cdae36"
   },
   "outputs": [
    {
     "data": {
      "text/html": [
       "<div>\n",
       "<style scoped>\n",
       "    .dataframe tbody tr th:only-of-type {\n",
       "        vertical-align: middle;\n",
       "    }\n",
       "\n",
       "    .dataframe tbody tr th {\n",
       "        vertical-align: top;\n",
       "    }\n",
       "\n",
       "    .dataframe thead th {\n",
       "        text-align: right;\n",
       "    }\n",
       "</style>\n",
       "<table border=\"1\" class=\"dataframe\">\n",
       "  <thead>\n",
       "    <tr style=\"text-align: right;\">\n",
       "      <th></th>\n",
       "      <th>Model</th>\n",
       "      <th>Train Accuracy</th>\n",
       "      <th>Test Accuracy</th>\n",
       "      <th>Precision</th>\n",
       "      <th>Recall</th>\n",
       "      <th>F1 Score</th>\n",
       "      <th>ROC</th>\n",
       "      <th>Training Time(s)</th>\n",
       "    </tr>\n",
       "  </thead>\n",
       "  <tbody>\n",
       "    <tr>\n",
       "      <th>0</th>\n",
       "      <td>Naive Bayes</td>\n",
       "      <td>0.603</td>\n",
       "      <td>0.557</td>\n",
       "      <td>0.681</td>\n",
       "      <td>0.289</td>\n",
       "      <td>0.406</td>\n",
       "      <td>0.57</td>\n",
       "      <td>0.022859</td>\n",
       "    </tr>\n",
       "  </tbody>\n",
       "</table>\n",
       "</div>"
      ],
      "text/plain": [
       "         Model  Train Accuracy  Test Accuracy  Precision  Recall  F1 Score  \\\n",
       "0  Naive Bayes           0.603          0.557      0.681   0.289     0.406   \n",
       "\n",
       "    ROC  Training Time(s)  \n",
       "0  0.57          0.022859  "
      ]
     },
     "execution_count": 13,
     "metadata": {},
     "output_type": "execute_result"
    }
   ],
   "source": [
    "#getting all scores for Naive Bayes Model\n",
    "nb_acctr = round(accuracy_score(y_train_pred,y_smote), 3)\n",
    "nb_acc = round(accuracy_score(y_pred,y_test), 3)\n",
    "nb_prec = round(precision_score(y_pred,y_test), 3)\n",
    "nb_rec = round(recall_score(y_pred,y_test), 3)\n",
    "nb_f1 = round(f1_score(y_pred,y_test), 3)\n",
    "nb_roc = round(roc_auc_score(y_pred,y_test), 3)\n",
    "nb_time=stop-start\n",
    "\n",
    "results = pd.DataFrame([['Naive Bayes', nb_acctr, nb_acc, nb_prec, nb_rec, nb_f1, nb_roc, nb_time]],\n",
    "            columns = ['Model', 'Train Accuracy', 'Test Accuracy', 'Precision', 'Recall', 'F1 Score','ROC', 'Training Time(s)'])\n",
    "results"
   ]
  },
  {
   "cell_type": "code",
   "execution_count": 14,
   "metadata": {
    "scrolled": true
   },
   "outputs": [
    {
     "name": "stdout",
     "output_type": "stream",
     "text": [
      "              precision    recall  f1-score   support\n",
      "\n",
      "           0       0.85      0.52      0.65      6985\n",
      "           1       0.29      0.68      0.41      1999\n",
      "\n",
      "    accuracy                           0.56      8984\n",
      "   macro avg       0.57      0.60      0.53      8984\n",
      "weighted avg       0.73      0.56      0.59      8984\n",
      "\n",
      "[[3640 3345]\n",
      " [ 638 1361]]\n"
     ]
    }
   ],
   "source": [
    "# Confusion Matrix\n",
    "print(classification_report(y_test, y_pred))\n",
    "print(confusion_matrix(y_test, y_pred))"
   ]
  },
  {
   "cell_type": "markdown",
   "metadata": {
    "id": "1HD-O64CJaWG"
   },
   "source": [
    "### 3. **KNN classifier algorithm**"
   ]
  },
  {
   "cell_type": "code",
   "execution_count": 15,
   "metadata": {
    "colab": {
     "base_uri": "https://localhost:8080/"
    },
    "id": "xltV-JKlH76A",
    "outputId": "7c475b05-d52e-43e5-d06b-98ae5ff16b6b"
   },
   "outputs": [],
   "source": [
    "# Importing the KNN classifier\n",
    "start = time.time()\n",
    "knn = KNeighborsClassifier()\n",
    "knn.fit(x_smote,y_smote)\n",
    "stop = time.time()\n",
    "\n",
    "# predicting the y test observations\n",
    "y_pred = knn.predict(x_test)\n",
    "y_train_pred = knn.predict(x_smote)"
   ]
  },
  {
   "cell_type": "code",
   "execution_count": 16,
   "metadata": {},
   "outputs": [
    {
     "data": {
      "text/plain": [
       "{'algorithm': 'auto',\n",
       " 'leaf_size': 30,\n",
       " 'metric': 'minkowski',\n",
       " 'metric_params': None,\n",
       " 'n_jobs': None,\n",
       " 'n_neighbors': 5,\n",
       " 'p': 2,\n",
       " 'weights': 'uniform'}"
      ]
     },
     "execution_count": 16,
     "metadata": {},
     "output_type": "execute_result"
    }
   ],
   "source": [
    "knn.get_params()"
   ]
  },
  {
   "cell_type": "code",
   "execution_count": 17,
   "metadata": {
    "colab": {
     "base_uri": "https://localhost:8080/"
    },
    "id": "WUYBmWtyNfUs",
    "outputId": "514389aa-365a-4c20-fc73-f3ab00cdae36"
   },
   "outputs": [
    {
     "data": {
      "text/html": [
       "<div>\n",
       "<style scoped>\n",
       "    .dataframe tbody tr th:only-of-type {\n",
       "        vertical-align: middle;\n",
       "    }\n",
       "\n",
       "    .dataframe tbody tr th {\n",
       "        vertical-align: top;\n",
       "    }\n",
       "\n",
       "    .dataframe thead th {\n",
       "        text-align: right;\n",
       "    }\n",
       "</style>\n",
       "<table border=\"1\" class=\"dataframe\">\n",
       "  <thead>\n",
       "    <tr style=\"text-align: right;\">\n",
       "      <th></th>\n",
       "      <th>Model</th>\n",
       "      <th>Train Accuracy</th>\n",
       "      <th>Test Accuracy</th>\n",
       "      <th>Precision</th>\n",
       "      <th>Recall</th>\n",
       "      <th>F1 Score</th>\n",
       "      <th>ROC</th>\n",
       "      <th>Training Time(s)</th>\n",
       "    </tr>\n",
       "  </thead>\n",
       "  <tbody>\n",
       "    <tr>\n",
       "      <th>0</th>\n",
       "      <td>KNN classifier</td>\n",
       "      <td>0.843</td>\n",
       "      <td>0.629</td>\n",
       "      <td>0.5</td>\n",
       "      <td>0.3</td>\n",
       "      <td>0.375</td>\n",
       "      <td>0.561</td>\n",
       "      <td>0.010412</td>\n",
       "    </tr>\n",
       "  </tbody>\n",
       "</table>\n",
       "</div>"
      ],
      "text/plain": [
       "            Model  Train Accuracy  Test Accuracy  Precision  Recall  F1 Score  \\\n",
       "0  KNN classifier           0.843          0.629        0.5     0.3     0.375   \n",
       "\n",
       "     ROC  Training Time(s)  \n",
       "0  0.561          0.010412  "
      ]
     },
     "execution_count": 17,
     "metadata": {},
     "output_type": "execute_result"
    }
   ],
   "source": [
    "#getting all scores for KNN classifier\n",
    "knn_acctr = round(accuracy_score(y_train_pred,y_smote), 3)\n",
    "knn_acc = round(accuracy_score(y_pred,y_test), 3)\n",
    "knn_prec = round(precision_score(y_pred,y_test), 3)\n",
    "knn_rec = round(recall_score(y_pred,y_test), 3)\n",
    "knn_f1 = round(f1_score(y_pred,y_test), 3)\n",
    "knn_roc = round(roc_auc_score(y_pred,y_test), 3)\n",
    "knn_time=stop-start\n",
    "\n",
    "results = pd.DataFrame([['KNN classifier', knn_acctr, knn_acc, knn_prec, knn_rec, knn_f1, knn_roc, knn_time]],\n",
    "            columns = ['Model', 'Train Accuracy', 'Test Accuracy', 'Precision', 'Recall', 'F1 Score','ROC', 'Training Time(s)'])\n",
    "results"
   ]
  },
  {
   "cell_type": "code",
   "execution_count": 18,
   "metadata": {},
   "outputs": [
    {
     "name": "stdout",
     "output_type": "stream",
     "text": [
      "              precision    recall  f1-score   support\n",
      "\n",
      "           0       0.82      0.67      0.74      6985\n",
      "           1       0.30      0.50      0.37      1999\n",
      "\n",
      "    accuracy                           0.63      8984\n",
      "   macro avg       0.56      0.58      0.56      8984\n",
      "weighted avg       0.71      0.63      0.66      8984\n",
      "\n",
      "[[4649 2336]\n",
      " [ 999 1000]]\n"
     ]
    }
   ],
   "source": [
    "# Confusion Matrix\n",
    "print(classification_report(y_test, y_pred))\n",
    "print(confusion_matrix(y_test, y_pred))"
   ]
  },
  {
   "cell_type": "markdown",
   "metadata": {
    "id": "C1aTiZqyteC3"
   },
   "source": [
    "### 4. **Decision Tree Classification**"
   ]
  },
  {
   "cell_type": "code",
   "execution_count": 19,
   "metadata": {
    "colab": {
     "base_uri": "https://localhost:8080/"
    },
    "id": "xFp8TGTFWCcN",
    "outputId": "0b504262-6853-4975-84f9-116768f234f7"
   },
   "outputs": [],
   "source": [
    "#fitting data into Decision Tree Classifier\n",
    "start = time.time()\n",
    "dtc = DecisionTreeClassifier()\n",
    "dtc.fit(x_smote,y_smote)\n",
    "stop = time.time()\n",
    "\n",
    "# predicting the y test observations\n",
    "y_pred = dtc.predict(x_test)\n",
    "y_train_pred = dtc.predict(x_smote)"
   ]
  },
  {
   "cell_type": "code",
   "execution_count": 20,
   "metadata": {},
   "outputs": [
    {
     "data": {
      "text/html": [
       "<div>\n",
       "<style scoped>\n",
       "    .dataframe tbody tr th:only-of-type {\n",
       "        vertical-align: middle;\n",
       "    }\n",
       "\n",
       "    .dataframe tbody tr th {\n",
       "        vertical-align: top;\n",
       "    }\n",
       "\n",
       "    .dataframe thead th {\n",
       "        text-align: right;\n",
       "    }\n",
       "</style>\n",
       "<table border=\"1\" class=\"dataframe\">\n",
       "  <thead>\n",
       "    <tr style=\"text-align: right;\">\n",
       "      <th></th>\n",
       "      <th>Model</th>\n",
       "      <th>Train Accuracy</th>\n",
       "      <th>Test Accuracy</th>\n",
       "      <th>Precision</th>\n",
       "      <th>Recall</th>\n",
       "      <th>F1 Score</th>\n",
       "      <th>ROC</th>\n",
       "      <th>Training Time(s)</th>\n",
       "    </tr>\n",
       "  </thead>\n",
       "  <tbody>\n",
       "    <tr>\n",
       "      <th>0</th>\n",
       "      <td>Decision Trees</td>\n",
       "      <td>0.994</td>\n",
       "      <td>0.716</td>\n",
       "      <td>0.407</td>\n",
       "      <td>0.373</td>\n",
       "      <td>0.389</td>\n",
       "      <td>0.6</td>\n",
       "      <td>0.641122</td>\n",
       "    </tr>\n",
       "  </tbody>\n",
       "</table>\n",
       "</div>"
      ],
      "text/plain": [
       "            Model  Train Accuracy  Test Accuracy  Precision  Recall  F1 Score  \\\n",
       "0  Decision Trees           0.994          0.716      0.407   0.373     0.389   \n",
       "\n",
       "   ROC  Training Time(s)  \n",
       "0  0.6          0.641122  "
      ]
     },
     "execution_count": 20,
     "metadata": {},
     "output_type": "execute_result"
    }
   ],
   "source": [
    "#getting all scores for Decision Tree Classifier\n",
    "dtc_acctr = round(accuracy_score(y_train_pred,y_smote), 3)\n",
    "dtc_acc = round(accuracy_score(y_pred,y_test), 3)\n",
    "dtc_prec = round(precision_score(y_pred,y_test), 3)\n",
    "dtc_rec = round(recall_score(y_pred,y_test), 3)\n",
    "dtc_f1 = round(f1_score(y_pred,y_test), 3)\n",
    "dtc_roc = round(roc_auc_score(y_pred,y_test), 3)\n",
    "dtc_time=stop-start\n",
    "\n",
    "results = pd.DataFrame([['Decision Trees', dtc_acctr, dtc_acc, dtc_prec, dtc_rec, dtc_f1, dtc_roc, dtc_time]],\n",
    "            columns = ['Model', 'Train Accuracy', 'Test Accuracy', 'Precision', 'Recall', 'F1 Score','ROC', 'Training Time(s)'])\n",
    "results"
   ]
  },
  {
   "cell_type": "code",
   "execution_count": 21,
   "metadata": {
    "scrolled": true
   },
   "outputs": [
    {
     "name": "stdout",
     "output_type": "stream",
     "text": [
      "              precision    recall  f1-score   support\n",
      "\n",
      "           0       0.83      0.80      0.82      6985\n",
      "           1       0.37      0.41      0.39      1999\n",
      "\n",
      "    accuracy                           0.72      8984\n",
      "   macro avg       0.60      0.61      0.60      8984\n",
      "weighted avg       0.73      0.72      0.72      8984\n",
      "\n",
      "[[5621 1364]\n",
      " [1186  813]]\n"
     ]
    }
   ],
   "source": [
    "# Confusion Matrix\n",
    "print(classification_report(y_test, y_pred))\n",
    "print(confusion_matrix(y_test, y_pred))"
   ]
  },
  {
   "cell_type": "code",
   "execution_count": 22,
   "metadata": {},
   "outputs": [
    {
     "data": {
      "image/png": "[encoded data removed]",
      "text/plain": [
       "<Figure size 432x288 with 1 Axes>"
      ]
     },
     "metadata": {
      "needs_background": "light"
     },
     "output_type": "display_data"
    }
   ],
   "source": [
    "importances = pd.DataFrame(data={\n",
    "    'Attribute': x_smote.columns,\n",
    "    'Importance': dtc.feature_importances_\n",
    "})\n",
    "importances = importances.sort_values(by='Importance', ascending=False)\n",
    "\n",
    "plt.barh(y=importances['Attribute'], width=importances['Importance'], color='#087E8B')\n",
    "plt.title('Feature importances obtained from coefficients', size=10)\n",
    "plt.show()"
   ]
  },
  {
   "cell_type": "markdown",
   "metadata": {
    "id": "-oQB1e2AuWw4"
   },
   "source": [
    "### 5. **Random Forest Classification**"
   ]
  },
  {
   "cell_type": "code",
   "execution_count": 23,
   "metadata": {
    "colab": {
     "base_uri": "https://localhost:8080/"
    },
    "id": "xFp8TGTFWCcN",
    "outputId": "0b504262-6853-4975-84f9-116768f234f7"
   },
   "outputs": [],
   "source": [
    "#fitting data into Random Forest Classifier\n",
    "start = time.time()\n",
    "rfc = RandomForestClassifier()\n",
    "rfc.fit(x_smote,y_smote)\n",
    "stop = time.time()\n",
    "\n",
    "# predicting the y test observations\n",
    "y_pred = rfc.predict(x_test)\n",
    "y_train_pred = rfc.predict(x_smote)"
   ]
  },
  {
   "cell_type": "code",
   "execution_count": 24,
   "metadata": {},
   "outputs": [
    {
     "data": {
      "text/html": [
       "<div>\n",
       "<style scoped>\n",
       "    .dataframe tbody tr th:only-of-type {\n",
       "        vertical-align: middle;\n",
       "    }\n",
       "\n",
       "    .dataframe tbody tr th {\n",
       "        vertical-align: top;\n",
       "    }\n",
       "\n",
       "    .dataframe thead th {\n",
       "        text-align: right;\n",
       "    }\n",
       "</style>\n",
       "<table border=\"1\" class=\"dataframe\">\n",
       "  <thead>\n",
       "    <tr style=\"text-align: right;\">\n",
       "      <th></th>\n",
       "      <th>Model</th>\n",
       "      <th>Train Accuracy</th>\n",
       "      <th>Test Accuracy</th>\n",
       "      <th>Precision</th>\n",
       "      <th>Recall</th>\n",
       "      <th>F1 Score</th>\n",
       "      <th>ROC</th>\n",
       "      <th>Training Time(s)</th>\n",
       "    </tr>\n",
       "  </thead>\n",
       "  <tbody>\n",
       "    <tr>\n",
       "      <th>0</th>\n",
       "      <td>Random Forest</td>\n",
       "      <td>0.994</td>\n",
       "      <td>0.8</td>\n",
       "      <td>0.385</td>\n",
       "      <td>0.574</td>\n",
       "      <td>0.461</td>\n",
       "      <td>0.706</td>\n",
       "      <td>11.154117</td>\n",
       "    </tr>\n",
       "  </tbody>\n",
       "</table>\n",
       "</div>"
      ],
      "text/plain": [
       "           Model  Train Accuracy  Test Accuracy  Precision  Recall  F1 Score  \\\n",
       "0  Random Forest           0.994            0.8      0.385   0.574     0.461   \n",
       "\n",
       "     ROC  Training Time(s)  \n",
       "0  0.706         11.154117  "
      ]
     },
     "execution_count": 24,
     "metadata": {},
     "output_type": "execute_result"
    }
   ],
   "source": [
    "#getting all scores for Random Forest Classifier\n",
    "rfc_acctr = round(accuracy_score(y_train_pred,y_smote), 3)\n",
    "rfc_acc = round(accuracy_score(y_pred,y_test), 3)\n",
    "rfc_prec = round(precision_score(y_pred,y_test), 3)\n",
    "rfc_rec = round(recall_score(y_pred,y_test), 3)\n",
    "rfc_f1 = round(f1_score(y_pred,y_test), 3)\n",
    "rfc_roc = round(roc_auc_score(y_pred,y_test), 3)\n",
    "rfc_time=stop-start\n",
    "\n",
    "results = pd.DataFrame([['Random Forest', rfc_acctr, rfc_acc, rfc_prec, rfc_rec, rfc_f1, rfc_roc, rfc_time]],\n",
    "            columns = ['Model', 'Train Accuracy', 'Test Accuracy', 'Precision', 'Recall', 'F1 Score','ROC', 'Training Time(s)'])\n",
    "results"
   ]
  },
  {
   "cell_type": "code",
   "execution_count": 25,
   "metadata": {},
   "outputs": [
    {
     "name": "stdout",
     "output_type": "stream",
     "text": [
      "              precision    recall  f1-score   support\n",
      "\n",
      "           0       0.84      0.92      0.88      6985\n",
      "           1       0.57      0.38      0.46      1999\n",
      "\n",
      "    accuracy                           0.80      8984\n",
      "   macro avg       0.71      0.65      0.67      8984\n",
      "weighted avg       0.78      0.80      0.78      8984\n",
      "\n",
      "[[6414  571]\n",
      " [1230  769]]\n"
     ]
    }
   ],
   "source": [
    "# Confusion Matrix\n",
    "print(classification_report(y_test, y_pred))\n",
    "print(confusion_matrix(y_test, y_pred))"
   ]
  },
  {
   "cell_type": "markdown",
   "metadata": {
    "id": "5f-ashA1uerB"
   },
   "source": [
    "### 6.  **Gradient Boosting**"
   ]
  },
  {
   "cell_type": "code",
   "execution_count": 26,
   "metadata": {
    "colab": {
     "base_uri": "https://localhost:8080/"
    },
    "id": "Ut6-p05v3Jje",
    "outputId": "5347d8a5-606a-41e6-e042-370fee30787a"
   },
   "outputs": [],
   "source": [
    "#fitting data into Gradient Boosting Classifier\n",
    "start = time.time()\n",
    "gbc = GradientBoostingClassifier()\n",
    "gbc.fit(x_smote,y_smote)\n",
    "stop = time.time()\n",
    "\n",
    "# predicting the y test observations\n",
    "y_pred = gbc.predict(x_test)\n",
    "y_train_pred = gbc.predict(x_smote)"
   ]
  },
  {
   "cell_type": "code",
   "execution_count": 27,
   "metadata": {
    "colab": {
     "base_uri": "https://localhost:8080/"
    },
    "id": "g9vGklUI3Jds",
    "outputId": "0d2e228c-f44b-44f0-b9bf-c52f520ea15c"
   },
   "outputs": [
    {
     "data": {
      "text/html": [
       "<div>\n",
       "<style scoped>\n",
       "    .dataframe tbody tr th:only-of-type {\n",
       "        vertical-align: middle;\n",
       "    }\n",
       "\n",
       "    .dataframe tbody tr th {\n",
       "        vertical-align: top;\n",
       "    }\n",
       "\n",
       "    .dataframe thead th {\n",
       "        text-align: right;\n",
       "    }\n",
       "</style>\n",
       "<table border=\"1\" class=\"dataframe\">\n",
       "  <thead>\n",
       "    <tr style=\"text-align: right;\">\n",
       "      <th></th>\n",
       "      <th>Model</th>\n",
       "      <th>Train Accuracy</th>\n",
       "      <th>Test Accuracy</th>\n",
       "      <th>Precision</th>\n",
       "      <th>Recall</th>\n",
       "      <th>F1 Score</th>\n",
       "      <th>ROC</th>\n",
       "      <th>Training Time(s)</th>\n",
       "    </tr>\n",
       "  </thead>\n",
       "  <tbody>\n",
       "    <tr>\n",
       "      <th>0</th>\n",
       "      <td>Gradient Boosting</td>\n",
       "      <td>0.872</td>\n",
       "      <td>0.811</td>\n",
       "      <td>0.398</td>\n",
       "      <td>0.618</td>\n",
       "      <td>0.484</td>\n",
       "      <td>0.731</td>\n",
       "      <td>17.474271</td>\n",
       "    </tr>\n",
       "  </tbody>\n",
       "</table>\n",
       "</div>"
      ],
      "text/plain": [
       "               Model  Train Accuracy  Test Accuracy  Precision  Recall  \\\n",
       "0  Gradient Boosting           0.872          0.811      0.398   0.618   \n",
       "\n",
       "   F1 Score    ROC  Training Time(s)  \n",
       "0     0.484  0.731         17.474271  "
      ]
     },
     "execution_count": 27,
     "metadata": {},
     "output_type": "execute_result"
    }
   ],
   "source": [
    "#getting all scores for Logistic Regression\n",
    "gbc_acctr = round(accuracy_score(y_train_pred,y_smote), 3)\n",
    "gbc_acc = round(accuracy_score(y_pred,y_test), 3)\n",
    "gbc_prec = round(precision_score(y_pred,y_test), 3)\n",
    "gbc_rec = round(recall_score(y_pred,y_test), 3)\n",
    "gbc_f1 = round(f1_score(y_pred,y_test), 3)\n",
    "gbc_roc = round(roc_auc_score(y_pred,y_test), 3)\n",
    "gbc_time=stop-start\n",
    "\n",
    "results = pd.DataFrame([['Gradient Boosting', gbc_acctr, gbc_acc, gbc_prec, gbc_rec, gbc_f1, gbc_roc, gbc_time]],\n",
    "            columns = ['Model', 'Train Accuracy', 'Test Accuracy', 'Precision', 'Recall', 'F1 Score','ROC', 'Training Time(s)'])\n",
    "results"
   ]
  },
  {
   "cell_type": "code",
   "execution_count": 28,
   "metadata": {},
   "outputs": [
    {
     "name": "stdout",
     "output_type": "stream",
     "text": [
      "              precision    recall  f1-score   support\n",
      "\n",
      "           0       0.84      0.93      0.88      6985\n",
      "           1       0.62      0.40      0.48      1999\n",
      "\n",
      "    accuracy                           0.81      8984\n",
      "   macro avg       0.73      0.66      0.68      8984\n",
      "weighted avg       0.79      0.81      0.80      8984\n",
      "\n",
      "[[6494  491]\n",
      " [1203  796]]\n"
     ]
    }
   ],
   "source": [
    "# Confusion Matrix\n",
    "print(classification_report(y_test, y_pred))\n",
    "print(confusion_matrix(y_test, y_pred))"
   ]
  },
  {
   "cell_type": "markdown",
   "metadata": {
    "id": "PVtuI5Ep5rD2"
   },
   "source": [
    "### 7. **XG Boosting**"
   ]
  },
  {
   "cell_type": "code",
   "execution_count": 29,
   "metadata": {
    "colab": {
     "base_uri": "https://localhost:8080/"
    },
    "id": "5MR0R5br5VVC",
    "outputId": "94c496f4-210b-476b-a558-d07ed4962707"
   },
   "outputs": [],
   "source": [
    "#fitting data into XG Boosting Classifier\n",
    "start = time.time()\n",
    "xgb = XGBClassifier()\n",
    "xgb.fit(x_smote,y_smote)\n",
    "stop = time.time()\n",
    "\n",
    "# predicting the y test observations\n",
    "y_pred = xgb.predict(x_test)\n",
    "y_train_pred = xgb.predict(x_smote)"
   ]
  },
  {
   "cell_type": "code",
   "execution_count": 30,
   "metadata": {
    "colab": {
     "base_uri": "https://localhost:8080/"
    },
    "id": "Sib751ga5VPH",
    "outputId": "992a7ea7-5824-4aab-8396-ead98b9d1f01"
   },
   "outputs": [
    {
     "data": {
      "text/html": [
       "<div>\n",
       "<style scoped>\n",
       "    .dataframe tbody tr th:only-of-type {\n",
       "        vertical-align: middle;\n",
       "    }\n",
       "\n",
       "    .dataframe tbody tr th {\n",
       "        vertical-align: top;\n",
       "    }\n",
       "\n",
       "    .dataframe thead th {\n",
       "        text-align: right;\n",
       "    }\n",
       "</style>\n",
       "<table border=\"1\" class=\"dataframe\">\n",
       "  <thead>\n",
       "    <tr style=\"text-align: right;\">\n",
       "      <th></th>\n",
       "      <th>Model</th>\n",
       "      <th>Train Accuracy</th>\n",
       "      <th>Test Accuracy</th>\n",
       "      <th>Precision</th>\n",
       "      <th>Recall</th>\n",
       "      <th>F1 Score</th>\n",
       "      <th>ROC</th>\n",
       "      <th>Training Time(s)</th>\n",
       "    </tr>\n",
       "  </thead>\n",
       "  <tbody>\n",
       "    <tr>\n",
       "      <th>0</th>\n",
       "      <td>XG Boosting</td>\n",
       "      <td>0.925</td>\n",
       "      <td>0.802</td>\n",
       "      <td>0.378</td>\n",
       "      <td>0.586</td>\n",
       "      <td>0.459</td>\n",
       "      <td>0.712</td>\n",
       "      <td>3.862305</td>\n",
       "    </tr>\n",
       "  </tbody>\n",
       "</table>\n",
       "</div>"
      ],
      "text/plain": [
       "         Model  Train Accuracy  Test Accuracy  Precision  Recall  F1 Score  \\\n",
       "0  XG Boosting           0.925          0.802      0.378   0.586     0.459   \n",
       "\n",
       "     ROC  Training Time(s)  \n",
       "0  0.712          3.862305  "
      ]
     },
     "execution_count": 30,
     "metadata": {},
     "output_type": "execute_result"
    }
   ],
   "source": [
    "#getting all scores for XG Boosting Classifier\n",
    "xgb_acctr = round(accuracy_score(y_train_pred,y_smote), 3)\n",
    "xgb_acc = round(accuracy_score(y_pred,y_test), 3)\n",
    "xgb_prec = round(precision_score(y_pred,y_test), 3)\n",
    "xgb_rec = round(recall_score(y_pred,y_test), 3)\n",
    "xgb_f1 = round(f1_score(y_pred,y_test), 3)\n",
    "xgb_roc = round(roc_auc_score(y_pred,y_test), 3)\n",
    "xgb_time=stop-start\n",
    "\n",
    "results = pd.DataFrame([['XG Boosting', xgb_acctr, xgb_acc, xgb_prec, xgb_rec, xgb_f1, xgb_roc, xgb_time]],\n",
    "            columns = ['Model', 'Train Accuracy', 'Test Accuracy', 'Precision', 'Recall', 'F1 Score','ROC', 'Training Time(s)'])\n",
    "results"
   ]
  },
  {
   "cell_type": "code",
   "execution_count": 31,
   "metadata": {
    "scrolled": true
   },
   "outputs": [
    {
     "name": "stdout",
     "output_type": "stream",
     "text": [
      "              precision    recall  f1-score   support\n",
      "\n",
      "           0       0.84      0.92      0.88      6985\n",
      "           1       0.59      0.38      0.46      1999\n",
      "\n",
      "    accuracy                           0.80      8984\n",
      "   macro avg       0.71      0.65      0.67      8984\n",
      "weighted avg       0.78      0.80      0.79      8984\n",
      "\n",
      "[[6452  533]\n",
      " [1244  755]]\n"
     ]
    }
   ],
   "source": [
    "# Confusion Matrix\n",
    "print(classification_report(y_test, y_pred))\n",
    "print(confusion_matrix(y_test, y_pred))"
   ]
  },
  {
   "cell_type": "markdown",
   "metadata": {
    "id": "PVtuI5Ep5rD2"
   },
   "source": [
    "### 8. **ADA Boosting**"
   ]
  },
  {
   "cell_type": "code",
   "execution_count": 32,
   "metadata": {
    "colab": {
     "base_uri": "https://localhost:8080/"
    },
    "id": "5MR0R5br5VVC",
    "outputId": "94c496f4-210b-476b-a558-d07ed4962707"
   },
   "outputs": [],
   "source": [
    "#fitting data into Ada Boosting Classifier\n",
    "start = time.time()\n",
    "ada = AdaBoostClassifier()\n",
    "ada.fit(x_smote,y_smote)\n",
    "stop = time.time()\n",
    "\n",
    "# predicting the y test observations\n",
    "y_pred = ada.predict(x_test)\n",
    "y_train_pred = ada.predict(x_smote)"
   ]
  },
  {
   "cell_type": "code",
   "execution_count": 33,
   "metadata": {
    "colab": {
     "base_uri": "https://localhost:8080/"
    },
    "id": "Sib751ga5VPH",
    "outputId": "992a7ea7-5824-4aab-8396-ead98b9d1f01"
   },
   "outputs": [
    {
     "data": {
      "text/html": [
       "<div>\n",
       "<style scoped>\n",
       "    .dataframe tbody tr th:only-of-type {\n",
       "        vertical-align: middle;\n",
       "    }\n",
       "\n",
       "    .dataframe tbody tr th {\n",
       "        vertical-align: top;\n",
       "    }\n",
       "\n",
       "    .dataframe thead th {\n",
       "        text-align: right;\n",
       "    }\n",
       "</style>\n",
       "<table border=\"1\" class=\"dataframe\">\n",
       "  <thead>\n",
       "    <tr style=\"text-align: right;\">\n",
       "      <th></th>\n",
       "      <th>Model</th>\n",
       "      <th>Train Accuracy</th>\n",
       "      <th>Test Accuracy</th>\n",
       "      <th>Precision</th>\n",
       "      <th>Recall</th>\n",
       "      <th>F1 Score</th>\n",
       "      <th>ROC</th>\n",
       "      <th>Training Time(s)</th>\n",
       "    </tr>\n",
       "  </thead>\n",
       "  <tbody>\n",
       "    <tr>\n",
       "      <th>0</th>\n",
       "      <td>ADA Boosting</td>\n",
       "      <td>0.856</td>\n",
       "      <td>0.8</td>\n",
       "      <td>0.397</td>\n",
       "      <td>0.573</td>\n",
       "      <td>0.469</td>\n",
       "      <td>0.707</td>\n",
       "      <td>4.455209</td>\n",
       "    </tr>\n",
       "  </tbody>\n",
       "</table>\n",
       "</div>"
      ],
      "text/plain": [
       "          Model  Train Accuracy  Test Accuracy  Precision  Recall  F1 Score  \\\n",
       "0  ADA Boosting           0.856            0.8      0.397   0.573     0.469   \n",
       "\n",
       "     ROC  Training Time(s)  \n",
       "0  0.707          4.455209  "
      ]
     },
     "execution_count": 33,
     "metadata": {},
     "output_type": "execute_result"
    }
   ],
   "source": [
    "#getting all scores for Ada Boosting Classifier\n",
    "ada_acctr = round(accuracy_score(y_train_pred,y_smote), 3)\n",
    "ada_acc = round(accuracy_score(y_pred,y_test), 3)\n",
    "ada_prec = round(precision_score(y_pred,y_test), 3)\n",
    "ada_rec = round(recall_score(y_pred,y_test), 3)\n",
    "ada_f1 = round(f1_score(y_pred,y_test), 3)\n",
    "ada_roc = round(roc_auc_score(y_pred,y_test), 3)\n",
    "ada_time=stop-start\n",
    "\n",
    "results = pd.DataFrame([['ADA Boosting', ada_acctr, ada_acc, ada_prec, ada_rec, ada_f1, ada_roc, ada_time]],\n",
    "            columns = ['Model', 'Train Accuracy', 'Test Accuracy', 'Precision', 'Recall', 'F1 Score','ROC', 'Training Time(s)'])\n",
    "results"
   ]
  },
  {
   "cell_type": "code",
   "execution_count": 34,
   "metadata": {
    "scrolled": true
   },
   "outputs": [
    {
     "name": "stdout",
     "output_type": "stream",
     "text": [
      "              precision    recall  f1-score   support\n",
      "\n",
      "           0       0.84      0.92      0.88      6985\n",
      "           1       0.57      0.40      0.47      1999\n",
      "\n",
      "    accuracy                           0.80      8984\n",
      "   macro avg       0.71      0.66      0.67      8984\n",
      "weighted avg       0.78      0.80      0.79      8984\n",
      "\n",
      "[[6394  591]\n",
      " [1206  793]]\n"
     ]
    }
   ],
   "source": [
    "# Confusion Matrix\n",
    "print(classification_report(y_test, y_pred))\n",
    "print(confusion_matrix(y_test, y_pred))"
   ]
  },
  {
   "cell_type": "markdown",
   "metadata": {
    "id": "PVtuI5Ep5rD2"
   },
   "source": [
    "### 9. **Bagging Classifier**"
   ]
  },
  {
   "cell_type": "code",
   "execution_count": 35,
   "metadata": {
    "colab": {
     "base_uri": "https://localhost:8080/"
    },
    "id": "5MR0R5br5VVC",
    "outputId": "94c496f4-210b-476b-a558-d07ed4962707"
   },
   "outputs": [],
   "source": [
    "#fitting data into Bagging Classifier\n",
    "start = time.time()\n",
    "bag = BaggingClassifier()\n",
    "bag.fit(x_smote,y_smote)\n",
    "stop = time.time()\n",
    "\n",
    "# predicting the y test observations\n",
    "y_pred = bag.predict(x_test)\n",
    "y_train_pred = bag.predict(x_smote)"
   ]
  },
  {
   "cell_type": "code",
   "execution_count": 36,
   "metadata": {
    "colab": {
     "base_uri": "https://localhost:8080/"
    },
    "id": "Sib751ga5VPH",
    "outputId": "992a7ea7-5824-4aab-8396-ead98b9d1f01"
   },
   "outputs": [
    {
     "data": {
      "text/html": [
       "<div>\n",
       "<style scoped>\n",
       "    .dataframe tbody tr th:only-of-type {\n",
       "        vertical-align: middle;\n",
       "    }\n",
       "\n",
       "    .dataframe tbody tr th {\n",
       "        vertical-align: top;\n",
       "    }\n",
       "\n",
       "    .dataframe thead th {\n",
       "        text-align: right;\n",
       "    }\n",
       "</style>\n",
       "<table border=\"1\" class=\"dataframe\">\n",
       "  <thead>\n",
       "    <tr style=\"text-align: right;\">\n",
       "      <th></th>\n",
       "      <th>Model</th>\n",
       "      <th>Train Accuracy</th>\n",
       "      <th>Test Accuracy</th>\n",
       "      <th>Precision</th>\n",
       "      <th>Recall</th>\n",
       "      <th>F1 Score</th>\n",
       "      <th>ROC</th>\n",
       "      <th>Training Time(s)</th>\n",
       "    </tr>\n",
       "  </thead>\n",
       "  <tbody>\n",
       "    <tr>\n",
       "      <th>0</th>\n",
       "      <td>Bagging Classifier</td>\n",
       "      <td>0.984</td>\n",
       "      <td>0.79</td>\n",
       "      <td>0.346</td>\n",
       "      <td>0.543</td>\n",
       "      <td>0.423</td>\n",
       "      <td>0.687</td>\n",
       "      <td>4.022153</td>\n",
       "    </tr>\n",
       "  </tbody>\n",
       "</table>\n",
       "</div>"
      ],
      "text/plain": [
       "                Model  Train Accuracy  Test Accuracy  Precision  Recall  \\\n",
       "0  Bagging Classifier           0.984           0.79      0.346   0.543   \n",
       "\n",
       "   F1 Score    ROC  Training Time(s)  \n",
       "0     0.423  0.687          4.022153  "
      ]
     },
     "execution_count": 36,
     "metadata": {},
     "output_type": "execute_result"
    }
   ],
   "source": [
    "#getting all scores for Bagging Classifier\n",
    "bag_acctr = round(accuracy_score(y_train_pred,y_smote), 3)\n",
    "bag_acc = round(accuracy_score(y_pred,y_test), 3)\n",
    "bag_prec = round(precision_score(y_pred,y_test), 3)\n",
    "bag_rec = round(recall_score(y_pred,y_test), 3)\n",
    "bag_f1 = round(f1_score(y_pred,y_test), 3)\n",
    "bag_roc = round(roc_auc_score(y_pred,y_test), 3)\n",
    "bag_time=stop-start\n",
    "\n",
    "results = pd.DataFrame([['Bagging Classifier', bag_acctr, bag_acc, bag_prec, bag_rec, bag_f1, bag_roc, bag_time]],\n",
    "            columns = ['Model', 'Train Accuracy', 'Test Accuracy', 'Precision', 'Recall', 'F1 Score','ROC', 'Training Time(s)'])\n",
    "results"
   ]
  },
  {
   "cell_type": "code",
   "execution_count": 37,
   "metadata": {},
   "outputs": [
    {
     "name": "stdout",
     "output_type": "stream",
     "text": [
      "              precision    recall  f1-score   support\n",
      "\n",
      "           0       0.83      0.92      0.87      6985\n",
      "           1       0.54      0.35      0.42      1999\n",
      "\n",
      "    accuracy                           0.79      8984\n",
      "   macro avg       0.69      0.63      0.65      8984\n",
      "weighted avg       0.77      0.79      0.77      8984\n",
      "\n",
      "[[6402  583]\n",
      " [1307  692]]\n"
     ]
    }
   ],
   "source": [
    "# Confusion Matrix\n",
    "print(classification_report(y_test, y_pred))\n",
    "print(confusion_matrix(y_test, y_pred))"
   ]
  },
  {
   "cell_type": "markdown",
   "metadata": {
    "id": "QjzgCVofJAw2"
   },
   "source": [
    "### **Baseline Model Comparision**"
   ]
  },
  {
   "cell_type": "code",
   "execution_count": 38,
   "metadata": {
    "id": "hE3oJdoHI_FC"
   },
   "outputs": [],
   "source": [
    "# all_classifiers = ['Logistic Regression', 'Support Vector Machines', 'KNN Classifier', 'Naive Bayes', 'Decision Tree', \n",
    "#                    'Random Forest', 'Gradient Boosting', 'XG Boosting', 'Ada Boosting', 'Bagging algorithm']\n",
    "\n",
    "# train_accuracy =  [log_acctr, svm_acctr, knn_acctr, nb_acctr, dtc_acctr, rfc_acctr, gbc_acctr, xgb_acctr, ada_acctr, bag_acctr]\n",
    "# test_accuracy =   [log_acc, svm_acc, knn_acc, nb_acc, dtc_acc, rfc_acc, gbc_acc, xgb_acc, ada_acc, bag_acc]\n",
    "# precision_score = [log_prec, svm_prec, knn_prec, nb_prec, dtc_prec, rfc_prec, gbc_prec, xgb_prec, ada_prec, bag_prec]\n",
    "# recall_score =    [log_rec, svm_rec, knn_rec, nb_rec, dtc_rec, rfc_rec, gbc_rec, xgb_rec, ada_rec, bag_rec]\n",
    "# f1_score =        [log_f1, svm_f1, knn_f1, nb_f1, dtc_f1, rfc_f1, gbc_f1, xgb_f1, ada_f1, bag_f1]\n",
    "# roc_score =       [log_roc, svm_roc, knn_roc, nb_roc, dtc_roc, rfc_roc, gbc_roc, xgb_roc, ada_roc, bag_roc]\n",
    "# training_time=[log_time, svm_time, knn_time, nb_time, dtc_time, rfc_time, gbc_time, xgb_time, ada_time, bag_time]"
   ]
  },
  {
   "cell_type": "code",
   "execution_count": 39,
   "metadata": {},
   "outputs": [],
   "source": [
    "all_classifiers = ['Logistic Regression', 'KNN Classifier', 'Naive Bayes', 'Decision Tree', \n",
    "                   'Random Forest', 'Gradient Boosting', 'XG Boosting', 'Ada Boosting', 'Bagging algorithm']\n",
    "\n",
    "train_accuracy =  [log_acctr, knn_acctr, nb_acctr, dtc_acctr, rfc_acctr, gbc_acctr, xgb_acctr, ada_acctr, bag_acctr]\n",
    "test_accuracy =   [log_acc, knn_acc, nb_acc, dtc_acc, rfc_acc, gbc_acc, xgb_acc, ada_acc, bag_acc]\n",
    "precision_score = [log_prec, knn_prec, nb_prec, dtc_prec, rfc_prec, gbc_prec, xgb_prec, ada_prec, bag_prec]\n",
    "recall_score =    [log_rec, knn_rec, nb_rec, dtc_rec, rfc_rec, gbc_rec, xgb_rec, ada_rec, bag_rec]\n",
    "f1_score =        [log_f1, knn_f1, nb_f1, dtc_f1, rfc_f1, gbc_f1, xgb_f1, ada_f1, bag_f1]\n",
    "roc_score =       [log_roc, knn_roc, nb_roc, dtc_roc, rfc_roc, gbc_roc, xgb_roc, ada_roc, bag_roc]\n",
    "training_time=[log_time, knn_time, nb_time, dtc_time, rfc_time, gbc_time, xgb_time, ada_time, bag_time]"
   ]
  },
  {
   "cell_type": "code",
   "execution_count": 40,
   "metadata": {
    "id": "Mg2R56a-JVUY",
    "scrolled": true
   },
   "outputs": [
    {
     "data": {
      "text/html": [
       "<div>\n",
       "<style scoped>\n",
       "    .dataframe tbody tr th:only-of-type {\n",
       "        vertical-align: middle;\n",
       "    }\n",
       "\n",
       "    .dataframe tbody tr th {\n",
       "        vertical-align: top;\n",
       "    }\n",
       "\n",
       "    .dataframe thead th {\n",
       "        text-align: right;\n",
       "    }\n",
       "</style>\n",
       "<table border=\"1\" class=\"dataframe\">\n",
       "  <thead>\n",
       "    <tr style=\"text-align: right;\">\n",
       "      <th></th>\n",
       "      <th>Classifier</th>\n",
       "      <th>Train Accuracy</th>\n",
       "      <th>Test Accuracy</th>\n",
       "      <th>Precision</th>\n",
       "      <th>Recall</th>\n",
       "      <th>F1 Score</th>\n",
       "      <th>AUC</th>\n",
       "      <th>Training Time</th>\n",
       "    </tr>\n",
       "  </thead>\n",
       "  <tbody>\n",
       "    <tr>\n",
       "      <th>0</th>\n",
       "      <td>Logistic Regression</td>\n",
       "      <td>0.580</td>\n",
       "      <td>0.614</td>\n",
       "      <td>0.479</td>\n",
       "      <td>0.283</td>\n",
       "      <td>0.356</td>\n",
       "      <td>0.548</td>\n",
       "      <td>0.123402</td>\n",
       "    </tr>\n",
       "    <tr>\n",
       "      <th>1</th>\n",
       "      <td>KNN Classifier</td>\n",
       "      <td>0.843</td>\n",
       "      <td>0.629</td>\n",
       "      <td>0.500</td>\n",
       "      <td>0.300</td>\n",
       "      <td>0.375</td>\n",
       "      <td>0.561</td>\n",
       "      <td>0.010412</td>\n",
       "    </tr>\n",
       "    <tr>\n",
       "      <th>2</th>\n",
       "      <td>Naive Bayes</td>\n",
       "      <td>0.603</td>\n",
       "      <td>0.557</td>\n",
       "      <td>0.681</td>\n",
       "      <td>0.289</td>\n",
       "      <td>0.406</td>\n",
       "      <td>0.570</td>\n",
       "      <td>0.022859</td>\n",
       "    </tr>\n",
       "    <tr>\n",
       "      <th>3</th>\n",
       "      <td>Decision Tree</td>\n",
       "      <td>0.994</td>\n",
       "      <td>0.716</td>\n",
       "      <td>0.407</td>\n",
       "      <td>0.373</td>\n",
       "      <td>0.389</td>\n",
       "      <td>0.600</td>\n",
       "      <td>0.641122</td>\n",
       "    </tr>\n",
       "    <tr>\n",
       "      <th>4</th>\n",
       "      <td>Random Forest</td>\n",
       "      <td>0.994</td>\n",
       "      <td>0.800</td>\n",
       "      <td>0.385</td>\n",
       "      <td>0.574</td>\n",
       "      <td>0.461</td>\n",
       "      <td>0.706</td>\n",
       "      <td>11.154117</td>\n",
       "    </tr>\n",
       "    <tr>\n",
       "      <th>5</th>\n",
       "      <td>Gradient Boosting</td>\n",
       "      <td>0.872</td>\n",
       "      <td>0.811</td>\n",
       "      <td>0.398</td>\n",
       "      <td>0.618</td>\n",
       "      <td>0.484</td>\n",
       "      <td>0.731</td>\n",
       "      <td>17.474271</td>\n",
       "    </tr>\n",
       "    <tr>\n",
       "      <th>6</th>\n",
       "      <td>XG Boosting</td>\n",
       "      <td>0.925</td>\n",
       "      <td>0.802</td>\n",
       "      <td>0.378</td>\n",
       "      <td>0.586</td>\n",
       "      <td>0.459</td>\n",
       "      <td>0.712</td>\n",
       "      <td>3.862305</td>\n",
       "    </tr>\n",
       "    <tr>\n",
       "      <th>7</th>\n",
       "      <td>Ada Boosting</td>\n",
       "      <td>0.856</td>\n",
       "      <td>0.800</td>\n",
       "      <td>0.397</td>\n",
       "      <td>0.573</td>\n",
       "      <td>0.469</td>\n",
       "      <td>0.707</td>\n",
       "      <td>4.455209</td>\n",
       "    </tr>\n",
       "    <tr>\n",
       "      <th>8</th>\n",
       "      <td>Bagging algorithm</td>\n",
       "      <td>0.984</td>\n",
       "      <td>0.790</td>\n",
       "      <td>0.346</td>\n",
       "      <td>0.543</td>\n",
       "      <td>0.423</td>\n",
       "      <td>0.687</td>\n",
       "      <td>4.022153</td>\n",
       "    </tr>\n",
       "  </tbody>\n",
       "</table>\n",
       "</div>"
      ],
      "text/plain": [
       "            Classifier  Train Accuracy  Test Accuracy  Precision  Recall  \\\n",
       "0  Logistic Regression           0.580          0.614      0.479   0.283   \n",
       "1       KNN Classifier           0.843          0.629      0.500   0.300   \n",
       "2          Naive Bayes           0.603          0.557      0.681   0.289   \n",
       "3        Decision Tree           0.994          0.716      0.407   0.373   \n",
       "4        Random Forest           0.994          0.800      0.385   0.574   \n",
       "5    Gradient Boosting           0.872          0.811      0.398   0.618   \n",
       "6          XG Boosting           0.925          0.802      0.378   0.586   \n",
       "7         Ada Boosting           0.856          0.800      0.397   0.573   \n",
       "8    Bagging algorithm           0.984          0.790      0.346   0.543   \n",
       "\n",
       "   F1 Score    AUC  Training Time  \n",
       "0     0.356  0.548       0.123402  \n",
       "1     0.375  0.561       0.010412  \n",
       "2     0.406  0.570       0.022859  \n",
       "3     0.389  0.600       0.641122  \n",
       "4     0.461  0.706      11.154117  \n",
       "5     0.484  0.731      17.474271  \n",
       "6     0.459  0.712       3.862305  \n",
       "7     0.469  0.707       4.455209  \n",
       "8     0.423  0.687       4.022153  "
      ]
     },
     "execution_count": 40,
     "metadata": {},
     "output_type": "execute_result"
    }
   ],
   "source": [
    "compare_df = pd.DataFrame({'Classifier':all_classifiers, 'Train Accuracy': train_accuracy, 'Test Accuracy': test_accuracy, \n",
    "                           'Precision': precision_score, 'Recall': recall_score, 'F1 Score': f1_score, \n",
    "                           'AUC': roc_score, 'Training Time':training_time})\n",
    "compare_df"
   ]
  },
  {
   "cell_type": "markdown",
   "metadata": {},
   "source": [
    "#### Conclusion from Baseline models\n",
    "\n",
    "1. From all baseline model, XG Boosting classifier shows better test accuracy and F1 score and AUC.\n",
    "2. Ensemble models shows better performance compated to base models (except for Logistic regression model)\n",
    "3. Train accuracy - There is huge difference between Train and Test Accuracy in tree based models which shows OverFitting\n",
    "\n",
    "We can try in the next part, Cross validation and Hyperparameter tuning techniques to reduce chances of overfitting and also increases performance of model."
   ]
  }
 ],
 "metadata": {
  "colab": {
   "collapsed_sections": [],
   "include_colab_link": true,
   "name": "Credit Card Default Prediction - Amol.ipynb",
   "provenance": []
  },
  "kernelspec": {
   "display_name": "Python 3 (ipykernel)",
   "language": "python",
   "name": "python3"
  },
  "language_info": {
   "codemirror_mode": {
    "name": "ipython",
    "version": 3
   },
   "file_extension": ".py",
   "mimetype": "text/x-python",
   "name": "python",
   "nbconvert_exporter": "python",
   "pygments_lexer": "ipython3",
   "version": "3.9.7"
  }
 },
 "nbformat": 4,
 "nbformat_minor": 1
}
