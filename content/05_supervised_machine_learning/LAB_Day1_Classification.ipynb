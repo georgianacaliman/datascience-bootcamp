{
 "cells": [
  {
   "cell_type": "markdown",
   "id": "694022e9",
   "metadata": {},
   "source": [
    "##                                                  Day 1 - Part_2 LAB\n",
    "\n",
    "###  CLASSIFICATION MACHINE LEARNING - Baseline Model Implementation"
   ]
  },
  {
   "cell_type": "code",
   "execution_count": null,
   "id": "3d5e511f",
   "metadata": {},
   "outputs": [],
   "source": [
    "#importing required libraries for data analysis\n",
    "import pandas as pd\n",
    "\n",
    "import warnings\n",
    "warnings.filterwarnings('ignore')\n",
    "\n",
    "#Import Data balancing libraries\n",
    "import imblearn\n",
    "from imblearn.over_sampling import SMOTE\n",
    "\n",
    "# Import models from sklearn\n",
    "from sklearn.model_selection import train_test_split\n",
    "\n",
    "from sklearn.linear_model import LogisticRegression\n",
    "\n",
    "# Import evaluation metrics\n",
    "from sklearn.metrics import confusion_matrix, classification_report, accuracy_score, precision_score, recall_score, f1_score\n",
    "from sklearn.metrics import roc_auc_score, roc_curve, auc"
   ]
  },
  {
   "cell_type": "code",
   "execution_count": null,
   "id": "19d6f538",
   "metadata": {},
   "outputs": [],
   "source": [
    "# Read the training & test datasets from Part1-Preprocessing part \n",
    "\n",
    "x_train=pd.read_csv('x_train.csv')\n",
    "x_test=pd.read_csv('x_test.csv')\n",
    "\n",
    "y_train=pd.read_csv('y_train.csv')\n",
    "y_test=pd.read_csv('y_test.csv')\n",
    "\n",
    "print(x_train.shape,x_test.shape,y_train.shape,y_test.shape)"
   ]
  },
  {
   "cell_type": "markdown",
   "id": "57289c3c",
   "metadata": {},
   "source": [
    "Data Balancing\n",
    "\n",
    "A. Under Sampling:\n",
    "\n",
    "    1. Random undersampling --> rus =  RandomUnderSampler()\n",
    "    2. Near Miss --> nm = NearMiss()\n",
    "\n",
    "B. Over Sampling:\n",
    "\n",
    "    3. Random oversampling  --> ros =  RandomOverSampler()\n",
    "    4. SMOTE (Synthetic Minority Over-Sampling Technique) -->  sm = SMOTE()\n",
    "        5. ADASYN (Adaptive Synthetic Sampling) --> adasyn =  ADASYN()\n",
    "        \n",
    "C. Hybrid Sampling:\n",
    "\n",
    "    6. SMOTE+ENN --> smtenn =  SMOTEENN()\n",
    "    7. SMOTE+Tomek link --> smtom =  SMOTETomek()"
   ]
  },
  {
   "cell_type": "code",
   "execution_count": null,
   "id": "fc7804b6",
   "metadata": {},
   "outputs": [],
   "source": [
    "#importing SMOTE to handle class imbalance\n",
    "from imblearn.over_sampling import SMOTE\n",
    "\n",
    "smote = SMOTE()\n",
    "\n",
    "# fit predictor and target variable\n",
    "x_smote, y_smote = smote.fit_resample(x_train, y_train)\n",
    "\n",
    "print('Original unbalanced dataset shape', len(y_train))\n",
    "print('Resampled balanced dataset shape', len(y_smote))"
   ]
  },
  {
   "cell_type": "code",
   "execution_count": null,
   "id": "d9e91f12",
   "metadata": {},
   "outputs": [],
   "source": [
    "# Saving final balanced files in csv format for future reference (for Part 3)\n",
    "\n",
    "pd.DataFrame(x_smote).to_csv(\"x_smote.csv\", index=None)\n",
    "pd.DataFrame(y_smote).to_csv(\"y_smote.csv\", index=None)"
   ]
  },
  {
   "cell_type": "markdown",
   "id": "defe5f3f",
   "metadata": {
    "id": "1HD-O64CJaWG"
   },
   "source": [
    "### **Logistic Regression Model**"
   ]
  },
  {
   "cell_type": "code",
   "execution_count": 5,
   "id": "295d1b34",
   "metadata": {
    "colab": {
     "base_uri": "https://localhost:8080/"
    },
    "id": "xltV-JKlH76A",
    "outputId": "7c475b05-d52e-43e5-d06b-98ae5ff16b6b"
   },
   "outputs": [],
   "source": [
    "# Import & fit the Logistic Regression Model\n",
    "logmodel = LogisticRegression(random_state=1)\n",
    "logmodel.fit(x_smote,y_smote)\n",
    "\n",
    "# predicting the y test observations\n",
    "y_pred = logmodel.predict(x_test)\n",
    "y_train_pred = logmodel.predict(x_smote)"
   ]
  },
  {
   "cell_type": "code",
   "execution_count": 6,
   "id": "5f617e14",
   "metadata": {
    "colab": {
     "base_uri": "https://localhost:8080/"
    },
    "id": "WUYBmWtyNfUs",
    "outputId": "514389aa-365a-4c20-fc73-f3ab00cdae36"
   },
   "outputs": [
    {
     "data": {
      "text/html": [
       "<div>\n",
       "<style scoped>\n",
       "    .dataframe tbody tr th:only-of-type {\n",
       "        vertical-align: middle;\n",
       "    }\n",
       "\n",
       "    .dataframe tbody tr th {\n",
       "        vertical-align: top;\n",
       "    }\n",
       "\n",
       "    .dataframe thead th {\n",
       "        text-align: right;\n",
       "    }\n",
       "</style>\n",
       "<table border=\"1\" class=\"dataframe\">\n",
       "  <thead>\n",
       "    <tr style=\"text-align: right;\">\n",
       "      <th></th>\n",
       "      <th>Model</th>\n",
       "      <th>Train Accuracy</th>\n",
       "      <th>Test Accuracy</th>\n",
       "      <th>Precision</th>\n",
       "      <th>Recall</th>\n",
       "      <th>F1 Score</th>\n",
       "      <th>ROC</th>\n",
       "    </tr>\n",
       "  </thead>\n",
       "  <tbody>\n",
       "    <tr>\n",
       "      <th>0</th>\n",
       "      <td>Logistic Regression</td>\n",
       "      <td>0.703</td>\n",
       "      <td>0.77</td>\n",
       "      <td>0.569</td>\n",
       "      <td>0.505</td>\n",
       "      <td>0.535</td>\n",
       "      <td>0.684</td>\n",
       "    </tr>\n",
       "  </tbody>\n",
       "</table>\n",
       "</div>"
      ],
      "text/plain": [
       "                 Model  Train Accuracy  Test Accuracy  Precision  Recall  \\\n",
       "0  Logistic Regression           0.703           0.77      0.569   0.505   \n",
       "\n",
       "   F1 Score    ROC  \n",
       "0     0.535  0.684  "
      ]
     },
     "execution_count": 6,
     "metadata": {},
     "output_type": "execute_result"
    }
   ],
   "source": [
    "#getting all scores for Logistic Regression\n",
    "log_acctr = round(accuracy_score(y_train_pred,y_smote), 3)\n",
    "log_acc = round(accuracy_score(y_pred,y_test), 3)\n",
    "log_prec = round(precision_score(y_pred,y_test), 3)\n",
    "log_rec = round(recall_score(y_pred,y_test), 3)\n",
    "log_f1 = round(f1_score(y_pred,y_test), 3)\n",
    "log_roc = round(roc_auc_score(y_pred,y_test), 3)\n",
    "\n",
    "results = pd.DataFrame([['Logistic Regression', log_acctr, log_acc, log_prec, log_rec, log_f1, log_roc]],\n",
    "               columns = ['Model', 'Train Accuracy', 'Test Accuracy', 'Precision', 'Recall', 'F1 Score','ROC'])\n",
    "results"
   ]
  },
  {
   "cell_type": "code",
   "execution_count": 7,
   "id": "a58380a4",
   "metadata": {
    "scrolled": true
   },
   "outputs": [
    {
     "name": "stdout",
     "output_type": "stream",
     "text": [
      "              precision    recall  f1-score   support\n",
      "\n",
      "           0       0.86      0.83      0.85      1726\n",
      "           1       0.51      0.57      0.54       524\n",
      "\n",
      "    accuracy                           0.77      2250\n",
      "   macro avg       0.68      0.70      0.69      2250\n",
      "weighted avg       0.78      0.77      0.77      2250\n",
      "\n",
      "[[1434  292]\n",
      " [ 226  298]]\n"
     ]
    }
   ],
   "source": [
    "# Confusion Matrix\n",
    "print(classification_report(y_test, y_pred))\n",
    "print(confusion_matrix(y_test, y_pred))"
   ]
  },
  {
   "cell_type": "markdown",
   "id": "ddeaec8e",
   "metadata": {
    "id": "1HD-O64CJaWG"
   },
   "source": [
    "### Task 1 - **Build a different model, Evaluate the predictions & Compare the results**"
   ]
  },
  {
   "cell_type": "code",
   "execution_count": null,
   "id": "a0891b93",
   "metadata": {},
   "outputs": [],
   "source": [
    "# Import the Model from sklearn\n",
    "\n"
   ]
  },
  {
   "cell_type": "code",
   "execution_count": 1,
   "id": "66a3a419",
   "metadata": {},
   "outputs": [],
   "source": [
    "# Fit the Model & Predict  - x_smote, y_smote, x_test, x_test\n",
    "\n",
    "\n",
    "\n"
   ]
  },
  {
   "cell_type": "code",
   "execution_count": null,
   "id": "8c71dae2",
   "metadata": {},
   "outputs": [],
   "source": [
    "# Evaluation the model predictions\n",
    "\n",
    "###  **Build a different model, Evaluate the predictions & Compare the results**\n",
    "\n",
    "\n"
   ]
  },
  {
   "cell_type": "markdown",
   "id": "df3bf0d9",
   "metadata": {
    "id": "1HD-O64CJaWG"
   },
   "source": [
    "### Task 2 - **Re-train the model using data from different Balancing technique & Compare the results**"
   ]
  },
  {
   "cell_type": "code",
   "execution_count": null,
   "id": "641dd1cc",
   "metadata": {},
   "outputs": [],
   "source": [
    "# Import & fit balancing technique \n",
    "\n",
    "\n",
    "\n",
    "# Use the new x_train and y_train to re-train the model\n",
    "\n",
    "# Compare the 2 results"
   ]
  }
 ],
 "metadata": {
  "kernelspec": {
   "display_name": "Python 3 (ipykernel)",
   "language": "python",
   "name": "python3"
  },
  "language_info": {
   "codemirror_mode": {
    "name": "ipython",
    "version": 3
   },
   "file_extension": ".py",
   "mimetype": "text/x-python",
   "name": "python",
   "nbconvert_exporter": "python",
   "pygments_lexer": "ipython3",
   "version": "3.9.7"
  }
 },
 "nbformat": 4,
 "nbformat_minor": 5
}
