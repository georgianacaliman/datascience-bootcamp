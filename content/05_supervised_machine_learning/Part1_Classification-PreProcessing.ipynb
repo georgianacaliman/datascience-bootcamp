{
 "cells": [
  {
   "cell_type": "markdown",
   "metadata": {},
   "source": [
    "### CREDIT CARD DEFAULT PREDICTION \n",
    "\n",
    "Objective – Predict the probability of a customer defaulting payment for the credit card the subsequent month, \n",
    "based on past information. The past information is provided in the dataset. \n",
    "This probability will help the collections team to prioritise follow up with customers who have a high propensity of defaulting.\n",
    "\n",
    "Input : Raw dataset from UCI (default_of_credit_card_clients.xls) - https://archive.ics.uci.edu/ml/datasets/default+of+credit+card+clients"
   ]
  },
  {
   "cell_type": "markdown",
   "metadata": {},
   "source": [
    "#### Attributes description\n",
    "\n",
    "    \n",
    "```\n",
    "This study uses 23 variables as explanatory variables, extracted/interpreted from :\n",
    "\n",
    "   ----------------------------------------------------------------------------------------\n",
    "   Feature Name         Feature Description        \n",
    "   -------------------- -------------------------------------------------------------------\n",
    "   limit_bal            Amount of the given credit (NT dollar): it includes both the individual \n",
    "                        consumer credit and his/her family (supplementary) credit.\n",
    "\n",
    "   sex                  Gender (1 = male; 2 = female)\n",
    "\n",
    "   education            Education (1 = graduate school; 2 = university; 3 = high school; 4 = others)\n",
    "\n",
    "   marriage             Marital status (1 = married; 2 = single; 3 = others)\n",
    "\n",
    "   age                  Age (in years)\n",
    "\n",
    "   pay_1 - pay_6        History of past payment. Past monthly payment records \n",
    "                        From April to September, 2005 as follows:                     \n",
    "                        pay_1 = the repayment status in September, 2005\n",
    "                        pay_2 = the repayment status in August, 2005\n",
    "                        ...\n",
    "                        pay_6 = the repayment status in April, 2005 \n",
    "\n",
    "                        The measurement scale for the repayment status is: \n",
    "                        -1 = pay duly; \n",
    "                        1 = payment delay for one month \n",
    "                        2 = payment delay for two months\n",
    "                        ...\n",
    "                        8 = payment delay for eight months \n",
    "                        9 = payment delay for nine months and above\n",
    "\n",
    "   bill_amt1-bill_amt5  Amount of bill statement (NT dollar). \n",
    "                        bill_amt1 = amount of bill statement in September, 2005 \n",
    "                        bill_amt2 = amount of bill statement in August, 2005\n",
    "                        ...\n",
    "                        bill_amt6= amount of bill statement in April, 2005 \n",
    "\n",
    "   pay_amt1-pay_amt6    Amount of previous payment (NT dollar)\n",
    "                        pay_amt1 = amount paid in September, 2005\n",
    "                        pay_amt2 = amount paid in August, 2005\n",
    "                        ...\n",
    "                        pay_amt6 = amount paid in April, 2005 \n",
    "   ----------------------------------------------------------------------------------------\n",
    "   ```"
   ]
  },
  {
   "cell_type": "markdown",
   "metadata": {
    "id": "wXNpD3rlDfaV"
   },
   "source": [
    "#### **Initializing Libraries**"
   ]
  },
  {
   "cell_type": "code",
   "execution_count": 1,
   "metadata": {
    "id": "dByMsuzT8Tnw"
   },
   "outputs": [],
   "source": [
    "#importing required libraries for data analysis\n",
    "import pandas as pd\n",
    "import numpy as np\n",
    "from numpy import math\n",
    "\n",
    "#importing libraries for data visualization\n",
    "import matplotlib.pyplot as plt\n",
    "%matplotlib inline\n",
    "import seaborn as sns\n",
    "\n",
    "import warnings\n",
    "warnings.filterwarnings('ignore')\n",
    "\n",
    "from sklearn.model_selection import train_test_split\n",
    "from statsmodels.stats.outliers_influence import variance_inflation_factor"
   ]
  },
  {
   "cell_type": "code",
   "execution_count": 2,
   "metadata": {
    "id": "z0lmidWDg58X"
   },
   "outputs": [
    {
     "name": "stdout",
     "output_type": "stream",
     "text": [
      "Index(['ID', 'LIMIT_BAL', 'SEX', 'EDUCATION', 'MARRIAGE', 'AGE', 'PAY_0',\n",
      "       'PAY_2', 'PAY_3', 'PAY_4', 'PAY_5', 'PAY_6', 'BILL_AMT1', 'BILL_AMT2',\n",
      "       'BILL_AMT3', 'BILL_AMT4', 'BILL_AMT5', 'BILL_AMT6', 'PAY_AMT1',\n",
      "       'PAY_AMT2', 'PAY_AMT3', 'PAY_AMT4', 'PAY_AMT5', 'PAY_AMT6',\n",
      "       'default payment next month'],\n",
      "      dtype='object')\n"
     ]
    },
    {
     "data": {
      "text/plain": [
       "(30000, 25)"
      ]
     },
     "execution_count": 2,
     "metadata": {},
     "output_type": "execute_result"
    }
   ],
   "source": [
    "#Importing the excel file as python dataframe\n",
    "\n",
    "data = pd.read_excel('default_of_credit_card_clients.xls',header=1)\n",
    "print(data.columns)\n",
    "data.shape"
   ]
  },
  {
   "cell_type": "code",
   "execution_count": 3,
   "metadata": {
    "scrolled": true
   },
   "outputs": [
    {
     "name": "stdout",
     "output_type": "stream",
     "text": [
      "30000 7500\n",
      "0    5847\n",
      "1    1653\n",
      "Name: default payment next month, dtype: int64\n"
     ]
    }
   ],
   "source": [
    "#Taking sample of full data (25% considering the run time of ML algorithms)\n",
    "df = data.sample(frac =.25)\n",
    "  \n",
    "# checking if sample is 0.25 times data or not\n",
    "if (0.25*(len(data))== len(df)):\n",
    "    print(len(data), len(df))\n",
    "\n",
    "#display dependent variable distribution\n",
    "print(df['default payment next month'].value_counts())"
   ]
  },
  {
   "cell_type": "markdown",
   "metadata": {
    "id": "0qLV3jn3D3to"
   },
   "source": [
    "### **Data Understanding**"
   ]
  },
  {
   "cell_type": "code",
   "execution_count": 4,
   "metadata": {
    "colab": {
     "base_uri": "https://localhost:8080/"
    },
    "id": "IKdDjHRRfCtN",
    "outputId": "f901319d-6878-4bcc-af3a-48e243926424"
   },
   "outputs": [
    {
     "name": "stdout",
     "output_type": "stream",
     "text": [
      "\n",
      " Shape of data: (7500, 25)\n",
      "\n",
      " Numerical features count:  25\n",
      "\n",
      " Categorical features count:  0\n",
      "\n",
      " No of unique records:  7500\n",
      "\n",
      " Missing/null values: ID                            0\n",
      "LIMIT_BAL                     0\n",
      "SEX                           0\n",
      "EDUCATION                     0\n",
      "MARRIAGE                      0\n",
      "AGE                           0\n",
      "PAY_0                         0\n",
      "PAY_2                         0\n",
      "PAY_3                         0\n",
      "PAY_4                         0\n",
      "PAY_5                         0\n",
      "PAY_6                         0\n",
      "BILL_AMT1                     0\n",
      "BILL_AMT2                     0\n",
      "BILL_AMT3                     0\n",
      "BILL_AMT4                     0\n",
      "BILL_AMT5                     0\n",
      "BILL_AMT6                     0\n",
      "PAY_AMT1                      0\n",
      "PAY_AMT2                      0\n",
      "PAY_AMT3                      0\n",
      "PAY_AMT4                      0\n",
      "PAY_AMT5                      0\n",
      "PAY_AMT6                      0\n",
      "default payment next month    0\n",
      "dtype: int64\n"
     ]
    }
   ],
   "source": [
    "print('\\n',\"Shape of data:\", df.shape)    #There are 30,000 observations and 25 columns\n",
    "\n",
    "print('\\n',\"Numerical features count: \", len(df.dtypes[df.dtypes != \"object\"].index))\n",
    "\n",
    "print('\\n',\"Categorical features count: \", len(df.dtypes[df.dtypes == \"object\"].index))\n",
    "\n",
    "print('\\n',\"No of unique records: \", df['ID'].nunique())    #No duplicate rows found\n",
    "\n",
    "print('\\n',\"Missing/null values:\", df.isnull().sum())       #There are no missing values"
   ]
  },
  {
   "cell_type": "markdown",
   "metadata": {
    "id": "YYPu91yHEAMi"
   },
   "source": [
    "### **Data Pre-processing & Transformation**"
   ]
  },
  {
   "cell_type": "code",
   "execution_count": 5,
   "metadata": {
    "id": "RyY9PUGKh3Ac"
   },
   "outputs": [],
   "source": [
    "#renaming of columns for simplicity and better understanding\n",
    "# df.rename(columns={'default payment next month' : 'IsDefaulter'}, inplace=True)\n",
    "# df.rename(columns={'PAY_0':'PAY_SEPT','PAY_2':'PAY_AUG','PAY_3':'PAY_JUL','PAY_4':'PAY_JUN','PAY_5':'PAY_MAY','PAY_6':'PAY_APR'},inplace=True)\n",
    "# df.rename(columns={'BILL_AMT1':'BILL_AMT_SEPT','BILL_AMT2':'BILL_AMT_AUG','BILL_AMT3':'BILL_AMT_JUL','BILL_AMT4':'BILL_AMT_JUN','BILL_AMT5':'BILL_AMT_MAY','BILL_AMT6':'BILL_AMT_APR'}, inplace = True)\n",
    "# df.rename(columns={'PAY_AMT1':'PAY_AMT_SEPT','PAY_AMT2':'PAY_AMT_AUG','PAY_AMT3':'PAY_AMT_JUL','PAY_AMT4':'PAY_AMT_JUN','PAY_AMT5':'PAY_AMT_MAY','PAY_AMT6':'PAY_AMT_APR'},inplace=True)"
   ]
  },
  {
   "cell_type": "code",
   "execution_count": 6,
   "metadata": {
    "id": "zhzpq0s8OhJ1"
   },
   "outputs": [],
   "source": [
    "# Dropping unnecessary feature(ID) which do not contribute significantly\n",
    "df = df.drop([\"ID\"],axis=1)\n",
    "\n",
    "#Renaming Pay_0 to Pay_1 to correct the numbering order of payment status\n",
    "df.rename(columns={'PAY_0':'PAY_1'}, inplace=True)\n",
    "\n",
    "#renaming of columns for simplicity and better understanding\n",
    "df.rename(columns={'default payment next month' : 'IsDefaulter'}, inplace=True)\n",
    "\n",
    "#Replacing all unknown class values as one category 'Others'\n",
    "\n",
    "df[\"EDUCATION\"]=df[\"EDUCATION\"].map({0:4,1:1,2:2,3:3,4:4,5:4,6:4})\n",
    "df[\"MARRIAGE\"]=df[\"MARRIAGE\"].map({0:3,1:1,2:2,3:3})"
   ]
  },
  {
   "cell_type": "markdown",
   "metadata": {},
   "source": [
    "#### **Label Encoding**"
   ]
  },
  {
   "cell_type": "code",
   "execution_count": 7,
   "metadata": {},
   "outputs": [],
   "source": [
    "#label encoding\n",
    "encoders_nums = {\"SEX\":{2:0,1:1}}\n",
    "\n",
    "df = df.replace(encoders_nums)"
   ]
  },
  {
   "cell_type": "markdown",
   "metadata": {
    "id": "ti0NGKWV1Zyt"
   },
   "source": [
    "#### **One Hot Encoding**"
   ]
  },
  {
   "cell_type": "code",
   "execution_count": 8,
   "metadata": {
    "id": "ZMJadhCi1eLX"
   },
   "outputs": [],
   "source": [
    "# Feature encoding - One Hot Encoding of Categorical variables\n",
    "\n",
    "def onehot_encode(df):\n",
    "    onehotlabels = pd.get_dummies(df, prefix=None, prefix_sep='_', dummy_na=False, \n",
    "#                                  columns=[\"EDUCATION\",\"MARRIAGE\",'PAY_SEP', 'PAY_AUG', 'PAY_JUL', 'PAY_JUN', 'PAY_MAY', 'PAY_APR'], sparse=False,drop_first=False, dtype=None)\n",
    "                                 columns=[\"EDUCATION\",\"MARRIAGE\",'PAY_1', 'PAY_2', 'PAY_3', 'PAY_4', 'PAY_5', 'PAY_6'], sparse=False,drop_first=False, dtype=None)\n",
    "\n",
    "    return onehotlabels\n",
    "\n",
    "df = onehot_encode(df)"
   ]
  },
  {
   "cell_type": "code",
   "execution_count": 9,
   "metadata": {
    "colab": {
     "base_uri": "https://localhost:8080/",
     "height": 287
    },
    "id": "eAQCzf_P1eIG",
    "outputId": "963feef5-e72d-424e-c961-bb427935315e"
   },
   "outputs": [
    {
     "data": {
      "text/html": [
       "<div>\n",
       "<style scoped>\n",
       "    .dataframe tbody tr th:only-of-type {\n",
       "        vertical-align: middle;\n",
       "    }\n",
       "\n",
       "    .dataframe tbody tr th {\n",
       "        vertical-align: top;\n",
       "    }\n",
       "\n",
       "    .dataframe thead th {\n",
       "        text-align: right;\n",
       "    }\n",
       "</style>\n",
       "<table border=\"1\" class=\"dataframe\">\n",
       "  <thead>\n",
       "    <tr style=\"text-align: right;\">\n",
       "      <th></th>\n",
       "      <th>LIMIT_BAL</th>\n",
       "      <th>SEX</th>\n",
       "      <th>AGE</th>\n",
       "      <th>BILL_AMT1</th>\n",
       "      <th>BILL_AMT2</th>\n",
       "      <th>BILL_AMT3</th>\n",
       "      <th>BILL_AMT4</th>\n",
       "      <th>BILL_AMT5</th>\n",
       "      <th>BILL_AMT6</th>\n",
       "      <th>PAY_AMT1</th>\n",
       "      <th>...</th>\n",
       "      <th>PAY_6_-2</th>\n",
       "      <th>PAY_6_-1</th>\n",
       "      <th>PAY_6_0</th>\n",
       "      <th>PAY_6_2</th>\n",
       "      <th>PAY_6_3</th>\n",
       "      <th>PAY_6_4</th>\n",
       "      <th>PAY_6_5</th>\n",
       "      <th>PAY_6_6</th>\n",
       "      <th>PAY_6_7</th>\n",
       "      <th>PAY_6_8</th>\n",
       "    </tr>\n",
       "  </thead>\n",
       "  <tbody>\n",
       "    <tr>\n",
       "      <th>10530</th>\n",
       "      <td>180000</td>\n",
       "      <td>0</td>\n",
       "      <td>36</td>\n",
       "      <td>787</td>\n",
       "      <td>398</td>\n",
       "      <td>0</td>\n",
       "      <td>0</td>\n",
       "      <td>0</td>\n",
       "      <td>0</td>\n",
       "      <td>398</td>\n",
       "      <td>...</td>\n",
       "      <td>1</td>\n",
       "      <td>0</td>\n",
       "      <td>0</td>\n",
       "      <td>0</td>\n",
       "      <td>0</td>\n",
       "      <td>0</td>\n",
       "      <td>0</td>\n",
       "      <td>0</td>\n",
       "      <td>0</td>\n",
       "      <td>0</td>\n",
       "    </tr>\n",
       "    <tr>\n",
       "      <th>11192</th>\n",
       "      <td>280000</td>\n",
       "      <td>1</td>\n",
       "      <td>45</td>\n",
       "      <td>170678</td>\n",
       "      <td>26031</td>\n",
       "      <td>191493</td>\n",
       "      <td>136249</td>\n",
       "      <td>111454</td>\n",
       "      <td>96425</td>\n",
       "      <td>7000</td>\n",
       "      <td>...</td>\n",
       "      <td>0</td>\n",
       "      <td>0</td>\n",
       "      <td>1</td>\n",
       "      <td>0</td>\n",
       "      <td>0</td>\n",
       "      <td>0</td>\n",
       "      <td>0</td>\n",
       "      <td>0</td>\n",
       "      <td>0</td>\n",
       "      <td>0</td>\n",
       "    </tr>\n",
       "    <tr>\n",
       "      <th>19915</th>\n",
       "      <td>500000</td>\n",
       "      <td>0</td>\n",
       "      <td>40</td>\n",
       "      <td>212961</td>\n",
       "      <td>264961</td>\n",
       "      <td>237006</td>\n",
       "      <td>139311</td>\n",
       "      <td>128095</td>\n",
       "      <td>181304</td>\n",
       "      <td>63000</td>\n",
       "      <td>...</td>\n",
       "      <td>0</td>\n",
       "      <td>0</td>\n",
       "      <td>1</td>\n",
       "      <td>0</td>\n",
       "      <td>0</td>\n",
       "      <td>0</td>\n",
       "      <td>0</td>\n",
       "      <td>0</td>\n",
       "      <td>0</td>\n",
       "      <td>0</td>\n",
       "    </tr>\n",
       "    <tr>\n",
       "      <th>13759</th>\n",
       "      <td>150000</td>\n",
       "      <td>0</td>\n",
       "      <td>27</td>\n",
       "      <td>573</td>\n",
       "      <td>0</td>\n",
       "      <td>220</td>\n",
       "      <td>693</td>\n",
       "      <td>0</td>\n",
       "      <td>0</td>\n",
       "      <td>0</td>\n",
       "      <td>...</td>\n",
       "      <td>1</td>\n",
       "      <td>0</td>\n",
       "      <td>0</td>\n",
       "      <td>0</td>\n",
       "      <td>0</td>\n",
       "      <td>0</td>\n",
       "      <td>0</td>\n",
       "      <td>0</td>\n",
       "      <td>0</td>\n",
       "      <td>0</td>\n",
       "    </tr>\n",
       "    <tr>\n",
       "      <th>10442</th>\n",
       "      <td>260000</td>\n",
       "      <td>1</td>\n",
       "      <td>37</td>\n",
       "      <td>36664</td>\n",
       "      <td>22228</td>\n",
       "      <td>39330</td>\n",
       "      <td>39880</td>\n",
       "      <td>78787</td>\n",
       "      <td>52790</td>\n",
       "      <td>1690</td>\n",
       "      <td>...</td>\n",
       "      <td>0</td>\n",
       "      <td>0</td>\n",
       "      <td>1</td>\n",
       "      <td>0</td>\n",
       "      <td>0</td>\n",
       "      <td>0</td>\n",
       "      <td>0</td>\n",
       "      <td>0</td>\n",
       "      <td>0</td>\n",
       "      <td>0</td>\n",
       "    </tr>\n",
       "  </tbody>\n",
       "</table>\n",
       "<p>5 rows × 87 columns</p>\n",
       "</div>"
      ],
      "text/plain": [
       "       LIMIT_BAL  SEX  AGE  BILL_AMT1  BILL_AMT2  BILL_AMT3  BILL_AMT4  \\\n",
       "10530     180000    0   36        787        398          0          0   \n",
       "11192     280000    1   45     170678      26031     191493     136249   \n",
       "19915     500000    0   40     212961     264961     237006     139311   \n",
       "13759     150000    0   27        573          0        220        693   \n",
       "10442     260000    1   37      36664      22228      39330      39880   \n",
       "\n",
       "       BILL_AMT5  BILL_AMT6  PAY_AMT1  ...  PAY_6_-2  PAY_6_-1  PAY_6_0  \\\n",
       "10530          0          0       398  ...         1         0        0   \n",
       "11192     111454      96425      7000  ...         0         0        1   \n",
       "19915     128095     181304     63000  ...         0         0        1   \n",
       "13759          0          0         0  ...         1         0        0   \n",
       "10442      78787      52790      1690  ...         0         0        1   \n",
       "\n",
       "       PAY_6_2  PAY_6_3  PAY_6_4  PAY_6_5  PAY_6_6  PAY_6_7  PAY_6_8  \n",
       "10530        0        0        0        0        0        0        0  \n",
       "11192        0        0        0        0        0        0        0  \n",
       "19915        0        0        0        0        0        0        0  \n",
       "13759        0        0        0        0        0        0        0  \n",
       "10442        0        0        0        0        0        0        0  \n",
       "\n",
       "[5 rows x 87 columns]"
      ]
     },
     "execution_count": 9,
     "metadata": {},
     "output_type": "execute_result"
    }
   ],
   "source": [
    "#check for all the created variables \n",
    "df.head()"
   ]
  },
  {
   "cell_type": "code",
   "execution_count": 10,
   "metadata": {
    "colab": {
     "base_uri": "https://localhost:8080/"
    },
    "id": "-Utbo8kT3Vsp",
    "outputId": "2290587c-d524-4163-8608-58101b1b1806"
   },
   "outputs": [
    {
     "data": {
      "text/plain": [
       "(7500, 87)"
      ]
     },
     "execution_count": 10,
     "metadata": {},
     "output_type": "execute_result"
    }
   ],
   "source": [
    "#shape of dataset after creating dummy variables\n",
    "df.shape"
   ]
  },
  {
   "cell_type": "code",
   "execution_count": 11,
   "metadata": {
    "id": "L5CklzbDKWY1"
   },
   "outputs": [],
   "source": [
    "#seperating dependant and independant variabale\n",
    "\n",
    "X = df[(list(i for i in list(df.describe(include='all').columns) if i != 'IsDefaulter'))]\n",
    "y = df['IsDefaulter']"
   ]
  },
  {
   "cell_type": "code",
   "execution_count": 12,
   "metadata": {
    "colab": {
     "base_uri": "https://localhost:8080/"
    },
    "id": "gsnTVQxcZkxw",
    "outputId": "705db561-7d5d-4abd-d8af-d802ce73b3ca"
   },
   "outputs": [
    {
     "data": {
      "text/plain": [
       "(7500, 86)"
      ]
     },
     "execution_count": 12,
     "metadata": {},
     "output_type": "execute_result"
    }
   ],
   "source": [
    "X.shape"
   ]
  },
  {
   "cell_type": "code",
   "execution_count": 13,
   "metadata": {
    "colab": {
     "base_uri": "https://localhost:8080/"
    },
    "id": "q3hVTUPRZqDr",
    "outputId": "425f5885-8891-4517-af29-48fb4f63bc1a"
   },
   "outputs": [
    {
     "data": {
      "text/plain": [
       "(7500,)"
      ]
     },
     "execution_count": 13,
     "metadata": {},
     "output_type": "execute_result"
    }
   ],
   "source": [
    "y.shape"
   ]
  },
  {
   "cell_type": "markdown",
   "metadata": {
    "id": "X6TPjMFwJrSy"
   },
   "source": [
    "### Train Test Split"
   ]
  },
  {
   "cell_type": "code",
   "execution_count": 15,
   "metadata": {
    "id": "slPDQi1MJq6W"
   },
   "outputs": [
    {
     "name": "stdout",
     "output_type": "stream",
     "text": [
      "(5250, 86) (5250,) (2250, 86) (2250,)\n"
     ]
    }
   ],
   "source": [
    "#importing libraries for splitting data into training and testing dataset\n",
    "\n",
    "x_train, x_test, y_train, y_test = train_test_split(X, y, test_size=0.3,random_state=0)\n",
    "\n",
    "print(x_train.shape,y_train.shape,x_test.shape,y_test.shape)"
   ]
  },
  {
   "cell_type": "markdown",
   "metadata": {
    "id": "Af-tK5qMryNA"
   },
   "source": [
    "#### Feature Scaling"
   ]
  },
  {
   "cell_type": "code",
   "execution_count": 16,
   "metadata": {},
   "outputs": [],
   "source": [
    "# #importing libraries for data transformation\n",
    "from sklearn.preprocessing import StandardScaler\n",
    "\n",
    "sc = StandardScaler()\n",
    "x_train = sc.fit_transform(x_train)\n",
    "x_test = sc.transform (x_test)"
   ]
  },
  {
   "cell_type": "code",
   "execution_count": 19,
   "metadata": {},
   "outputs": [
    {
     "name": "stdout",
     "output_type": "stream",
     "text": [
      "(5250, 86) (5250,) (2250, 86) (2250,)\n"
     ]
    }
   ],
   "source": [
    "#Final Datasets\n",
    "\n",
    "print(x_train.shape,y_train.shape,x_test.shape,y_test.shape)\n",
    "\n",
    "# Saving final processed files in csv format for future reference\n",
    "\n",
    "pd.DataFrame(x_train).to_csv(\"x_train.csv\", index=None)\n",
    "pd.DataFrame(x_test).to_csv(\"x_test.csv\", index=None)\n",
    "\n",
    "pd.DataFrame(y_train).to_csv(\"y_train.csv\", index=None)\n",
    "pd.DataFrame(y_test).to_csv(\"y_test.csv\", index=None)"
   ]
  },
  {
   "cell_type": "markdown",
   "metadata": {},
   "source": [
    "#### The Final datasets (Train & Test) are used in Part2 and Part3 - Machine learning modeling, Evaluation & Hyperparameter tuning"
   ]
  }
 ],
 "metadata": {
  "colab": {
   "collapsed_sections": [],
   "include_colab_link": true,
   "name": "Credit Card Default Prediction - Amol.ipynb",
   "provenance": []
  },
  "kernelspec": {
   "display_name": "Python 3 (ipykernel)",
   "language": "python",
   "name": "python3"
  },
  "language_info": {
   "codemirror_mode": {
    "name": "ipython",
    "version": 3
   },
   "file_extension": ".py",
   "mimetype": "text/x-python",
   "name": "python",
   "nbconvert_exporter": "python",
   "pygments_lexer": "ipython3",
   "version": "3.9.7"
  }
 },
 "nbformat": 4,
 "nbformat_minor": 1
}
