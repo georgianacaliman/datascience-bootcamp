{
 "cells": [
  {
   "cell_type": "markdown",
   "id": "7e409404",
   "metadata": {},
   "source": [
    "#                                                  Day 2 - Part_1 LAB\n",
    "\n",
    "###  REGRESSION MACHINE LEARNING - Ensemble Model Implementation"
   ]
  },
  {
   "cell_type": "code",
   "execution_count": null,
   "id": "dbba42f6",
   "metadata": {},
   "outputs": [],
   "source": [
    "#importing required libraries for data analysis\n",
    "import pandas as pd\n",
    "import numpy as np\n",
    "import time\n",
    "\n",
    "\n",
    "#Import Ensemble models\n",
    "from sklearn.ensemble import RandomForestRegressor,GradientBoostingRegressor, AdaBoostRegressor, BaggingRegressor\n",
    "from xgboost import XGBRegressor\n",
    "\n",
    "# Import evaluation metrics\n",
    "from sklearn.metrics import mean_absolute_error, mean_squared_error, mean_squared_log_error, r2_score\n",
    "\n",
    "#Visuals\n",
    "import matplotlib.pyplot as plt"
   ]
  },
  {
   "cell_type": "code",
   "execution_count": null,
   "id": "6a644c77",
   "metadata": {},
   "outputs": [],
   "source": [
    "# Read the training & test datasets from Part1-Preprocessing part\n",
    "\n",
    "X_train=pd.read_csv(\"./regression_dataset/X_train.csv\", index_col=0)\n",
    "y_train=pd.read_csv(\"./regression_dataset/y_train.csv\", index_col=0)\n",
    "                    \n",
    "X_test=pd.read_csv(\"./regression_dataset/X_test.csv\", index_col=0)\n",
    "y_test=pd.read_csv(\"./regression_dataset/y_test.csv\", index_col=0)\n",
    "\n",
    "print(X_train.shape,X_test.shape,y_train.shape,y_test.shape)"
   ]
  },
  {
   "cell_type": "markdown",
   "id": "e309c694",
   "metadata": {},
   "source": [
    "### **Random Forest Regression Model**"
   ]
  },
  {
   "cell_type": "code",
   "execution_count": null,
   "id": "ad4b820c",
   "metadata": {},
   "outputs": [],
   "source": [
    "# Importing the Random Forest Regressor\n",
    "rfr= RandomForestRegressor()\n",
    "start = time.time()\n",
    "print(start)\n",
    "#Fitting data into Random Forest Regressor\n",
    "rfr.fit(X_train, y_train)\n",
    "stop = time.time()\n",
    "print(stop)\n",
    "#print(\"dif\",stop-start)\n",
    "# predicting the y test observations\n",
    "y_pred = rfr.predict(X_test)\n",
    "y_train_pred = rfr.predict(X_train)"
   ]
  },
  {
   "cell_type": "markdown",
   "id": "57107c97",
   "metadata": {},
   "source": [
    "#### **Feature Importance**"
   ]
  },
  {
   "cell_type": "code",
   "execution_count": null,
   "id": "4a8e9924",
   "metadata": {},
   "outputs": [],
   "source": [
    "#Feature Importance\n",
    "sort = rfr.feature_importances_.argsort()\n",
    "plt.figure(figsize=(8,4))\n",
    "plt.barh(X_train.columns[sort[-15:]], rfr.feature_importances_[sort[-15:]])\n",
    "plt.title('Feature Importance', size=15)\n",
    "#plt.xlabel(\"Feature Importance\")"
   ]
  },
  {
   "cell_type": "code",
   "execution_count": null,
   "id": "654ebe6e",
   "metadata": {},
   "outputs": [],
   "source": [
    "# Test vs Prediction\n",
    "plt.figure(figsize=(6,6))\n",
    "plt.scatter(y_test,y_pred)"
   ]
  },
  {
   "cell_type": "markdown",
   "id": "86dfa4e8",
   "metadata": {},
   "source": [
    "#### **Model Evaluation**"
   ]
  },
  {
   "cell_type": "code",
   "execution_count": null,
   "id": "c3e0ebcf",
   "metadata": {},
   "outputs": [],
   "source": [
    "#Model Evaluation\n",
    "rfr_trscore = round(rfr.score(X_train, y_train),3)\n",
    "rfr_tescore = round(rfr.score(X_test, y_test),3)\n",
    "rfr_r2= round(r2_score(y_test,y_pred),3)\n",
    "rfr_adj= round(1 - (1-rfr_r2)*(len(y_test)-1)/(len(y_test)-len(X_test.columns)-1),3)\n",
    "rfr_mae= round(mean_absolute_error(y_test,y_pred),3)                      \n",
    "rfr_mse= round(mean_squared_error(y_test,y_pred),3)\n",
    "rfr_rmse= round(np.sqrt(mean_squared_error(y_test,y_pred)),3)\n",
    "rfr_feat = dict(zip(X_train.columns[sort[::-1][:3]], np.round(rfr.feature_importances_[sort[::-1][:3]],3)))\n",
    "#Training time of the model\n",
    "rfr_time=stop-start\n",
    "\n",
    "results = pd.DataFrame([['Random Forest', rfr_trscore, rfr_tescore, rfr_adj, rfr_mae, rfr_mse, rfr_rmse, rfr_time, rfr_feat]],\n",
    "               columns = ['Model', 'Train Score', 'Test Score/R-Square','Adjusted R^2', 'MAE', 'MSE', 'RMSE', \"Training Time(s)\",\"Important Features\"])\n",
    "results"
   ]
  },
  {
   "cell_type": "markdown",
   "id": "61923ff8",
   "metadata": {},
   "source": [
    "### Task 1 -  **Build a Boosting model, Evaluate the predictions & Compare the results**"
   ]
  },
  {
   "cell_type": "code",
   "execution_count": null,
   "id": "76c84330",
   "metadata": {},
   "outputs": [],
   "source": [
    "# Import the Model from sklearn\n",
    "\n",
    "\n"
   ]
  },
  {
   "cell_type": "code",
   "execution_count": null,
   "id": "5dead392",
   "metadata": {},
   "outputs": [],
   "source": [
    "# Fit the Model & Predict  - X_train, y_train, X_test, y_test\n",
    "\n",
    "\n",
    "\n"
   ]
  },
  {
   "cell_type": "code",
   "execution_count": null,
   "id": "6779cff6",
   "metadata": {},
   "outputs": [],
   "source": [
    "# Visualize Important Features\n",
    "\n",
    "\n",
    "\n",
    "\n"
   ]
  },
  {
   "cell_type": "code",
   "execution_count": null,
   "id": "f56d49fc",
   "metadata": {},
   "outputs": [],
   "source": [
    "# Evaluation of model predictions\n",
    "\n",
    "\n"
   ]
  },
  {
   "cell_type": "markdown",
   "id": "a3c3399b",
   "metadata": {},
   "source": [
    "### Task 2 -  **Build a Bagging model, Evaluate the predictions & Compare the results**"
   ]
  },
  {
   "cell_type": "code",
   "execution_count": null,
   "id": "8a41356e",
   "metadata": {},
   "outputs": [],
   "source": [
    "# Import the Model from sklearn\n",
    "\n",
    "\n"
   ]
  },
  {
   "cell_type": "code",
   "execution_count": null,
   "id": "abbe12dc",
   "metadata": {},
   "outputs": [],
   "source": [
    "# Fit the Model & Predict  - X_train, y_train, X_test, y_test\n",
    "\n",
    "\n",
    "\n"
   ]
  },
  {
   "cell_type": "code",
   "execution_count": null,
   "id": "3f71db1e",
   "metadata": {},
   "outputs": [],
   "source": [
    "# Visualize Important Features\n",
    "\n",
    "\n",
    "\n",
    "\n"
   ]
  },
  {
   "cell_type": "code",
   "execution_count": null,
   "id": "67a0a048",
   "metadata": {},
   "outputs": [],
   "source": [
    "# Evaluation of model predictions\n",
    "\n",
    "\n"
   ]
  }
 ],
 "metadata": {
  "kernelspec": {
   "display_name": "Python 3 (ipykernel)",
   "language": "python",
   "name": "python3"
  },
  "language_info": {
   "codemirror_mode": {
    "name": "ipython",
    "version": 3
   },
   "file_extension": ".py",
   "mimetype": "text/x-python",
   "name": "python",
   "nbconvert_exporter": "python",
   "pygments_lexer": "ipython3",
   "version": "3.9.7"
  }
 },
 "nbformat": 4,
 "nbformat_minor": 5
}
