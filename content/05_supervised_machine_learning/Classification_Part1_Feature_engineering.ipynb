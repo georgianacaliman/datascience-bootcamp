{
 "cells": [
  {
   "cell_type": "markdown",
   "metadata": {},
   "source": [
    "In this notebook, we perform the perprocessing of the dataset \"data-science-bootcamp/content/datasets/classification/raw/data_50.csv\". The output of this notebook will be written in the folder \"data-science-bootcamp/content/datasets/classification/processed\" as four separated csv files: X_train.csv, X_test.csv, y_train.csv, y_test.csv. (These files will be used as input for the ML algorithms which are discussed in the next sessions of the bootcamp).\n",
    "\n",
    "0. Eploratory Data Analysis (EDA)\n",
    "1. Missing Value Imputation\n",
    "2. Temporal variables\n",
    "3. Categorical encoding\n",
    "3.1. Label/Ordinal Encoding \\\n",
    "3.2. Count or frequency Encoding \\ \n",
    "3.3. One Hot Encoding \\\n",
    "4. Handling Outliers\n",
    "4.1. Identifying the outliers \\\n",
    "4.2. Outlier trimming \\\n",
    "4.3. Outlier Capping\\\n",
    "5. Feature Scaling\n",
    "5.2. Standardization \\\n",
    "5.2. Min-Max Scaling\\\n",
    "\n",
    "\n",
    "\n"
   ]
  },
  {
   "cell_type": "markdown",
   "metadata": {},
   "source": [
    "# 0. Exploratory Data Analysis (EDA)"
   ]
  },
  {
   "cell_type": "code",
   "execution_count": 1,
   "metadata": {},
   "outputs": [],
   "source": [
    "#importing the necessary libraries\n",
    "import pandas as pd\n",
    "import numpy as np\n",
    "import matplotlib.pyplot as plt\n",
    "import seaborn as sns \n",
    "pd.set_option('display.max_columns', None) \n",
    "import warnings\n",
    "warnings.filterwarnings('ignore')"
   ]
  },
  {
   "cell_type": "markdown",
   "metadata": {},
   "source": [
    "### 0.1 Loading the data into a dataframe"
   ]
  },
  {
   "cell_type": "code",
   "execution_count": 2,
   "metadata": {},
   "outputs": [],
   "source": [
    "# loading the \"data_25.csv\" into a dataframe called \"df\"\n",
    "df= pd.read_csv('data_25_missing.csv', sep= \";\", encoding= \"utf-8\")"
   ]
  },
  {
   "cell_type": "code",
   "execution_count": 3,
   "metadata": {},
   "outputs": [
    {
     "data": {
      "text/html": [
       "<div>\n",
       "<style scoped>\n",
       "    .dataframe tbody tr th:only-of-type {\n",
       "        vertical-align: middle;\n",
       "    }\n",
       "\n",
       "    .dataframe tbody tr th {\n",
       "        vertical-align: top;\n",
       "    }\n",
       "\n",
       "    .dataframe thead th {\n",
       "        text-align: right;\n",
       "    }\n",
       "</style>\n",
       "<table border=\"1\" class=\"dataframe\">\n",
       "  <thead>\n",
       "    <tr style=\"text-align: right;\">\n",
       "      <th></th>\n",
       "      <th>ID</th>\n",
       "      <th>LIMIT_BAL</th>\n",
       "      <th>SEX</th>\n",
       "      <th>EDUCATION</th>\n",
       "      <th>MARRIAGE</th>\n",
       "      <th>AGE</th>\n",
       "      <th>PAY_0</th>\n",
       "      <th>PAY_2</th>\n",
       "      <th>PAY_3</th>\n",
       "      <th>PAY_4</th>\n",
       "      <th>PAY_5</th>\n",
       "      <th>PAY_6</th>\n",
       "      <th>BILL_AMT1</th>\n",
       "      <th>BILL_AMT2</th>\n",
       "      <th>BILL_AMT3</th>\n",
       "      <th>BILL_AMT4</th>\n",
       "      <th>BILL_AMT5</th>\n",
       "      <th>BILL_AMT6</th>\n",
       "      <th>PAY_AMT1</th>\n",
       "      <th>PAY_AMT2</th>\n",
       "      <th>PAY_AMT3</th>\n",
       "      <th>PAY_AMT4</th>\n",
       "      <th>PAY_AMT5</th>\n",
       "      <th>PAY_AMT6</th>\n",
       "      <th>default payment next month</th>\n",
       "    </tr>\n",
       "  </thead>\n",
       "  <tbody>\n",
       "    <tr>\n",
       "      <th>0</th>\n",
       "      <td>1</td>\n",
       "      <td>20000</td>\n",
       "      <td>female</td>\n",
       "      <td>university</td>\n",
       "      <td>married</td>\n",
       "      <td>24.0</td>\n",
       "      <td>2</td>\n",
       "      <td>2</td>\n",
       "      <td>-1</td>\n",
       "      <td>-1</td>\n",
       "      <td>-2</td>\n",
       "      <td>-2</td>\n",
       "      <td>3913</td>\n",
       "      <td>3102</td>\n",
       "      <td>689</td>\n",
       "      <td>0</td>\n",
       "      <td>0</td>\n",
       "      <td>0</td>\n",
       "      <td>0</td>\n",
       "      <td>689</td>\n",
       "      <td>0</td>\n",
       "      <td>0</td>\n",
       "      <td>0</td>\n",
       "      <td>0</td>\n",
       "      <td>1</td>\n",
       "    </tr>\n",
       "    <tr>\n",
       "      <th>1</th>\n",
       "      <td>2</td>\n",
       "      <td>120000</td>\n",
       "      <td>female</td>\n",
       "      <td>university</td>\n",
       "      <td>single</td>\n",
       "      <td>26.0</td>\n",
       "      <td>-1</td>\n",
       "      <td>2</td>\n",
       "      <td>0</td>\n",
       "      <td>0</td>\n",
       "      <td>0</td>\n",
       "      <td>2</td>\n",
       "      <td>2682</td>\n",
       "      <td>1725</td>\n",
       "      <td>2682</td>\n",
       "      <td>3272</td>\n",
       "      <td>3455</td>\n",
       "      <td>3261</td>\n",
       "      <td>0</td>\n",
       "      <td>1000</td>\n",
       "      <td>1000</td>\n",
       "      <td>1000</td>\n",
       "      <td>0</td>\n",
       "      <td>2000</td>\n",
       "      <td>1</td>\n",
       "    </tr>\n",
       "    <tr>\n",
       "      <th>2</th>\n",
       "      <td>3</td>\n",
       "      <td>90000</td>\n",
       "      <td>female</td>\n",
       "      <td>university</td>\n",
       "      <td>single</td>\n",
       "      <td>34.0</td>\n",
       "      <td>0</td>\n",
       "      <td>0</td>\n",
       "      <td>0</td>\n",
       "      <td>0</td>\n",
       "      <td>0</td>\n",
       "      <td>0</td>\n",
       "      <td>29239</td>\n",
       "      <td>14027</td>\n",
       "      <td>13559</td>\n",
       "      <td>14331</td>\n",
       "      <td>14948</td>\n",
       "      <td>15549</td>\n",
       "      <td>1518</td>\n",
       "      <td>1500</td>\n",
       "      <td>1000</td>\n",
       "      <td>1000</td>\n",
       "      <td>1000</td>\n",
       "      <td>5000</td>\n",
       "      <td>0</td>\n",
       "    </tr>\n",
       "    <tr>\n",
       "      <th>3</th>\n",
       "      <td>4</td>\n",
       "      <td>50000</td>\n",
       "      <td>female</td>\n",
       "      <td>university</td>\n",
       "      <td>married</td>\n",
       "      <td>37.0</td>\n",
       "      <td>0</td>\n",
       "      <td>0</td>\n",
       "      <td>0</td>\n",
       "      <td>0</td>\n",
       "      <td>0</td>\n",
       "      <td>0</td>\n",
       "      <td>46990</td>\n",
       "      <td>48233</td>\n",
       "      <td>49291</td>\n",
       "      <td>28314</td>\n",
       "      <td>28959</td>\n",
       "      <td>29547</td>\n",
       "      <td>2000</td>\n",
       "      <td>2019</td>\n",
       "      <td>1200</td>\n",
       "      <td>1100</td>\n",
       "      <td>1069</td>\n",
       "      <td>1000</td>\n",
       "      <td>0</td>\n",
       "    </tr>\n",
       "    <tr>\n",
       "      <th>4</th>\n",
       "      <td>5</td>\n",
       "      <td>50000</td>\n",
       "      <td>male</td>\n",
       "      <td>university</td>\n",
       "      <td>married</td>\n",
       "      <td>57.0</td>\n",
       "      <td>-1</td>\n",
       "      <td>0</td>\n",
       "      <td>-1</td>\n",
       "      <td>0</td>\n",
       "      <td>0</td>\n",
       "      <td>0</td>\n",
       "      <td>8617</td>\n",
       "      <td>5670</td>\n",
       "      <td>35835</td>\n",
       "      <td>20940</td>\n",
       "      <td>19146</td>\n",
       "      <td>19131</td>\n",
       "      <td>2000</td>\n",
       "      <td>36681</td>\n",
       "      <td>10000</td>\n",
       "      <td>9000</td>\n",
       "      <td>689</td>\n",
       "      <td>679</td>\n",
       "      <td>0</td>\n",
       "    </tr>\n",
       "  </tbody>\n",
       "</table>\n",
       "</div>"
      ],
      "text/plain": [
       "   ID  LIMIT_BAL     SEX   EDUCATION MARRIAGE   AGE  PAY_0  PAY_2  PAY_3  \\\n",
       "0   1      20000  female  university  married  24.0      2      2     -1   \n",
       "1   2     120000  female  university   single  26.0     -1      2      0   \n",
       "2   3      90000  female  university   single  34.0      0      0      0   \n",
       "3   4      50000  female  university  married  37.0      0      0      0   \n",
       "4   5      50000    male  university  married  57.0     -1      0     -1   \n",
       "\n",
       "   PAY_4  PAY_5  PAY_6  BILL_AMT1  BILL_AMT2  BILL_AMT3  BILL_AMT4  BILL_AMT5  \\\n",
       "0     -1     -2     -2       3913       3102        689          0          0   \n",
       "1      0      0      2       2682       1725       2682       3272       3455   \n",
       "2      0      0      0      29239      14027      13559      14331      14948   \n",
       "3      0      0      0      46990      48233      49291      28314      28959   \n",
       "4      0      0      0       8617       5670      35835      20940      19146   \n",
       "\n",
       "   BILL_AMT6  PAY_AMT1  PAY_AMT2  PAY_AMT3  PAY_AMT4  PAY_AMT5  PAY_AMT6  \\\n",
       "0          0         0       689         0         0         0         0   \n",
       "1       3261         0      1000      1000      1000         0      2000   \n",
       "2      15549      1518      1500      1000      1000      1000      5000   \n",
       "3      29547      2000      2019      1200      1100      1069      1000   \n",
       "4      19131      2000     36681     10000      9000       689       679   \n",
       "\n",
       "   default payment next month  \n",
       "0                           1  \n",
       "1                           1  \n",
       "2                           0  \n",
       "3                           0  \n",
       "4                           0  "
      ]
     },
     "execution_count": 3,
     "metadata": {},
     "output_type": "execute_result"
    }
   ],
   "source": [
    "df.head()"
   ]
  },
  {
   "cell_type": "code",
   "execution_count": 4,
   "metadata": {},
   "outputs": [],
   "source": [
    "# drop the first column (\"ID\")\n",
    "df.drop(columns=[\"ID\"], axis=1, inplace= True)"
   ]
  },
  {
   "cell_type": "code",
   "execution_count": 5,
   "metadata": {},
   "outputs": [
    {
     "data": {
      "text/plain": [
       "(30000, 24)"
      ]
     },
     "execution_count": 5,
     "metadata": {},
     "output_type": "execute_result"
    }
   ],
   "source": [
    "# check the shape of the dataframe as a 2-dimensional data object (#rows, #columns)\n",
    "df.shape"
   ]
  },
  {
   "cell_type": "markdown",
   "metadata": {},
   "source": [
    "The dataset contains 30000 records (rows) and 24 columns (features + target):\n",
    "\n",
    "The target column (y) is called \"default payment next month\".\n",
    "The rest 23 columns (X) are our feature vectors."
   ]
  },
  {
   "cell_type": "code",
   "execution_count": 6,
   "metadata": {},
   "outputs": [
    {
     "data": {
      "text/plain": [
       "0    23364\n",
       "1     6636\n",
       "Name: default payment next month, dtype: int64"
      ]
     },
     "execution_count": 6,
     "metadata": {},
     "output_type": "execute_result"
    }
   ],
   "source": [
    "df['default payment next month'].value_counts()"
   ]
  },
  {
   "cell_type": "code",
   "execution_count": 7,
   "metadata": {},
   "outputs": [
    {
     "data": {
      "image/png": "[encoded data removed]",
      "text/plain": [
       "<Figure size 432x288 with 1 Axes>"
      ]
     },
     "metadata": {
      "needs_background": "light"
     },
     "output_type": "display_data"
    }
   ],
   "source": [
    "df['default payment next month'].value_counts().plot(kind=\"bar\")\n",
    "plt.ylabel(\"Number of Records\")\n",
    "plt.xlabel(\"default payment next month (target variable)\")\n",
    "plt.show()"
   ]
  },
  {
   "cell_type": "markdown",
   "metadata": {},
   "source": [
    "The class distribution is imbalanced!"
   ]
  },
  {
   "cell_type": "code",
   "execution_count": 8,
   "metadata": {},
   "outputs": [],
   "source": [
    "class_0 = df['default payment next month'].value_counts().to_list()[0]\n",
    "class_1 = df['default payment next month'].value_counts().to_list()[1]"
   ]
  },
  {
   "cell_type": "code",
   "execution_count": 9,
   "metadata": {},
   "outputs": [
    {
     "name": "stdout",
     "output_type": "stream",
     "text": [
      "Imbalance ratio = 0.2840267077555213\n"
     ]
    }
   ],
   "source": [
    "print(\"Imbalance ratio =\", class_1/class_0)"
   ]
  },
  {
   "cell_type": "code",
   "execution_count": 10,
   "metadata": {},
   "outputs": [
    {
     "data": {
      "text/html": [
       "<div>\n",
       "<style scoped>\n",
       "    .dataframe tbody tr th:only-of-type {\n",
       "        vertical-align: middle;\n",
       "    }\n",
       "\n",
       "    .dataframe tbody tr th {\n",
       "        vertical-align: top;\n",
       "    }\n",
       "\n",
       "    .dataframe thead th {\n",
       "        text-align: right;\n",
       "    }\n",
       "</style>\n",
       "<table border=\"1\" class=\"dataframe\">\n",
       "  <thead>\n",
       "    <tr style=\"text-align: right;\">\n",
       "      <th></th>\n",
       "      <th>0</th>\n",
       "    </tr>\n",
       "  </thead>\n",
       "  <tbody>\n",
       "    <tr>\n",
       "      <th>LIMIT_BAL</th>\n",
       "      <td>int64</td>\n",
       "    </tr>\n",
       "    <tr>\n",
       "      <th>SEX</th>\n",
       "      <td>object</td>\n",
       "    </tr>\n",
       "    <tr>\n",
       "      <th>EDUCATION</th>\n",
       "      <td>object</td>\n",
       "    </tr>\n",
       "    <tr>\n",
       "      <th>MARRIAGE</th>\n",
       "      <td>object</td>\n",
       "    </tr>\n",
       "    <tr>\n",
       "      <th>AGE</th>\n",
       "      <td>float64</td>\n",
       "    </tr>\n",
       "    <tr>\n",
       "      <th>PAY_0</th>\n",
       "      <td>int64</td>\n",
       "    </tr>\n",
       "    <tr>\n",
       "      <th>PAY_2</th>\n",
       "      <td>int64</td>\n",
       "    </tr>\n",
       "    <tr>\n",
       "      <th>PAY_3</th>\n",
       "      <td>int64</td>\n",
       "    </tr>\n",
       "    <tr>\n",
       "      <th>PAY_4</th>\n",
       "      <td>int64</td>\n",
       "    </tr>\n",
       "    <tr>\n",
       "      <th>PAY_5</th>\n",
       "      <td>int64</td>\n",
       "    </tr>\n",
       "    <tr>\n",
       "      <th>PAY_6</th>\n",
       "      <td>int64</td>\n",
       "    </tr>\n",
       "    <tr>\n",
       "      <th>BILL_AMT1</th>\n",
       "      <td>int64</td>\n",
       "    </tr>\n",
       "    <tr>\n",
       "      <th>BILL_AMT2</th>\n",
       "      <td>int64</td>\n",
       "    </tr>\n",
       "    <tr>\n",
       "      <th>BILL_AMT3</th>\n",
       "      <td>int64</td>\n",
       "    </tr>\n",
       "    <tr>\n",
       "      <th>BILL_AMT4</th>\n",
       "      <td>int64</td>\n",
       "    </tr>\n",
       "    <tr>\n",
       "      <th>BILL_AMT5</th>\n",
       "      <td>int64</td>\n",
       "    </tr>\n",
       "    <tr>\n",
       "      <th>BILL_AMT6</th>\n",
       "      <td>int64</td>\n",
       "    </tr>\n",
       "    <tr>\n",
       "      <th>PAY_AMT1</th>\n",
       "      <td>int64</td>\n",
       "    </tr>\n",
       "    <tr>\n",
       "      <th>PAY_AMT2</th>\n",
       "      <td>int64</td>\n",
       "    </tr>\n",
       "    <tr>\n",
       "      <th>PAY_AMT3</th>\n",
       "      <td>int64</td>\n",
       "    </tr>\n",
       "    <tr>\n",
       "      <th>PAY_AMT4</th>\n",
       "      <td>int64</td>\n",
       "    </tr>\n",
       "    <tr>\n",
       "      <th>PAY_AMT5</th>\n",
       "      <td>int64</td>\n",
       "    </tr>\n",
       "    <tr>\n",
       "      <th>PAY_AMT6</th>\n",
       "      <td>int64</td>\n",
       "    </tr>\n",
       "    <tr>\n",
       "      <th>default payment next month</th>\n",
       "      <td>int64</td>\n",
       "    </tr>\n",
       "  </tbody>\n",
       "</table>\n",
       "</div>"
      ],
      "text/plain": [
       "                                  0\n",
       "LIMIT_BAL                     int64\n",
       "SEX                          object\n",
       "EDUCATION                    object\n",
       "MARRIAGE                     object\n",
       "AGE                         float64\n",
       "PAY_0                         int64\n",
       "PAY_2                         int64\n",
       "PAY_3                         int64\n",
       "PAY_4                         int64\n",
       "PAY_5                         int64\n",
       "PAY_6                         int64\n",
       "BILL_AMT1                     int64\n",
       "BILL_AMT2                     int64\n",
       "BILL_AMT3                     int64\n",
       "BILL_AMT4                     int64\n",
       "BILL_AMT5                     int64\n",
       "BILL_AMT6                     int64\n",
       "PAY_AMT1                      int64\n",
       "PAY_AMT2                      int64\n",
       "PAY_AMT3                      int64\n",
       "PAY_AMT4                      int64\n",
       "PAY_AMT5                      int64\n",
       "PAY_AMT6                      int64\n",
       "default payment next month    int64"
      ]
     },
     "execution_count": 10,
     "metadata": {},
     "output_type": "execute_result"
    }
   ],
   "source": [
    "# We first have a look at the data types of all columns\n",
    "df_type = pd.DataFrame(df.dtypes)\n",
    "df_type"
   ]
  },
  {
   "cell_type": "code",
   "execution_count": 11,
   "metadata": {},
   "outputs": [
    {
     "name": "stdout",
     "output_type": "stream",
     "text": [
      "Number of String Columns: 3\n",
      "Number of Integer Columns: 20\n"
     ]
    }
   ],
   "source": [
    "# classifying columns with different data types:\n",
    "str_cols = []\n",
    "for col, dtype in df.dtypes.to_dict().items():\n",
    "    if str(dtype) in 'object':\n",
    "        str_cols.append(col)\n",
    "\n",
    "print(\"Number of String Columns:\", len(str_cols))\n",
    "\n",
    "int_cols = []\n",
    "for col, dtype in df.dtypes.to_dict().items():\n",
    "    if str(dtype) in 'int64':\n",
    "        int_cols.append(col)\n",
    "print(\"Number of Integer Columns:\", len(int_cols))"
   ]
  },
  {
   "cell_type": "markdown",
   "metadata": {},
   "source": [
    "# 1. Missing Value Imputation"
   ]
  },
  {
   "cell_type": "markdown",
   "metadata": {},
   "source": [
    "### 1.0. Identifying columns with null values"
   ]
  },
  {
   "cell_type": "code",
   "execution_count": 12,
   "metadata": {},
   "outputs": [],
   "source": [
    "null_cols = [col for col in df.columns if df[col].isnull().mean() > 0] "
   ]
  },
  {
   "cell_type": "code",
   "execution_count": 13,
   "metadata": {},
   "outputs": [
    {
     "name": "stdout",
     "output_type": "stream",
     "text": [
      "['EDUCATION', 'MARRIAGE', 'AGE']\n"
     ]
    }
   ],
   "source": [
    "print(null_cols)"
   ]
  },
  {
   "cell_type": "code",
   "execution_count": 14,
   "metadata": {},
   "outputs": [
    {
     "name": "stdout",
     "output_type": "stream",
     "text": [
      "Number of Columns with Null values: 3\n",
      "Percentage of null values:\n",
      "EDUCATION 0.0115 , Data Type:  object\n",
      "MARRIAGE 0.0018 , Data Type:  object\n",
      "AGE 0.0187 , Data Type:  float64\n"
     ]
    }
   ],
   "source": [
    "print(\"Number of Columns with Null values:\", len(null_cols))\n",
    "print(\"Percentage of null values:\")\n",
    "for col in null_cols:\n",
    "    print(col, round(df[col].isnull().mean(), 4), \", Data Type: \", df[col].dtype)"
   ]
  },
  {
   "cell_type": "markdown",
   "metadata": {},
   "source": [
    "We observe that \"EDUCATION\" and \"AGE\" have less than 2% missing values and \"MARRIAGE\" has 0.18% missing value.\\\n",
    "For the column \"MARRIAGE\", we perform Complete Case Analysis,\\\n",
    "For the integer column \"AGE\", we perform mean/median imputation, \\\n",
    "For the categorical column \"EDUCATION\", we perform Frequent Category Imputation."
   ]
  },
  {
   "cell_type": "markdown",
   "metadata": {},
   "source": [
    "## 1.1. Complete Case Analysis"
   ]
  },
  {
   "cell_type": "code",
   "execution_count": 15,
   "metadata": {},
   "outputs": [
    {
     "data": {
      "text/plain": [
       "(29946, 24)"
      ]
     },
     "execution_count": 15,
     "metadata": {},
     "output_type": "execute_result"
    }
   ],
   "source": [
    "df = df.dropna(subset=[\"MARRIAGE\"],  axis=0) \n",
    "df.shape"
   ]
  },
  {
   "cell_type": "markdown",
   "metadata": {},
   "source": [
    "We observe that after dropping the missing values, the number of records is reduced from 30000 to 29946."
   ]
  },
  {
   "cell_type": "markdown",
   "metadata": {},
   "source": [
    "## 1.2. Mean or Median Imputation: fillna()"
   ]
  },
  {
   "cell_type": "markdown",
   "metadata": {},
   "source": [
    "Before filling the null values, we split the data into train and test sets"
   ]
  },
  {
   "cell_type": "code",
   "execution_count": 16,
   "metadata": {},
   "outputs": [
    {
     "data": {
      "text/plain": [
       "((20962, 24), (8984, 24), (20962,), (8984,))"
      ]
     },
     "execution_count": 16,
     "metadata": {},
     "output_type": "execute_result"
    }
   ],
   "source": [
    "from sklearn.model_selection import train_test_split\n",
    "X_train, X_test, y_train, y_test = train_test_split(df, df['default payment next month'], test_size=0.3, random_state=10)\n",
    "\n",
    "X_train.shape, X_test.shape, y_train.shape, y_test.shape"
   ]
  },
  {
   "cell_type": "code",
   "execution_count": 17,
   "metadata": {},
   "outputs": [],
   "source": [
    "y_train_class_0 = y_train.value_counts().to_list()[0]\n",
    "y_train_class_1 = y_train.value_counts().to_list()[1]"
   ]
  },
  {
   "cell_type": "code",
   "execution_count": 18,
   "metadata": {},
   "outputs": [
    {
     "name": "stdout",
     "output_type": "stream",
     "text": [
      "Imbalance ratio y_train = 0.28364972443355785\n"
     ]
    }
   ],
   "source": [
    "print(\"Imbalance ratio y_train =\", y_train_class_1/y_train_class_0)"
   ]
  },
  {
   "cell_type": "code",
   "execution_count": 19,
   "metadata": {},
   "outputs": [
    {
     "name": "stdout",
     "output_type": "stream",
     "text": [
      "Imbalance ratio X_train = 0.28364972443355785\n"
     ]
    }
   ],
   "source": [
    "X_train_class_0 = X_train[\"default payment next month\"].value_counts().to_list()[0]\n",
    "X_train_class_1 = X_train[\"default payment next month\"].value_counts().to_list()[1]\n",
    "print(\"Imbalance ratio X_train =\", X_train_class_1/X_train_class_0)"
   ]
  },
  {
   "cell_type": "markdown",
   "metadata": {},
   "source": [
    "Before deciding whether we implement the mean or median imputation, we plot the distribution of \"AGE\" "
   ]
  },
  {
   "cell_type": "code",
   "execution_count": 20,
   "metadata": {},
   "outputs": [
    {
     "data": {
      "text/plain": [
       "<AxesSubplot:>"
      ]
     },
     "execution_count": 20,
     "metadata": {},
     "output_type": "execute_result"
    },
    {
     "data": {
      "image/png": "[encoded data removed]",
      "text/plain": [
       "<Figure size 432x288 with 1 Axes>"
      ]
     },
     "metadata": {
      "needs_background": "light"
     },
     "output_type": "display_data"
    }
   ],
   "source": [
    "fig = plt.figure()\n",
    "ax = fig.add_subplot(111)\n",
    "df['AGE'].hist(bins=50, ax=ax, density=True)"
   ]
  },
  {
   "cell_type": "code",
   "execution_count": 21,
   "metadata": {},
   "outputs": [
    {
     "name": "stdout",
     "output_type": "stream",
     "text": [
      "Mean of AGE:  35.738208670795615\n",
      "Median of AGE:  34.0\n",
      "Mode of AGE:  0    29.0\n",
      "dtype: float64\n"
     ]
    }
   ],
   "source": [
    "print(\"Mean of AGE: \", df['AGE'].mean())\n",
    "print(\"Median of AGE: \", df['AGE'].median())\n",
    "print(\"Mode of AGE: \", df['AGE'].mode())"
   ]
  },
  {
   "cell_type": "markdown",
   "metadata": {},
   "source": [
    "Since the data distribution is skewed, we perform median imputation"
   ]
  },
  {
   "cell_type": "code",
   "execution_count": 22,
   "metadata": {},
   "outputs": [],
   "source": [
    "AGE_median = X_train['AGE'].median()\n",
    "X_train['AGE_median'] = X_train['AGE'].fillna(AGE_median)\n",
    "X_test['AGE_median'] = X_test['AGE'].fillna(AGE_median)"
   ]
  },
  {
   "cell_type": "code",
   "execution_count": 23,
   "metadata": {},
   "outputs": [
    {
     "data": {
      "text/plain": [
       "<AxesSubplot:>"
      ]
     },
     "execution_count": 23,
     "metadata": {},
     "output_type": "execute_result"
    },
    {
     "data": {
      "image/png": "[encoded data removed]",
      "text/plain": [
       "<Figure size 432x288 with 1 Axes>"
      ]
     },
     "metadata": {
      "needs_background": "light"
     },
     "output_type": "display_data"
    }
   ],
   "source": [
    "fig = plt.figure()\n",
    "ax = fig.add_subplot(111)\n",
    "X_train['AGE'].hist(bins=50, ax=ax, density=True, color='red')\n",
    "X_train['AGE_median'].hist(bins=50, ax=ax, color='blue', density=True, alpha=0.8)"
   ]
  },
  {
   "cell_type": "markdown",
   "metadata": {},
   "source": [
    "## 1.3. Frequent Category Imputation (Mode Imputation)"
   ]
  },
  {
   "cell_type": "markdown",
   "metadata": {},
   "source": [
    "TODO: PLOT ALL DIAGRAMS IN ONE "
   ]
  },
  {
   "cell_type": "code",
   "execution_count": 24,
   "metadata": {},
   "outputs": [
    {
     "data": {
      "text/plain": [
       "<AxesSubplot:>"
      ]
     },
     "execution_count": 24,
     "metadata": {},
     "output_type": "execute_result"
    },
    {
     "data": {
      "image/png": "[encoded data removed]",
      "text/plain": [
       "<Figure size 432x288 with 1 Axes>"
      ]
     },
     "metadata": {
      "needs_background": "light"
     },
     "output_type": "display_data"
    }
   ],
   "source": [
    "X_train['EDUCATION'].value_counts().sort_values(ascending=False).plot.bar()"
   ]
  },
  {
   "cell_type": "code",
   "execution_count": 25,
   "metadata": {},
   "outputs": [
    {
     "data": {
      "text/plain": [
       "'university'"
      ]
     },
     "execution_count": 25,
     "metadata": {},
     "output_type": "execute_result"
    }
   ],
   "source": [
    "EDUCATION_MODE = X_train[\"EDUCATION\"].mode()[0]             \n",
    "EDUCATION_MODE               "
   ]
  },
  {
   "cell_type": "code",
   "execution_count": 26,
   "metadata": {},
   "outputs": [],
   "source": [
    "X_train['EDUCATION'].fillna(EDUCATION_MODE, inplace=True)\n",
    "X_test['EDUCATION'].fillna(EDUCATION_MODE, inplace=True)"
   ]
  },
  {
   "cell_type": "code",
   "execution_count": 27,
   "metadata": {},
   "outputs": [
    {
     "data": {
      "text/plain": [
       "((20962, 25), (8984, 25), (20962,), (8984,))"
      ]
     },
     "execution_count": 27,
     "metadata": {},
     "output_type": "execute_result"
    }
   ],
   "source": [
    "X_train.shape, X_test.shape, y_train.shape, y_test.shape"
   ]
  },
  {
   "cell_type": "markdown",
   "metadata": {},
   "source": [
    "# 3. Categorical encoding"
   ]
  },
  {
   "cell_type": "code",
   "execution_count": 28,
   "metadata": {},
   "outputs": [
    {
     "name": "stdout",
     "output_type": "stream",
     "text": [
      "['SEX', 'EDUCATION', 'MARRIAGE']\n"
     ]
    }
   ],
   "source": [
    "# Recall that we have 3 categorical columns\n",
    "print(str_cols)"
   ]
  },
  {
   "cell_type": "code",
   "execution_count": 29,
   "metadata": {},
   "outputs": [
    {
     "name": "stdout",
     "output_type": "stream",
     "text": [
      "SEX ['female' 'male']\n",
      "EDUCATION ['graduate school' 'university' 'high school' 'others']\n",
      "MARRIAGE ['married' 'single' 'others']\n"
     ]
    }
   ],
   "source": [
    "for col in str_cols:\n",
    "    print(col, X_train[col].unique())"
   ]
  },
  {
   "cell_type": "markdown",
   "metadata": {},
   "source": [
    "One Hot Encoding (using Scikit-Learn)"
   ]
  },
  {
   "cell_type": "code",
   "execution_count": 30,
   "metadata": {},
   "outputs": [
    {
     "data": {
      "text/plain": [
       "((20962, 25), (8984, 25), (20962,), (8984,))"
      ]
     },
     "execution_count": 30,
     "metadata": {},
     "output_type": "execute_result"
    }
   ],
   "source": [
    "X_train.shape, X_test.shape, y_train.shape, y_test.shape"
   ]
  },
  {
   "cell_type": "code",
   "execution_count": 31,
   "metadata": {},
   "outputs": [
    {
     "data": {
      "text/html": [
       "<style>#sk-container-id-1 {color: black;background-color: white;}#sk-container-id-1 pre{padding: 0;}#sk-container-id-1 div.sk-toggleable {background-color: white;}#sk-container-id-1 label.sk-toggleable__label {cursor: pointer;display: block;width: 100%;margin-bottom: 0;padding: 0.3em;box-sizing: border-box;text-align: center;}#sk-container-id-1 label.sk-toggleable__label-arrow:before {content: \"▸\";float: left;margin-right: 0.25em;color: #696969;}#sk-container-id-1 label.sk-toggleable__label-arrow:hover:before {color: black;}#sk-container-id-1 div.sk-estimator:hover label.sk-toggleable__label-arrow:before {color: black;}#sk-container-id-1 div.sk-toggleable__content {max-height: 0;max-width: 0;overflow: hidden;text-align: left;background-color: #f0f8ff;}#sk-container-id-1 div.sk-toggleable__content pre {margin: 0.2em;color: black;border-radius: 0.25em;background-color: #f0f8ff;}#sk-container-id-1 input.sk-toggleable__control:checked~div.sk-toggleable__content {max-height: 200px;max-width: 100%;overflow: auto;}#sk-container-id-1 input.sk-toggleable__control:checked~label.sk-toggleable__label-arrow:before {content: \"▾\";}#sk-container-id-1 div.sk-estimator input.sk-toggleable__control:checked~label.sk-toggleable__label {background-color: #d4ebff;}#sk-container-id-1 div.sk-label input.sk-toggleable__control:checked~label.sk-toggleable__label {background-color: #d4ebff;}#sk-container-id-1 input.sk-hidden--visually {border: 0;clip: rect(1px 1px 1px 1px);clip: rect(1px, 1px, 1px, 1px);height: 1px;margin: -1px;overflow: hidden;padding: 0;position: absolute;width: 1px;}#sk-container-id-1 div.sk-estimator {font-family: monospace;background-color: #f0f8ff;border: 1px dotted black;border-radius: 0.25em;box-sizing: border-box;margin-bottom: 0.5em;}#sk-container-id-1 div.sk-estimator:hover {background-color: #d4ebff;}#sk-container-id-1 div.sk-parallel-item::after {content: \"\";width: 100%;border-bottom: 1px solid gray;flex-grow: 1;}#sk-container-id-1 div.sk-label:hover label.sk-toggleable__label {background-color: #d4ebff;}#sk-container-id-1 div.sk-serial::before {content: \"\";position: absolute;border-left: 1px solid gray;box-sizing: border-box;top: 0;bottom: 0;left: 50%;z-index: 0;}#sk-container-id-1 div.sk-serial {display: flex;flex-direction: column;align-items: center;background-color: white;padding-right: 0.2em;padding-left: 0.2em;position: relative;}#sk-container-id-1 div.sk-item {position: relative;z-index: 1;}#sk-container-id-1 div.sk-parallel {display: flex;align-items: stretch;justify-content: center;background-color: white;position: relative;}#sk-container-id-1 div.sk-item::before, #sk-container-id-1 div.sk-parallel-item::before {content: \"\";position: absolute;border-left: 1px solid gray;box-sizing: border-box;top: 0;bottom: 0;left: 50%;z-index: -1;}#sk-container-id-1 div.sk-parallel-item {display: flex;flex-direction: column;z-index: 1;position: relative;background-color: white;}#sk-container-id-1 div.sk-parallel-item:first-child::after {align-self: flex-end;width: 50%;}#sk-container-id-1 div.sk-parallel-item:last-child::after {align-self: flex-start;width: 50%;}#sk-container-id-1 div.sk-parallel-item:only-child::after {width: 0;}#sk-container-id-1 div.sk-dashed-wrapped {border: 1px dashed gray;margin: 0 0.4em 0.5em 0.4em;box-sizing: border-box;padding-bottom: 0.4em;background-color: white;}#sk-container-id-1 div.sk-label label {font-family: monospace;font-weight: bold;display: inline-block;line-height: 1.2em;}#sk-container-id-1 div.sk-label-container {text-align: center;}#sk-container-id-1 div.sk-container {/* jupyter's `normalize.less` sets `[hidden] { display: none; }` but bootstrap.min.css set `[hidden] { display: none !important; }` so we also need the `!important` here to be able to override the default hidden behavior on the sphinx rendered scikit-learn.org. See: https://github.com/scikit-learn/scikit-learn/issues/21755 */display: inline-block !important;position: relative;}#sk-container-id-1 div.sk-text-repr-fallback {display: none;}</style><div id=\"sk-container-id-1\" class=\"sk-top-container\"><div class=\"sk-text-repr-fallback\"><pre>OneHotEncoder(handle_unknown=&#x27;ignore&#x27;, sparse=False)</pre><b>In a Jupyter environment, please rerun this cell to show the HTML representation or trust the notebook. <br />On GitHub, the HTML representation is unable to render, please try loading this page with nbviewer.org.</b></div><div class=\"sk-container\" hidden><div class=\"sk-item\"><div class=\"sk-estimator sk-toggleable\"><input class=\"sk-toggleable__control sk-hidden--visually\" id=\"sk-estimator-id-1\" type=\"checkbox\" checked><label for=\"sk-estimator-id-1\" class=\"sk-toggleable__label sk-toggleable__label-arrow\">OneHotEncoder</label><div class=\"sk-toggleable__content\"><pre>OneHotEncoder(handle_unknown=&#x27;ignore&#x27;, sparse=False)</pre></div></div></div></div></div>"
      ],
      "text/plain": [
       "OneHotEncoder(handle_unknown='ignore', sparse=False)"
      ]
     },
     "execution_count": 31,
     "metadata": {},
     "output_type": "execute_result"
    }
   ],
   "source": [
    "from sklearn.preprocessing import OneHotEncoder\n",
    "encoder = OneHotEncoder(sparse= False, handle_unknown='ignore')\n",
    "encoder.fit(X_train[str_cols])"
   ]
  },
  {
   "cell_type": "code",
   "execution_count": 32,
   "metadata": {},
   "outputs": [],
   "source": [
    "# transform the catogorical columns in X_train\n",
    "X_train_transformed = encoder.transform(X_train[str_cols])\n",
    "# turn the transformed Numpy array into a Pandas dataframe\n",
    "X_train_OHE_skl = pd.DataFrame(X_train_transformed)"
   ]
  },
  {
   "cell_type": "code",
   "execution_count": 33,
   "metadata": {},
   "outputs": [
    {
     "data": {
      "text/html": [
       "<div>\n",
       "<style scoped>\n",
       "    .dataframe tbody tr th:only-of-type {\n",
       "        vertical-align: middle;\n",
       "    }\n",
       "\n",
       "    .dataframe tbody tr th {\n",
       "        vertical-align: top;\n",
       "    }\n",
       "\n",
       "    .dataframe thead th {\n",
       "        text-align: right;\n",
       "    }\n",
       "</style>\n",
       "<table border=\"1\" class=\"dataframe\">\n",
       "  <thead>\n",
       "    <tr style=\"text-align: right;\">\n",
       "      <th></th>\n",
       "      <th>0</th>\n",
       "      <th>1</th>\n",
       "      <th>2</th>\n",
       "      <th>3</th>\n",
       "      <th>4</th>\n",
       "      <th>5</th>\n",
       "      <th>6</th>\n",
       "      <th>7</th>\n",
       "      <th>8</th>\n",
       "    </tr>\n",
       "  </thead>\n",
       "  <tbody>\n",
       "    <tr>\n",
       "      <th>0</th>\n",
       "      <td>1.0</td>\n",
       "      <td>0.0</td>\n",
       "      <td>1.0</td>\n",
       "      <td>0.0</td>\n",
       "      <td>0.0</td>\n",
       "      <td>0.0</td>\n",
       "      <td>1.0</td>\n",
       "      <td>0.0</td>\n",
       "      <td>0.0</td>\n",
       "    </tr>\n",
       "    <tr>\n",
       "      <th>1</th>\n",
       "      <td>1.0</td>\n",
       "      <td>0.0</td>\n",
       "      <td>1.0</td>\n",
       "      <td>0.0</td>\n",
       "      <td>0.0</td>\n",
       "      <td>0.0</td>\n",
       "      <td>0.0</td>\n",
       "      <td>0.0</td>\n",
       "      <td>1.0</td>\n",
       "    </tr>\n",
       "    <tr>\n",
       "      <th>2</th>\n",
       "      <td>1.0</td>\n",
       "      <td>0.0</td>\n",
       "      <td>0.0</td>\n",
       "      <td>0.0</td>\n",
       "      <td>0.0</td>\n",
       "      <td>1.0</td>\n",
       "      <td>0.0</td>\n",
       "      <td>0.0</td>\n",
       "      <td>1.0</td>\n",
       "    </tr>\n",
       "    <tr>\n",
       "      <th>3</th>\n",
       "      <td>1.0</td>\n",
       "      <td>0.0</td>\n",
       "      <td>0.0</td>\n",
       "      <td>0.0</td>\n",
       "      <td>0.0</td>\n",
       "      <td>1.0</td>\n",
       "      <td>1.0</td>\n",
       "      <td>0.0</td>\n",
       "      <td>0.0</td>\n",
       "    </tr>\n",
       "    <tr>\n",
       "      <th>4</th>\n",
       "      <td>1.0</td>\n",
       "      <td>0.0</td>\n",
       "      <td>0.0</td>\n",
       "      <td>1.0</td>\n",
       "      <td>0.0</td>\n",
       "      <td>0.0</td>\n",
       "      <td>1.0</td>\n",
       "      <td>0.0</td>\n",
       "      <td>0.0</td>\n",
       "    </tr>\n",
       "    <tr>\n",
       "      <th>...</th>\n",
       "      <td>...</td>\n",
       "      <td>...</td>\n",
       "      <td>...</td>\n",
       "      <td>...</td>\n",
       "      <td>...</td>\n",
       "      <td>...</td>\n",
       "      <td>...</td>\n",
       "      <td>...</td>\n",
       "      <td>...</td>\n",
       "    </tr>\n",
       "    <tr>\n",
       "      <th>20957</th>\n",
       "      <td>1.0</td>\n",
       "      <td>0.0</td>\n",
       "      <td>0.0</td>\n",
       "      <td>0.0</td>\n",
       "      <td>0.0</td>\n",
       "      <td>1.0</td>\n",
       "      <td>1.0</td>\n",
       "      <td>0.0</td>\n",
       "      <td>0.0</td>\n",
       "    </tr>\n",
       "    <tr>\n",
       "      <th>20958</th>\n",
       "      <td>1.0</td>\n",
       "      <td>0.0</td>\n",
       "      <td>0.0</td>\n",
       "      <td>1.0</td>\n",
       "      <td>0.0</td>\n",
       "      <td>0.0</td>\n",
       "      <td>1.0</td>\n",
       "      <td>0.0</td>\n",
       "      <td>0.0</td>\n",
       "    </tr>\n",
       "    <tr>\n",
       "      <th>20959</th>\n",
       "      <td>0.0</td>\n",
       "      <td>1.0</td>\n",
       "      <td>0.0</td>\n",
       "      <td>0.0</td>\n",
       "      <td>0.0</td>\n",
       "      <td>1.0</td>\n",
       "      <td>1.0</td>\n",
       "      <td>0.0</td>\n",
       "      <td>0.0</td>\n",
       "    </tr>\n",
       "    <tr>\n",
       "      <th>20960</th>\n",
       "      <td>0.0</td>\n",
       "      <td>1.0</td>\n",
       "      <td>0.0</td>\n",
       "      <td>0.0</td>\n",
       "      <td>0.0</td>\n",
       "      <td>1.0</td>\n",
       "      <td>0.0</td>\n",
       "      <td>1.0</td>\n",
       "      <td>0.0</td>\n",
       "    </tr>\n",
       "    <tr>\n",
       "      <th>20961</th>\n",
       "      <td>1.0</td>\n",
       "      <td>0.0</td>\n",
       "      <td>0.0</td>\n",
       "      <td>0.0</td>\n",
       "      <td>0.0</td>\n",
       "      <td>1.0</td>\n",
       "      <td>1.0</td>\n",
       "      <td>0.0</td>\n",
       "      <td>0.0</td>\n",
       "    </tr>\n",
       "  </tbody>\n",
       "</table>\n",
       "<p>20962 rows × 9 columns</p>\n",
       "</div>"
      ],
      "text/plain": [
       "         0    1    2    3    4    5    6    7    8\n",
       "0      1.0  0.0  1.0  0.0  0.0  0.0  1.0  0.0  0.0\n",
       "1      1.0  0.0  1.0  0.0  0.0  0.0  0.0  0.0  1.0\n",
       "2      1.0  0.0  0.0  0.0  0.0  1.0  0.0  0.0  1.0\n",
       "3      1.0  0.0  0.0  0.0  0.0  1.0  1.0  0.0  0.0\n",
       "4      1.0  0.0  0.0  1.0  0.0  0.0  1.0  0.0  0.0\n",
       "...    ...  ...  ...  ...  ...  ...  ...  ...  ...\n",
       "20957  1.0  0.0  0.0  0.0  0.0  1.0  1.0  0.0  0.0\n",
       "20958  1.0  0.0  0.0  1.0  0.0  0.0  1.0  0.0  0.0\n",
       "20959  0.0  1.0  0.0  0.0  0.0  1.0  1.0  0.0  0.0\n",
       "20960  0.0  1.0  0.0  0.0  0.0  1.0  0.0  1.0  0.0\n",
       "20961  1.0  0.0  0.0  0.0  0.0  1.0  1.0  0.0  0.0\n",
       "\n",
       "[20962 rows x 9 columns]"
      ]
     },
     "execution_count": 33,
     "metadata": {},
     "output_type": "execute_result"
    }
   ],
   "source": [
    "X_train_OHE_skl"
   ]
  },
  {
   "cell_type": "code",
   "execution_count": 34,
   "metadata": {},
   "outputs": [
    {
     "data": {
      "text/plain": [
       "array(['x0_female', 'x0_male', 'x1_graduate school', 'x1_high school',\n",
       "       'x1_others', 'x1_university', 'x2_married', 'x2_others',\n",
       "       'x2_single'], dtype=object)"
      ]
     },
     "execution_count": 34,
     "metadata": {},
     "output_type": "execute_result"
    }
   ],
   "source": [
    "# as we can see, the new encoded columns are named as integers. \n",
    "# However, the names of the features are stored in the get_feature_names() method\n",
    "encoder.get_feature_names()"
   ]
  },
  {
   "cell_type": "code",
   "execution_count": 35,
   "metadata": {},
   "outputs": [],
   "source": [
    "# we rename the dataframe columns to the above names\n",
    "X_train_OHE_skl.columns = encoder.get_feature_names()"
   ]
  },
  {
   "cell_type": "code",
   "execution_count": 36,
   "metadata": {},
   "outputs": [
    {
     "data": {
      "text/html": [
       "<div>\n",
       "<style scoped>\n",
       "    .dataframe tbody tr th:only-of-type {\n",
       "        vertical-align: middle;\n",
       "    }\n",
       "\n",
       "    .dataframe tbody tr th {\n",
       "        vertical-align: top;\n",
       "    }\n",
       "\n",
       "    .dataframe thead th {\n",
       "        text-align: right;\n",
       "    }\n",
       "</style>\n",
       "<table border=\"1\" class=\"dataframe\">\n",
       "  <thead>\n",
       "    <tr style=\"text-align: right;\">\n",
       "      <th></th>\n",
       "      <th>x0_female</th>\n",
       "      <th>x0_male</th>\n",
       "      <th>x1_graduate school</th>\n",
       "      <th>x1_high school</th>\n",
       "      <th>x1_others</th>\n",
       "      <th>x1_university</th>\n",
       "      <th>x2_married</th>\n",
       "      <th>x2_others</th>\n",
       "      <th>x2_single</th>\n",
       "    </tr>\n",
       "  </thead>\n",
       "  <tbody>\n",
       "    <tr>\n",
       "      <th>0</th>\n",
       "      <td>1.0</td>\n",
       "      <td>0.0</td>\n",
       "      <td>1.0</td>\n",
       "      <td>0.0</td>\n",
       "      <td>0.0</td>\n",
       "      <td>0.0</td>\n",
       "      <td>1.0</td>\n",
       "      <td>0.0</td>\n",
       "      <td>0.0</td>\n",
       "    </tr>\n",
       "    <tr>\n",
       "      <th>1</th>\n",
       "      <td>1.0</td>\n",
       "      <td>0.0</td>\n",
       "      <td>1.0</td>\n",
       "      <td>0.0</td>\n",
       "      <td>0.0</td>\n",
       "      <td>0.0</td>\n",
       "      <td>0.0</td>\n",
       "      <td>0.0</td>\n",
       "      <td>1.0</td>\n",
       "    </tr>\n",
       "    <tr>\n",
       "      <th>2</th>\n",
       "      <td>1.0</td>\n",
       "      <td>0.0</td>\n",
       "      <td>0.0</td>\n",
       "      <td>0.0</td>\n",
       "      <td>0.0</td>\n",
       "      <td>1.0</td>\n",
       "      <td>0.0</td>\n",
       "      <td>0.0</td>\n",
       "      <td>1.0</td>\n",
       "    </tr>\n",
       "    <tr>\n",
       "      <th>3</th>\n",
       "      <td>1.0</td>\n",
       "      <td>0.0</td>\n",
       "      <td>0.0</td>\n",
       "      <td>0.0</td>\n",
       "      <td>0.0</td>\n",
       "      <td>1.0</td>\n",
       "      <td>1.0</td>\n",
       "      <td>0.0</td>\n",
       "      <td>0.0</td>\n",
       "    </tr>\n",
       "    <tr>\n",
       "      <th>4</th>\n",
       "      <td>1.0</td>\n",
       "      <td>0.0</td>\n",
       "      <td>0.0</td>\n",
       "      <td>1.0</td>\n",
       "      <td>0.0</td>\n",
       "      <td>0.0</td>\n",
       "      <td>1.0</td>\n",
       "      <td>0.0</td>\n",
       "      <td>0.0</td>\n",
       "    </tr>\n",
       "  </tbody>\n",
       "</table>\n",
       "</div>"
      ],
      "text/plain": [
       "   x0_female  x0_male  x1_graduate school  x1_high school  x1_others  \\\n",
       "0        1.0      0.0                 1.0             0.0        0.0   \n",
       "1        1.0      0.0                 1.0             0.0        0.0   \n",
       "2        1.0      0.0                 0.0             0.0        0.0   \n",
       "3        1.0      0.0                 0.0             0.0        0.0   \n",
       "4        1.0      0.0                 0.0             1.0        0.0   \n",
       "\n",
       "   x1_university  x2_married  x2_others  x2_single  \n",
       "0            0.0         1.0        0.0        0.0  \n",
       "1            0.0         0.0        0.0        1.0  \n",
       "2            1.0         0.0        0.0        1.0  \n",
       "3            1.0         1.0        0.0        0.0  \n",
       "4            0.0         1.0        0.0        0.0  "
      ]
     },
     "execution_count": 36,
     "metadata": {},
     "output_type": "execute_result"
    }
   ],
   "source": [
    "X_train_OHE_skl.head()"
   ]
  },
  {
   "cell_type": "code",
   "execution_count": 37,
   "metadata": {},
   "outputs": [],
   "source": [
    "# transform the catogorical columns in X_test\n",
    "X_test_transformed = encoder.transform(X_test[str_cols])\n",
    "# turned the transformed Numpy array into a Pandas dataframe\n",
    "X_test_OHE_skl = pd.DataFrame(X_test_transformed)\n",
    "# rename the new encoded  columns \n",
    "X_test_OHE_skl.columns = encoder.get_feature_names()"
   ]
  },
  {
   "cell_type": "code",
   "execution_count": 38,
   "metadata": {},
   "outputs": [
    {
     "data": {
      "text/plain": [
       "((20962, 9), (8984, 9))"
      ]
     },
     "execution_count": 38,
     "metadata": {},
     "output_type": "execute_result"
    }
   ],
   "source": [
    "X_train_OHE_skl.shape, X_test_OHE_skl.shape"
   ]
  },
  {
   "cell_type": "markdown",
   "metadata": {},
   "source": [
    "We now concatinate the original X_train/X_test and the encoded X_train_OHE_skl/X_test_OHE_skl (and then drop the categorical columns from the resulting dataframe). "
   ]
  },
  {
   "cell_type": "code",
   "execution_count": 39,
   "metadata": {},
   "outputs": [],
   "source": [
    "X_train = pd.concat([X_train.reset_index(drop=True), X_train_OHE_skl.reset_index(drop=True)], axis=1)\n",
    "X_train = X_train.drop(columns=str_cols, axis=1)\n",
    "X_test = pd.concat([X_test.reset_index(drop=True), X_test_OHE_skl.reset_index(drop=True)], axis=1)\n",
    "X_test = X_test.drop(columns=str_cols, axis=1)"
   ]
  },
  {
   "cell_type": "code",
   "execution_count": 40,
   "metadata": {},
   "outputs": [
    {
     "data": {
      "text/plain": [
       "((20962, 31), (8984, 31), (20962,), (8984,))"
      ]
     },
     "execution_count": 40,
     "metadata": {},
     "output_type": "execute_result"
    }
   ],
   "source": [
    "X_train.shape, X_test.shape, y_train.shape, y_test.shape"
   ]
  },
  {
   "cell_type": "markdown",
   "metadata": {},
   "source": [
    "# 4. Handling Outliers\n",
    "4.1. Identifying the outliers \\\n",
    "4.2. Outlier trimming \\\n",
    "4.3. Outlier Capping\n"
   ]
  },
  {
   "cell_type": "markdown",
   "metadata": {},
   "source": [
    "## 4.1. Identifying the outliers"
   ]
  },
  {
   "cell_type": "code",
   "execution_count": 41,
   "metadata": {},
   "outputs": [
    {
     "name": "stdout",
     "output_type": "stream",
     "text": [
      "['LIMIT_BAL', 'PAY_0', 'PAY_2', 'PAY_3', 'PAY_4', 'PAY_5', 'PAY_6', 'BILL_AMT1', 'BILL_AMT2', 'BILL_AMT3', 'BILL_AMT4', 'BILL_AMT5', 'BILL_AMT6', 'PAY_AMT1', 'PAY_AMT2', 'PAY_AMT3', 'PAY_AMT4', 'PAY_AMT5', 'PAY_AMT6', 'default payment next month']\n"
     ]
    }
   ],
   "source": [
    "print(int_cols)"
   ]
  },
  {
   "cell_type": "code",
   "execution_count": 42,
   "metadata": {},
   "outputs": [
    {
     "data": {
      "image/png": "[encoded data removed]",
      "text/plain": [
       "<Figure size 3600x720 with 5 Axes>"
      ]
     },
     "metadata": {
      "needs_background": "light"
     },
     "output_type": "display_data"
    }
   ],
   "source": [
    "plt.rcParams[\"figure.figsize\"] = (50,10)\n",
    "fig, axs = plt.subplots(ncols=5, constrained_layout=True)\n",
    "sns.boxplot(y=X_train['LIMIT_BAL'], ax=axs[0])\n",
    "sns.boxplot(y=X_train['PAY_0'], ax=axs[1])\n",
    "sns.boxplot(y=X_train['PAY_2'], ax=axs[2])\n",
    "sns.boxplot(y=X_train['PAY_3'], ax=axs[3])\n",
    "sns.boxplot(y=X_train['PAY_4'], ax=axs[4])\n",
    "plt.show()\n"
   ]
  },
  {
   "cell_type": "code",
   "execution_count": 43,
   "metadata": {},
   "outputs": [
    {
     "data": {
      "image/png": "[encoded data removed]",
      "text/plain": [
       "<Figure size 3600x720 with 7 Axes>"
      ]
     },
     "metadata": {
      "needs_background": "light"
     },
     "output_type": "display_data"
    }
   ],
   "source": [
    "fig, axs = plt.subplots(ncols=7, constrained_layout=True)\n",
    "sns.boxplot(y=X_train['PAY_5'], ax=axs[0])\n",
    "sns.boxplot(y=X_train['PAY_6'], ax=axs[1])\n",
    "sns.boxplot(y=X_train['BILL_AMT1'], ax=axs[2])\n",
    "sns.boxplot(y=X_train['BILL_AMT2'], ax=axs[3])\n",
    "sns.boxplot(y=X_train['BILL_AMT3'], ax=axs[4])\n",
    "sns.boxplot(y=X_train['BILL_AMT4'], ax=axs[5])\n",
    "sns.boxplot(y=X_train['BILL_AMT5'], ax=axs[6])\n",
    "plt.rcParams[\"figure.figsize\"] = (50,10)\n",
    "plt.show()"
   ]
  },
  {
   "cell_type": "code",
   "execution_count": 44,
   "metadata": {},
   "outputs": [
    {
     "data": {
      "image/png": "[encoded data removed]",
      "text/plain": [
       "<Figure size 3600x720 with 6 Axes>"
      ]
     },
     "metadata": {
      "needs_background": "light"
     },
     "output_type": "display_data"
    }
   ],
   "source": [
    "fig, axs = plt.subplots(ncols=6, constrained_layout=True)\n",
    "sns.boxplot(y=X_train['BILL_AMT6'], ax=axs[0])\n",
    "sns.boxplot(y=X_train['PAY_AMT1'], ax=axs[1])\n",
    "sns.boxplot(y=X_train['PAY_AMT2'], ax=axs[2])\n",
    "sns.boxplot(y=X_train['PAY_AMT3'], ax=axs[3])\n",
    "sns.boxplot(y=X_train['PAY_AMT4'], ax=axs[4])\n",
    "sns.boxplot(y=X_train['PAY_AMT5'], ax=axs[5])\n",
    "plt.rcParams[\"figure.figsize\"] = (50,10)\n",
    "plt.show()"
   ]
  },
  {
   "cell_type": "code",
   "execution_count": 45,
   "metadata": {},
   "outputs": [
    {
     "data": {
      "image/png": "[encoded data removed]",
      "text/plain": [
       "<Figure size 3600x720 with 4 Axes>"
      ]
     },
     "metadata": {
      "needs_background": "light"
     },
     "output_type": "display_data"
    }
   ],
   "source": [
    "fig, axs = plt.subplots(ncols=4, constrained_layout=True)\n",
    "sns.boxplot(y=X_train['PAY_AMT6'], ax=axs[0])\n",
    "plt.rcParams[\"figure.figsize\"] = (50,10)\n",
    "plt.show()"
   ]
  },
  {
   "cell_type": "markdown",
   "metadata": {},
   "source": [
    "The above result confirms our observation from the boxplots. Now we create a list of all columns which contain outliers."
   ]
  },
  {
   "cell_type": "code",
   "execution_count": 46,
   "metadata": {},
   "outputs": [],
   "source": [
    "# Now we repeat the same steps for all the columns with outliers\n",
    "# We first create the following dictionaries\n",
    "IRQ_dict= {}\n",
    "for col in X_train.columns:\n",
    "    IRQ_dict[f\"{col}_IQR\"] = X_train[col].quantile(0.75) - X_train[col].quantile(0.25)\n",
    "\n",
    "lower_boundary_dict= {}\n",
    "for col in X_train.columns:\n",
    "    lower_boundary_dict[f\"{col}_lower_boundary\"] = X_train[col].quantile(0.25) - (IRQ_dict[f\"{col}_IQR\"] * 1.6)\n",
    "\n",
    "upper_boundary_dict= {}\n",
    "for col in X_train.columns:\n",
    "    upper_boundary_dict[f\"{col}_upper_boundary\"] = X_train[col].quantile(0.25) + (IRQ_dict[f\"{col}_IQR\"] * 1.6)\n",
    "\n",
    "columns_outliers_dict={}\n",
    "for col in X_train.columns:\n",
    "    columns_outliers_dict[f\"{col}_outliers_list\"] = np.where(X_train[col] > upper_boundary_dict[f\"{col}_upper_boundary\"], True,\n",
    "                       np.where(X_train[col] < lower_boundary_dict[f\"{col}_lower_boundary\"], True, False))"
   ]
  },
  {
   "cell_type": "code",
   "execution_count": 47,
   "metadata": {},
   "outputs": [
    {
     "name": "stdout",
     "output_type": "stream",
     "text": [
      " >>IRQ_dict:  {'LIMIT_BAL_IQR': 190000.0, 'AGE_IQR': 14.0, 'PAY_0_IQR': 1.0, 'PAY_2_IQR': 1.0, 'PAY_3_IQR': 1.0, 'PAY_4_IQR': 1.0, 'PAY_5_IQR': 1.0, 'PAY_6_IQR': 1.0, 'BILL_AMT1_IQR': 63464.25, 'BILL_AMT2_IQR': 60431.0, 'BILL_AMT3_IQR': 56922.0, 'BILL_AMT4_IQR': 51607.0, 'BILL_AMT5_IQR': 48246.75, 'BILL_AMT6_IQR': 48052.75, 'PAY_AMT1_IQR': 4005.0, 'PAY_AMT2_IQR': 4196.25, 'PAY_AMT3_IQR': 4144.5, 'PAY_AMT4_IQR': 3739.0, 'PAY_AMT5_IQR': 3804.5, 'PAY_AMT6_IQR': 3907.5, 'default payment next month_IQR': 0.0, 'AGE_median_IQR': 13.0, 'x0_female_IQR': 1.0, 'x0_male_IQR': 1.0, 'x1_graduate school_IQR': 1.0, 'x1_high school_IQR': 0.0, 'x1_others_IQR': 0.0, 'x1_university_IQR': 1.0, 'x2_married_IQR': 1.0, 'x2_others_IQR': 0.0, 'x2_single_IQR': 1.0}\n",
      " >>lower_boundary_dict:  {'LIMIT_BAL_lower_boundary': -254000.0, 'AGE_lower_boundary': 5.599999999999998, 'PAY_0_lower_boundary': -2.6, 'PAY_2_lower_boundary': -2.6, 'PAY_3_lower_boundary': -2.6, 'PAY_4_lower_boundary': -2.6, 'PAY_5_lower_boundary': -2.6, 'PAY_6_lower_boundary': -2.6, 'BILL_AMT1_lower_boundary': -98063.8, 'BILL_AMT2_lower_boundary': -93780.35, 'BILL_AMT3_lower_boundary': -88469.45000000001, 'BILL_AMT4_lower_boundary': -80251.20000000001, 'BILL_AMT5_lower_boundary': -75414.8, 'BILL_AMT6_lower_boundary': -75623.40000000001, 'PAY_AMT1_lower_boundary': -5408.0, 'PAY_AMT2_lower_boundary': -5910.25, 'PAY_AMT3_lower_boundary': -6241.200000000001, 'PAY_AMT4_lower_boundary': -5716.400000000001, 'PAY_AMT5_lower_boundary': -5874.950000000001, 'PAY_AMT6_lower_boundary': -6159.5, 'default payment next month_lower_boundary': 0.0, 'AGE_median_lower_boundary': 7.199999999999999, 'x0_female_lower_boundary': -1.6, 'x0_male_lower_boundary': -1.6, 'x1_graduate school_lower_boundary': -1.6, 'x1_high school_lower_boundary': 0.0, 'x1_others_lower_boundary': 0.0, 'x1_university_lower_boundary': -1.6, 'x2_married_lower_boundary': -1.6, 'x2_others_lower_boundary': 0.0, 'x2_single_lower_boundary': -1.6}\n",
      " >>upper_boundary_dict:  {'LIMIT_BAL_upper_boundary': 354000.0, 'AGE_upper_boundary': 50.400000000000006, 'PAY_0_upper_boundary': 0.6000000000000001, 'PAY_2_upper_boundary': 0.6000000000000001, 'PAY_3_upper_boundary': 0.6000000000000001, 'PAY_4_upper_boundary': 0.6000000000000001, 'PAY_5_upper_boundary': 0.6000000000000001, 'PAY_6_upper_boundary': 0.6000000000000001, 'BILL_AMT1_upper_boundary': 105021.8, 'BILL_AMT2_upper_boundary': 99598.85, 'BILL_AMT3_upper_boundary': 93680.95000000001, 'BILL_AMT4_upper_boundary': 84891.20000000001, 'BILL_AMT5_upper_boundary': 78974.8, 'BILL_AMT6_upper_boundary': 78145.40000000001, 'PAY_AMT1_upper_boundary': 7408.0, 'PAY_AMT2_upper_boundary': 7517.75, 'PAY_AMT3_upper_boundary': 7021.200000000001, 'PAY_AMT4_upper_boundary': 6248.400000000001, 'PAY_AMT5_upper_boundary': 6299.450000000001, 'PAY_AMT6_upper_boundary': 6344.5, 'default payment next month_upper_boundary': 0.0, 'AGE_median_upper_boundary': 48.8, 'x0_female_upper_boundary': 1.6, 'x0_male_upper_boundary': 1.6, 'x1_graduate school_upper_boundary': 1.6, 'x1_high school_upper_boundary': 0.0, 'x1_others_upper_boundary': 0.0, 'x1_university_upper_boundary': 1.6, 'x2_married_upper_boundary': 1.6, 'x2_others_upper_boundary': 0.0, 'x2_single_upper_boundary': 1.6}\n"
     ]
    }
   ],
   "source": [
    "print(\" >>IRQ_dict: \", IRQ_dict)\n",
    "print(\" >>lower_boundary_dict: \", lower_boundary_dict)\n",
    "print(\" >>upper_boundary_dict: \", upper_boundary_dict)"
   ]
  },
  {
   "cell_type": "code",
   "execution_count": 48,
   "metadata": {},
   "outputs": [
    {
     "name": "stdout",
     "output_type": "stream",
     "text": [
      "Percentage of outliers in LIMIT_BAL:  0.11101039977101422\n",
      "Percentage of outliers in AGE:  0.07494513882263143\n",
      "Percentage of outliers in PAY_0:  0.22960595363037878\n",
      "Percentage of outliers in PAY_2:  0.1485545272397672\n",
      "Percentage of outliers in PAY_3:  0.14235282892853734\n",
      "Percentage of outliers in PAY_4:  0.11845243774449003\n",
      "Percentage of outliers in PAY_5:  0.10113538784467131\n",
      "Percentage of outliers in PAY_6:  0.10380688865566262\n",
      "Percentage of outliers in BILL_AMT1:  0.15289571605762808\n",
      "Percentage of outliers in BILL_AMT2:  0.15475622555099705\n",
      "Percentage of outliers in BILL_AMT3:  0.1574754317336132\n",
      "Percentage of outliers in BILL_AMT4:  0.16133956683522566\n",
      "Percentage of outliers in BILL_AMT5:  0.1645835321057151\n",
      "Percentage of outliers in BILL_AMT6:  0.1632000763285946\n",
      "Percentage of outliers in PAY_AMT1:  0.16410647838946665\n",
      "Percentage of outliers in PAY_AMT2:  0.15456540406449767\n",
      "Percentage of outliers in PAY_AMT3:  0.14764812517889514\n",
      "Percentage of outliers in PAY_AMT4:  0.1517507871386318\n",
      "Percentage of outliers in PAY_AMT5:  0.14884075946951628\n",
      "Percentage of outliers in PAY_AMT6:  0.1474095983207709\n",
      "Percentage of outliers in default payment next month:  0.22097128136628183\n",
      "Percentage of outliers in AGE_median:  0.10337754031103902\n",
      "Percentage of outliers in x0_female:  0.0\n",
      "Percentage of outliers in x0_male:  0.0\n",
      "Percentage of outliers in x1_graduate school:  0.0\n",
      "Percentage of outliers in x1_high school:  0.1648697643354642\n",
      "Percentage of outliers in x1_others:  0.0036733136151130617\n",
      "Percentage of outliers in x1_university:  0.0\n",
      "Percentage of outliers in x2_married:  0.0\n",
      "Percentage of outliers in x2_others:  0.010829119358839805\n",
      "Percentage of outliers in x2_single:  0.0\n"
     ]
    }
   ],
   "source": [
    "for col in X_train.columns:\n",
    "    print(f\"Percentage of outliers in {col}: \", columns_outliers_dict[f\"{col}_outliers_list\"].mean())"
   ]
  },
  {
   "cell_type": "code",
   "execution_count": 49,
   "metadata": {},
   "outputs": [
    {
     "name": "stdout",
     "output_type": "stream",
     "text": [
      "['LIMIT_BAL', 'AGE', 'PAY_0', 'PAY_2', 'PAY_3', 'PAY_4', 'PAY_5', 'PAY_6', 'BILL_AMT1', 'BILL_AMT2', 'BILL_AMT3', 'BILL_AMT4', 'BILL_AMT5', 'BILL_AMT6', 'PAY_AMT1', 'PAY_AMT2', 'PAY_AMT3', 'PAY_AMT4', 'PAY_AMT5', 'PAY_AMT6', 'default payment next month', 'AGE_median', 'x1_high school', 'x1_others', 'x2_others']\n"
     ]
    }
   ],
   "source": [
    "outlier_cols = [col for col in X_train.columns if  columns_outliers_dict[f\"{col}_outliers_list\"].mean() > 0 ] \n",
    "print(outlier_cols)"
   ]
  },
  {
   "cell_type": "markdown",
   "metadata": {},
   "source": [
    "## 4.2. Outlier trimming\n",
    "Drop all the records which include an outlier (in X_train)"
   ]
  },
  {
   "cell_type": "code",
   "execution_count": 50,
   "metadata": {},
   "outputs": [
    {
     "data": {
      "text/plain": [
       "((20962, 31), (20962,), (8984, 31), (8984,))"
      ]
     },
     "execution_count": 50,
     "metadata": {},
     "output_type": "execute_result"
    }
   ],
   "source": [
    "X_train.shape, y_train.shape, X_test.shape, y_test.shape"
   ]
  },
  {
   "cell_type": "code",
   "execution_count": 51,
   "metadata": {},
   "outputs": [
    {
     "name": "stdout",
     "output_type": "stream",
     "text": [
      "['AGE', 'x1_others', 'x2_others']\n"
     ]
    }
   ],
   "source": [
    "# we implement the outlier trimming method for outlier_10percent_cols\n",
    "#create a list of columns with less than 10% outliers\n",
    "outlier_10percent_cols = [col for col in outlier_cols if columns_outliers_dict[f\"{col}_outliers_list\"].mean() < 0.1 ] \n",
    "\n",
    "print(outlier_10percent_cols)"
   ]
  },
  {
   "cell_type": "code",
   "execution_count": 52,
   "metadata": {},
   "outputs": [],
   "source": [
    "X_train = X_train.loc[~(\n",
    "+ columns_outliers_dict[\"AGE_outliers_list\"]\n",
    "+ columns_outliers_dict[\"x1_others_outliers_list\"]\n",
    "+ columns_outliers_dict[\"x2_others_outliers_list\"]\n",
    "), \n",
    "]"
   ]
  },
  {
   "cell_type": "code",
   "execution_count": 53,
   "metadata": {},
   "outputs": [],
   "source": [
    "y_train = y_train.loc[~(\n",
    "+ columns_outliers_dict[\"AGE_outliers_list\"]\n",
    "+ columns_outliers_dict[\"x1_others_outliers_list\"]\n",
    "+ columns_outliers_dict[\"x2_others_outliers_list\"]\n",
    "), \n",
    "]"
   ]
  },
  {
   "cell_type": "code",
   "execution_count": 54,
   "metadata": {},
   "outputs": [
    {
     "data": {
      "text/plain": [
       "((19141, 31), (8984, 31), (19141,), (8984,))"
      ]
     },
     "execution_count": 54,
     "metadata": {},
     "output_type": "execute_result"
    }
   ],
   "source": [
    "X_train.shape , X_test.shape, y_train.shape, y_test.shape"
   ]
  },
  {
   "cell_type": "markdown",
   "metadata": {},
   "source": [
    "The outlier trimming procedure has reduced the 20962 records in X_train/y_train to 19141 records.\\\n",
    "We also need to check if the Imbalance ration is changed."
   ]
  },
  {
   "cell_type": "code",
   "execution_count": 55,
   "metadata": {},
   "outputs": [
    {
     "name": "stdout",
     "output_type": "stream",
     "text": [
      "Imbalance ratio X_train = 0.280934216690089\n"
     ]
    }
   ],
   "source": [
    "X_train_class_0 = X_train[\"default payment next month\"].value_counts().to_list()[0]\n",
    "X_train_class_1 = X_train[\"default payment next month\"].value_counts().to_list()[1]\n",
    "print(\"Imbalance ratio X_train =\", X_train_class_1/X_train_class_0)"
   ]
  },
  {
   "cell_type": "markdown",
   "metadata": {},
   "source": [
    "## 4.2. Outlier Capping\n",
    "TODO: explanations!"
   ]
  },
  {
   "cell_type": "code",
   "execution_count": 56,
   "metadata": {},
   "outputs": [],
   "source": [
    "# we create a set of the columns with more than 1 percent outliers\n",
    "outlier_90percent_cols = list(set(X_train.columns) - set(outlier_10percent_cols)) "
   ]
  },
  {
   "cell_type": "code",
   "execution_count": 57,
   "metadata": {},
   "outputs": [
    {
     "name": "stdout",
     "output_type": "stream",
     "text": [
      "['PAY_AMT6', 'PAY_0', 'x1_graduate school', 'PAY_AMT1', 'AGE_median', 'x1_university', 'BILL_AMT1', 'x2_single', 'PAY_5', 'PAY_6', 'BILL_AMT3', 'BILL_AMT5', 'PAY_AMT3', 'BILL_AMT4', 'x2_married', 'x0_female', 'BILL_AMT6', 'PAY_AMT2', 'LIMIT_BAL', 'PAY_AMT5', 'PAY_2', 'PAY_4', 'x0_male', 'default payment next month', 'PAY_AMT4', 'PAY_3', 'BILL_AMT2', 'x1_high school']\n"
     ]
    }
   ],
   "source": [
    "print(outlier_90percent_cols)"
   ]
  },
  {
   "cell_type": "code",
   "execution_count": 58,
   "metadata": {},
   "outputs": [],
   "source": [
    "for col in outlier_90percent_cols:\n",
    "    X_train[col] = np.where(X_train[col] > upper_boundary_dict[f\"{col}_upper_boundary\"], upper_boundary_dict[f\"{col}_upper_boundary\"],\n",
    "                         np.where(X_train[col] < lower_boundary_dict[f\"{col}_lower_boundary\"], lower_boundary_dict[f\"{col}_lower_boundary\"], X_train[col]))"
   ]
  },
  {
   "cell_type": "code",
   "execution_count": 59,
   "metadata": {},
   "outputs": [
    {
     "data": {
      "text/plain": [
       "((19141, 31), (8984, 31), (19141,), (8984,))"
      ]
     },
     "execution_count": 59,
     "metadata": {},
     "output_type": "execute_result"
    }
   ],
   "source": [
    "X_train.shape , X_test.shape, y_train.shape, y_test.shape"
   ]
  },
  {
   "cell_type": "markdown",
   "metadata": {},
   "source": [
    "We observe that outlier capping does not reduce the dataset size."
   ]
  },
  {
   "cell_type": "markdown",
   "metadata": {},
   "source": [
    "# 5. Feature Scaling"
   ]
  },
  {
   "cell_type": "markdown",
   "metadata": {},
   "source": [
    "Before performing feature scaling, we drop the target column from X_train."
   ]
  },
  {
   "cell_type": "code",
   "execution_count": 60,
   "metadata": {},
   "outputs": [],
   "source": [
    "X_train.drop(columns=[\"default payment next month\"], inplace= True)\n",
    "X_test.drop(columns=[\"default payment next month\"], inplace= True)"
   ]
  },
  {
   "cell_type": "code",
   "execution_count": 61,
   "metadata": {},
   "outputs": [
    {
     "data": {
      "text/plain": [
       "((19141, 30), (8984, 30), (19141,), (8984,))"
      ]
     },
     "execution_count": 61,
     "metadata": {},
     "output_type": "execute_result"
    }
   ],
   "source": [
    "X_train.shape , X_test.shape, y_train.shape, y_test.shape"
   ]
  },
  {
   "cell_type": "markdown",
   "metadata": {},
   "source": [
    "### 5.2. Min-Max Scaling"
   ]
  },
  {
   "cell_type": "code",
   "execution_count": 62,
   "metadata": {},
   "outputs": [],
   "source": [
    "from sklearn.preprocessing import MinMaxScaler\n",
    "scaler = MinMaxScaler()\n",
    "scaler.fit(X_train)\n",
    "X_train_scaled = scaler.transform(X_train)\n",
    "X_test_scaled = scaler.transform(X_test)"
   ]
  },
  {
   "cell_type": "markdown",
   "metadata": {},
   "source": [
    "# 6. Feature Selection\n",
    "6.1. Dropping Constant Features \\\n",
    "6.2. Correlation-based Feature Selection\\\n",
    "6.2.a Selecting Features with low correlations with other features\\\n",
    "6.2.a Selecting Features with hight correlations with Target"
   ]
  },
  {
   "cell_type": "markdown",
   "metadata": {},
   "source": [
    "### 6.1. Dropping Constant Features"
   ]
  },
  {
   "cell_type": "code",
   "execution_count": 63,
   "metadata": {},
   "outputs": [
    {
     "data": {
      "text/plain": [
       "['x1_high school', 'x1_others', 'x2_others']"
      ]
     },
     "execution_count": 63,
     "metadata": {},
     "output_type": "execute_result"
    }
   ],
   "source": [
    "const_feat = [X for X in X_train.columns if X_train[X].nunique() == 1]\n",
    "const_feat"
   ]
  },
  {
   "cell_type": "code",
   "execution_count": 64,
   "metadata": {},
   "outputs": [],
   "source": [
    "X_train.drop(labels=const_feat, axis=1, inplace= True)\n",
    "X_test.drop(labels=const_feat, axis=1, inplace= True)"
   ]
  },
  {
   "cell_type": "code",
   "execution_count": 65,
   "metadata": {},
   "outputs": [
    {
     "data": {
      "text/plain": [
       "((19141, 27), (8984, 27), (19141,), (8984,))"
      ]
     },
     "execution_count": 65,
     "metadata": {},
     "output_type": "execute_result"
    }
   ],
   "source": [
    "X_train.shape , X_test.shape, y_train.shape, y_test.shape"
   ]
  },
  {
   "cell_type": "markdown",
   "metadata": {},
   "source": [
    "### 6.2. Correlation-based Feature Selection"
   ]
  },
  {
   "cell_type": "markdown",
   "metadata": {},
   "source": [
    "### 6.2.a Selecting Features with hight correlations with Target"
   ]
  },
  {
   "cell_type": "code",
   "execution_count": 66,
   "metadata": {},
   "outputs": [],
   "source": [
    "# We first add the target (y_train) to the Features (X_train) to be able to calculate the correlation matrix between them\n",
    "df_train = pd.concat([X_train.reset_index(drop=True), y_train.reset_index(drop=True)], axis = 1)\n",
    "# create the correlation matrix\n",
    "cor_mat = df_train.corr()\n",
    "# Add a column which containes the sorted absolute values of corr(X_train, y_train)\n",
    "cor_mat[\"X-Y_corr\"]= cor_mat[\"default payment next month\"].abs().sort_values(ascending=False) "
   ]
  },
  {
   "cell_type": "code",
   "execution_count": 67,
   "metadata": {},
   "outputs": [
    {
     "data": {
      "text/plain": [
       "LIMIT_BAL                     0.157349\n",
       "AGE                           0.008035\n",
       "PAY_0                         0.210598\n",
       "PAY_2                         0.164235\n",
       "PAY_3                         0.149419\n",
       "PAY_4                         0.131824\n",
       "PAY_5                         0.120250\n",
       "PAY_6                         0.110963\n",
       "BILL_AMT1                     0.024606\n",
       "BILL_AMT2                     0.017476\n",
       "BILL_AMT3                     0.015716\n",
       "BILL_AMT4                     0.010190\n",
       "BILL_AMT5                     0.008320\n",
       "BILL_AMT6                     0.001740\n",
       "PAY_AMT1                      0.141378\n",
       "PAY_AMT2                      0.140700\n",
       "PAY_AMT3                      0.127861\n",
       "PAY_AMT4                      0.117183\n",
       "PAY_AMT5                      0.107475\n",
       "PAY_AMT6                      0.116103\n",
       "AGE_median                    0.007808\n",
       "x0_female                     0.037545\n",
       "x0_male                       0.037545\n",
       "x1_graduate school            0.057374\n",
       "x1_university                 0.029199\n",
       "x2_married                    0.021636\n",
       "x2_single                     0.021636\n",
       "default payment next month    1.000000\n",
       "Name: X-Y_corr, dtype: float64"
      ]
     },
     "execution_count": 67,
     "metadata": {},
     "output_type": "execute_result"
    }
   ],
   "source": [
    "cor_mat[\"X-Y_corr\"]"
   ]
  },
  {
   "cell_type": "code",
   "execution_count": 68,
   "metadata": {},
   "outputs": [],
   "source": [
    "# collect all the features with corr(X_train, y_train) > 0.01 into a list\n",
    "final_cols = cor_mat[cor_mat[\"X-Y_corr\"] > 0.01].index.values.tolist()\n",
    "final_cols = list(set(final_cols) - set([\"default payment next month\"]))"
   ]
  },
  {
   "cell_type": "code",
   "execution_count": 69,
   "metadata": {},
   "outputs": [
    {
     "data": {
      "text/plain": [
       "23"
      ]
     },
     "execution_count": 69,
     "metadata": {},
     "output_type": "execute_result"
    }
   ],
   "source": [
    "len(final_cols)"
   ]
  },
  {
   "cell_type": "code",
   "execution_count": 70,
   "metadata": {},
   "outputs": [],
   "source": [
    "X_train = X_train[final_cols]\n",
    "X_test = X_test[final_cols]"
   ]
  },
  {
   "cell_type": "code",
   "execution_count": 71,
   "metadata": {},
   "outputs": [
    {
     "data": {
      "text/plain": [
       "((19141, 23), (19141,), (8984, 23), (8984,))"
      ]
     },
     "execution_count": 71,
     "metadata": {},
     "output_type": "execute_result"
    }
   ],
   "source": [
    "X_train.shape, y_train.shape, X_test.shape, y_test.shape"
   ]
  },
  {
   "cell_type": "markdown",
   "metadata": {},
   "source": [
    "### 6.2.b Selecting Features with low correlations with other features"
   ]
  },
  {
   "cell_type": "code",
   "execution_count": 72,
   "metadata": {},
   "outputs": [
    {
     "data": {
      "text/plain": [
       "<AxesSubplot:>"
      ]
     },
     "execution_count": 72,
     "metadata": {},
     "output_type": "execute_result"
    },
    {
     "data": {
      "image/png": "[encoded data removed]",
      "text/plain": [
       "<Figure size 792x792 with 2 Axes>"
      ]
     },
     "metadata": {
      "needs_background": "light"
     },
     "output_type": "display_data"
    }
   ],
   "source": [
    "corrmat = X_train.corr(method='pearson')\n",
    "\n",
    "cmap = sns.diverging_palette(220, 20, as_cmap=True)\n",
    "\n",
    "fig, ax = plt.subplots()\n",
    "fig.set_size_inches(11,11)\n",
    "\n",
    "sns.heatmap(corrmat, cmap=cmap)"
   ]
  },
  {
   "cell_type": "code",
   "execution_count": 73,
   "metadata": {},
   "outputs": [
    {
     "name": "stdout",
     "output_type": "stream",
     "text": [
      "1.0000000000000002 x2_married x2_single\n",
      "0.9999999999999998 x0_male x0_female\n",
      "0.9359599283033919 BILL_AMT2 BILL_AMT1\n",
      "0.9288389488314095 BILL_AMT2 BILL_AMT3\n",
      "0.9225206806190829 BILL_AMT4 BILL_AMT3\n"
     ]
    }
   ],
   "source": [
    "col_corr = set()\n",
    "corr_matrix = X_train.corr()\n",
    "\n",
    "for i in range(len(corr_matrix.columns)):\n",
    "    for j in range(i):\n",
    "        if abs(corr_matrix.iloc[i, j]) > 0.9: \n",
    "            print(abs(corr_matrix.iloc[i, j]), corr_matrix.columns[i], corr_matrix.columns[j])\n",
    "            colname = corr_matrix.columns[j]\n",
    "            col_corr.add(colname)"
   ]
  },
  {
   "cell_type": "code",
   "execution_count": 74,
   "metadata": {},
   "outputs": [],
   "source": [
    "X_train.drop(labels=col_corr, axis=1, inplace=True)\n",
    "X_test.drop(labels=col_corr, axis=1, inplace=True)"
   ]
  },
  {
   "cell_type": "code",
   "execution_count": 75,
   "metadata": {},
   "outputs": [
    {
     "data": {
      "text/plain": [
       "((19141, 19), (19141,), (8984, 19), (8984,))"
      ]
     },
     "execution_count": 75,
     "metadata": {},
     "output_type": "execute_result"
    }
   ],
   "source": [
    "X_train.shape, y_train.shape, X_test.shape, y_test.shape"
   ]
  },
  {
   "cell_type": "markdown",
   "metadata": {},
   "source": [
    "## 7. Saving the preprocessed data"
   ]
  },
  {
   "cell_type": "code",
   "execution_count": 76,
   "metadata": {},
   "outputs": [],
   "source": [
    "pd.DataFrame(X_train).to_csv(\"x_train.csv\", index=None)\n",
    "pd.DataFrame(X_test).to_csv(\"x_test.csv\", index=None)\n",
    "\n",
    "pd.DataFrame(y_train).to_csv(\"y_train.csv\", index=None)\n",
    "pd.DataFrame(y_test).to_csv(\"y_test.csv\", index=None)"
   ]
  }
 ],
 "metadata": {
  "interpreter": {
   "hash": "e737f341e96eee98a3a2acbd8b0c12a6221c684ebe624d9d044b4a2a2a65610f"
  },
  "kernelspec": {
   "display_name": "Python 3 (ipykernel)",
   "language": "python",
   "name": "python3"
  },
  "language_info": {
   "codemirror_mode": {
    "name": "ipython",
    "version": 3
   },
   "file_extension": ".py",
   "mimetype": "text/x-python",
   "name": "python",
   "nbconvert_exporter": "python",
   "pygments_lexer": "ipython3",
   "version": "3.9.7"
  }
 },
 "nbformat": 4,
 "nbformat_minor": 2
}
