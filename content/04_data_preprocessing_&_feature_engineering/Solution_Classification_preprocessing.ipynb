{
 "cells": [
  {
   "cell_type": "markdown",
   "metadata": {},
   "source": [
    "In this notebook, we perform the preprocessing of the dataset \"data-science-bootcamp/content/datasets/classification/raw/classification_25.csv\". \n",
    "The output of this notebook will be written in the folder \"data-science-bootcamp/content/datasets/classification/processed\" as four separated csv files: X_train.csv, X_test.csv, y_train.csv, y_test.csv. (These files will be used as input for the ML algorithms which are discussed in the next sessions of the bootcamp).\n",
    "\n",
    "The dataset is a modified version of \"default_of_credit_card_clients.xls\" from https://archive.ics.uci.edu/ml/datasets/default+of+credit+card+clients. The slight modifications are done for the pedagogical reasons of demonstrating different methods of preprocessing and feature engineering (particularly, missing value imputation and categorical encoding).\n",
    "This binary classification dataset contains 23 different attributes of the customers and 1 binary column \"default payment next month\" which is the target column to be predicted by the ML model. \n",
    "\n",
    "The notebook contains the following sections:\n",
    "\n",
    "0. Exploratory Data Analysis\n",
    "1. Missing Value Imputation\n",
    "1.0. Identifying columns with null values \\\n",
    "1.1. Complete Case Analysis\\\n",
    "1.2. Mean or Median Imputation \\\n",
    "1.3. Frequent Category Imputation (Mode Imputation)\n",
    "2. Categorical encoding\\\n",
    "2.1. One Hot Encoding \n",
    "3. Handling Outliers\\\n",
    "3.1. Identifying the outliers \\\n",
    "3.2. Outlier trimming \\\n",
    "3.3. Outlier Capping\n",
    "4. Feature Scaling\\\n",
    "4.1. Min-Max Scaling\n",
    "5. Feature Selection\\\n",
    "5.1. Dropping Constant Features \\\n",
    "5.2. Correlation-based Feature Selection\\\n",
    "5.2.a Selecting Features with hight correlations with Target\\\n",
    "5.2.a Selecting Features with low correlations with other features\n",
    "6. Finalizing\\\n",
    "6.1. Saving the preprocessed data\\\n",
    "6.2. Testing the cleaned data with feeding it to a logistic regression algorithm\n",
    "\n"
   ]
  },
  {
   "cell_type": "markdown",
   "metadata": {},
   "source": [
    "# 0. Exploratory Data Analysis"
   ]
  },
  {
   "cell_type": "code",
   "execution_count": 1,
   "metadata": {},
   "outputs": [],
   "source": [
    "#importing the necessary libraries\n",
    "import pandas as pd\n",
    "import numpy as np\n",
    "import matplotlib.pyplot as plt\n",
    "import seaborn as sns \n",
    "pd.set_option('display.max_columns', None) \n",
    "import warnings\n",
    "warnings.filterwarnings('ignore')"
   ]
  },
  {
   "cell_type": "markdown",
   "metadata": {},
   "source": [
    "### 0.1 Loading the data into a dataframe"
   ]
  },
  {
   "cell_type": "code",
   "execution_count": 2,
   "metadata": {},
   "outputs": [],
   "source": [
    "# loading the \"data_25.csv\" into a dataframe called \"df\"\n",
    "df= pd.read_csv('../datasets/classification/raw/classification_25.csv', sep= \";\", encoding= \"utf-8\")"
   ]
  },
  {
   "cell_type": "code",
   "execution_count": 3,
   "metadata": {},
   "outputs": [
    {
     "data": {
      "text/html": [
       "<div>\n",
       "<style scoped>\n",
       "    .dataframe tbody tr th:only-of-type {\n",
       "        vertical-align: middle;\n",
       "    }\n",
       "\n",
       "    .dataframe tbody tr th {\n",
       "        vertical-align: top;\n",
       "    }\n",
       "\n",
       "    .dataframe thead th {\n",
       "        text-align: right;\n",
       "    }\n",
       "</style>\n",
       "<table border=\"1\" class=\"dataframe\">\n",
       "  <thead>\n",
       "    <tr style=\"text-align: right;\">\n",
       "      <th></th>\n",
       "      <th>ID</th>\n",
       "      <th>LIMIT_BAL</th>\n",
       "      <th>SEX</th>\n",
       "      <th>EDUCATION</th>\n",
       "      <th>MARRIAGE</th>\n",
       "      <th>AGE</th>\n",
       "      <th>PAY_0</th>\n",
       "      <th>PAY_2</th>\n",
       "      <th>PAY_3</th>\n",
       "      <th>PAY_4</th>\n",
       "      <th>PAY_5</th>\n",
       "      <th>PAY_6</th>\n",
       "      <th>BILL_AMT1</th>\n",
       "      <th>BILL_AMT2</th>\n",
       "      <th>BILL_AMT3</th>\n",
       "      <th>BILL_AMT4</th>\n",
       "      <th>BILL_AMT5</th>\n",
       "      <th>BILL_AMT6</th>\n",
       "      <th>PAY_AMT1</th>\n",
       "      <th>PAY_AMT2</th>\n",
       "      <th>PAY_AMT3</th>\n",
       "      <th>PAY_AMT4</th>\n",
       "      <th>PAY_AMT5</th>\n",
       "      <th>PAY_AMT6</th>\n",
       "      <th>default payment next month</th>\n",
       "    </tr>\n",
       "  </thead>\n",
       "  <tbody>\n",
       "    <tr>\n",
       "      <th>0</th>\n",
       "      <td>1</td>\n",
       "      <td>20000</td>\n",
       "      <td>female</td>\n",
       "      <td>university</td>\n",
       "      <td>married</td>\n",
       "      <td>24.0</td>\n",
       "      <td>2</td>\n",
       "      <td>2</td>\n",
       "      <td>-1</td>\n",
       "      <td>-1</td>\n",
       "      <td>-2</td>\n",
       "      <td>-2</td>\n",
       "      <td>3913</td>\n",
       "      <td>3102</td>\n",
       "      <td>689</td>\n",
       "      <td>0</td>\n",
       "      <td>0</td>\n",
       "      <td>0</td>\n",
       "      <td>0</td>\n",
       "      <td>689</td>\n",
       "      <td>0</td>\n",
       "      <td>0</td>\n",
       "      <td>0</td>\n",
       "      <td>0</td>\n",
       "      <td>1</td>\n",
       "    </tr>\n",
       "    <tr>\n",
       "      <th>1</th>\n",
       "      <td>2</td>\n",
       "      <td>120000</td>\n",
       "      <td>female</td>\n",
       "      <td>university</td>\n",
       "      <td>single</td>\n",
       "      <td>26.0</td>\n",
       "      <td>-1</td>\n",
       "      <td>2</td>\n",
       "      <td>0</td>\n",
       "      <td>0</td>\n",
       "      <td>0</td>\n",
       "      <td>2</td>\n",
       "      <td>2682</td>\n",
       "      <td>1725</td>\n",
       "      <td>2682</td>\n",
       "      <td>3272</td>\n",
       "      <td>3455</td>\n",
       "      <td>3261</td>\n",
       "      <td>0</td>\n",
       "      <td>1000</td>\n",
       "      <td>1000</td>\n",
       "      <td>1000</td>\n",
       "      <td>0</td>\n",
       "      <td>2000</td>\n",
       "      <td>1</td>\n",
       "    </tr>\n",
       "    <tr>\n",
       "      <th>2</th>\n",
       "      <td>3</td>\n",
       "      <td>90000</td>\n",
       "      <td>female</td>\n",
       "      <td>university</td>\n",
       "      <td>single</td>\n",
       "      <td>34.0</td>\n",
       "      <td>0</td>\n",
       "      <td>0</td>\n",
       "      <td>0</td>\n",
       "      <td>0</td>\n",
       "      <td>0</td>\n",
       "      <td>0</td>\n",
       "      <td>29239</td>\n",
       "      <td>14027</td>\n",
       "      <td>13559</td>\n",
       "      <td>14331</td>\n",
       "      <td>14948</td>\n",
       "      <td>15549</td>\n",
       "      <td>1518</td>\n",
       "      <td>1500</td>\n",
       "      <td>1000</td>\n",
       "      <td>1000</td>\n",
       "      <td>1000</td>\n",
       "      <td>5000</td>\n",
       "      <td>0</td>\n",
       "    </tr>\n",
       "    <tr>\n",
       "      <th>3</th>\n",
       "      <td>4</td>\n",
       "      <td>50000</td>\n",
       "      <td>female</td>\n",
       "      <td>university</td>\n",
       "      <td>married</td>\n",
       "      <td>37.0</td>\n",
       "      <td>0</td>\n",
       "      <td>0</td>\n",
       "      <td>0</td>\n",
       "      <td>0</td>\n",
       "      <td>0</td>\n",
       "      <td>0</td>\n",
       "      <td>46990</td>\n",
       "      <td>48233</td>\n",
       "      <td>49291</td>\n",
       "      <td>28314</td>\n",
       "      <td>28959</td>\n",
       "      <td>29547</td>\n",
       "      <td>2000</td>\n",
       "      <td>2019</td>\n",
       "      <td>1200</td>\n",
       "      <td>1100</td>\n",
       "      <td>1069</td>\n",
       "      <td>1000</td>\n",
       "      <td>0</td>\n",
       "    </tr>\n",
       "    <tr>\n",
       "      <th>4</th>\n",
       "      <td>5</td>\n",
       "      <td>50000</td>\n",
       "      <td>male</td>\n",
       "      <td>university</td>\n",
       "      <td>married</td>\n",
       "      <td>57.0</td>\n",
       "      <td>-1</td>\n",
       "      <td>0</td>\n",
       "      <td>-1</td>\n",
       "      <td>0</td>\n",
       "      <td>0</td>\n",
       "      <td>0</td>\n",
       "      <td>8617</td>\n",
       "      <td>5670</td>\n",
       "      <td>35835</td>\n",
       "      <td>20940</td>\n",
       "      <td>19146</td>\n",
       "      <td>19131</td>\n",
       "      <td>2000</td>\n",
       "      <td>36681</td>\n",
       "      <td>10000</td>\n",
       "      <td>9000</td>\n",
       "      <td>689</td>\n",
       "      <td>679</td>\n",
       "      <td>0</td>\n",
       "    </tr>\n",
       "  </tbody>\n",
       "</table>\n",
       "</div>"
      ],
      "text/plain": [
       "   ID  LIMIT_BAL     SEX   EDUCATION MARRIAGE   AGE  PAY_0  PAY_2  PAY_3  \\\n",
       "0   1      20000  female  university  married  24.0      2      2     -1   \n",
       "1   2     120000  female  university   single  26.0     -1      2      0   \n",
       "2   3      90000  female  university   single  34.0      0      0      0   \n",
       "3   4      50000  female  university  married  37.0      0      0      0   \n",
       "4   5      50000    male  university  married  57.0     -1      0     -1   \n",
       "\n",
       "   PAY_4  PAY_5  PAY_6  BILL_AMT1  BILL_AMT2  BILL_AMT3  BILL_AMT4  BILL_AMT5  \\\n",
       "0     -1     -2     -2       3913       3102        689          0          0   \n",
       "1      0      0      2       2682       1725       2682       3272       3455   \n",
       "2      0      0      0      29239      14027      13559      14331      14948   \n",
       "3      0      0      0      46990      48233      49291      28314      28959   \n",
       "4      0      0      0       8617       5670      35835      20940      19146   \n",
       "\n",
       "   BILL_AMT6  PAY_AMT1  PAY_AMT2  PAY_AMT3  PAY_AMT4  PAY_AMT5  PAY_AMT6  \\\n",
       "0          0         0       689         0         0         0         0   \n",
       "1       3261         0      1000      1000      1000         0      2000   \n",
       "2      15549      1518      1500      1000      1000      1000      5000   \n",
       "3      29547      2000      2019      1200      1100      1069      1000   \n",
       "4      19131      2000     36681     10000      9000       689       679   \n",
       "\n",
       "   default payment next month  \n",
       "0                           1  \n",
       "1                           1  \n",
       "2                           0  \n",
       "3                           0  \n",
       "4                           0  "
      ]
     },
     "execution_count": 3,
     "metadata": {},
     "output_type": "execute_result"
    }
   ],
   "source": [
    "df.head()"
   ]
  },
  {
   "cell_type": "code",
   "execution_count": 4,
   "metadata": {},
   "outputs": [],
   "source": [
    "# drop the first column (\"ID\")\n",
    "df.drop(columns=[\"ID\"], axis=1, inplace= True)"
   ]
  },
  {
   "cell_type": "code",
   "execution_count": 5,
   "metadata": {},
   "outputs": [
    {
     "data": {
      "text/plain": [
       "(30000, 24)"
      ]
     },
     "execution_count": 5,
     "metadata": {},
     "output_type": "execute_result"
    }
   ],
   "source": [
    "# check the shape of the dataframe as a 2-dimensional data object (#rows, #columns)\n",
    "df.shape"
   ]
  },
  {
   "cell_type": "markdown",
   "metadata": {},
   "source": [
    "The dataset contains 30000 records (rows) and 24 columns (features + target):\n",
    "\n",
    "The target column (y) is called target.\n",
    "The rest 23 columns (X) are our feature vectors."
   ]
  },
  {
   "cell_type": "code",
   "execution_count": 6,
   "metadata": {},
   "outputs": [],
   "source": [
    "# storing the \"default payment next month\" in a variable called \"target\", and the rest of columns' names in a variable called \"X\"\n",
    "target = \"default payment next month\"\n",
    "X = list(set(df.columns) - set([target])) "
   ]
  },
  {
   "cell_type": "code",
   "execution_count": 7,
   "metadata": {},
   "outputs": [
    {
     "data": {
      "image/png": "[encoded data removed]",
      "text/plain": [
       "<Figure size 432x288 with 1 Axes>"
      ]
     },
     "metadata": {
      "needs_background": "light"
     },
     "output_type": "display_data"
    }
   ],
   "source": [
    "df[target].value_counts().plot(kind=\"bar\")\n",
    "plt.ylabel(\"Number of Records\")\n",
    "plt.xlabel(\"default payment next month (target variable)\")\n",
    "plt.show()"
   ]
  },
  {
   "cell_type": "code",
   "execution_count": 8,
   "metadata": {},
   "outputs": [
    {
     "name": "stdout",
     "output_type": "stream",
     "text": [
      "Imbalance ratio = 0.2840267077555213\n"
     ]
    }
   ],
   "source": [
    "# calculate the imbalance ration of the target classes\n",
    "class_0 = df[target].value_counts().to_list()[0]\n",
    "class_1 = df[target].value_counts().to_list()[1]\n",
    "original_imbalance_ratio = class_1/class_0\n",
    "print(\"Imbalance ratio =\", original_imbalance_ratio)"
   ]
  },
  {
   "cell_type": "markdown",
   "metadata": {},
   "source": [
    "The imbalance ratio is 0.28 which is good enough for this classification problem, given the size of the dataset (30000).\\\n",
    "we will later compare the original_imbalance_ratio with the train_imbalance_ration which is obtained after train/test split and demand that they are not very different."
   ]
  },
  {
   "cell_type": "code",
   "execution_count": 9,
   "metadata": {},
   "outputs": [
    {
     "data": {
      "text/html": [
       "<div>\n",
       "<style scoped>\n",
       "    .dataframe tbody tr th:only-of-type {\n",
       "        vertical-align: middle;\n",
       "    }\n",
       "\n",
       "    .dataframe tbody tr th {\n",
       "        vertical-align: top;\n",
       "    }\n",
       "\n",
       "    .dataframe thead th {\n",
       "        text-align: right;\n",
       "    }\n",
       "</style>\n",
       "<table border=\"1\" class=\"dataframe\">\n",
       "  <thead>\n",
       "    <tr style=\"text-align: right;\">\n",
       "      <th></th>\n",
       "      <th>0</th>\n",
       "    </tr>\n",
       "  </thead>\n",
       "  <tbody>\n",
       "    <tr>\n",
       "      <th>LIMIT_BAL</th>\n",
       "      <td>int64</td>\n",
       "    </tr>\n",
       "    <tr>\n",
       "      <th>SEX</th>\n",
       "      <td>object</td>\n",
       "    </tr>\n",
       "    <tr>\n",
       "      <th>EDUCATION</th>\n",
       "      <td>object</td>\n",
       "    </tr>\n",
       "    <tr>\n",
       "      <th>MARRIAGE</th>\n",
       "      <td>object</td>\n",
       "    </tr>\n",
       "    <tr>\n",
       "      <th>AGE</th>\n",
       "      <td>float64</td>\n",
       "    </tr>\n",
       "    <tr>\n",
       "      <th>PAY_0</th>\n",
       "      <td>int64</td>\n",
       "    </tr>\n",
       "    <tr>\n",
       "      <th>PAY_2</th>\n",
       "      <td>int64</td>\n",
       "    </tr>\n",
       "    <tr>\n",
       "      <th>PAY_3</th>\n",
       "      <td>int64</td>\n",
       "    </tr>\n",
       "    <tr>\n",
       "      <th>PAY_4</th>\n",
       "      <td>int64</td>\n",
       "    </tr>\n",
       "    <tr>\n",
       "      <th>PAY_5</th>\n",
       "      <td>int64</td>\n",
       "    </tr>\n",
       "    <tr>\n",
       "      <th>PAY_6</th>\n",
       "      <td>int64</td>\n",
       "    </tr>\n",
       "    <tr>\n",
       "      <th>BILL_AMT1</th>\n",
       "      <td>int64</td>\n",
       "    </tr>\n",
       "    <tr>\n",
       "      <th>BILL_AMT2</th>\n",
       "      <td>int64</td>\n",
       "    </tr>\n",
       "    <tr>\n",
       "      <th>BILL_AMT3</th>\n",
       "      <td>int64</td>\n",
       "    </tr>\n",
       "    <tr>\n",
       "      <th>BILL_AMT4</th>\n",
       "      <td>int64</td>\n",
       "    </tr>\n",
       "    <tr>\n",
       "      <th>BILL_AMT5</th>\n",
       "      <td>int64</td>\n",
       "    </tr>\n",
       "    <tr>\n",
       "      <th>BILL_AMT6</th>\n",
       "      <td>int64</td>\n",
       "    </tr>\n",
       "    <tr>\n",
       "      <th>PAY_AMT1</th>\n",
       "      <td>int64</td>\n",
       "    </tr>\n",
       "    <tr>\n",
       "      <th>PAY_AMT2</th>\n",
       "      <td>int64</td>\n",
       "    </tr>\n",
       "    <tr>\n",
       "      <th>PAY_AMT3</th>\n",
       "      <td>int64</td>\n",
       "    </tr>\n",
       "    <tr>\n",
       "      <th>PAY_AMT4</th>\n",
       "      <td>int64</td>\n",
       "    </tr>\n",
       "    <tr>\n",
       "      <th>PAY_AMT5</th>\n",
       "      <td>int64</td>\n",
       "    </tr>\n",
       "    <tr>\n",
       "      <th>PAY_AMT6</th>\n",
       "      <td>int64</td>\n",
       "    </tr>\n",
       "    <tr>\n",
       "      <th>default payment next month</th>\n",
       "      <td>int64</td>\n",
       "    </tr>\n",
       "  </tbody>\n",
       "</table>\n",
       "</div>"
      ],
      "text/plain": [
       "                                  0\n",
       "LIMIT_BAL                     int64\n",
       "SEX                          object\n",
       "EDUCATION                    object\n",
       "MARRIAGE                     object\n",
       "AGE                         float64\n",
       "PAY_0                         int64\n",
       "PAY_2                         int64\n",
       "PAY_3                         int64\n",
       "PAY_4                         int64\n",
       "PAY_5                         int64\n",
       "PAY_6                         int64\n",
       "BILL_AMT1                     int64\n",
       "BILL_AMT2                     int64\n",
       "BILL_AMT3                     int64\n",
       "BILL_AMT4                     int64\n",
       "BILL_AMT5                     int64\n",
       "BILL_AMT6                     int64\n",
       "PAY_AMT1                      int64\n",
       "PAY_AMT2                      int64\n",
       "PAY_AMT3                      int64\n",
       "PAY_AMT4                      int64\n",
       "PAY_AMT5                      int64\n",
       "PAY_AMT6                      int64\n",
       "default payment next month    int64"
      ]
     },
     "execution_count": 9,
     "metadata": {},
     "output_type": "execute_result"
    }
   ],
   "source": [
    "# We first have a look at the data types of all columns\n",
    "df_type = pd.DataFrame(df.dtypes)\n",
    "df_type"
   ]
  },
  {
   "cell_type": "code",
   "execution_count": 10,
   "metadata": {},
   "outputs": [
    {
     "name": "stdout",
     "output_type": "stream",
     "text": [
      "Number of String Columns: 3\n",
      "Number of numerical Columns: 20\n"
     ]
    }
   ],
   "source": [
    "# classifying feature columns with different data types:\n",
    "str_cols = []\n",
    "for col, dtype in df[X].dtypes.to_dict().items():\n",
    "    if str(dtype) in 'object':\n",
    "        str_cols.append(col)\n",
    "\n",
    "print(\"Number of String Columns:\", len(str_cols))\n",
    "\n",
    "num_cols = []\n",
    "for col, dtype in df[X].dtypes.to_dict().items():\n",
    "    if str(dtype) in 'int64' or str(dtype) in 'float64':\n",
    "        num_cols.append(col)\n",
    "print(\"Number of numerical Columns:\", len(num_cols))"
   ]
  },
  {
   "cell_type": "markdown",
   "metadata": {},
   "source": [
    "# 1. Missing Value Imputation"
   ]
  },
  {
   "cell_type": "markdown",
   "metadata": {},
   "source": [
    "### 1.0. Identifying columns with null values"
   ]
  },
  {
   "cell_type": "code",
   "execution_count": 11,
   "metadata": {},
   "outputs": [],
   "source": [
    "# creating a list of columns which contain missing values\n",
    "null_cols = [col for col in df.columns if df[col].isnull().mean() > 0] "
   ]
  },
  {
   "cell_type": "code",
   "execution_count": 12,
   "metadata": {},
   "outputs": [
    {
     "name": "stdout",
     "output_type": "stream",
     "text": [
      "['EDUCATION', 'MARRIAGE', 'AGE']\n"
     ]
    }
   ],
   "source": [
    "print(null_cols)"
   ]
  },
  {
   "cell_type": "code",
   "execution_count": 13,
   "metadata": {},
   "outputs": [
    {
     "name": "stdout",
     "output_type": "stream",
     "text": [
      "Number of Columns with Null values: 3\n",
      "Percentage of null values:\n",
      "EDUCATION 0.0115 , Data Type:  object\n",
      "MARRIAGE 0.0018 , Data Type:  object\n",
      "AGE 0.0187 , Data Type:  float64\n"
     ]
    }
   ],
   "source": [
    "print(\"Number of Columns with Null values:\", len(null_cols))\n",
    "print(\"Percentage of null values:\")\n",
    "for col in null_cols:\n",
    "    print(col, round(df[col].isnull().mean(), 4), \", Data Type: \", df[col].dtype)"
   ]
  },
  {
   "cell_type": "markdown",
   "metadata": {},
   "source": [
    "We observe that \"EDUCATION\" and \"AGE\" have less than 2% missing values and \"MARRIAGE\" has 0.18% missing value.\\\n",
    "For the column \"MARRIAGE\", we perform Complete Case Analysis,\\\n",
    "For the integer column \"AGE\", we perform mean/median imputation, \\\n",
    "For the categorical column \"EDUCATION\", we perform Frequent Category Imputation."
   ]
  },
  {
   "cell_type": "markdown",
   "metadata": {},
   "source": [
    "### 1.1. Complete Case Analysis"
   ]
  },
  {
   "cell_type": "code",
   "execution_count": 14,
   "metadata": {},
   "outputs": [
    {
     "data": {
      "text/plain": [
       "(29946, 24)"
      ]
     },
     "execution_count": 14,
     "metadata": {},
     "output_type": "execute_result"
    }
   ],
   "source": [
    "df = df.dropna(subset=[\"MARRIAGE\"],  axis=0) \n",
    "df.shape"
   ]
  },
  {
   "cell_type": "markdown",
   "metadata": {},
   "source": [
    "We observe that after dropping the missing values, the number of records is reduced from 30000 to 29946."
   ]
  },
  {
   "cell_type": "markdown",
   "metadata": {},
   "source": [
    "### 1.2. Mean or Median Imputation"
   ]
  },
  {
   "cell_type": "markdown",
   "metadata": {},
   "source": [
    "Before filling the null values, we split the data into train and test sets"
   ]
  },
  {
   "cell_type": "code",
   "execution_count": 15,
   "metadata": {},
   "outputs": [
    {
     "data": {
      "text/plain": [
       "((20962, 23), (8984, 23), (20962,), (8984,))"
      ]
     },
     "execution_count": 15,
     "metadata": {},
     "output_type": "execute_result"
    }
   ],
   "source": [
    "from sklearn.model_selection import train_test_split\n",
    "X_train, X_test, y_train, y_test = train_test_split(df[X], df[target], test_size=0.3, random_state=10)\n",
    "\n",
    "X_train.shape, X_test.shape, y_train.shape, y_test.shape"
   ]
  },
  {
   "cell_type": "code",
   "execution_count": 16,
   "metadata": {},
   "outputs": [
    {
     "name": "stdout",
     "output_type": "stream",
     "text": [
      "Original imbalance ratio = 0.2840267077555213\n",
      "Imbalance ratio after train/test split = 0.28364972443355785\n"
     ]
    }
   ],
   "source": [
    "y_train_class_0 = y_train.value_counts().to_list()[0]\n",
    "y_train_class_1 = y_train.value_counts().to_list()[1]\n",
    "train_imbalance_ration = y_train_class_1/y_train_class_0\n",
    "print(\"Original imbalance ratio =\", original_imbalance_ratio)\n",
    "print(\"Imbalance ratio after train/test split =\", train_imbalance_ration)"
   ]
  },
  {
   "cell_type": "markdown",
   "metadata": {},
   "source": [
    "We observe that train/test splitting procedure has a very tiny influence on the imbalance ration, which is what we desired."
   ]
  },
  {
   "cell_type": "markdown",
   "metadata": {},
   "source": [
    "Before deciding whether we implement the mean or median imputation, we plot the distribution of \"AGE\" "
   ]
  },
  {
   "cell_type": "code",
   "execution_count": 17,
   "metadata": {},
   "outputs": [
    {
     "data": {
      "text/plain": [
       "<AxesSubplot:>"
      ]
     },
     "execution_count": 17,
     "metadata": {},
     "output_type": "execute_result"
    },
    {
     "data": {
      "image/png": "[encoded data removed]",
      "text/plain": [
       "<Figure size 432x288 with 1 Axes>"
      ]
     },
     "metadata": {
      "needs_background": "light"
     },
     "output_type": "display_data"
    }
   ],
   "source": [
    "#plot the distribution diagram of df['AGE']\n",
    "df['AGE'].hist(bins=50, density=True)"
   ]
  },
  {
   "cell_type": "code",
   "execution_count": 18,
   "metadata": {},
   "outputs": [
    {
     "name": "stdout",
     "output_type": "stream",
     "text": [
      "Mean of AGE:  35.738208670795615\n",
      "Median of AGE:  34.0\n",
      "Mode of AGE:  0    29.0\n",
      "dtype: float64\n"
     ]
    }
   ],
   "source": [
    "print(\"Mean of AGE: \", df['AGE'].mean())\n",
    "print(\"Median of AGE: \", df['AGE'].median())\n",
    "print(\"Mode of AGE: \", df['AGE'].mode())"
   ]
  },
  {
   "cell_type": "markdown",
   "metadata": {},
   "source": [
    "Since the data distribution is skewed, we perform median imputation"
   ]
  },
  {
   "cell_type": "code",
   "execution_count": 19,
   "metadata": {},
   "outputs": [],
   "source": [
    "AGE_median = X_train['AGE'].median()\n",
    "X_train['AGE_median'] = X_train['AGE'].fillna(AGE_median)\n",
    "X_test['AGE_median'] = X_test['AGE'].fillna(AGE_median)"
   ]
  },
  {
   "cell_type": "code",
   "execution_count": 20,
   "metadata": {},
   "outputs": [
    {
     "data": {
      "text/plain": [
       "<AxesSubplot:>"
      ]
     },
     "execution_count": 20,
     "metadata": {},
     "output_type": "execute_result"
    },
    {
     "data": {
      "image/png": "[encoded data removed]",
      "text/plain": [
       "<Figure size 432x288 with 1 Axes>"
      ]
     },
     "metadata": {
      "needs_background": "light"
     },
     "output_type": "display_data"
    }
   ],
   "source": [
    "fig = plt.figure()\n",
    "ax = fig.add_subplot(111)\n",
    "X_train['AGE'].hist(bins=50, ax=ax, density=True, color='red')\n",
    "X_train['AGE_median'].hist(bins=50, ax=ax, color='blue', density=True, alpha=0.8)"
   ]
  },
  {
   "cell_type": "markdown",
   "metadata": {},
   "source": [
    "The distribution of the \"AGE\" column is not distorted by median imputation, as desired. Therefore, we keep the new column 'AGE_median' and drop the old column \"AGE\"."
   ]
  },
  {
   "cell_type": "code",
   "execution_count": 21,
   "metadata": {},
   "outputs": [],
   "source": [
    "# dropping the column \"AGE\" from X_train and X_test\n",
    "X_train.drop(columns=[\"AGE\"], axis=1, inplace=True)\n",
    "X_test.drop(columns=[\"AGE\"], axis=1, inplace=True)"
   ]
  },
  {
   "cell_type": "markdown",
   "metadata": {},
   "source": [
    "### 1.3. Frequent Category Imputation (Mode Imputation)"
   ]
  },
  {
   "cell_type": "markdown",
   "metadata": {},
   "source": [
    "For the column \"EDUCATION\", we perform the frequent category imputation."
   ]
  },
  {
   "cell_type": "code",
   "execution_count": 22,
   "metadata": {},
   "outputs": [
    {
     "data": {
      "text/plain": [
       "<AxesSubplot:>"
      ]
     },
     "execution_count": 22,
     "metadata": {},
     "output_type": "execute_result"
    },
    {
     "data": {
      "image/png": "[encoded data removed]",
      "text/plain": [
       "<Figure size 432x288 with 1 Axes>"
      ]
     },
     "metadata": {
      "needs_background": "light"
     },
     "output_type": "display_data"
    }
   ],
   "source": [
    "X_train['EDUCATION'].value_counts().sort_values(ascending=False).plot.bar()"
   ]
  },
  {
   "cell_type": "code",
   "execution_count": 23,
   "metadata": {},
   "outputs": [
    {
     "data": {
      "text/plain": [
       "'university'"
      ]
     },
     "execution_count": 23,
     "metadata": {},
     "output_type": "execute_result"
    }
   ],
   "source": [
    "EDUCATION_MODE = X_train[\"EDUCATION\"].mode()[0]             \n",
    "EDUCATION_MODE               "
   ]
  },
  {
   "cell_type": "code",
   "execution_count": 24,
   "metadata": {},
   "outputs": [],
   "source": [
    "# implementing the mode imputation for X_train['EDUCATION'] and X_test['EDUCATION']\n",
    "X_train['EDUCATION'].fillna(EDUCATION_MODE, inplace=True)\n",
    "X_test['EDUCATION'].fillna(EDUCATION_MODE, inplace=True)"
   ]
  },
  {
   "cell_type": "code",
   "execution_count": 25,
   "metadata": {},
   "outputs": [
    {
     "data": {
      "text/plain": [
       "((20962, 23), (8984, 23), (20962,), (8984,))"
      ]
     },
     "execution_count": 25,
     "metadata": {},
     "output_type": "execute_result"
    }
   ],
   "source": [
    "X_train.shape, X_test.shape, y_train.shape, y_test.shape"
   ]
  },
  {
   "cell_type": "markdown",
   "metadata": {},
   "source": [
    "# 2. Categorical encoding"
   ]
  },
  {
   "cell_type": "code",
   "execution_count": 26,
   "metadata": {},
   "outputs": [
    {
     "name": "stdout",
     "output_type": "stream",
     "text": [
      "['SEX', 'EDUCATION', 'MARRIAGE']\n"
     ]
    }
   ],
   "source": [
    "# Recall that we have 3 categorical columns\n",
    "print(str_cols)"
   ]
  },
  {
   "cell_type": "code",
   "execution_count": 27,
   "metadata": {},
   "outputs": [
    {
     "name": "stdout",
     "output_type": "stream",
     "text": [
      "SEX ['female' 'male']\n",
      "EDUCATION ['graduate school' 'university' 'high school' 'others']\n",
      "MARRIAGE ['married' 'single' 'others']\n"
     ]
    }
   ],
   "source": [
    "for col in str_cols:\n",
    "    print(col, X_train[col].unique())"
   ]
  },
  {
   "cell_type": "markdown",
   "metadata": {},
   "source": [
    "One Hot Encoding (using Scikit-Learn)"
   ]
  },
  {
   "cell_type": "code",
   "execution_count": 28,
   "metadata": {},
   "outputs": [
    {
     "data": {
      "text/plain": [
       "((20962, 23), (8984, 23), (20962,), (8984,))"
      ]
     },
     "execution_count": 28,
     "metadata": {},
     "output_type": "execute_result"
    }
   ],
   "source": [
    "X_train.shape, X_test.shape, y_train.shape, y_test.shape"
   ]
  },
  {
   "cell_type": "code",
   "execution_count": 29,
   "metadata": {},
   "outputs": [
    {
     "data": {
      "text/plain": [
       "OneHotEncoder(handle_unknown='ignore', sparse=False)"
      ]
     },
     "execution_count": 29,
     "metadata": {},
     "output_type": "execute_result"
    }
   ],
   "source": [
    "from sklearn.preprocessing import OneHotEncoder\n",
    "encoder = OneHotEncoder(sparse= False, handle_unknown='ignore')\n",
    "encoder.fit(X_train[str_cols])"
   ]
  },
  {
   "cell_type": "code",
   "execution_count": 30,
   "metadata": {},
   "outputs": [],
   "source": [
    "# transform the categorical columns in X_train\n",
    "X_train_transformed = encoder.transform(X_train[str_cols])\n",
    "# turn the transformed Numpy array into a Pandas dataframe\n",
    "X_train_OHE_skl = pd.DataFrame(X_train_transformed)"
   ]
  },
  {
   "cell_type": "code",
   "execution_count": 31,
   "metadata": {},
   "outputs": [
    {
     "data": {
      "text/html": [
       "<div>\n",
       "<style scoped>\n",
       "    .dataframe tbody tr th:only-of-type {\n",
       "        vertical-align: middle;\n",
       "    }\n",
       "\n",
       "    .dataframe tbody tr th {\n",
       "        vertical-align: top;\n",
       "    }\n",
       "\n",
       "    .dataframe thead th {\n",
       "        text-align: right;\n",
       "    }\n",
       "</style>\n",
       "<table border=\"1\" class=\"dataframe\">\n",
       "  <thead>\n",
       "    <tr style=\"text-align: right;\">\n",
       "      <th></th>\n",
       "      <th>0</th>\n",
       "      <th>1</th>\n",
       "      <th>2</th>\n",
       "      <th>3</th>\n",
       "      <th>4</th>\n",
       "      <th>5</th>\n",
       "      <th>6</th>\n",
       "      <th>7</th>\n",
       "      <th>8</th>\n",
       "    </tr>\n",
       "  </thead>\n",
       "  <tbody>\n",
       "    <tr>\n",
       "      <th>0</th>\n",
       "      <td>1.0</td>\n",
       "      <td>0.0</td>\n",
       "      <td>1.0</td>\n",
       "      <td>0.0</td>\n",
       "      <td>0.0</td>\n",
       "      <td>0.0</td>\n",
       "      <td>1.0</td>\n",
       "      <td>0.0</td>\n",
       "      <td>0.0</td>\n",
       "    </tr>\n",
       "    <tr>\n",
       "      <th>1</th>\n",
       "      <td>1.0</td>\n",
       "      <td>0.0</td>\n",
       "      <td>1.0</td>\n",
       "      <td>0.0</td>\n",
       "      <td>0.0</td>\n",
       "      <td>0.0</td>\n",
       "      <td>0.0</td>\n",
       "      <td>0.0</td>\n",
       "      <td>1.0</td>\n",
       "    </tr>\n",
       "    <tr>\n",
       "      <th>2</th>\n",
       "      <td>1.0</td>\n",
       "      <td>0.0</td>\n",
       "      <td>0.0</td>\n",
       "      <td>0.0</td>\n",
       "      <td>0.0</td>\n",
       "      <td>1.0</td>\n",
       "      <td>0.0</td>\n",
       "      <td>0.0</td>\n",
       "      <td>1.0</td>\n",
       "    </tr>\n",
       "    <tr>\n",
       "      <th>3</th>\n",
       "      <td>1.0</td>\n",
       "      <td>0.0</td>\n",
       "      <td>0.0</td>\n",
       "      <td>0.0</td>\n",
       "      <td>0.0</td>\n",
       "      <td>1.0</td>\n",
       "      <td>1.0</td>\n",
       "      <td>0.0</td>\n",
       "      <td>0.0</td>\n",
       "    </tr>\n",
       "    <tr>\n",
       "      <th>4</th>\n",
       "      <td>1.0</td>\n",
       "      <td>0.0</td>\n",
       "      <td>0.0</td>\n",
       "      <td>1.0</td>\n",
       "      <td>0.0</td>\n",
       "      <td>0.0</td>\n",
       "      <td>1.0</td>\n",
       "      <td>0.0</td>\n",
       "      <td>0.0</td>\n",
       "    </tr>\n",
       "    <tr>\n",
       "      <th>...</th>\n",
       "      <td>...</td>\n",
       "      <td>...</td>\n",
       "      <td>...</td>\n",
       "      <td>...</td>\n",
       "      <td>...</td>\n",
       "      <td>...</td>\n",
       "      <td>...</td>\n",
       "      <td>...</td>\n",
       "      <td>...</td>\n",
       "    </tr>\n",
       "    <tr>\n",
       "      <th>20957</th>\n",
       "      <td>1.0</td>\n",
       "      <td>0.0</td>\n",
       "      <td>0.0</td>\n",
       "      <td>0.0</td>\n",
       "      <td>0.0</td>\n",
       "      <td>1.0</td>\n",
       "      <td>1.0</td>\n",
       "      <td>0.0</td>\n",
       "      <td>0.0</td>\n",
       "    </tr>\n",
       "    <tr>\n",
       "      <th>20958</th>\n",
       "      <td>1.0</td>\n",
       "      <td>0.0</td>\n",
       "      <td>0.0</td>\n",
       "      <td>1.0</td>\n",
       "      <td>0.0</td>\n",
       "      <td>0.0</td>\n",
       "      <td>1.0</td>\n",
       "      <td>0.0</td>\n",
       "      <td>0.0</td>\n",
       "    </tr>\n",
       "    <tr>\n",
       "      <th>20959</th>\n",
       "      <td>0.0</td>\n",
       "      <td>1.0</td>\n",
       "      <td>0.0</td>\n",
       "      <td>0.0</td>\n",
       "      <td>0.0</td>\n",
       "      <td>1.0</td>\n",
       "      <td>1.0</td>\n",
       "      <td>0.0</td>\n",
       "      <td>0.0</td>\n",
       "    </tr>\n",
       "    <tr>\n",
       "      <th>20960</th>\n",
       "      <td>0.0</td>\n",
       "      <td>1.0</td>\n",
       "      <td>0.0</td>\n",
       "      <td>0.0</td>\n",
       "      <td>0.0</td>\n",
       "      <td>1.0</td>\n",
       "      <td>0.0</td>\n",
       "      <td>1.0</td>\n",
       "      <td>0.0</td>\n",
       "    </tr>\n",
       "    <tr>\n",
       "      <th>20961</th>\n",
       "      <td>1.0</td>\n",
       "      <td>0.0</td>\n",
       "      <td>0.0</td>\n",
       "      <td>0.0</td>\n",
       "      <td>0.0</td>\n",
       "      <td>1.0</td>\n",
       "      <td>1.0</td>\n",
       "      <td>0.0</td>\n",
       "      <td>0.0</td>\n",
       "    </tr>\n",
       "  </tbody>\n",
       "</table>\n",
       "<p>20962 rows × 9 columns</p>\n",
       "</div>"
      ],
      "text/plain": [
       "         0    1    2    3    4    5    6    7    8\n",
       "0      1.0  0.0  1.0  0.0  0.0  0.0  1.0  0.0  0.0\n",
       "1      1.0  0.0  1.0  0.0  0.0  0.0  0.0  0.0  1.0\n",
       "2      1.0  0.0  0.0  0.0  0.0  1.0  0.0  0.0  1.0\n",
       "3      1.0  0.0  0.0  0.0  0.0  1.0  1.0  0.0  0.0\n",
       "4      1.0  0.0  0.0  1.0  0.0  0.0  1.0  0.0  0.0\n",
       "...    ...  ...  ...  ...  ...  ...  ...  ...  ...\n",
       "20957  1.0  0.0  0.0  0.0  0.0  1.0  1.0  0.0  0.0\n",
       "20958  1.0  0.0  0.0  1.0  0.0  0.0  1.0  0.0  0.0\n",
       "20959  0.0  1.0  0.0  0.0  0.0  1.0  1.0  0.0  0.0\n",
       "20960  0.0  1.0  0.0  0.0  0.0  1.0  0.0  1.0  0.0\n",
       "20961  1.0  0.0  0.0  0.0  0.0  1.0  1.0  0.0  0.0\n",
       "\n",
       "[20962 rows x 9 columns]"
      ]
     },
     "execution_count": 31,
     "metadata": {},
     "output_type": "execute_result"
    }
   ],
   "source": [
    "X_train_OHE_skl"
   ]
  },
  {
   "cell_type": "code",
   "execution_count": 32,
   "metadata": {},
   "outputs": [
    {
     "data": {
      "text/plain": [
       "array(['x0_female', 'x0_male', 'x1_graduate school', 'x1_high school',\n",
       "       'x1_others', 'x1_university', 'x2_married', 'x2_others',\n",
       "       'x2_single'], dtype=object)"
      ]
     },
     "execution_count": 32,
     "metadata": {},
     "output_type": "execute_result"
    }
   ],
   "source": [
    "# as we can see, the new encoded columns are named as integers. \n",
    "# However, the names of the features are stored in the get_feature_names() method\n",
    "encoder.get_feature_names()"
   ]
  },
  {
   "cell_type": "code",
   "execution_count": 33,
   "metadata": {},
   "outputs": [],
   "source": [
    "# we now create a dummy_cols_list which contains the names of the categorical columns and their category in the format \"col_cat\"\n",
    "dummy_cols_list = list(encoder.get_feature_names())\n",
    "for i in range(0, len(dummy_cols_list)):\n",
    "    for j in range(0, len(str_cols)):\n",
    "        dummy_cols_list[i] = dummy_cols_list[i].replace(f\"x{j}_\", str_cols[j]+\"_\") "
   ]
  },
  {
   "cell_type": "code",
   "execution_count": 34,
   "metadata": {},
   "outputs": [],
   "source": [
    "# we rename the dataframe columns to the above names\n",
    "X_train_OHE_skl.columns = dummy_cols_list"
   ]
  },
  {
   "cell_type": "code",
   "execution_count": 35,
   "metadata": {},
   "outputs": [
    {
     "data": {
      "text/html": [
       "<div>\n",
       "<style scoped>\n",
       "    .dataframe tbody tr th:only-of-type {\n",
       "        vertical-align: middle;\n",
       "    }\n",
       "\n",
       "    .dataframe tbody tr th {\n",
       "        vertical-align: top;\n",
       "    }\n",
       "\n",
       "    .dataframe thead th {\n",
       "        text-align: right;\n",
       "    }\n",
       "</style>\n",
       "<table border=\"1\" class=\"dataframe\">\n",
       "  <thead>\n",
       "    <tr style=\"text-align: right;\">\n",
       "      <th></th>\n",
       "      <th>SEX_female</th>\n",
       "      <th>SEX_male</th>\n",
       "      <th>EDUCATION_graduate school</th>\n",
       "      <th>EDUCATION_high school</th>\n",
       "      <th>EDUCATION_others</th>\n",
       "      <th>EDUCATION_university</th>\n",
       "      <th>MARRIAGE_married</th>\n",
       "      <th>MARRIAGE_others</th>\n",
       "      <th>MARRIAGE_single</th>\n",
       "    </tr>\n",
       "  </thead>\n",
       "  <tbody>\n",
       "    <tr>\n",
       "      <th>0</th>\n",
       "      <td>1.0</td>\n",
       "      <td>0.0</td>\n",
       "      <td>1.0</td>\n",
       "      <td>0.0</td>\n",
       "      <td>0.0</td>\n",
       "      <td>0.0</td>\n",
       "      <td>1.0</td>\n",
       "      <td>0.0</td>\n",
       "      <td>0.0</td>\n",
       "    </tr>\n",
       "    <tr>\n",
       "      <th>1</th>\n",
       "      <td>1.0</td>\n",
       "      <td>0.0</td>\n",
       "      <td>1.0</td>\n",
       "      <td>0.0</td>\n",
       "      <td>0.0</td>\n",
       "      <td>0.0</td>\n",
       "      <td>0.0</td>\n",
       "      <td>0.0</td>\n",
       "      <td>1.0</td>\n",
       "    </tr>\n",
       "    <tr>\n",
       "      <th>2</th>\n",
       "      <td>1.0</td>\n",
       "      <td>0.0</td>\n",
       "      <td>0.0</td>\n",
       "      <td>0.0</td>\n",
       "      <td>0.0</td>\n",
       "      <td>1.0</td>\n",
       "      <td>0.0</td>\n",
       "      <td>0.0</td>\n",
       "      <td>1.0</td>\n",
       "    </tr>\n",
       "    <tr>\n",
       "      <th>3</th>\n",
       "      <td>1.0</td>\n",
       "      <td>0.0</td>\n",
       "      <td>0.0</td>\n",
       "      <td>0.0</td>\n",
       "      <td>0.0</td>\n",
       "      <td>1.0</td>\n",
       "      <td>1.0</td>\n",
       "      <td>0.0</td>\n",
       "      <td>0.0</td>\n",
       "    </tr>\n",
       "    <tr>\n",
       "      <th>4</th>\n",
       "      <td>1.0</td>\n",
       "      <td>0.0</td>\n",
       "      <td>0.0</td>\n",
       "      <td>1.0</td>\n",
       "      <td>0.0</td>\n",
       "      <td>0.0</td>\n",
       "      <td>1.0</td>\n",
       "      <td>0.0</td>\n",
       "      <td>0.0</td>\n",
       "    </tr>\n",
       "  </tbody>\n",
       "</table>\n",
       "</div>"
      ],
      "text/plain": [
       "   SEX_female  SEX_male  EDUCATION_graduate school  EDUCATION_high school  \\\n",
       "0         1.0       0.0                        1.0                    0.0   \n",
       "1         1.0       0.0                        1.0                    0.0   \n",
       "2         1.0       0.0                        0.0                    0.0   \n",
       "3         1.0       0.0                        0.0                    0.0   \n",
       "4         1.0       0.0                        0.0                    1.0   \n",
       "\n",
       "   EDUCATION_others  EDUCATION_university  MARRIAGE_married  MARRIAGE_others  \\\n",
       "0               0.0                   0.0               1.0              0.0   \n",
       "1               0.0                   0.0               0.0              0.0   \n",
       "2               0.0                   1.0               0.0              0.0   \n",
       "3               0.0                   1.0               1.0              0.0   \n",
       "4               0.0                   0.0               1.0              0.0   \n",
       "\n",
       "   MARRIAGE_single  \n",
       "0              0.0  \n",
       "1              1.0  \n",
       "2              1.0  \n",
       "3              0.0  \n",
       "4              0.0  "
      ]
     },
     "execution_count": 35,
     "metadata": {},
     "output_type": "execute_result"
    }
   ],
   "source": [
    "X_train_OHE_skl.head()"
   ]
  },
  {
   "cell_type": "code",
   "execution_count": 36,
   "metadata": {},
   "outputs": [],
   "source": [
    "# transform the catogorical columns in X_test\n",
    "X_test_transformed = encoder.transform(X_test[str_cols])\n",
    "# turned the transformed Numpy array into a Pandas dataframe\n",
    "X_test_OHE_skl = pd.DataFrame(X_test_transformed)\n",
    "# rename the new encoded  columns \n",
    "X_test_OHE_skl.columns = dummy_cols_list"
   ]
  },
  {
   "cell_type": "code",
   "execution_count": 37,
   "metadata": {},
   "outputs": [
    {
     "data": {
      "text/plain": [
       "((20962, 9), (8984, 9))"
      ]
     },
     "execution_count": 37,
     "metadata": {},
     "output_type": "execute_result"
    }
   ],
   "source": [
    "X_train_OHE_skl.shape, X_test_OHE_skl.shape"
   ]
  },
  {
   "cell_type": "markdown",
   "metadata": {},
   "source": [
    "We now concatenate the original X_train/X_test and the encoded X_train_OHE_skl/X_test_OHE_skl (and then drop the categorical columns from the resulting dataframe). "
   ]
  },
  {
   "cell_type": "code",
   "execution_count": 38,
   "metadata": {},
   "outputs": [],
   "source": [
    "X_train = pd.concat([X_train.reset_index(drop=True), X_train_OHE_skl.reset_index(drop=True)], axis=1)\n",
    "X_train = X_train.drop(columns=str_cols, axis=1)\n",
    "X_test = pd.concat([X_test.reset_index(drop=True), X_test_OHE_skl.reset_index(drop=True)], axis=1)\n",
    "X_test = X_test.drop(columns=str_cols, axis=1)"
   ]
  },
  {
   "cell_type": "code",
   "execution_count": 39,
   "metadata": {},
   "outputs": [
    {
     "data": {
      "text/plain": [
       "((20962, 29), (8984, 29), (20962,), (8984,))"
      ]
     },
     "execution_count": 39,
     "metadata": {},
     "output_type": "execute_result"
    }
   ],
   "source": [
    "X_train.shape, X_test.shape, y_train.shape, y_test.shape"
   ]
  },
  {
   "cell_type": "markdown",
   "metadata": {},
   "source": [
    "# 3. Handling Outliers\n",
    "3.1. Identifying the outliers \\\n",
    "3.2. Outlier trimming \\\n",
    "3.3. Outlier Capping\n"
   ]
  },
  {
   "cell_type": "markdown",
   "metadata": {},
   "source": [
    "### 3.1. Identifying the outliers"
   ]
  },
  {
   "cell_type": "code",
   "execution_count": 40,
   "metadata": {},
   "outputs": [
    {
     "name": "stdout",
     "output_type": "stream",
     "text": [
      "['BILL_AMT4', 'PAY_AMT1', 'PAY_5', 'BILL_AMT5', 'BILL_AMT6', 'LIMIT_BAL', 'BILL_AMT2', 'AGE', 'PAY_0', 'BILL_AMT1', 'PAY_AMT4', 'PAY_3', 'PAY_AMT6', 'PAY_6', 'PAY_4', 'PAY_AMT3', 'BILL_AMT3', 'PAY_AMT5', 'PAY_AMT2', 'PAY_2']\n"
     ]
    }
   ],
   "source": [
    "print(num_cols)"
   ]
  },
  {
   "cell_type": "code",
   "execution_count": 41,
   "metadata": {},
   "outputs": [
    {
     "data": {
      "image/png": "[encoded data removed]",
      "text/plain": [
       "<Figure size 3600x720 with 5 Axes>"
      ]
     },
     "metadata": {
      "needs_background": "light"
     },
     "output_type": "display_data"
    }
   ],
   "source": [
    "# plot the box-plot of all numerical columns\n",
    "plt.rcParams[\"figure.figsize\"] = (50,10)\n",
    "fig, axs = plt.subplots(ncols=5, constrained_layout=True)\n",
    "sns.boxplot(y=X_train['LIMIT_BAL'], ax=axs[0])\n",
    "sns.boxplot(y=X_train['PAY_0'], ax=axs[1])\n",
    "sns.boxplot(y=X_train['PAY_2'], ax=axs[2])\n",
    "sns.boxplot(y=X_train['PAY_3'], ax=axs[3])\n",
    "sns.boxplot(y=X_train['PAY_4'], ax=axs[4])\n",
    "plt.show()\n"
   ]
  },
  {
   "cell_type": "code",
   "execution_count": 42,
   "metadata": {},
   "outputs": [
    {
     "data": {
      "image/png": "[encoded data removed]",
      "text/plain": [
       "<Figure size 3600x720 with 7 Axes>"
      ]
     },
     "metadata": {
      "needs_background": "light"
     },
     "output_type": "display_data"
    }
   ],
   "source": [
    "fig, axs = plt.subplots(ncols=7, constrained_layout=True)\n",
    "sns.boxplot(y=X_train['PAY_5'], ax=axs[0])\n",
    "sns.boxplot(y=X_train['PAY_6'], ax=axs[1])\n",
    "sns.boxplot(y=X_train['BILL_AMT1'], ax=axs[2])\n",
    "sns.boxplot(y=X_train['BILL_AMT2'], ax=axs[3])\n",
    "sns.boxplot(y=X_train['BILL_AMT3'], ax=axs[4])\n",
    "sns.boxplot(y=X_train['BILL_AMT4'], ax=axs[5])\n",
    "sns.boxplot(y=X_train['BILL_AMT5'], ax=axs[6])\n",
    "plt.rcParams[\"figure.figsize\"] = (50,10)\n",
    "plt.show()"
   ]
  },
  {
   "cell_type": "code",
   "execution_count": 43,
   "metadata": {},
   "outputs": [
    {
     "data": {
      "image/png": "[encoded data removed]",
      "text/plain": [
       "<Figure size 3600x720 with 6 Axes>"
      ]
     },
     "metadata": {
      "needs_background": "light"
     },
     "output_type": "display_data"
    }
   ],
   "source": [
    "fig, axs = plt.subplots(ncols=6, constrained_layout=True)\n",
    "sns.boxplot(y=X_train['BILL_AMT6'], ax=axs[0])\n",
    "sns.boxplot(y=X_train['PAY_AMT1'], ax=axs[1])\n",
    "sns.boxplot(y=X_train['PAY_AMT2'], ax=axs[2])\n",
    "sns.boxplot(y=X_train['PAY_AMT3'], ax=axs[3])\n",
    "sns.boxplot(y=X_train['PAY_AMT4'], ax=axs[4])\n",
    "sns.boxplot(y=X_train['PAY_AMT5'], ax=axs[5])\n",
    "plt.rcParams[\"figure.figsize\"] = (50,10)\n",
    "plt.show()"
   ]
  },
  {
   "cell_type": "code",
   "execution_count": 44,
   "metadata": {},
   "outputs": [
    {
     "data": {
      "image/png": "[encoded data removed]",
      "text/plain": [
       "<Figure size 3600x720 with 1 Axes>"
      ]
     },
     "metadata": {
      "needs_background": "light"
     },
     "output_type": "display_data"
    }
   ],
   "source": [
    "sns.boxplot(y=X_train['PAY_AMT6'])\n",
    "plt.rcParams[\"figure.figsize\"] = (50,10)\n",
    "plt.show()"
   ]
  },
  {
   "cell_type": "code",
   "execution_count": 45,
   "metadata": {},
   "outputs": [],
   "source": [
    "# we now calculate the IRQ, lower_boundary, upper_boundary and outlier_list of all columns.\n",
    "# We first create the following dictionaries\n",
    "IRQ_dict= {}\n",
    "for col in X_train.columns:\n",
    "    IRQ_dict[f\"{col}_IQR\"] = X_train[col].quantile(0.75) - X_train[col].quantile(0.25)\n",
    "\n",
    "lower_boundary_dict= {}\n",
    "for col in X_train.columns:\n",
    "    lower_boundary_dict[f\"{col}_lower_boundary\"] = X_train[col].quantile(0.25) - (IRQ_dict[f\"{col}_IQR\"] * 1.6)\n",
    "\n",
    "upper_boundary_dict= {}\n",
    "for col in X_train.columns:\n",
    "    upper_boundary_dict[f\"{col}_upper_boundary\"] = X_train[col].quantile(0.25) + (IRQ_dict[f\"{col}_IQR\"] * 1.6)\n",
    "\n",
    "columns_outliers_dict={}\n",
    "for col in X_train.columns:\n",
    "    columns_outliers_dict[f\"{col}_outliers_list\"] = np.where(X_train[col] > upper_boundary_dict[f\"{col}_upper_boundary\"], True,\n",
    "                       np.where(X_train[col] < lower_boundary_dict[f\"{col}_lower_boundary\"], True, False))"
   ]
  },
  {
   "cell_type": "code",
   "execution_count": 46,
   "metadata": {},
   "outputs": [
    {
     "name": "stdout",
     "output_type": "stream",
     "text": [
      "['BILL_AMT4', 'PAY_AMT1', 'PAY_5', 'BILL_AMT5', 'BILL_AMT6', 'LIMIT_BAL', 'BILL_AMT2', 'PAY_0', 'BILL_AMT1', 'PAY_AMT4', 'PAY_3', 'PAY_AMT6', 'PAY_6', 'PAY_4', 'PAY_AMT3', 'BILL_AMT3', 'PAY_AMT5', 'PAY_AMT2', 'PAY_2', 'AGE_median', 'EDUCATION_high school', 'EDUCATION_others', 'MARRIAGE_others']\n"
     ]
    }
   ],
   "source": [
    "outlier_cols = [col for col in X_train.columns if  columns_outliers_dict[f\"{col}_outliers_list\"].mean() > 0 ] \n",
    "print(outlier_cols)"
   ]
  },
  {
   "cell_type": "markdown",
   "metadata": {},
   "source": [
    "### 3.2. Outlier trimming\n",
    "Drop all the records which include an outlier (in X_train)"
   ]
  },
  {
   "cell_type": "code",
   "execution_count": 47,
   "metadata": {},
   "outputs": [
    {
     "data": {
      "text/plain": [
       "((20962, 29), (20962,), (8984, 29), (8984,))"
      ]
     },
     "execution_count": 47,
     "metadata": {},
     "output_type": "execute_result"
    }
   ],
   "source": [
    "X_train.shape, y_train.shape, X_test.shape, y_test.shape"
   ]
  },
  {
   "cell_type": "code",
   "execution_count": 48,
   "metadata": {},
   "outputs": [
    {
     "name": "stdout",
     "output_type": "stream",
     "text": [
      "['EDUCATION_others', 'MARRIAGE_others']\n"
     ]
    }
   ],
   "source": [
    "# we implement the outlier trimming method for outlier_10percent_cols\n",
    "#create a list of columns with less than 10% outliers\n",
    "outlier_10percent_cols = [col for col in outlier_cols if columns_outliers_dict[f\"{col}_outliers_list\"].mean() < 0.1 ] \n",
    "\n",
    "print(outlier_10percent_cols)"
   ]
  },
  {
   "cell_type": "code",
   "execution_count": 49,
   "metadata": {},
   "outputs": [],
   "source": [
    "X_train = X_train.loc[~(\n",
    "+ columns_outliers_dict[\"MARRIAGE_others_outliers_list\"]\n",
    "+ columns_outliers_dict[\"EDUCATION_others_outliers_list\"]\n",
    "), \n",
    "]"
   ]
  },
  {
   "cell_type": "code",
   "execution_count": 50,
   "metadata": {},
   "outputs": [],
   "source": [
    "y_train = y_train.loc[~(\n",
    "+ columns_outliers_dict[\"MARRIAGE_others_outliers_list\"]\n",
    "+ columns_outliers_dict[\"EDUCATION_others_outliers_list\"]\n",
    "), \n",
    "]"
   ]
  },
  {
   "cell_type": "code",
   "execution_count": 51,
   "metadata": {},
   "outputs": [
    {
     "data": {
      "text/plain": [
       "((20659, 29), (8984, 29), (20659,), (8984,))"
      ]
     },
     "execution_count": 51,
     "metadata": {},
     "output_type": "execute_result"
    }
   ],
   "source": [
    "X_train.shape , X_test.shape, y_train.shape, y_test.shape"
   ]
  },
  {
   "cell_type": "markdown",
   "metadata": {},
   "source": [
    "The outlier trimming procedure has reduced the 20962 records in X_train/y_train to 20659 records.\\\n",
    "We also need to check if the Imbalance ration is changed."
   ]
  },
  {
   "cell_type": "code",
   "execution_count": 52,
   "metadata": {},
   "outputs": [
    {
     "name": "stdout",
     "output_type": "stream",
     "text": [
      "Imbalance ratio after outlier trimming = 0.28404499968922864\n",
      "Original imbalance ratio = 0.2840267077555213\n"
     ]
    }
   ],
   "source": [
    "y_train_class_0 = y_train.value_counts().to_list()[0]\n",
    "y_train_class_1 = y_train.value_counts().to_list()[1]\n",
    "print(\"Imbalance ratio after outlier trimming =\", y_train_class_1/y_train_class_0)\n",
    "print(\"Original imbalance ratio =\", original_imbalance_ratio)"
   ]
  },
  {
   "cell_type": "markdown",
   "metadata": {},
   "source": [
    "We observe that the outlier trimming procedure has a very tiny influence on the imbalance ration, which is what we desired."
   ]
  },
  {
   "cell_type": "markdown",
   "metadata": {},
   "source": [
    "### 3.3. Outlier Capping"
   ]
  },
  {
   "cell_type": "code",
   "execution_count": 53,
   "metadata": {},
   "outputs": [],
   "source": [
    "# we create a set of the columns with more than 10 percent outliers\n",
    "outlier_90percent_cols = list(set(X_train.columns) - set(outlier_10percent_cols)) "
   ]
  },
  {
   "cell_type": "code",
   "execution_count": 54,
   "metadata": {},
   "outputs": [
    {
     "name": "stdout",
     "output_type": "stream",
     "text": [
      "['BILL_AMT4', 'PAY_AMT1', 'EDUCATION_graduate school', 'PAY_5', 'MARRIAGE_married', 'BILL_AMT5', 'BILL_AMT6', 'LIMIT_BAL', 'BILL_AMT2', 'PAY_AMT4', 'PAY_0', 'BILL_AMT1', 'SEX_male', 'SEX_female', 'PAY_3', 'PAY_AMT6', 'MARRIAGE_single', 'PAY_6', 'PAY_4', 'PAY_AMT3', 'BILL_AMT3', 'PAY_AMT5', 'AGE_median', 'EDUCATION_university', 'PAY_AMT2', 'PAY_2', 'EDUCATION_high school']\n"
     ]
    }
   ],
   "source": [
    "print(outlier_90percent_cols)"
   ]
  },
  {
   "cell_type": "code",
   "execution_count": 55,
   "metadata": {},
   "outputs": [],
   "source": [
    "# we implement the outlier capping method for outlier_90percent_cols\n",
    "for col in outlier_90percent_cols:\n",
    "    X_train[col] = np.where(X_train[col] > upper_boundary_dict[f\"{col}_upper_boundary\"], upper_boundary_dict[f\"{col}_upper_boundary\"],\n",
    "                         np.where(X_train[col] < lower_boundary_dict[f\"{col}_lower_boundary\"], lower_boundary_dict[f\"{col}_lower_boundary\"], X_train[col]))"
   ]
  },
  {
   "cell_type": "code",
   "execution_count": 56,
   "metadata": {},
   "outputs": [
    {
     "data": {
      "text/plain": [
       "((20659, 29), (8984, 29), (20659,), (8984,))"
      ]
     },
     "execution_count": 56,
     "metadata": {},
     "output_type": "execute_result"
    }
   ],
   "source": [
    "X_train.shape , X_test.shape, y_train.shape, y_test.shape"
   ]
  },
  {
   "cell_type": "markdown",
   "metadata": {},
   "source": [
    "We observe that outlier capping does not reduce the dataset size."
   ]
  },
  {
   "cell_type": "markdown",
   "metadata": {},
   "source": [
    "# 4. Feature Scaling"
   ]
  },
  {
   "cell_type": "code",
   "execution_count": 57,
   "metadata": {},
   "outputs": [
    {
     "data": {
      "text/plain": [
       "((20659, 29), (8984, 29), (20659,), (8984,))"
      ]
     },
     "execution_count": 57,
     "metadata": {},
     "output_type": "execute_result"
    }
   ],
   "source": [
    "X_train.shape , X_test.shape, y_train.shape, y_test.shape"
   ]
  },
  {
   "cell_type": "markdown",
   "metadata": {},
   "source": [
    "### 4.1. Min-Max Scaling"
   ]
  },
  {
   "cell_type": "code",
   "execution_count": 58,
   "metadata": {},
   "outputs": [],
   "source": [
    "from sklearn.preprocessing import MinMaxScaler\n",
    "scaler = MinMaxScaler()\n",
    "scaler.fit(X_train)\n",
    "X_train_scaled = scaler.transform(X_train)\n",
    "X_test_scaled = scaler.transform(X_test)"
   ]
  },
  {
   "cell_type": "markdown",
   "metadata": {},
   "source": [
    "# 5. Feature Selection\n",
    "5.1. Dropping Constant Features \\\n",
    "5.2. Correlation-based Feature Selection\\\n",
    "5.2.a Selecting Features with hight correlations with Target\\\n",
    "5.2.b Selecting Features with low correlations with other features"
   ]
  },
  {
   "cell_type": "markdown",
   "metadata": {},
   "source": [
    "### 5.1. Dropping Constant Features"
   ]
  },
  {
   "cell_type": "code",
   "execution_count": 59,
   "metadata": {},
   "outputs": [
    {
     "data": {
      "text/plain": [
       "['EDUCATION_high school', 'EDUCATION_others', 'MARRIAGE_others']"
      ]
     },
     "execution_count": 59,
     "metadata": {},
     "output_type": "execute_result"
    }
   ],
   "source": [
    "# creating a list of constant features in X_train\n",
    "const_feat = [X for X in X_train.columns if X_train[X].nunique() == 1]\n",
    "const_feat"
   ]
  },
  {
   "cell_type": "code",
   "execution_count": 60,
   "metadata": {},
   "outputs": [],
   "source": [
    "# dropping the constant features from X_train and X_test\n",
    "X_train.drop(labels=const_feat, axis=1, inplace= True)\n",
    "X_test.drop(labels=const_feat, axis=1, inplace= True)"
   ]
  },
  {
   "cell_type": "code",
   "execution_count": 61,
   "metadata": {},
   "outputs": [
    {
     "data": {
      "text/plain": [
       "((20659, 26), (8984, 26), (20659,), (8984,))"
      ]
     },
     "execution_count": 61,
     "metadata": {},
     "output_type": "execute_result"
    }
   ],
   "source": [
    "X_train.shape , X_test.shape, y_train.shape, y_test.shape"
   ]
  },
  {
   "cell_type": "markdown",
   "metadata": {},
   "source": [
    "### 5.2. Correlation-based Feature Selection"
   ]
  },
  {
   "cell_type": "markdown",
   "metadata": {},
   "source": [
    "### 5.2.a Selecting Features with hight correlations with Target"
   ]
  },
  {
   "cell_type": "code",
   "execution_count": 62,
   "metadata": {},
   "outputs": [],
   "source": [
    "# We first add the target (y_train) to the Features (X_train) to be able to calculate the correlation matrix between them\n",
    "df_train = pd.concat([X_train.reset_index(drop=True), y_train.reset_index(drop=True)], axis = 1)\n",
    "# create the correlation matrix\n",
    "cor_mat = df_train.corr()\n",
    "# Add a column which containes the sorted absolute values of corr(X_train, y_train)\n",
    "cor_mat[\"X-Y_corr\"]= cor_mat[target].abs().sort_values(ascending=False) "
   ]
  },
  {
   "cell_type": "code",
   "execution_count": 63,
   "metadata": {},
   "outputs": [
    {
     "data": {
      "text/plain": [
       "BILL_AMT4                     0.012777\n",
       "PAY_AMT1                      0.144459\n",
       "PAY_5                         0.116787\n",
       "BILL_AMT5                     0.010094\n",
       "BILL_AMT6                     0.002955\n",
       "LIMIT_BAL                     0.153309\n",
       "BILL_AMT2                     0.020723\n",
       "PAY_0                         0.212157\n",
       "BILL_AMT1                     0.027215\n",
       "PAY_AMT4                      0.117282\n",
       "PAY_3                         0.144872\n",
       "PAY_AMT6                      0.114549\n",
       "PAY_6                         0.107351\n",
       "PAY_4                         0.127133\n",
       "PAY_AMT3                      0.128364\n",
       "BILL_AMT3                     0.017791\n",
       "PAY_AMT5                      0.107361\n",
       "PAY_AMT2                      0.140260\n",
       "PAY_2                         0.160889\n",
       "AGE_median                    0.014444\n",
       "SEX_female                    0.038418\n",
       "SEX_male                      0.038418\n",
       "EDUCATION_graduate school     0.056822\n",
       "EDUCATION_university          0.029344\n",
       "MARRIAGE_married              0.028145\n",
       "MARRIAGE_single               0.028145\n",
       "default payment next month    1.000000\n",
       "Name: X-Y_corr, dtype: float64"
      ]
     },
     "execution_count": 63,
     "metadata": {},
     "output_type": "execute_result"
    }
   ],
   "source": [
    "cor_mat[\"X-Y_corr\"]"
   ]
  },
  {
   "cell_type": "code",
   "execution_count": 64,
   "metadata": {},
   "outputs": [],
   "source": [
    "# collect all the features with corr(X_train, y_train) > 0.014 into a list\n",
    "final_cols = cor_mat[cor_mat[\"X-Y_corr\"] > 0.014].index.values.tolist()\n",
    "final_cols = list(set(final_cols) - set([target]))"
   ]
  },
  {
   "cell_type": "code",
   "execution_count": 65,
   "metadata": {},
   "outputs": [
    {
     "data": {
      "text/plain": [
       "23"
      ]
     },
     "execution_count": 65,
     "metadata": {},
     "output_type": "execute_result"
    }
   ],
   "source": [
    "len(final_cols)"
   ]
  },
  {
   "cell_type": "code",
   "execution_count": 66,
   "metadata": {},
   "outputs": [],
   "source": [
    "# replacing the columns in X_train and X_test with final_cols\n",
    "X_train = X_train[final_cols]\n",
    "X_test = X_test[final_cols]"
   ]
  },
  {
   "cell_type": "code",
   "execution_count": 67,
   "metadata": {},
   "outputs": [
    {
     "data": {
      "text/plain": [
       "((20659, 23), (20659,), (8984, 23), (8984,))"
      ]
     },
     "execution_count": 67,
     "metadata": {},
     "output_type": "execute_result"
    }
   ],
   "source": [
    "X_train.shape, y_train.shape, X_test.shape, y_test.shape"
   ]
  },
  {
   "cell_type": "markdown",
   "metadata": {},
   "source": [
    "### 5.2.b Selecting Features with low correlations with other features"
   ]
  },
  {
   "cell_type": "code",
   "execution_count": 68,
   "metadata": {},
   "outputs": [
    {
     "data": {
      "text/plain": [
       "<AxesSubplot:>"
      ]
     },
     "execution_count": 68,
     "metadata": {},
     "output_type": "execute_result"
    },
    {
     "data": {
      "image/png": "[encoded data removed]",
      "text/plain": [
       "<Figure size 792x792 with 2 Axes>"
      ]
     },
     "metadata": {
      "needs_background": "light"
     },
     "output_type": "display_data"
    }
   ],
   "source": [
    "# plotting the correlation diagram of X_train\n",
    "corrmat = X_train.corr(method='pearson')\n",
    "\n",
    "cmap = sns.diverging_palette(220, 20, as_cmap=True)\n",
    "\n",
    "fig, ax = plt.subplots()\n",
    "fig.set_size_inches(11,11)\n",
    "\n",
    "sns.heatmap(corrmat, cmap=cmap)"
   ]
  },
  {
   "cell_type": "code",
   "execution_count": 69,
   "metadata": {},
   "outputs": [
    {
     "name": "stdout",
     "output_type": "stream",
     "text": [
      "0.9368967626998528 BILL_AMT1 BILL_AMT2\n",
      "1.0 SEX_female SEX_male\n",
      "0.9999999999999998 MARRIAGE_single MARRIAGE_married\n",
      "0.9302589812346548 BILL_AMT3 BILL_AMT2\n",
      "0.8854123841097556 BILL_AMT3 BILL_AMT1\n"
     ]
    }
   ],
   "source": [
    "# creating a set of column pairs whose correlation is higher than 88%\n",
    "col_corr = set()\n",
    "corr_matrix = X_train.corr()\n",
    "\n",
    "for i in range(len(corr_matrix.columns)):\n",
    "    for j in range(i):\n",
    "        if abs(corr_matrix.iloc[i, j]) > 0.88: \n",
    "            print(abs(corr_matrix.iloc[i, j]), corr_matrix.columns[i], corr_matrix.columns[j])\n",
    "            colname = corr_matrix.columns[j]\n",
    "            col_corr.add(colname)"
   ]
  },
  {
   "cell_type": "code",
   "execution_count": 70,
   "metadata": {},
   "outputs": [],
   "source": [
    "# dropping one of the columns in each pair in col_corr in X_train and X_test\n",
    "X_train.drop(labels=col_corr, axis=1, inplace=True)\n",
    "X_test.drop(labels=col_corr, axis=1, inplace=True)"
   ]
  },
  {
   "cell_type": "code",
   "execution_count": 71,
   "metadata": {},
   "outputs": [
    {
     "data": {
      "text/plain": [
       "((20659, 19), (20659,), (8984, 19), (8984,))"
      ]
     },
     "execution_count": 71,
     "metadata": {},
     "output_type": "execute_result"
    }
   ],
   "source": [
    "X_train.shape, y_train.shape, X_test.shape, y_test.shape"
   ]
  },
  {
   "cell_type": "markdown",
   "metadata": {},
   "source": [
    "# 6. Finalizing"
   ]
  },
  {
   "cell_type": "markdown",
   "metadata": {},
   "source": [
    "### 6.1. Saving the preprocessed data"
   ]
  },
  {
   "cell_type": "code",
   "execution_count": 72,
   "metadata": {},
   "outputs": [],
   "source": [
    "X_train.to_csv(\"../datasets/classification/processed/X_train.csv\", sep = \",\", encoding= \"utf-8\")\n",
    "X_test.to_csv(\"../datasets/classification/processed/X_test.csv\", sep = \",\", encoding= \"utf-8\")\n",
    "y_train.to_csv(\"../datasets/classification/processed/y_train.csv\", sep = \",\", encoding= \"utf-8\")\n",
    "y_test.to_csv(\"../datasets/classification/processed/y_test.csv\", sep = \",\", encoding= \"utf-8\")"
   ]
  },
  {
   "cell_type": "markdown",
   "metadata": {},
   "source": [
    "### 6.2. Testing the cleaned data with feeding it to a logistic regression algorithm"
   ]
  },
  {
   "cell_type": "code",
   "execution_count": 73,
   "metadata": {},
   "outputs": [
    {
     "data": {
      "text/plain": [
       "LogisticRegression()"
      ]
     },
     "execution_count": 73,
     "metadata": {},
     "output_type": "execute_result"
    }
   ],
   "source": [
    "from sklearn.linear_model import LogisticRegression \n",
    "classifier = LogisticRegression() \n",
    "classifier.fit(X = X_train, y = y_train)"
   ]
  },
  {
   "cell_type": "code",
   "execution_count": 74,
   "metadata": {},
   "outputs": [
    {
     "name": "stdout",
     "output_type": "stream",
     "text": [
      "The training score of model is:  0.7785468802943027\n",
      "The score of the model on test data is: 0.7779385574354408\n"
     ]
    }
   ],
   "source": [
    "train_score = classifier.score(X_train, y_train)\n",
    "print(\"The training score of model is: \", train_score)\n",
    "test_score = classifier.score(X_test, y_test)\n",
    "print(\"The score of the model on test data is:\", test_score )"
   ]
  }
 ],
 "metadata": {
  "interpreter": {
   "hash": "e737f341e96eee98a3a2acbd8b0c12a6221c684ebe624d9d044b4a2a2a65610f"
  },
  "kernelspec": {
   "display_name": "Python 3.8.8 ('base')",
   "language": "python",
   "name": "python3"
  },
  "language_info": {
   "codemirror_mode": {
    "name": "ipython",
    "version": 3
   },
   "file_extension": ".py",
   "mimetype": "text/x-python",
   "name": "python",
   "nbconvert_exporter": "python",
   "pygments_lexer": "ipython3",
   "version": "3.8.8"
  }
 },
 "nbformat": 4,
 "nbformat_minor": 2
}
