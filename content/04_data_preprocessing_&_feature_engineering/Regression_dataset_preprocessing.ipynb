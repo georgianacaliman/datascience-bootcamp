{
 "cells": [
  {
   "cell_type": "markdown",
   "metadata": {},
   "source": [
    "In this notebook, we perform the preprocessing of the dataset \"data-science-bootcamp/content/datasets/classification/raw/data_50.csv\". The output of this notebook will be written in the folder \"data-science-bootcamp/content/datasets/classification/processed\" as four separated csv files: X_train.csv, X_test.csv, y_train.csv, y_test.csv. (These files will be used as input for the ML algorithms which are discussed in the next sessions of the bootcamp).\n",
    "\n",
    "The dataset is a modified version of Kaggle House Prices dataset availabel at \"https://www.kaggle.com/competitions/house-prices-advanced-regression-techniques/data?select=test.csv\". The modifications, including reducing the number of features and adding a number of derived columns, are done for the pedagogical reasons of demonstrating different methods of preprocessing and feature engineering.\n",
    "This regression dataset contains 49 different attributes of the houses and 1 positive real-valued column \"SalePrice\" which is the target column to be predicted by the regression ML model. \n",
    "\n",
    "0. Exploratory Data Analysis (EDA)\\\n",
    "0.1. Loading the data into a dataframe\\\n",
    "0.2. transforming the label column\n",
    "1. Missing Value Imputation\\\n",
    "1.1. Identifying columns with null values \\\n",
    "1.2. Complete Case Analysis\\\n",
    "1.3. Mean or Median Imputation \\\n",
    "1.4. Frequent Category Imputation (Mode Imputation)\n",
    "2. Temporal variables\n",
    "3. Categorical encoding\\\n",
    "3.1. Label Encoding \\\n",
    "3.2. Count or frequency Encoding\\\n",
    "3.3. One Hot Encoding \n",
    "4. Handling Outliers\\\n",
    "4.1. Identifying the outliers \\\n",
    "4.2. Outlier trimming \\\n",
    "4.3. Outlier Capping\n",
    "5. Feature Scaling\\\n",
    "5.2. Standardization \\\n",
    "5.2. Min-Max Scaling\n",
    "6. Feature Selection\\\n",
    "6.1. Dropping Constant Features \\\n",
    "6.2. Correlation-based Feature Selection\\\n",
    "6.2.a Selecting Features with low correlations with other features\\\n",
    "6.2.b Selecting Features with hight correlations with Target\n",
    "7. Saving the preprocessed dataset\n"
   ]
  },
  {
   "cell_type": "markdown",
   "metadata": {},
   "source": [
    "# 0. Exploratory Data Analysis (EDA)\n",
    "0.1. Loading the data into a dataframe\\\n",
    "0.2. transforming the label column"
   ]
  },
  {
   "cell_type": "code",
   "execution_count": 1,
   "metadata": {},
   "outputs": [],
   "source": [
    "#importing the necessary libraries\n",
    "import pandas as pd\n",
    "import numpy as np\n",
    "import matplotlib.pyplot as plt\n",
    "import seaborn as sns \n",
    "pd.set_option('display.max_columns', None) \n",
    "import warnings\n",
    "warnings.filterwarnings('ignore')"
   ]
  },
  {
   "cell_type": "markdown",
   "metadata": {},
   "source": [
    "### 0.1 Loading the data into a dataframe"
   ]
  },
  {
   "cell_type": "code",
   "execution_count": 6,
   "metadata": {},
   "outputs": [],
   "source": [
    "# loading the dataset \"regression_50.csv\" into a dataframe called \"df\"\n",
    "df= pd.read_csv('../datasets/regression/raw/regression_50.csv', sep= \",\", encoding= \"utf-8\") "
   ]
  },
  {
   "cell_type": "code",
   "execution_count": 7,
   "metadata": {},
   "outputs": [
    {
     "data": {
      "text/html": [
       "<div>\n",
       "<style scoped>\n",
       "    .dataframe tbody tr th:only-of-type {\n",
       "        vertical-align: middle;\n",
       "    }\n",
       "\n",
       "    .dataframe tbody tr th {\n",
       "        vertical-align: top;\n",
       "    }\n",
       "\n",
       "    .dataframe thead th {\n",
       "        text-align: right;\n",
       "    }\n",
       "</style>\n",
       "<table border=\"1\" class=\"dataframe\">\n",
       "  <thead>\n",
       "    <tr style=\"text-align: right;\">\n",
       "      <th></th>\n",
       "      <th>LotFrontage</th>\n",
       "      <th>LotArea</th>\n",
       "      <th>Alley</th>\n",
       "      <th>LotConfig</th>\n",
       "      <th>LandSlope</th>\n",
       "      <th>Neighborhood</th>\n",
       "      <th>BldgType</th>\n",
       "      <th>HouseStyle</th>\n",
       "      <th>OverallQual</th>\n",
       "      <th>OverallCond</th>\n",
       "      <th>YearBuilt</th>\n",
       "      <th>isNew</th>\n",
       "      <th>YearRemodAdd</th>\n",
       "      <th>RoofStyle</th>\n",
       "      <th>RoofMatl</th>\n",
       "      <th>ExterQual</th>\n",
       "      <th>ExterCond</th>\n",
       "      <th>Foundation</th>\n",
       "      <th>TotalBsmtSF</th>\n",
       "      <th>Heating</th>\n",
       "      <th>HeatingQC</th>\n",
       "      <th>CentralAir</th>\n",
       "      <th>Electrical</th>\n",
       "      <th>firstFlrSF</th>\n",
       "      <th>secondFlrSF</th>\n",
       "      <th>GrLivArea</th>\n",
       "      <th>BsmtQual</th>\n",
       "      <th>BsmtCond</th>\n",
       "      <th>BsmtExposure</th>\n",
       "      <th>BsmtFullBath</th>\n",
       "      <th>FullBath</th>\n",
       "      <th>HalfBath</th>\n",
       "      <th>BedroomAbvGr</th>\n",
       "      <th>KitchenQual</th>\n",
       "      <th>TotRmsAbvGrd</th>\n",
       "      <th>Fireplaces</th>\n",
       "      <th>FireplaceQu</th>\n",
       "      <th>GarageCars</th>\n",
       "      <th>hasGarage</th>\n",
       "      <th>GarageArea</th>\n",
       "      <th>GarageCond</th>\n",
       "      <th>WoodDeckSF</th>\n",
       "      <th>Nr.Ring</th>\n",
       "      <th>OpenPorchSF</th>\n",
       "      <th>PoolQC</th>\n",
       "      <th>Fence</th>\n",
       "      <th>MiscFeature</th>\n",
       "      <th>MoSold</th>\n",
       "      <th>YrSold</th>\n",
       "      <th>SalePrice</th>\n",
       "    </tr>\n",
       "  </thead>\n",
       "  <tbody>\n",
       "    <tr>\n",
       "      <th>0</th>\n",
       "      <td>65.0</td>\n",
       "      <td>8450</td>\n",
       "      <td>NaN</td>\n",
       "      <td>Inside</td>\n",
       "      <td>Gtl</td>\n",
       "      <td>CollgCr</td>\n",
       "      <td>1Fam</td>\n",
       "      <td>2Story</td>\n",
       "      <td>7</td>\n",
       "      <td>5</td>\n",
       "      <td>2003</td>\n",
       "      <td>True</td>\n",
       "      <td>2003</td>\n",
       "      <td>Gable</td>\n",
       "      <td>CompShg</td>\n",
       "      <td>Gd</td>\n",
       "      <td>TA</td>\n",
       "      <td>PConc</td>\n",
       "      <td>856</td>\n",
       "      <td>GasA</td>\n",
       "      <td>Ex</td>\n",
       "      <td>Y</td>\n",
       "      <td>SBrkr</td>\n",
       "      <td>856</td>\n",
       "      <td>854</td>\n",
       "      <td>1710</td>\n",
       "      <td>Gd</td>\n",
       "      <td>TA</td>\n",
       "      <td>No</td>\n",
       "      <td>1</td>\n",
       "      <td>2</td>\n",
       "      <td>1</td>\n",
       "      <td>3</td>\n",
       "      <td>Gd</td>\n",
       "      <td>8</td>\n",
       "      <td>0</td>\n",
       "      <td>NaN</td>\n",
       "      <td>2</td>\n",
       "      <td>True</td>\n",
       "      <td>548</td>\n",
       "      <td>TA</td>\n",
       "      <td>0</td>\n",
       "      <td>2</td>\n",
       "      <td>61</td>\n",
       "      <td>NaN</td>\n",
       "      <td>NaN</td>\n",
       "      <td>NaN</td>\n",
       "      <td>2</td>\n",
       "      <td>2008</td>\n",
       "      <td>208500</td>\n",
       "    </tr>\n",
       "    <tr>\n",
       "      <th>1</th>\n",
       "      <td>80.0</td>\n",
       "      <td>9600</td>\n",
       "      <td>NaN</td>\n",
       "      <td>FR2</td>\n",
       "      <td>Gtl</td>\n",
       "      <td>Veenker</td>\n",
       "      <td>1Fam</td>\n",
       "      <td>1Story</td>\n",
       "      <td>6</td>\n",
       "      <td>8</td>\n",
       "      <td>1976</td>\n",
       "      <td>False</td>\n",
       "      <td>1976</td>\n",
       "      <td>Gable</td>\n",
       "      <td>CompShg</td>\n",
       "      <td>TA</td>\n",
       "      <td>TA</td>\n",
       "      <td>CBlock</td>\n",
       "      <td>1262</td>\n",
       "      <td>GasA</td>\n",
       "      <td>Ex</td>\n",
       "      <td>Y</td>\n",
       "      <td>SBrkr</td>\n",
       "      <td>1262</td>\n",
       "      <td>0</td>\n",
       "      <td>1262</td>\n",
       "      <td>Gd</td>\n",
       "      <td>TA</td>\n",
       "      <td>Gd</td>\n",
       "      <td>0</td>\n",
       "      <td>2</td>\n",
       "      <td>0</td>\n",
       "      <td>3</td>\n",
       "      <td>TA</td>\n",
       "      <td>6</td>\n",
       "      <td>1</td>\n",
       "      <td>TA</td>\n",
       "      <td>2</td>\n",
       "      <td>True</td>\n",
       "      <td>460</td>\n",
       "      <td>TA</td>\n",
       "      <td>298</td>\n",
       "      <td>2</td>\n",
       "      <td>0</td>\n",
       "      <td>NaN</td>\n",
       "      <td>NaN</td>\n",
       "      <td>NaN</td>\n",
       "      <td>5</td>\n",
       "      <td>2007</td>\n",
       "      <td>181500</td>\n",
       "    </tr>\n",
       "    <tr>\n",
       "      <th>2</th>\n",
       "      <td>68.0</td>\n",
       "      <td>11250</td>\n",
       "      <td>NaN</td>\n",
       "      <td>Inside</td>\n",
       "      <td>Gtl</td>\n",
       "      <td>CollgCr</td>\n",
       "      <td>1Fam</td>\n",
       "      <td>2Story</td>\n",
       "      <td>7</td>\n",
       "      <td>5</td>\n",
       "      <td>2001</td>\n",
       "      <td>True</td>\n",
       "      <td>2002</td>\n",
       "      <td>Gable</td>\n",
       "      <td>CompShg</td>\n",
       "      <td>Gd</td>\n",
       "      <td>TA</td>\n",
       "      <td>PConc</td>\n",
       "      <td>920</td>\n",
       "      <td>GasA</td>\n",
       "      <td>Ex</td>\n",
       "      <td>Y</td>\n",
       "      <td>SBrkr</td>\n",
       "      <td>920</td>\n",
       "      <td>866</td>\n",
       "      <td>1786</td>\n",
       "      <td>Gd</td>\n",
       "      <td>TA</td>\n",
       "      <td>Mn</td>\n",
       "      <td>1</td>\n",
       "      <td>2</td>\n",
       "      <td>1</td>\n",
       "      <td>3</td>\n",
       "      <td>Gd</td>\n",
       "      <td>6</td>\n",
       "      <td>1</td>\n",
       "      <td>TA</td>\n",
       "      <td>2</td>\n",
       "      <td>True</td>\n",
       "      <td>608</td>\n",
       "      <td>TA</td>\n",
       "      <td>0</td>\n",
       "      <td>2</td>\n",
       "      <td>42</td>\n",
       "      <td>NaN</td>\n",
       "      <td>NaN</td>\n",
       "      <td>NaN</td>\n",
       "      <td>9</td>\n",
       "      <td>2008</td>\n",
       "      <td>223500</td>\n",
       "    </tr>\n",
       "    <tr>\n",
       "      <th>3</th>\n",
       "      <td>60.0</td>\n",
       "      <td>9550</td>\n",
       "      <td>NaN</td>\n",
       "      <td>Corner</td>\n",
       "      <td>Gtl</td>\n",
       "      <td>Crawfor</td>\n",
       "      <td>1Fam</td>\n",
       "      <td>2Story</td>\n",
       "      <td>7</td>\n",
       "      <td>5</td>\n",
       "      <td>1915</td>\n",
       "      <td>False</td>\n",
       "      <td>1970</td>\n",
       "      <td>Gable</td>\n",
       "      <td>CompShg</td>\n",
       "      <td>TA</td>\n",
       "      <td>TA</td>\n",
       "      <td>BrkTil</td>\n",
       "      <td>756</td>\n",
       "      <td>GasA</td>\n",
       "      <td>Gd</td>\n",
       "      <td>Y</td>\n",
       "      <td>SBrkr</td>\n",
       "      <td>961</td>\n",
       "      <td>756</td>\n",
       "      <td>1717</td>\n",
       "      <td>TA</td>\n",
       "      <td>Gd</td>\n",
       "      <td>No</td>\n",
       "      <td>1</td>\n",
       "      <td>1</td>\n",
       "      <td>0</td>\n",
       "      <td>3</td>\n",
       "      <td>Gd</td>\n",
       "      <td>7</td>\n",
       "      <td>1</td>\n",
       "      <td>Gd</td>\n",
       "      <td>3</td>\n",
       "      <td>True</td>\n",
       "      <td>642</td>\n",
       "      <td>TA</td>\n",
       "      <td>0</td>\n",
       "      <td>2</td>\n",
       "      <td>35</td>\n",
       "      <td>NaN</td>\n",
       "      <td>NaN</td>\n",
       "      <td>NaN</td>\n",
       "      <td>2</td>\n",
       "      <td>2006</td>\n",
       "      <td>140000</td>\n",
       "    </tr>\n",
       "    <tr>\n",
       "      <th>4</th>\n",
       "      <td>84.0</td>\n",
       "      <td>14260</td>\n",
       "      <td>NaN</td>\n",
       "      <td>FR2</td>\n",
       "      <td>Gtl</td>\n",
       "      <td>NoRidge</td>\n",
       "      <td>1Fam</td>\n",
       "      <td>2Story</td>\n",
       "      <td>8</td>\n",
       "      <td>5</td>\n",
       "      <td>2000</td>\n",
       "      <td>False</td>\n",
       "      <td>2000</td>\n",
       "      <td>Gable</td>\n",
       "      <td>CompShg</td>\n",
       "      <td>Gd</td>\n",
       "      <td>TA</td>\n",
       "      <td>PConc</td>\n",
       "      <td>1145</td>\n",
       "      <td>GasA</td>\n",
       "      <td>Ex</td>\n",
       "      <td>Y</td>\n",
       "      <td>SBrkr</td>\n",
       "      <td>1145</td>\n",
       "      <td>1053</td>\n",
       "      <td>2198</td>\n",
       "      <td>Gd</td>\n",
       "      <td>TA</td>\n",
       "      <td>Av</td>\n",
       "      <td>1</td>\n",
       "      <td>2</td>\n",
       "      <td>1</td>\n",
       "      <td>4</td>\n",
       "      <td>Gd</td>\n",
       "      <td>9</td>\n",
       "      <td>1</td>\n",
       "      <td>TA</td>\n",
       "      <td>3</td>\n",
       "      <td>True</td>\n",
       "      <td>836</td>\n",
       "      <td>TA</td>\n",
       "      <td>192</td>\n",
       "      <td>2</td>\n",
       "      <td>84</td>\n",
       "      <td>NaN</td>\n",
       "      <td>NaN</td>\n",
       "      <td>NaN</td>\n",
       "      <td>12</td>\n",
       "      <td>2008</td>\n",
       "      <td>250000</td>\n",
       "    </tr>\n",
       "  </tbody>\n",
       "</table>\n",
       "</div>"
      ],
      "text/plain": [
       "   LotFrontage  LotArea Alley LotConfig LandSlope Neighborhood BldgType  \\\n",
       "0         65.0     8450   NaN    Inside       Gtl      CollgCr     1Fam   \n",
       "1         80.0     9600   NaN       FR2       Gtl      Veenker     1Fam   \n",
       "2         68.0    11250   NaN    Inside       Gtl      CollgCr     1Fam   \n",
       "3         60.0     9550   NaN    Corner       Gtl      Crawfor     1Fam   \n",
       "4         84.0    14260   NaN       FR2       Gtl      NoRidge     1Fam   \n",
       "\n",
       "  HouseStyle  OverallQual  OverallCond  YearBuilt  isNew  YearRemodAdd  \\\n",
       "0     2Story            7            5       2003   True          2003   \n",
       "1     1Story            6            8       1976  False          1976   \n",
       "2     2Story            7            5       2001   True          2002   \n",
       "3     2Story            7            5       1915  False          1970   \n",
       "4     2Story            8            5       2000  False          2000   \n",
       "\n",
       "  RoofStyle RoofMatl ExterQual ExterCond Foundation  TotalBsmtSF Heating  \\\n",
       "0     Gable  CompShg        Gd        TA      PConc          856    GasA   \n",
       "1     Gable  CompShg        TA        TA     CBlock         1262    GasA   \n",
       "2     Gable  CompShg        Gd        TA      PConc          920    GasA   \n",
       "3     Gable  CompShg        TA        TA     BrkTil          756    GasA   \n",
       "4     Gable  CompShg        Gd        TA      PConc         1145    GasA   \n",
       "\n",
       "  HeatingQC CentralAir Electrical  firstFlrSF  secondFlrSF  GrLivArea  \\\n",
       "0        Ex          Y      SBrkr         856          854       1710   \n",
       "1        Ex          Y      SBrkr        1262            0       1262   \n",
       "2        Ex          Y      SBrkr         920          866       1786   \n",
       "3        Gd          Y      SBrkr         961          756       1717   \n",
       "4        Ex          Y      SBrkr        1145         1053       2198   \n",
       "\n",
       "  BsmtQual BsmtCond BsmtExposure  BsmtFullBath  FullBath  HalfBath  \\\n",
       "0       Gd       TA           No             1         2         1   \n",
       "1       Gd       TA           Gd             0         2         0   \n",
       "2       Gd       TA           Mn             1         2         1   \n",
       "3       TA       Gd           No             1         1         0   \n",
       "4       Gd       TA           Av             1         2         1   \n",
       "\n",
       "   BedroomAbvGr KitchenQual  TotRmsAbvGrd  Fireplaces FireplaceQu  GarageCars  \\\n",
       "0             3          Gd             8           0         NaN           2   \n",
       "1             3          TA             6           1          TA           2   \n",
       "2             3          Gd             6           1          TA           2   \n",
       "3             3          Gd             7           1          Gd           3   \n",
       "4             4          Gd             9           1          TA           3   \n",
       "\n",
       "   hasGarage  GarageArea GarageCond  WoodDeckSF  Nr.Ring  OpenPorchSF PoolQC  \\\n",
       "0       True         548         TA           0        2           61    NaN   \n",
       "1       True         460         TA         298        2            0    NaN   \n",
       "2       True         608         TA           0        2           42    NaN   \n",
       "3       True         642         TA           0        2           35    NaN   \n",
       "4       True         836         TA         192        2           84    NaN   \n",
       "\n",
       "  Fence MiscFeature  MoSold  YrSold  SalePrice  \n",
       "0   NaN         NaN       2    2008     208500  \n",
       "1   NaN         NaN       5    2007     181500  \n",
       "2   NaN         NaN       9    2008     223500  \n",
       "3   NaN         NaN       2    2006     140000  \n",
       "4   NaN         NaN      12    2008     250000  "
      ]
     },
     "execution_count": 7,
     "metadata": {},
     "output_type": "execute_result"
    }
   ],
   "source": [
    "# display the dataframe\n",
    "df.head()"
   ]
  },
  {
   "cell_type": "code",
   "execution_count": 4,
   "metadata": {},
   "outputs": [
    {
     "data": {
      "text/plain": [
       "(1460, 50)"
      ]
     },
     "execution_count": 4,
     "metadata": {},
     "output_type": "execute_result"
    }
   ],
   "source": [
    "# check the shape of the dataframe as a 2-dimensional data object (#rows, #columns)\n",
    "df.shape"
   ]
  },
  {
   "cell_type": "markdown",
   "metadata": {},
   "source": [
    "The dataset contains 1460 records (rows) and 50 columns (features + target):\n",
    "\n",
    "The target column (y) is called target.\n",
    "The rest 49 columns (X) are our feature vectors."
   ]
  },
  {
   "cell_type": "code",
   "execution_count": 5,
   "metadata": {},
   "outputs": [],
   "source": [
    "# storing the target in a variable called \"target\", and the rest of columns' names in a variable called \"X\"\n",
    "target = \"SalePrice\"\n",
    "X = list(set(df.columns) - set([target])) "
   ]
  },
  {
   "cell_type": "markdown",
   "metadata": {},
   "source": [
    "### 0.2. transforming the label column"
   ]
  },
  {
   "cell_type": "code",
   "execution_count": 6,
   "metadata": {},
   "outputs": [
    {
     "data": {
      "image/png": "[encoded data removed]",
      "text/plain": [
       "<Figure size 432x288 with 1 Axes>"
      ]
     },
     "metadata": {
      "needs_background": "light"
     },
     "output_type": "display_data"
    }
   ],
   "source": [
    "# let us first look at the distribution of our target column\n",
    "df[target].hist(bins=50, density=True)\n",
    "plt.ylabel(\"Number of Records\")\n",
    "plt.xlabel(\"Sale Price (target variable)\")\n",
    "plt.show()"
   ]
  },
  {
   "cell_type": "code",
   "execution_count": 7,
   "metadata": {},
   "outputs": [],
   "source": [
    "# target has a skewed distribution with positive values\n",
    "# We transform the values using the log function to obtain a normal distribution\n",
    "df[target] = np.log(df[target])"
   ]
  },
  {
   "cell_type": "code",
   "execution_count": 8,
   "metadata": {},
   "outputs": [
    {
     "data": {
      "image/png": "[encoded data removed]",
      "text/plain": [
       "<Figure size 432x288 with 1 Axes>"
      ]
     },
     "metadata": {
      "needs_background": "light"
     },
     "output_type": "display_data"
    }
   ],
   "source": [
    "df[target].hist(bins=50, density=True)\n",
    "plt.ylabel(\"Number of Records\")\n",
    "plt.xlabel(\"Sale Price (target variable)\")\n",
    "plt.show()"
   ]
  },
  {
   "cell_type": "code",
   "execution_count": 9,
   "metadata": {},
   "outputs": [
    {
     "data": {
      "text/html": [
       "<div>\n",
       "<style scoped>\n",
       "    .dataframe tbody tr th:only-of-type {\n",
       "        vertical-align: middle;\n",
       "    }\n",
       "\n",
       "    .dataframe tbody tr th {\n",
       "        vertical-align: top;\n",
       "    }\n",
       "\n",
       "    .dataframe thead th {\n",
       "        text-align: right;\n",
       "    }\n",
       "</style>\n",
       "<table border=\"1\" class=\"dataframe\">\n",
       "  <thead>\n",
       "    <tr style=\"text-align: right;\">\n",
       "      <th></th>\n",
       "      <th>0</th>\n",
       "    </tr>\n",
       "  </thead>\n",
       "  <tbody>\n",
       "    <tr>\n",
       "      <th>LotFrontage</th>\n",
       "      <td>float64</td>\n",
       "    </tr>\n",
       "    <tr>\n",
       "      <th>LotArea</th>\n",
       "      <td>int64</td>\n",
       "    </tr>\n",
       "    <tr>\n",
       "      <th>Alley</th>\n",
       "      <td>object</td>\n",
       "    </tr>\n",
       "    <tr>\n",
       "      <th>LotConfig</th>\n",
       "      <td>object</td>\n",
       "    </tr>\n",
       "    <tr>\n",
       "      <th>LandSlope</th>\n",
       "      <td>object</td>\n",
       "    </tr>\n",
       "    <tr>\n",
       "      <th>Neighborhood</th>\n",
       "      <td>object</td>\n",
       "    </tr>\n",
       "    <tr>\n",
       "      <th>BldgType</th>\n",
       "      <td>object</td>\n",
       "    </tr>\n",
       "    <tr>\n",
       "      <th>HouseStyle</th>\n",
       "      <td>object</td>\n",
       "    </tr>\n",
       "    <tr>\n",
       "      <th>OverallQual</th>\n",
       "      <td>int64</td>\n",
       "    </tr>\n",
       "    <tr>\n",
       "      <th>OverallCond</th>\n",
       "      <td>int64</td>\n",
       "    </tr>\n",
       "    <tr>\n",
       "      <th>YearBuilt</th>\n",
       "      <td>int64</td>\n",
       "    </tr>\n",
       "    <tr>\n",
       "      <th>isNew</th>\n",
       "      <td>bool</td>\n",
       "    </tr>\n",
       "    <tr>\n",
       "      <th>YearRemodAdd</th>\n",
       "      <td>int64</td>\n",
       "    </tr>\n",
       "    <tr>\n",
       "      <th>RoofStyle</th>\n",
       "      <td>object</td>\n",
       "    </tr>\n",
       "    <tr>\n",
       "      <th>RoofMatl</th>\n",
       "      <td>object</td>\n",
       "    </tr>\n",
       "    <tr>\n",
       "      <th>ExterQual</th>\n",
       "      <td>object</td>\n",
       "    </tr>\n",
       "    <tr>\n",
       "      <th>ExterCond</th>\n",
       "      <td>object</td>\n",
       "    </tr>\n",
       "    <tr>\n",
       "      <th>Foundation</th>\n",
       "      <td>object</td>\n",
       "    </tr>\n",
       "    <tr>\n",
       "      <th>TotalBsmtSF</th>\n",
       "      <td>int64</td>\n",
       "    </tr>\n",
       "    <tr>\n",
       "      <th>Heating</th>\n",
       "      <td>object</td>\n",
       "    </tr>\n",
       "    <tr>\n",
       "      <th>HeatingQC</th>\n",
       "      <td>object</td>\n",
       "    </tr>\n",
       "    <tr>\n",
       "      <th>CentralAir</th>\n",
       "      <td>object</td>\n",
       "    </tr>\n",
       "    <tr>\n",
       "      <th>Electrical</th>\n",
       "      <td>object</td>\n",
       "    </tr>\n",
       "    <tr>\n",
       "      <th>firstFlrSF</th>\n",
       "      <td>int64</td>\n",
       "    </tr>\n",
       "    <tr>\n",
       "      <th>secondFlrSF</th>\n",
       "      <td>int64</td>\n",
       "    </tr>\n",
       "    <tr>\n",
       "      <th>GrLivArea</th>\n",
       "      <td>int64</td>\n",
       "    </tr>\n",
       "    <tr>\n",
       "      <th>BsmtQual</th>\n",
       "      <td>object</td>\n",
       "    </tr>\n",
       "    <tr>\n",
       "      <th>BsmtCond</th>\n",
       "      <td>object</td>\n",
       "    </tr>\n",
       "    <tr>\n",
       "      <th>BsmtExposure</th>\n",
       "      <td>object</td>\n",
       "    </tr>\n",
       "    <tr>\n",
       "      <th>BsmtFullBath</th>\n",
       "      <td>int64</td>\n",
       "    </tr>\n",
       "    <tr>\n",
       "      <th>FullBath</th>\n",
       "      <td>int64</td>\n",
       "    </tr>\n",
       "    <tr>\n",
       "      <th>HalfBath</th>\n",
       "      <td>int64</td>\n",
       "    </tr>\n",
       "    <tr>\n",
       "      <th>BedroomAbvGr</th>\n",
       "      <td>int64</td>\n",
       "    </tr>\n",
       "    <tr>\n",
       "      <th>KitchenQual</th>\n",
       "      <td>object</td>\n",
       "    </tr>\n",
       "    <tr>\n",
       "      <th>TotRmsAbvGrd</th>\n",
       "      <td>int64</td>\n",
       "    </tr>\n",
       "    <tr>\n",
       "      <th>Fireplaces</th>\n",
       "      <td>int64</td>\n",
       "    </tr>\n",
       "    <tr>\n",
       "      <th>FireplaceQu</th>\n",
       "      <td>object</td>\n",
       "    </tr>\n",
       "    <tr>\n",
       "      <th>GarageCars</th>\n",
       "      <td>int64</td>\n",
       "    </tr>\n",
       "    <tr>\n",
       "      <th>hasGarage</th>\n",
       "      <td>bool</td>\n",
       "    </tr>\n",
       "    <tr>\n",
       "      <th>GarageArea</th>\n",
       "      <td>int64</td>\n",
       "    </tr>\n",
       "    <tr>\n",
       "      <th>GarageCond</th>\n",
       "      <td>object</td>\n",
       "    </tr>\n",
       "    <tr>\n",
       "      <th>WoodDeckSF</th>\n",
       "      <td>int64</td>\n",
       "    </tr>\n",
       "    <tr>\n",
       "      <th>Nr.Ring</th>\n",
       "      <td>int64</td>\n",
       "    </tr>\n",
       "    <tr>\n",
       "      <th>OpenPorchSF</th>\n",
       "      <td>int64</td>\n",
       "    </tr>\n",
       "    <tr>\n",
       "      <th>PoolQC</th>\n",
       "      <td>object</td>\n",
       "    </tr>\n",
       "    <tr>\n",
       "      <th>Fence</th>\n",
       "      <td>object</td>\n",
       "    </tr>\n",
       "    <tr>\n",
       "      <th>MiscFeature</th>\n",
       "      <td>object</td>\n",
       "    </tr>\n",
       "    <tr>\n",
       "      <th>MoSold</th>\n",
       "      <td>int64</td>\n",
       "    </tr>\n",
       "    <tr>\n",
       "      <th>YrSold</th>\n",
       "      <td>int64</td>\n",
       "    </tr>\n",
       "    <tr>\n",
       "      <th>SalePrice</th>\n",
       "      <td>float64</td>\n",
       "    </tr>\n",
       "  </tbody>\n",
       "</table>\n",
       "</div>"
      ],
      "text/plain": [
       "                    0\n",
       "LotFrontage   float64\n",
       "LotArea         int64\n",
       "Alley          object\n",
       "LotConfig      object\n",
       "LandSlope      object\n",
       "Neighborhood   object\n",
       "BldgType       object\n",
       "HouseStyle     object\n",
       "OverallQual     int64\n",
       "OverallCond     int64\n",
       "YearBuilt       int64\n",
       "isNew            bool\n",
       "YearRemodAdd    int64\n",
       "RoofStyle      object\n",
       "RoofMatl       object\n",
       "ExterQual      object\n",
       "ExterCond      object\n",
       "Foundation     object\n",
       "TotalBsmtSF     int64\n",
       "Heating        object\n",
       "HeatingQC      object\n",
       "CentralAir     object\n",
       "Electrical     object\n",
       "firstFlrSF      int64\n",
       "secondFlrSF     int64\n",
       "GrLivArea       int64\n",
       "BsmtQual       object\n",
       "BsmtCond       object\n",
       "BsmtExposure   object\n",
       "BsmtFullBath    int64\n",
       "FullBath        int64\n",
       "HalfBath        int64\n",
       "BedroomAbvGr    int64\n",
       "KitchenQual    object\n",
       "TotRmsAbvGrd    int64\n",
       "Fireplaces      int64\n",
       "FireplaceQu    object\n",
       "GarageCars      int64\n",
       "hasGarage        bool\n",
       "GarageArea      int64\n",
       "GarageCond     object\n",
       "WoodDeckSF      int64\n",
       "Nr.Ring         int64\n",
       "OpenPorchSF     int64\n",
       "PoolQC         object\n",
       "Fence          object\n",
       "MiscFeature    object\n",
       "MoSold          int64\n",
       "YrSold          int64\n",
       "SalePrice     float64"
      ]
     },
     "execution_count": 9,
     "metadata": {},
     "output_type": "execute_result"
    }
   ],
   "source": [
    "# We first have a look at the data types of all columns\n",
    "df_type = pd.DataFrame(df.dtypes)\n",
    "df_type"
   ]
  },
  {
   "cell_type": "code",
   "execution_count": 10,
   "metadata": {},
   "outputs": [
    {
     "data": {
      "text/plain": [
       "Index(['LotFrontage', 'LotArea', 'Alley', 'LotConfig', 'LandSlope',\n",
       "       'Neighborhood', 'BldgType', 'HouseStyle', 'OverallQual', 'OverallCond',\n",
       "       'YearBuilt', 'isNew', 'YearRemodAdd', 'RoofStyle', 'RoofMatl',\n",
       "       'ExterQual', 'ExterCond', 'Foundation', 'TotalBsmtSF', 'Heating',\n",
       "       'HeatingQC', 'CentralAir', 'Electrical', 'firstFlrSF', 'secondFlrSF',\n",
       "       'GrLivArea', 'BsmtQual', 'BsmtCond', 'BsmtExposure', 'BsmtFullBath',\n",
       "       'FullBath', 'HalfBath', 'BedroomAbvGr', 'KitchenQual', 'TotRmsAbvGrd',\n",
       "       'Fireplaces', 'FireplaceQu', 'GarageCars', 'hasGarage', 'GarageArea',\n",
       "       'GarageCond', 'WoodDeckSF', 'Nr.Ring', 'OpenPorchSF', 'PoolQC', 'Fence',\n",
       "       'MiscFeature', 'MoSold', 'YrSold', 'SalePrice'],\n",
       "      dtype='object')"
      ]
     },
     "execution_count": 10,
     "metadata": {},
     "output_type": "execute_result"
    }
   ],
   "source": [
    "# we can get a list of all columns by the following command\n",
    "df.columns"
   ]
  },
  {
   "cell_type": "code",
   "execution_count": 11,
   "metadata": {},
   "outputs": [
    {
     "name": "stdout",
     "output_type": "stream",
     "text": [
      "Number of columns: 50\n"
     ]
    }
   ],
   "source": [
    "print(\"Number of columns:\", len(df.columns))"
   ]
  },
  {
   "cell_type": "code",
   "execution_count": 12,
   "metadata": {},
   "outputs": [
    {
     "name": "stdout",
     "output_type": "stream",
     "text": [
      "Number of String Columns: 24\n",
      "Number of Numerical Columns: 24\n",
      "Number of Boolean Columns: 2\n"
     ]
    }
   ],
   "source": [
    "# classifying columns with different data types:\n",
    "str_cols = []\n",
    "for col, dtype in df.dtypes.to_dict().items():\n",
    "    if str(dtype) in 'object':\n",
    "        str_cols.append(col)\n",
    "\n",
    "print(\"Number of String Columns:\", len(str_cols))\n",
    "\n",
    "num_cols = []\n",
    "for col, dtype in df.dtypes.to_dict().items():\n",
    "    if str(dtype) in 'int64' or str(dtype) in 'float64':\n",
    "        num_cols.append(col)\n",
    "print(\"Number of Numerical Columns:\", len(num_cols))\n",
    "\n",
    "bool_cols = []\n",
    "for col, dtype in df.dtypes.to_dict().items():\n",
    "    if str(dtype) in 'bool':\n",
    "        bool_cols.append(col)\n",
    "\n",
    "print(\"Number of Boolean Columns:\", len(bool_cols))\n"
   ]
  },
  {
   "cell_type": "code",
   "execution_count": 13,
   "metadata": {},
   "outputs": [
    {
     "name": "stdout",
     "output_type": "stream",
     "text": [
      "Alley :  [nan 'Grvl' 'Pave']\n",
      "LotConfig :  ['Inside' 'FR2' 'Corner' 'CulDSac' 'FR3']\n",
      "LandSlope :  ['Gtl' 'Mod' 'Sev']\n",
      "Neighborhood :  ['CollgCr' 'Veenker' 'Crawfor' 'NoRidge' 'Mitchel' 'Somerst' 'NWAmes'\n",
      " 'OldTown' 'BrkSide' 'Sawyer' 'NridgHt' 'NAmes' 'SawyerW' 'IDOTRR'\n",
      " 'MeadowV' 'Edwards' 'Timber' 'Gilbert' 'StoneBr' 'ClearCr' 'NPkVill'\n",
      " 'Blmngtn' 'BrDale' 'SWISU' 'Blueste']\n",
      "BldgType :  ['1Fam' '2fmCon' 'Duplex' 'TwnhsE' 'Twnhs']\n",
      "HouseStyle :  ['2Story' '1Story' '1.5Fin' '1.5Unf' 'SFoyer' 'SLvl' '2.5Unf' '2.5Fin']\n",
      "RoofStyle :  ['Gable' 'Hip' 'Gambrel' 'Mansard' 'Flat' 'Shed']\n",
      "RoofMatl :  ['CompShg' 'WdShngl' 'Metal' 'WdShake' 'Membran' 'Tar&Grv' 'Roll'\n",
      " 'ClyTile']\n",
      "ExterQual :  ['Gd' 'TA' 'Ex' 'Fa']\n",
      "ExterCond :  ['TA' 'Gd' 'Fa' 'Po' 'Ex']\n",
      "Foundation :  ['PConc' 'CBlock' 'BrkTil' 'Wood' 'Slab' 'Stone']\n",
      "Heating :  ['GasA' 'GasW' 'Grav' 'Wall' 'OthW' 'Floor']\n",
      "HeatingQC :  ['Ex' 'Gd' 'TA' 'Fa' 'Po']\n",
      "CentralAir :  ['Y' 'N']\n",
      "Electrical :  ['SBrkr' 'FuseF' 'FuseA' 'FuseP' 'Mix' nan]\n",
      "BsmtQual :  ['Gd' 'TA' 'Ex' nan 'Fa']\n",
      "BsmtCond :  ['TA' 'Gd' nan 'Fa' 'Po']\n",
      "BsmtExposure :  ['No' 'Gd' 'Mn' 'Av' nan]\n",
      "KitchenQual :  ['Gd' 'TA' 'Ex' 'Fa']\n",
      "FireplaceQu :  [nan 'TA' 'Gd' 'Fa' 'Ex' 'Po']\n",
      "GarageCond :  ['TA' 'Fa' nan 'Gd' 'Po' 'Ex']\n",
      "PoolQC :  [nan 'Ex' 'Fa' 'Gd']\n",
      "Fence :  [nan 'MnPrv' 'GdWo' 'GdPrv' 'MnWw']\n",
      "MiscFeature :  [nan 'Shed' 'Gar2' 'Othr' 'TenC']\n"
     ]
    }
   ],
   "source": [
    "# Exploring different categories of the categorical variables:\n",
    "for col in str_cols:\n",
    "    print(col, \": \", df[col].unique())"
   ]
  },
  {
   "cell_type": "markdown",
   "metadata": {},
   "source": [
    "# 1. Missing Value Imputation\n",
    "It happens very often that the dataset contains missing (empty, null) values.\n",
    "\n",
    "Imputation is the process of replacing missing data with statistical estimates of them.\n",
    "\n",
    "In this section, we explore different methods of missing data imputation. It consists of the following parts:\n",
    "\n",
    "1.1. Identifying columns with null values \\\n",
    "1.2. Mean or Median Imputation \\\n",
    "1.3. Frequent Category Imputation (Mode Imputation)\n"
   ]
  },
  {
   "cell_type": "markdown",
   "metadata": {},
   "source": [
    "### 1.1. Identifying columns with null values: \n",
    "\n",
    "The main method in Pandas which is used to identify columns with null values is called \"isnull()\".\n",
    "\n",
    "\"isnull()\" is applied to a column in a dataframe and returns an array of bool, indicating whether each record is null or not."
   ]
  },
  {
   "cell_type": "code",
   "execution_count": 14,
   "metadata": {},
   "outputs": [
    {
     "data": {
      "text/plain": [
       "0        True\n",
       "1        True\n",
       "2        True\n",
       "3        True\n",
       "4        True\n",
       "        ...  \n",
       "1455     True\n",
       "1456     True\n",
       "1457    False\n",
       "1458     True\n",
       "1459     True\n",
       "Name: MiscFeature, Length: 1460, dtype: bool"
      ]
     },
     "execution_count": 14,
     "metadata": {},
     "output_type": "execute_result"
    }
   ],
   "source": [
    "# For example, consider the column \"MiscFeature\"\n",
    "df[\"MiscFeature\"].isnull()"
   ]
  },
  {
   "cell_type": "markdown",
   "metadata": {},
   "source": [
    "Now we would like to identify those columns which contain null values.\n",
    "\n",
    "We use the mean() method to calculate the mean of the 0's and 1's. If the mean is greater than 0, the column contains at least one null value "
   ]
  },
  {
   "cell_type": "code",
   "execution_count": 15,
   "metadata": {},
   "outputs": [],
   "source": [
    "null_cols = [col for col in df.columns if df[col].isnull().mean() > 0] \n",
    "null_str_cols = [col for col in str_cols if df[col].isnull().mean() > 0] \n",
    "null_num_cols = [col for col in num_cols if df[col].isnull().mean() > 0]\n",
    "null_bool_cols = [col for col in bool_cols if df[col].isnull().mean() > 0]  "
   ]
  },
  {
   "cell_type": "code",
   "execution_count": 16,
   "metadata": {},
   "outputs": [
    {
     "name": "stdout",
     "output_type": "stream",
     "text": [
      "['LotFrontage', 'Alley', 'Electrical', 'BsmtQual', 'BsmtCond', 'BsmtExposure', 'FireplaceQu', 'GarageCond', 'PoolQC', 'Fence', 'MiscFeature']\n"
     ]
    }
   ],
   "source": [
    "print(null_cols)"
   ]
  },
  {
   "cell_type": "code",
   "execution_count": 17,
   "metadata": {},
   "outputs": [
    {
     "name": "stdout",
     "output_type": "stream",
     "text": [
      "Number of Columns with Null values: 11\n",
      "Percentage of null values:\n",
      "LotFrontage 0.1774 , Data Type:  float64\n",
      "Alley 0.9377 , Data Type:  object\n",
      "Electrical 0.0007 , Data Type:  object\n",
      "BsmtQual 0.0253 , Data Type:  object\n",
      "BsmtCond 0.0253 , Data Type:  object\n",
      "BsmtExposure 0.026 , Data Type:  object\n",
      "FireplaceQu 0.4726 , Data Type:  object\n",
      "GarageCond 0.0555 , Data Type:  object\n",
      "PoolQC 0.9952 , Data Type:  object\n",
      "Fence 0.8075 , Data Type:  object\n",
      "MiscFeature 0.963 , Data Type:  object\n"
     ]
    }
   ],
   "source": [
    "print(\"Number of Columns with Null values:\", len(null_cols))\n",
    "print(\"Percentage of null values:\")\n",
    "for col in null_cols:\n",
    "    print(col, round(df[col].isnull().mean(), 4), \", Data Type: \", df[col].dtype)"
   ]
  },
  {
   "cell_type": "markdown",
   "metadata": {},
   "source": [
    "As mentioned above, there are different methods for missing data imputation.\n",
    "\n",
    "To implement these methods, we create two sublist of null_cols whose percentage of null values is lower and higher than a certain \"null_threshold\".\n",
    "\n",
    "There is no definite rule how to choose this threshold. It must be chosen in such a way that the dataset size and feature distributions do not change drastically after imputation."
   ]
  },
  {
   "cell_type": "code",
   "execution_count": 18,
   "metadata": {},
   "outputs": [],
   "source": [
    "null_threshold = 0.028\n",
    "#null_threshold = 0.2\n",
    "# Create a sublist of null_cols with less than \"null_threshold\" null values\n",
    "null_lower_cols = [col for col in null_cols if df[col].isnull().mean() < null_threshold] \n",
    "null_lower_str_cols = [col for col in null_str_cols if df[col].isnull().mean() < null_threshold]\n",
    "null_lower_num_cols = [col for col in null_num_cols if df[col].isnull().mean() < null_threshold] \n",
    "null_lower_bool_cols = [col for col in null_bool_cols if df[col].isnull().mean() < null_threshold] \n",
    "#Columns with more than \"null_threshold\" percent null values.\n",
    "null_upper_cols = list(set(null_cols) - set(null_lower_cols)) \n",
    "null_upper_str_cols = list(set(null_str_cols) - set(null_lower_str_cols)) \n",
    "null_upper_num_cols = list(set(null_num_cols) - set(null_lower_num_cols)) \n",
    "null_upper_bool_cols = list(set(null_bool_cols) - set(null_lower_bool_cols)) "
   ]
  },
  {
   "cell_type": "code",
   "execution_count": 19,
   "metadata": {},
   "outputs": [
    {
     "name": "stdout",
     "output_type": "stream",
     "text": [
      "Number of columns with null values: 11\n"
     ]
    }
   ],
   "source": [
    "print(\"Number of columns with null values:\", len(null_cols))"
   ]
  },
  {
   "cell_type": "code",
   "execution_count": 20,
   "metadata": {},
   "outputs": [
    {
     "name": "stdout",
     "output_type": "stream",
     "text": [
      "Number of columns with less than  0.028 null values: 4\n",
      "Electrical 0.0007 , Data Type:  object\n",
      "BsmtQual 0.0253 , Data Type:  object\n",
      "BsmtCond 0.0253 , Data Type:  object\n",
      "BsmtExposure 0.026 , Data Type:  object\n"
     ]
    }
   ],
   "source": [
    "print(\"Number of columns with less than \", null_threshold, \"null values:\", len(null_lower_cols))\n",
    "for col in null_lower_cols:\n",
    "    print(col, round(df[col].isnull().mean(), 4), \", Data Type: \", df[col].dtype)"
   ]
  },
  {
   "cell_type": "code",
   "execution_count": 21,
   "metadata": {},
   "outputs": [
    {
     "name": "stdout",
     "output_type": "stream",
     "text": [
      "Number of columns with more than  0.028 null values: 7\n",
      "GarageCond 0.0555 , Data Type:  object\n",
      "LotFrontage 0.1774 , Data Type:  float64\n",
      "MiscFeature 0.963 , Data Type:  object\n",
      "Alley 0.9377 , Data Type:  object\n",
      "Fence 0.8075 , Data Type:  object\n",
      "FireplaceQu 0.4726 , Data Type:  object\n",
      "PoolQC 0.9952 , Data Type:  object\n"
     ]
    }
   ],
   "source": [
    "print(\"Number of columns with more than \", null_threshold, \"null values:\", len(null_upper_cols))\n",
    "for col in null_upper_cols:\n",
    "    print(col, round(df[col].isnull().mean(), 4), \", Data Type: \", df[col].dtype)"
   ]
  },
  {
   "cell_type": "markdown",
   "metadata": {},
   "source": [
    "### 1.2. Complete Case Analysis\n",
    "\n",
    "The first method of handling missing values is to drop all the records which contains a missing value. We perform this method on the columns that we stored in \"null_lower_cols\".\n",
    "\n",
    "The main method in Pandas which is used to drop columns with null values is called \"dropna()\".\n"
   ]
  },
  {
   "cell_type": "code",
   "execution_count": 22,
   "metadata": {},
   "outputs": [
    {
     "name": "stdout",
     "output_type": "stream",
     "text": [
      "['Electrical', 'BsmtQual', 'BsmtCond', 'BsmtExposure']\n"
     ]
    }
   ],
   "source": [
    "print(null_lower_cols)"
   ]
  },
  {
   "cell_type": "code",
   "execution_count": 23,
   "metadata": {},
   "outputs": [
    {
     "data": {
      "text/plain": [
       "((1460, 50), (1421, 50))"
      ]
     },
     "execution_count": 23,
     "metadata": {},
     "output_type": "execute_result"
    }
   ],
   "source": [
    "# Here we simply drop all records which contain with less than the percentage specified in the null_threshold variable of their values being null\n",
    "# We store the resulting data into a new dataframe called \"df_cca\"\n",
    "df_cca = df.dropna(subset=null_lower_cols,  axis=0)\n",
    "df.shape, df_cca.shape"
   ]
  },
  {
   "cell_type": "code",
   "execution_count": 24,
   "metadata": {},
   "outputs": [
    {
     "name": "stdout",
     "output_type": "stream",
     "text": [
      "We observe that after dropping the missing values, the number of records is reduced to 1421 .\n",
      "This means the dataset size is reduced by 2.67 percent.\n"
     ]
    }
   ],
   "source": [
    "print(\"We observe that after dropping the missing values, the number of records is reduced to\", df_cca.shape[0],\".\")\n",
    "print(\"This means the dataset size is reduced by\", round((df.shape[0] - df_cca.shape[0])/df.shape[0] * 100, 2), \"percent.\")\n"
   ]
  },
  {
   "cell_type": "markdown",
   "metadata": {},
   "source": [
    "Since the dataset size is not reduced \n",
    "In order to check the distortion of feature distributions, we plot the histogram of the imputed features against the original features."
   ]
  },
  {
   "cell_type": "code",
   "execution_count": 25,
   "metadata": {},
   "outputs": [
    {
     "data": {
      "text/plain": [
       "<AxesSubplot:>"
      ]
     },
     "execution_count": 25,
     "metadata": {},
     "output_type": "execute_result"
    },
    {
     "data": {
      "image/png": "[encoded data removed]",
      "text/plain": [
       "<Figure size 432x288 with 1 Axes>"
      ]
     },
     "metadata": {
      "needs_background": "light"
     },
     "output_type": "display_data"
    }
   ],
   "source": [
    "fig = plt.figure()\n",
    "ax = fig.add_subplot(111)\n",
    "df['Electrical'].hist(bins=50, ax=ax, density=True, color='red', )\n",
    "df_cca['Electrical'].hist(bins=50, ax=ax, color='blue', density=True, alpha=0.8)"
   ]
  },
  {
   "cell_type": "code",
   "execution_count": 26,
   "metadata": {},
   "outputs": [
    {
     "data": {
      "text/plain": [
       "<AxesSubplot:>"
      ]
     },
     "execution_count": 26,
     "metadata": {},
     "output_type": "execute_result"
    },
    {
     "data": {
      "image/png": "[encoded data removed]",
      "text/plain": [
       "<Figure size 432x288 with 1 Axes>"
      ]
     },
     "metadata": {
      "needs_background": "light"
     },
     "output_type": "display_data"
    }
   ],
   "source": [
    "fig = plt.figure()\n",
    "ax = fig.add_subplot(111)\n",
    "df['BsmtQual'].hist(bins=50, ax=ax, density=True, color='red')\n",
    "df_cca['BsmtQual'].hist(bins=50, ax=ax, color='blue', density=True, alpha=0.8)"
   ]
  },
  {
   "cell_type": "code",
   "execution_count": 27,
   "metadata": {},
   "outputs": [
    {
     "data": {
      "text/plain": [
       "<AxesSubplot:>"
      ]
     },
     "execution_count": 27,
     "metadata": {},
     "output_type": "execute_result"
    },
    {
     "data": {
      "image/png": "[encoded data removed]",
      "text/plain": [
       "<Figure size 432x288 with 1 Axes>"
      ]
     },
     "metadata": {
      "needs_background": "light"
     },
     "output_type": "display_data"
    }
   ],
   "source": [
    "fig = plt.figure()\n",
    "ax = fig.add_subplot(111)\n",
    "df['BsmtCond'].hist(bins=50, ax=ax, density=True, color='red')\n",
    "df_cca['BsmtCond'].hist(bins=50, ax=ax, color='blue', density=True, alpha=0.8)"
   ]
  },
  {
   "cell_type": "code",
   "execution_count": 28,
   "metadata": {},
   "outputs": [
    {
     "data": {
      "text/plain": [
       "<AxesSubplot:>"
      ]
     },
     "execution_count": 28,
     "metadata": {},
     "output_type": "execute_result"
    },
    {
     "data": {
      "image/png": "[encoded data removed]",
      "text/plain": [
       "<Figure size 432x288 with 1 Axes>"
      ]
     },
     "metadata": {
      "needs_background": "light"
     },
     "output_type": "display_data"
    }
   ],
   "source": [
    "fig = plt.figure()\n",
    "ax = fig.add_subplot(111)\n",
    "df['BsmtExposure'].hist(bins=50, ax=ax, density=True, color='red')\n",
    "df_cca['BsmtExposure'].hist(bins=50, ax=ax, color='blue', density=True, alpha=0.8)"
   ]
  },
  {
   "cell_type": "markdown",
   "metadata": {},
   "source": [
    "We observe that the distributions of the values of imputed features is not distorted. We therefore implement the imputation on our main dataframe \"df\"."
   ]
  },
  {
   "cell_type": "code",
   "execution_count": 29,
   "metadata": {},
   "outputs": [],
   "source": [
    "# drop the records with at least one null value\n",
    "df = df.dropna(subset=null_lower_cols,  axis=0) "
   ]
  },
  {
   "cell_type": "markdown",
   "metadata": {},
   "source": [
    "We have already handled 4 null columns. There are 7 more remained which are stored in the list \"null_upper_cols\"."
   ]
  },
  {
   "cell_type": "code",
   "execution_count": 30,
   "metadata": {},
   "outputs": [
    {
     "name": "stdout",
     "output_type": "stream",
     "text": [
      "GarageCond 0.0521 , Data Type:  object\n",
      "LotFrontage 0.178 , Data Type:  float64\n",
      "MiscFeature 0.9641 , Data Type:  object\n",
      "Alley 0.9367 , Data Type:  object\n",
      "Fence 0.8051 , Data Type:  object\n",
      "FireplaceQu 0.4652 , Data Type:  object\n",
      "PoolQC 0.9951 , Data Type:  object\n"
     ]
    }
   ],
   "source": [
    "for col in null_upper_cols:\n",
    "    print(col, round(df[col].isnull().mean(), 4), \", Data Type: \", df[col].dtype)"
   ]
  },
  {
   "cell_type": "markdown",
   "metadata": {},
   "source": [
    "Among the remaining columns:\n",
    "- 1 is numerical = [\"LotFrontage\"] with 17.8% null values --> perform Mean/Median\n",
    "- 6 are categorical:\n",
    "    - 1 feature = [\"GarageCond\"] with 5.2 % null values --> perform Frequent Category Imputation\n",
    "    - 5 features = [\"MiscFeature\", \"PoolQC\", \"FireplaceQu\", \"Alley\", \"Fence\"] with > 46 % null values --> perform \"add a Missing category\"."
   ]
  },
  {
   "cell_type": "markdown",
   "metadata": {},
   "source": [
    "### 1.3. Mean or Median Imputation\n",
    "\n",
    "Mean or Median Imputation amounts to replacing all missing values by mean or median of that variable.\n",
    "\n",
    "The main method in Pandas which is used to drop columns with null values is called \"fillna()\".\n",
    "\n",
    "Depending on the feature distributions, we can choose which one to choose:\n",
    "\n",
    "- for symmetric distributions, mean imputation\n",
    "- for skewed distributions, median imputation\n"
   ]
  },
  {
   "cell_type": "markdown",
   "metadata": {},
   "source": [
    "Before implementing the imputations, we must first split the data to train and test datasets (to avoid overfitting)."
   ]
  },
  {
   "cell_type": "code",
   "execution_count": 31,
   "metadata": {},
   "outputs": [],
   "source": [
    "from sklearn.model_selection import train_test_split\n",
    "X_train, X_test, y_train, y_test = train_test_split(df[X], df[target], test_size=0.3, random_state=10)"
   ]
  },
  {
   "cell_type": "code",
   "execution_count": 32,
   "metadata": {},
   "outputs": [
    {
     "data": {
      "text/plain": [
       "((994, 49), (427, 49), (994,), (427,))"
      ]
     },
     "execution_count": 32,
     "metadata": {},
     "output_type": "execute_result"
    }
   ],
   "source": [
    "X_train.shape, X_test.shape, y_train.shape, y_test.shape"
   ]
  },
  {
   "cell_type": "code",
   "execution_count": 33,
   "metadata": {},
   "outputs": [
    {
     "data": {
      "text/plain": [
       "<AxesSubplot:ylabel='Density'>"
      ]
     },
     "execution_count": 33,
     "metadata": {},
     "output_type": "execute_result"
    },
    {
     "data": {
      "image/png": "[encoded data removed]",
      "text/plain": [
       "<Figure size 432x288 with 1 Axes>"
      ]
     },
     "metadata": {
      "needs_background": "light"
     },
     "output_type": "display_data"
    }
   ],
   "source": [
    "# we first look at the distribution plot of 'LotFrontage'\n",
    "fig = plt.figure()\n",
    "ax = fig.add_subplot(111)\n",
    "X_train['LotFrontage'].plot(kind='kde', ax=ax)"
   ]
  },
  {
   "cell_type": "markdown",
   "metadata": {},
   "source": [
    "Since it has a skewed distribution, we choose the median imputation."
   ]
  },
  {
   "cell_type": "code",
   "execution_count": 34,
   "metadata": {},
   "outputs": [],
   "source": [
    "# first store the median of X_train['LotFrontage'] in the variable \"LotFrontage_median\"\n",
    "LotFrontage_median = X_train['LotFrontage'].median()\n",
    "# we add new columns to X_train/X_test where the null value is filled with median\n",
    "X_train['LotFrontage_median'] = X_train['LotFrontage'].fillna(LotFrontage_median)\n",
    "X_test['LotFrontage_median'] = X_test['LotFrontage'].fillna(LotFrontage_median)"
   ]
  },
  {
   "cell_type": "code",
   "execution_count": 35,
   "metadata": {},
   "outputs": [
    {
     "data": {
      "text/plain": [
       "<matplotlib.legend.Legend at 0x1e7c0674df0>"
      ]
     },
     "execution_count": 35,
     "metadata": {},
     "output_type": "execute_result"
    },
    {
     "data": {
      "image/png": "[encoded data removed]",
      "text/plain": [
       "<Figure size 432x288 with 1 Axes>"
      ]
     },
     "metadata": {
      "needs_background": "light"
     },
     "output_type": "display_data"
    }
   ],
   "source": [
    "# we now plot the distributions of X_train['LotFrontage'] and X_train['LotFrontage_median'] together\n",
    "fig = plt.figure()\n",
    "ax = fig.add_subplot(111)\n",
    "X_train['LotFrontage'].plot(kind='kde', ax=ax)\n",
    "X_train['LotFrontage_median'].plot(kind='kde', ax=ax, color='red')\n",
    "lines, labels = ax.get_legend_handles_labels()\n",
    "ax.legend(lines, labels, loc='best')"
   ]
  },
  {
   "cell_type": "markdown",
   "metadata": {},
   "source": [
    "We observe that the general shape of the distribution os not distored. Obviously the value of the mode is increased, relecting the fact that we have filled the null values with median and thus there are more points in the dataset whose values are equal the median (of the original distruíbution). "
   ]
  },
  {
   "cell_type": "code",
   "execution_count": 36,
   "metadata": {},
   "outputs": [
    {
     "data": {
      "text/plain": [
       "((994, 49), (427, 49), (994,), (427,))"
      ]
     },
     "execution_count": 36,
     "metadata": {},
     "output_type": "execute_result"
    }
   ],
   "source": [
    "# after plotting this, we keep X_train['LotFrontage_median'] and drop X_train['LotFrontage'].\n",
    "X_train.drop(columns=['LotFrontage'], axis=1, inplace=True)\n",
    "X_test.drop(columns=['LotFrontage'], axis=1, inplace=True)\n",
    "\n",
    "X_train.shape, X_test.shape, y_train.shape, y_test.shape"
   ]
  },
  {
   "cell_type": "markdown",
   "metadata": {},
   "source": [
    "### 1.4. Frequent Category Imputation (Mode Imputation)\n",
    "\n",
    "Frequent Category Imputation amounts to replacing all missing values by the most frequent value (mode) of that variable.\n",
    "\n",
    "The main method in Pandas which is used to drop columns with null values is called \"fillna()\".\n",
    "\n",
    "We implement this method for the categorical column \"GarageCond\"."
   ]
  },
  {
   "cell_type": "code",
   "execution_count": 37,
   "metadata": {},
   "outputs": [
    {
     "data": {
      "text/plain": [
       "<AxesSubplot:>"
      ]
     },
     "execution_count": 37,
     "metadata": {},
     "output_type": "execute_result"
    },
    {
     "data": {
      "image/png": "[encoded data removed]",
      "text/plain": [
       "<Figure size 432x288 with 1 Axes>"
      ]
     },
     "metadata": {
      "needs_background": "light"
     },
     "output_type": "display_data"
    }
   ],
   "source": [
    "# plot the bar-plot of X_train['GarageCond'] \n",
    "X_train['GarageCond'].value_counts().sort_values(ascending=False).plot.bar()"
   ]
  },
  {
   "cell_type": "code",
   "execution_count": 38,
   "metadata": {},
   "outputs": [
    {
     "data": {
      "text/plain": [
       "'TA'"
      ]
     },
     "execution_count": 38,
     "metadata": {},
     "output_type": "execute_result"
    }
   ],
   "source": [
    "GarageCond_mode =  X_train['GarageCond'].mode()[0]   \n",
    "GarageCond_mode                           "
   ]
  },
  {
   "cell_type": "code",
   "execution_count": 39,
   "metadata": {},
   "outputs": [],
   "source": [
    "X_train[\"GarageCond\"].fillna(GarageCond_mode, inplace=True)\n",
    "X_test[\"GarageCond\"].fillna(GarageCond_mode, inplace=True)"
   ]
  },
  {
   "cell_type": "code",
   "execution_count": 40,
   "metadata": {},
   "outputs": [
    {
     "data": {
      "text/plain": [
       "<AxesSubplot:>"
      ]
     },
     "execution_count": 40,
     "metadata": {},
     "output_type": "execute_result"
    },
    {
     "data": {
      "image/png": "[encoded data removed]",
      "text/plain": [
       "<Figure size 432x288 with 1 Axes>"
      ]
     },
     "metadata": {
      "needs_background": "light"
     },
     "output_type": "display_data"
    }
   ],
   "source": [
    "# plot the bar-plot of X_train['GarageCond'] \n",
    "X_train['GarageCond'].value_counts().sort_values(ascending=False).plot.bar()"
   ]
  },
  {
   "cell_type": "code",
   "execution_count": 41,
   "metadata": {},
   "outputs": [
    {
     "data": {
      "text/plain": [
       "((994, 49), (427, 49), (994,), (427,))"
      ]
     },
     "execution_count": 41,
     "metadata": {},
     "output_type": "execute_result"
    }
   ],
   "source": [
    "X_train.shape, X_test.shape, y_train.shape, y_test.shape"
   ]
  },
  {
   "cell_type": "markdown",
   "metadata": {},
   "source": [
    "# Adding a \"Missing\" category \n",
    "\n",
    "This Imputation method amounts to creating a new category called \"Missing\" and replacing all null values by this new label. \n",
    "\n",
    "This is used when the percentage of null values in a column is high.\n",
    "\n",
    "In our case, we use this method for the remaining 5 categorical columns [\"MiscFeature\", \"PoolQC\", \"FireplaceQu\", \"Alley\", \"Fence\"] whose null value percentage is higher than 46%.\n"
   ]
  },
  {
   "cell_type": "code",
   "execution_count": 42,
   "metadata": {},
   "outputs": [],
   "source": [
    "add_missing_cols = [\"MiscFeature\", \"PoolQC\", \"FireplaceQu\", \"Alley\", \"Fence\"]"
   ]
  },
  {
   "cell_type": "code",
   "execution_count": 43,
   "metadata": {},
   "outputs": [
    {
     "name": "stdout",
     "output_type": "stream",
     "text": [
      "[nan 'Shed' 'Gar2' 'Othr']\n",
      "[nan 'Gd' 'Fa' 'Ex']\n",
      "['Gd' nan 'TA' 'Fa' 'Ex' 'Po']\n",
      "[nan 'Pave' 'Grvl']\n",
      "[nan 'MnPrv' 'GdPrv' 'GdWo' 'MnWw']\n"
     ]
    }
   ],
   "source": [
    "for col in add_missing_cols:\n",
    "    print(X_train[col].unique())"
   ]
  },
  {
   "cell_type": "code",
   "execution_count": 44,
   "metadata": {},
   "outputs": [],
   "source": [
    "for col in add_missing_cols:\n",
    "    X_train[col].fillna('Missing', inplace=True)\n",
    "    X_test[col].fillna('Missing', inplace=True)"
   ]
  },
  {
   "cell_type": "code",
   "execution_count": 45,
   "metadata": {},
   "outputs": [
    {
     "data": {
      "text/plain": [
       "<AxesSubplot:>"
      ]
     },
     "execution_count": 45,
     "metadata": {},
     "output_type": "execute_result"
    },
    {
     "data": {
      "image/png": "[encoded data removed]",
      "text/plain": [
       "<Figure size 432x288 with 1 Axes>"
      ]
     },
     "metadata": {
      "needs_background": "light"
     },
     "output_type": "display_data"
    }
   ],
   "source": [
    "X_train['MiscFeature'].value_counts().sort_values(ascending=False).plot.bar()"
   ]
  },
  {
   "cell_type": "code",
   "execution_count": 46,
   "metadata": {},
   "outputs": [
    {
     "name": "stdout",
     "output_type": "stream",
     "text": [
      "['Missing' 'Shed' 'Gar2' 'Othr']\n",
      "['Missing' 'Gd' 'Fa' 'Ex']\n",
      "['Gd' 'Missing' 'TA' 'Fa' 'Ex' 'Po']\n",
      "['Missing' 'Pave' 'Grvl']\n",
      "['Missing' 'MnPrv' 'GdPrv' 'GdWo' 'MnWw']\n"
     ]
    }
   ],
   "source": [
    "for col in add_missing_cols:\n",
    "    print(X_train[col].unique())"
   ]
  },
  {
   "cell_type": "code",
   "execution_count": 47,
   "metadata": {},
   "outputs": [
    {
     "data": {
      "text/plain": [
       "((994, 49), (427, 49), (994,))"
      ]
     },
     "execution_count": 47,
     "metadata": {},
     "output_type": "execute_result"
    }
   ],
   "source": [
    "X_train.shape, X_test.shape, y_train.shape"
   ]
  },
  {
   "cell_type": "markdown",
   "metadata": {},
   "source": [
    "# 2. Temporal variables\n",
    "\n",
    "There are 3 temporal variables in the dataset [\"YrSold\", \"YearRemodAdd\", \"YearBuilt\"]"
   ]
  },
  {
   "cell_type": "code",
   "execution_count": 48,
   "metadata": {},
   "outputs": [
    {
     "data": {
      "text/html": [
       "<div>\n",
       "<style scoped>\n",
       "    .dataframe tbody tr th:only-of-type {\n",
       "        vertical-align: middle;\n",
       "    }\n",
       "\n",
       "    .dataframe tbody tr th {\n",
       "        vertical-align: top;\n",
       "    }\n",
       "\n",
       "    .dataframe thead th {\n",
       "        text-align: right;\n",
       "    }\n",
       "</style>\n",
       "<table border=\"1\" class=\"dataframe\">\n",
       "  <thead>\n",
       "    <tr style=\"text-align: right;\">\n",
       "      <th></th>\n",
       "      <th>YrSold</th>\n",
       "      <th>YearBuilt</th>\n",
       "      <th>YearRemodAdd</th>\n",
       "    </tr>\n",
       "  </thead>\n",
       "  <tbody>\n",
       "    <tr>\n",
       "      <th>0</th>\n",
       "      <td>2008</td>\n",
       "      <td>2003</td>\n",
       "      <td>2003</td>\n",
       "    </tr>\n",
       "    <tr>\n",
       "      <th>1</th>\n",
       "      <td>2007</td>\n",
       "      <td>1976</td>\n",
       "      <td>1976</td>\n",
       "    </tr>\n",
       "    <tr>\n",
       "      <th>2</th>\n",
       "      <td>2008</td>\n",
       "      <td>2001</td>\n",
       "      <td>2002</td>\n",
       "    </tr>\n",
       "    <tr>\n",
       "      <th>3</th>\n",
       "      <td>2006</td>\n",
       "      <td>1915</td>\n",
       "      <td>1970</td>\n",
       "    </tr>\n",
       "    <tr>\n",
       "      <th>4</th>\n",
       "      <td>2008</td>\n",
       "      <td>2000</td>\n",
       "      <td>2000</td>\n",
       "    </tr>\n",
       "    <tr>\n",
       "      <th>...</th>\n",
       "      <td>...</td>\n",
       "      <td>...</td>\n",
       "      <td>...</td>\n",
       "    </tr>\n",
       "    <tr>\n",
       "      <th>1455</th>\n",
       "      <td>2007</td>\n",
       "      <td>1999</td>\n",
       "      <td>2000</td>\n",
       "    </tr>\n",
       "    <tr>\n",
       "      <th>1456</th>\n",
       "      <td>2010</td>\n",
       "      <td>1978</td>\n",
       "      <td>1988</td>\n",
       "    </tr>\n",
       "    <tr>\n",
       "      <th>1457</th>\n",
       "      <td>2010</td>\n",
       "      <td>1941</td>\n",
       "      <td>2006</td>\n",
       "    </tr>\n",
       "    <tr>\n",
       "      <th>1458</th>\n",
       "      <td>2010</td>\n",
       "      <td>1950</td>\n",
       "      <td>1996</td>\n",
       "    </tr>\n",
       "    <tr>\n",
       "      <th>1459</th>\n",
       "      <td>2008</td>\n",
       "      <td>1965</td>\n",
       "      <td>1965</td>\n",
       "    </tr>\n",
       "  </tbody>\n",
       "</table>\n",
       "<p>1421 rows × 3 columns</p>\n",
       "</div>"
      ],
      "text/plain": [
       "      YrSold  YearBuilt  YearRemodAdd\n",
       "0       2008       2003          2003\n",
       "1       2007       1976          1976\n",
       "2       2008       2001          2002\n",
       "3       2006       1915          1970\n",
       "4       2008       2000          2000\n",
       "...      ...        ...           ...\n",
       "1455    2007       1999          2000\n",
       "1456    2010       1978          1988\n",
       "1457    2010       1941          2006\n",
       "1458    2010       1950          1996\n",
       "1459    2008       1965          1965\n",
       "\n",
       "[1421 rows x 3 columns]"
      ]
     },
     "execution_count": 48,
     "metadata": {},
     "output_type": "execute_result"
    }
   ],
   "source": [
    "df[[\"YrSold\", \"YearBuilt\", \"YearRemodAdd\"]]"
   ]
  },
  {
   "cell_type": "code",
   "execution_count": 49,
   "metadata": {},
   "outputs": [
    {
     "data": {
      "text/plain": [
       "Text(0, 0.5, 'Sale price mean')"
      ]
     },
     "execution_count": 49,
     "metadata": {},
     "output_type": "execute_result"
    },
    {
     "data": {
      "image/png": "[encoded data removed]",
      "text/plain": [
       "<Figure size 432x288 with 1 Axes>"
      ]
     },
     "metadata": {
      "needs_background": "light"
     },
     "output_type": "display_data"
    }
   ],
   "source": [
    "# we plot the mean of target for each \"YrSold\"\n",
    "df.groupby(\"YrSold\")[target].mean().plot()\n",
    "plt.ylabel(\"Sale price mean\")"
   ]
  },
  {
   "cell_type": "markdown",
   "metadata": {},
   "source": [
    "We observe that the Sales Price drops as the year grows!"
   ]
  },
  {
   "cell_type": "code",
   "execution_count": 50,
   "metadata": {},
   "outputs": [
    {
     "data": {
      "text/plain": [
       "Text(0, 0.5, 'Sale price mean')"
      ]
     },
     "execution_count": 50,
     "metadata": {},
     "output_type": "execute_result"
    },
    {
     "data": {
      "image/png": "[encoded data removed]",
      "text/plain": [
       "<Figure size 432x288 with 1 Axes>"
      ]
     },
     "metadata": {
      "needs_background": "light"
     },
     "output_type": "display_data"
    }
   ],
   "source": [
    "# we plot the mean of target for each \"YearBuilt\"\n",
    "df.groupby(\"YearBuilt\")[target].mean().plot()\n",
    "plt.ylabel(\"Sale price mean\")"
   ]
  },
  {
   "cell_type": "markdown",
   "metadata": {},
   "source": [
    "Here we see an increasing trend in the target vs. \"YearBuilt\": the newer houses have higher prices."
   ]
  },
  {
   "cell_type": "code",
   "execution_count": 51,
   "metadata": {},
   "outputs": [
    {
     "data": {
      "text/plain": [
       "Text(0, 0.5, 'Sale price mean')"
      ]
     },
     "execution_count": 51,
     "metadata": {},
     "output_type": "execute_result"
    },
    {
     "data": {
      "image/png": "[encoded data removed]",
      "text/plain": [
       "<Figure size 432x288 with 1 Axes>"
      ]
     },
     "metadata": {
      "needs_background": "light"
     },
     "output_type": "display_data"
    }
   ],
   "source": [
    "# we plot the mean of target for each \"YearRemodAdd\"\n",
    "df.groupby(\"YearRemodAdd\")[target].mean().plot()\n",
    "plt.ylabel(\"Sale price mean\")"
   ]
  },
  {
   "cell_type": "markdown",
   "metadata": {},
   "source": [
    "Also here the target increases for the houses which are remodeled later."
   ]
  },
  {
   "cell_type": "markdown",
   "metadata": {},
   "source": [
    "For \"YearBuilt\" and \"YearRemodAdd\", we engineer new features which are the elapsed years between them and the \"YrSold\"."
   ]
  },
  {
   "cell_type": "code",
   "execution_count": 52,
   "metadata": {},
   "outputs": [],
   "source": [
    "df[\"HouseAge\"] = df[\"YrSold\"] - df[\"YearBuilt\"]\n",
    "df[\"RemodAge\"] = df[\"YrSold\"] - df[\"YearRemodAdd\"]"
   ]
  },
  {
   "cell_type": "code",
   "execution_count": 53,
   "metadata": {},
   "outputs": [
    {
     "data": {
      "text/plain": [
       "Text(0, 0.5, 'Sale price mean')"
      ]
     },
     "execution_count": 53,
     "metadata": {},
     "output_type": "execute_result"
    },
    {
     "data": {
      "image/png": "[encoded data removed]",
      "text/plain": [
       "<Figure size 432x288 with 1 Axes>"
      ]
     },
     "metadata": {
      "needs_background": "light"
     },
     "output_type": "display_data"
    }
   ],
   "source": [
    "# we plot the mean of target for each \"YearRemodAdd\"\n",
    "df.groupby(\"HouseAge\")[target].mean().plot()\n",
    "plt.ylabel(\"Sale price mean\")"
   ]
  },
  {
   "cell_type": "code",
   "execution_count": 54,
   "metadata": {},
   "outputs": [
    {
     "data": {
      "text/plain": [
       "Text(0, 0.5, 'Sale price mean')"
      ]
     },
     "execution_count": 54,
     "metadata": {},
     "output_type": "execute_result"
    },
    {
     "data": {
      "image/png": "[encoded data removed]",
      "text/plain": [
       "<Figure size 432x288 with 1 Axes>"
      ]
     },
     "metadata": {
      "needs_background": "light"
     },
     "output_type": "display_data"
    }
   ],
   "source": [
    "# we plot the mean of target for each \"YearRemodAdd\"\n",
    "df.groupby(\"RemodAge\")[target].mean().plot()\n",
    "plt.ylabel(\"Sale price mean\")"
   ]
  },
  {
   "cell_type": "markdown",
   "metadata": {},
   "source": [
    "The engineered date columns seem to represent better the relation between the house age and Sale price."
   ]
  },
  {
   "cell_type": "code",
   "execution_count": 55,
   "metadata": {},
   "outputs": [],
   "source": [
    "# we create the above new columns in X_train and X_test and  drop the \"YrSold\" column.\n",
    "X_train[\"HouseAge\"] = X_train[\"YrSold\"] - X_train[\"YearBuilt\"]\n",
    "X_test[\"HouseAge\"] = X_test[\"YrSold\"] - X_test[\"YearBuilt\"]\n",
    "X_train[\"RemodAge\"] = X_train[\"YrSold\"] - X_train[\"YearRemodAdd\"]\n",
    "X_test[\"RemodAge\"] = X_test[\"YrSold\"] - X_test[\"YearRemodAdd\"]\n",
    "X_train.drop(columns=[\"YrSold\", \"YearRemodAdd\", \"YearBuilt\"], axis =1, inplace=True)\n",
    "X_test.drop(columns=[\"YrSold\", \"YearRemodAdd\", \"YearBuilt\"], axis =1, inplace=True)"
   ]
  },
  {
   "cell_type": "markdown",
   "metadata": {},
   "source": [
    "Since we have added new features and dropped some of the original features, we redefine the set num_cols for future use"
   ]
  },
  {
   "cell_type": "code",
   "execution_count": 56,
   "metadata": {},
   "outputs": [
    {
     "name": "stdout",
     "output_type": "stream",
     "text": [
      "Number of Integer Columns: 22\n"
     ]
    }
   ],
   "source": [
    "num_cols = []\n",
    "for col, dtype in X_train.dtypes.to_dict().items():\n",
    "    if str(dtype) in 'int64' or str(dtype) in 'float64':\n",
    "        num_cols.append(col)\n",
    "print(\"Number of Integer Columns:\", len(num_cols))"
   ]
  },
  {
   "cell_type": "markdown",
   "metadata": {},
   "source": [
    "# 3. Categorical encoding\n",
    "\n",
    "Some of the features of our raw dataset may be of the string type (not numbers) which appear in a number of categories. \n",
    "\n",
    "We cannot feed such \"categorical variables\" directly to an ML algorithm, because ML algorithms use numerical variables as input.\n",
    "\n",
    "Categorical Encoding is the process of converting categorical data into integers.\n",
    "\n",
    "In this section, we implement the following encoding methods in three parts:\n",
    "\n",
    "3.1. Label Encoding \\\n",
    "3.2. Count or frequency Encoding \\\n",
    "3.3. One Hot Encoding"
   ]
  },
  {
   "cell_type": "code",
   "execution_count": 57,
   "metadata": {},
   "outputs": [
    {
     "name": "stdout",
     "output_type": "stream",
     "text": [
      "['Alley', 'LotConfig', 'LandSlope', 'Neighborhood', 'BldgType', 'HouseStyle', 'RoofStyle', 'RoofMatl', 'ExterQual', 'ExterCond', 'Foundation', 'Heating', 'HeatingQC', 'CentralAir', 'Electrical', 'BsmtQual', 'BsmtCond', 'BsmtExposure', 'KitchenQual', 'FireplaceQu', 'GarageCond', 'PoolQC', 'Fence', 'MiscFeature']\n"
     ]
    }
   ],
   "source": [
    "# Recall the categorical columns\n",
    "print(str_cols)"
   ]
  },
  {
   "cell_type": "code",
   "execution_count": 58,
   "metadata": {},
   "outputs": [
    {
     "name": "stdout",
     "output_type": "stream",
     "text": [
      "Alley ['Missing' 'Pave' 'Grvl']\n",
      "LotConfig ['Corner' 'FR2' 'Inside' 'CulDSac' 'FR3']\n",
      "LandSlope ['Gtl' 'Mod' 'Sev']\n",
      "Neighborhood ['Somerst' 'CollgCr' 'NoRidge' 'NAmes' 'NridgHt' 'Gilbert' 'Veenker'\n",
      " 'Sawyer' 'Edwards' 'Mitchel' 'BrkSide' 'OldTown' 'Crawfor' 'IDOTRR'\n",
      " 'Blmngtn' 'MeadowV' 'ClearCr' 'BrDale' 'NWAmes' 'Timber' 'SawyerW'\n",
      " 'SWISU' 'NPkVill' 'StoneBr' 'Blueste']\n",
      "BldgType ['1Fam' 'TwnhsE' 'Twnhs' '2fmCon' 'Duplex']\n",
      "HouseStyle ['1Story' '2Story' 'SLvl' '1.5Fin' 'SFoyer' '1.5Unf' '2.5Unf' '2.5Fin']\n",
      "RoofStyle ['Hip' 'Gable' 'Gambrel' 'Flat' 'Mansard' 'Shed']\n",
      "RoofMatl ['CompShg' 'ClyTile' 'WdShake' 'Tar&Grv' 'WdShngl' 'Metal' 'Roll']\n",
      "ExterQual ['Ex' 'Gd' 'TA' 'Fa']\n",
      "ExterCond ['TA' 'Gd' 'Fa' 'Ex']\n",
      "Foundation ['PConc' 'CBlock' 'BrkTil' 'Stone' 'Wood']\n",
      "Heating ['GasA' 'GasW' 'OthW' 'Grav']\n",
      "HeatingQC ['Ex' 'Gd' 'TA' 'Fa']\n",
      "CentralAir ['Y' 'N']\n",
      "Electrical ['SBrkr' 'FuseA' 'FuseF' 'FuseP']\n",
      "BsmtQual ['Ex' 'Gd' 'TA' 'Fa']\n",
      "BsmtCond ['Gd' 'TA' 'Fa']\n",
      "BsmtExposure ['No' 'Mn' 'Av' 'Gd']\n",
      "KitchenQual ['Ex' 'Gd' 'TA' 'Fa']\n",
      "FireplaceQu ['Gd' 'Missing' 'TA' 'Fa' 'Ex' 'Po']\n",
      "GarageCond ['TA' 'Fa' 'Po' 'Gd' 'Ex']\n",
      "PoolQC ['Missing' 'Gd' 'Fa' 'Ex']\n",
      "Fence ['Missing' 'MnPrv' 'GdPrv' 'GdWo' 'MnWw']\n",
      "MiscFeature ['Missing' 'Shed' 'Gar2' 'Othr']\n"
     ]
    }
   ],
   "source": [
    "for col in str_cols:\n",
    "    print(col, X_train[col].unique())"
   ]
  },
  {
   "cell_type": "markdown",
   "metadata": {},
   "source": [
    "### 3.1.a. Label Encoding (using Pandas)\n",
    "\n",
    "This encoding method amounts to assigning a number to each category."
   ]
  },
  {
   "cell_type": "markdown",
   "metadata": {},
   "source": [
    "We observe that the following columns: \n",
    "- share a common set of categories which are subsets of ['Gd' 'Missing' 'TA' 'Fa' 'Ex' 'Po'],\n",
    "- no \"extra\" category appear in X_test which does not appear in X_train.\n",
    "\n",
    "Thus, we implement the label encoding for them."
   ]
  },
  {
   "cell_type": "code",
   "execution_count": 59,
   "metadata": {},
   "outputs": [
    {
     "name": "stdout",
     "output_type": "stream",
     "text": [
      "PoolQC ['Missing' 'Gd' 'Fa' 'Ex'] ['Missing' 'Ex' 'Gd' 'Fa']\n",
      "GarageCond ['TA' 'Fa' 'Po' 'Gd' 'Ex'] ['TA' 'Ex' 'Fa' 'Gd' 'Po']\n",
      "FireplaceQu ['Gd' 'Missing' 'TA' 'Fa' 'Ex' 'Po'] ['Missing' 'TA' 'Gd' 'Fa' 'Ex' 'Po']\n",
      "KitchenQual ['Ex' 'Gd' 'TA' 'Fa'] ['TA' 'Gd' 'Ex' 'Fa']\n",
      "BsmtCond ['Gd' 'TA' 'Fa'] ['TA' 'Fa' 'Gd' 'Po']\n",
      "BsmtQual ['Ex' 'Gd' 'TA' 'Fa'] ['TA' 'Gd' 'Ex' 'Fa']\n",
      "HeatingQC ['Ex' 'Gd' 'TA' 'Fa'] ['TA' 'Ex' 'Gd' 'Fa' 'Po']\n",
      "ExterCond ['TA' 'Gd' 'Fa' 'Ex'] ['TA' 'Gd' 'Fa' 'Po']\n",
      "ExterQual ['Ex' 'Gd' 'TA' 'Fa'] ['TA' 'Gd' 'Ex' 'Fa']\n"
     ]
    }
   ],
   "source": [
    "str_cols_ord_encod = [\"PoolQC\", \"GarageCond\", \"FireplaceQu\", \"KitchenQual\", \"BsmtCond\", \"BsmtQual\", \"HeatingQC\", \"ExterCond\", \"ExterQual\"]\n",
    "for col in str_cols_ord_encod:\n",
    "    print(col, X_train[col].unique(), X_test[col].unique())"
   ]
  },
  {
   "cell_type": "markdown",
   "metadata": {},
   "source": [
    "The label encoding is done in two steps:\n",
    "- STEP 1: create a dictionary which assigns a number to each category\n",
    "- STEP 2: use the map() method and apply it to the train and test sets"
   ]
  },
  {
   "cell_type": "code",
   "execution_count": 60,
   "metadata": {},
   "outputs": [
    {
     "data": {
      "text/plain": [
       "{'Gd': 0, 'Missing': 1, 'TA': 2, 'Fa': 3, 'Ex': 4, 'Po': 5}"
      ]
     },
     "execution_count": 60,
     "metadata": {},
     "output_type": "execute_result"
    }
   ],
   "source": [
    "# STEP 1: we choose the column \"FireplaceQu\" to create the dictionary, as the categories of other columns in str_cols_ord_encod are subsets of the categories of \"FireplaceQu\".\n",
    "encoding_dict= {k:v for v, k in enumerate(X_train['FireplaceQu'].unique(), 0)}\n",
    "encoding_dict"
   ]
  },
  {
   "cell_type": "code",
   "execution_count": 61,
   "metadata": {},
   "outputs": [],
   "source": [
    "# STEP 2\n",
    "for col in str_cols_ord_encod:\n",
    "    X_train[col] = X_train[col].map(encoding_dict)\n",
    "    X_test[col] = X_test[col].map(encoding_dict)"
   ]
  },
  {
   "cell_type": "code",
   "execution_count": 62,
   "metadata": {},
   "outputs": [
    {
     "name": "stdout",
     "output_type": "stream",
     "text": [
      "PoolQC [1 0 3 4]\n",
      "GarageCond [2 3 5 0 4]\n",
      "FireplaceQu [0 1 2 3 4 5]\n",
      "KitchenQual [4 0 2 3]\n",
      "BsmtCond [0 2 3]\n",
      "BsmtQual [4 0 2 3]\n",
      "HeatingQC [4 0 2 3]\n",
      "ExterCond [2 0 3 4]\n",
      "ExterQual [4 0 2 3]\n"
     ]
    }
   ],
   "source": [
    "for col in str_cols_ord_encod:\n",
    "    print(col, X_train[col].unique()) "
   ]
  },
  {
   "cell_type": "markdown",
   "metadata": {},
   "source": [
    "### 3.1.b. Label Encoding (using Scikit-Learn)\n",
    "We can also aplly the label encoding method using Scikit-Learn. We do not use it here, however the code is commented below."
   ]
  },
  {
   "cell_type": "code",
   "execution_count": 63,
   "metadata": {},
   "outputs": [],
   "source": [
    "# # import the LabelEncoder transformer\n",
    "# from sklearn.preprocessing import LabelEncoder\n",
    "# # create an encoder and fit the train data to it\n",
    "# le = LabelEncoder()\n",
    "# le.fit(X_train['GarageType'])\n",
    "# # transform the X_train and X_test using the transform method\n",
    "# X_train['GarageType'] = le.transform(X_train['GarageType'])\n",
    "# X_test['GarageType'] = le.transform(X_test['GarageType'])"
   ]
  },
  {
   "cell_type": "markdown",
   "metadata": {},
   "source": [
    "### 3.2. Count or frequency Encoding \n",
    "\n",
    "In this encoding method, we replace each category with the count (or percentage of occurrence) of each category in the dataset.\n",
    "\n",
    "We apply this method only for the column 'Neighborhood' which contains 25 categories."
   ]
  },
  {
   "cell_type": "code",
   "execution_count": 64,
   "metadata": {},
   "outputs": [
    {
     "data": {
      "text/plain": [
       "NAmes      152\n",
       "CollgCr    107\n",
       "OldTown     71\n",
       "Edwards     64\n",
       "Somerst     62\n",
       "NridgHt     57\n",
       "Gilbert     54\n",
       "Sawyer      53\n",
       "NWAmes      50\n",
       "SawyerW     42\n",
       "BrkSide     40\n",
       "Crawfor     36\n",
       "Mitchel     31\n",
       "NoRidge     31\n",
       "IDOTRR      24\n",
       "Timber      22\n",
       "StoneBr     18\n",
       "ClearCr     16\n",
       "SWISU       15\n",
       "MeadowV     12\n",
       "Blmngtn     11\n",
       "BrDale       9\n",
       "NPkVill      8\n",
       "Veenker      7\n",
       "Blueste      2\n",
       "Name: Neighborhood, dtype: int64"
      ]
     },
     "execution_count": 64,
     "metadata": {},
     "output_type": "execute_result"
    }
   ],
   "source": [
    "# STEP 1: explore the value count of each category in the 'Neighborhood' column using value_counts() \n",
    "X_train['Neighborhood'].value_counts()"
   ]
  },
  {
   "cell_type": "code",
   "execution_count": 65,
   "metadata": {},
   "outputs": [],
   "source": [
    "# STEP 2: value_counts() returns a Pandas Series but we need to convert it to a dictionary using to_dict()\n",
    "Neighborhood_count_dict= X_train['Neighborhood'].value_counts().to_dict()"
   ]
  },
  {
   "cell_type": "code",
   "execution_count": 66,
   "metadata": {},
   "outputs": [],
   "source": [
    "# STEP 3: OR create the dictionary of frequency of occurrence of the values\n",
    "Neighborhood_freq_dict= (X_train['Neighborhood'].value_counts() / len(X_train) ).to_dict()"
   ]
  },
  {
   "cell_type": "code",
   "execution_count": 67,
   "metadata": {},
   "outputs": [],
   "source": [
    "# STEP 4: use the map() method and apply it to the train and test sets\n",
    "X_train['Neighborhood'] = X_train['Neighborhood'].map(Neighborhood_freq_dict)\n",
    "X_test['Neighborhood'] = X_test['Neighborhood'].map(Neighborhood_freq_dict)"
   ]
  },
  {
   "cell_type": "code",
   "execution_count": 68,
   "metadata": {},
   "outputs": [
    {
     "data": {
      "text/plain": [
       "0.152918    152\n",
       "0.107646    107\n",
       "0.071429     71\n",
       "0.064386     64\n",
       "0.031187     62\n",
       "0.062374     62\n",
       "0.057344     57\n",
       "0.054326     54\n",
       "0.053320     53\n",
       "0.050302     50\n",
       "0.042254     42\n",
       "0.040241     40\n",
       "0.036217     36\n",
       "0.024145     24\n",
       "0.022133     22\n",
       "0.018109     18\n",
       "0.016097     16\n",
       "0.015091     15\n",
       "0.012072     12\n",
       "0.011066     11\n",
       "0.009054      9\n",
       "0.008048      8\n",
       "0.007042      7\n",
       "0.002012      2\n",
       "Name: Neighborhood, dtype: int64"
      ]
     },
     "execution_count": 68,
     "metadata": {},
     "output_type": "execute_result"
    }
   ],
   "source": [
    "X_train['Neighborhood'].value_counts()"
   ]
  },
  {
   "cell_type": "markdown",
   "metadata": {},
   "source": [
    "### 3.3. One Hot Encoding (OHE)\n",
    "\n",
    "This encoding method amounts to creating new columns for each label and filling their values with a boolean 1/0 indicating the presence/absence of that label.\n",
    "\n",
    "We have already implemented the encoding of 10 categorical columns ('Neighborhood' + 9 columns in str_cols_ord_encod). We will encode the remaining 14 categorical columns using OHE."
   ]
  },
  {
   "cell_type": "code",
   "execution_count": 69,
   "metadata": {},
   "outputs": [],
   "source": [
    "str_cols_OHE_encod = list(set(str_cols) - set(str_cols_ord_encod) - set(['Neighborhood']))"
   ]
  },
  {
   "cell_type": "markdown",
   "metadata": {},
   "source": [
    "### 3.3.a. One Hot Encoding (using Pandas)\n",
    "\n",
    "OHE can be performed using Pandas and Scikit-learn. We present both methods, however, we implement it on our dataset using Scikit-learn. This is mainly because of the difficulties that arise when trying to perform OHE using Pandas which are explained at the end of this subsection."
   ]
  },
  {
   "cell_type": "code",
   "execution_count": 70,
   "metadata": {},
   "outputs": [],
   "source": [
    "# X_train_OHE = pd.get_dummies(X_train[str_cols_OHE_encod])\n",
    "# X_train = pd.concat([X_train,X_train_OHE], axis=1)\n",
    "# X_train = X_train.drop(columns=str_cols_OHE_encod, axis=1)"
   ]
  },
  {
   "cell_type": "code",
   "execution_count": 71,
   "metadata": {},
   "outputs": [],
   "source": [
    "# X_test_OHE = pd.get_dummies(X_test[str_cols_OHE_encod])\n",
    "# X_test = pd.concat([X_test,X_test_OHE], axis=1)\n",
    "# X_test = X_test.drop(columns=str_cols_OHE_encod, axis=1)"
   ]
  },
  {
   "cell_type": "markdown",
   "metadata": {},
   "source": [
    "We obtain different number of columns for X_train and X_test after One Hot Encoding. This is because during train-test split, different number of categories land in train and test datasets. "
   ]
  },
  {
   "cell_type": "markdown",
   "metadata": {},
   "source": [
    "### 3.3.b. One Hot Encoding (using Scikit-Learn)"
   ]
  },
  {
   "cell_type": "markdown",
   "metadata": {},
   "source": [
    "SK-learn takes care of the above problem! \n",
    "How does it represent the missing columns in the test dataset? all 0?\n",
    "The problem with Sklearn is that it renames all the columns by numbering them. So we loose track of the encoded columns."
   ]
  },
  {
   "cell_type": "code",
   "execution_count": 72,
   "metadata": {},
   "outputs": [
    {
     "data": {
      "text/plain": [
       "((994, 48), (427, 48), (994,), (427,))"
      ]
     },
     "execution_count": 72,
     "metadata": {},
     "output_type": "execute_result"
    }
   ],
   "source": [
    "X_train.shape, X_test.shape, y_train.shape, y_test.shape"
   ]
  },
  {
   "cell_type": "code",
   "execution_count": 73,
   "metadata": {},
   "outputs": [
    {
     "data": {
      "text/plain": [
       "OneHotEncoder(handle_unknown='ignore', sparse=False)"
      ]
     },
     "execution_count": 73,
     "metadata": {},
     "output_type": "execute_result"
    }
   ],
   "source": [
    "from sklearn.preprocessing import OneHotEncoder\n",
    "encoder = OneHotEncoder(sparse= False, handle_unknown='ignore')\n",
    "encoder.fit(X_train[str_cols_OHE_encod])"
   ]
  },
  {
   "cell_type": "code",
   "execution_count": 74,
   "metadata": {},
   "outputs": [],
   "source": [
    "# transform the categorical columns in X_train\n",
    "X_train_transformed = encoder.transform(X_train[str_cols_OHE_encod])\n",
    "# turned the transformed Numpy array into a Pandas dataframe\n",
    "X_train_OHE_skl = pd.DataFrame(X_train_transformed)"
   ]
  },
  {
   "cell_type": "code",
   "execution_count": 75,
   "metadata": {},
   "outputs": [
    {
     "data": {
      "text/html": [
       "<div>\n",
       "<style scoped>\n",
       "    .dataframe tbody tr th:only-of-type {\n",
       "        vertical-align: middle;\n",
       "    }\n",
       "\n",
       "    .dataframe tbody tr th {\n",
       "        vertical-align: top;\n",
       "    }\n",
       "\n",
       "    .dataframe thead th {\n",
       "        text-align: right;\n",
       "    }\n",
       "</style>\n",
       "<table border=\"1\" class=\"dataframe\">\n",
       "  <thead>\n",
       "    <tr style=\"text-align: right;\">\n",
       "      <th></th>\n",
       "      <th>0</th>\n",
       "      <th>1</th>\n",
       "      <th>2</th>\n",
       "      <th>3</th>\n",
       "      <th>4</th>\n",
       "      <th>5</th>\n",
       "      <th>6</th>\n",
       "      <th>7</th>\n",
       "      <th>8</th>\n",
       "      <th>9</th>\n",
       "      <th>10</th>\n",
       "      <th>11</th>\n",
       "      <th>12</th>\n",
       "      <th>13</th>\n",
       "      <th>14</th>\n",
       "      <th>15</th>\n",
       "      <th>16</th>\n",
       "      <th>17</th>\n",
       "      <th>18</th>\n",
       "      <th>19</th>\n",
       "      <th>20</th>\n",
       "      <th>21</th>\n",
       "      <th>22</th>\n",
       "      <th>23</th>\n",
       "      <th>24</th>\n",
       "      <th>25</th>\n",
       "      <th>26</th>\n",
       "      <th>27</th>\n",
       "      <th>28</th>\n",
       "      <th>29</th>\n",
       "      <th>30</th>\n",
       "      <th>31</th>\n",
       "      <th>32</th>\n",
       "      <th>33</th>\n",
       "      <th>34</th>\n",
       "      <th>35</th>\n",
       "      <th>36</th>\n",
       "      <th>37</th>\n",
       "      <th>38</th>\n",
       "      <th>39</th>\n",
       "      <th>40</th>\n",
       "      <th>41</th>\n",
       "      <th>42</th>\n",
       "      <th>43</th>\n",
       "      <th>44</th>\n",
       "      <th>45</th>\n",
       "      <th>46</th>\n",
       "      <th>47</th>\n",
       "      <th>48</th>\n",
       "      <th>49</th>\n",
       "      <th>50</th>\n",
       "      <th>51</th>\n",
       "      <th>52</th>\n",
       "      <th>53</th>\n",
       "      <th>54</th>\n",
       "      <th>55</th>\n",
       "      <th>56</th>\n",
       "      <th>57</th>\n",
       "      <th>58</th>\n",
       "      <th>59</th>\n",
       "      <th>60</th>\n",
       "      <th>61</th>\n",
       "      <th>62</th>\n",
       "      <th>63</th>\n",
       "      <th>64</th>\n",
       "    </tr>\n",
       "  </thead>\n",
       "  <tbody>\n",
       "    <tr>\n",
       "      <th>0</th>\n",
       "      <td>1.0</td>\n",
       "      <td>0.0</td>\n",
       "      <td>0.0</td>\n",
       "      <td>0.0</td>\n",
       "      <td>0.0</td>\n",
       "      <td>0.0</td>\n",
       "      <td>0.0</td>\n",
       "      <td>1.0</td>\n",
       "      <td>0.0</td>\n",
       "      <td>0.0</td>\n",
       "      <td>1.0</td>\n",
       "      <td>0.0</td>\n",
       "      <td>0.0</td>\n",
       "      <td>0.0</td>\n",
       "      <td>1.0</td>\n",
       "      <td>0.0</td>\n",
       "      <td>0.0</td>\n",
       "      <td>0.0</td>\n",
       "      <td>1.0</td>\n",
       "      <td>0.0</td>\n",
       "      <td>0.0</td>\n",
       "      <td>0.0</td>\n",
       "      <td>0.0</td>\n",
       "      <td>0.0</td>\n",
       "      <td>1.0</td>\n",
       "      <td>0.0</td>\n",
       "      <td>1.0</td>\n",
       "      <td>0.0</td>\n",
       "      <td>0.0</td>\n",
       "      <td>0.0</td>\n",
       "      <td>0.0</td>\n",
       "      <td>0.0</td>\n",
       "      <td>0.0</td>\n",
       "      <td>0.0</td>\n",
       "      <td>1.0</td>\n",
       "      <td>0.0</td>\n",
       "      <td>0.0</td>\n",
       "      <td>0.0</td>\n",
       "      <td>0.0</td>\n",
       "      <td>0.0</td>\n",
       "      <td>0.0</td>\n",
       "      <td>0.0</td>\n",
       "      <td>0.0</td>\n",
       "      <td>1.0</td>\n",
       "      <td>0.0</td>\n",
       "      <td>1.0</td>\n",
       "      <td>0.0</td>\n",
       "      <td>0.0</td>\n",
       "      <td>1.0</td>\n",
       "      <td>0.0</td>\n",
       "      <td>0.0</td>\n",
       "      <td>1.0</td>\n",
       "      <td>0.0</td>\n",
       "      <td>0.0</td>\n",
       "      <td>0.0</td>\n",
       "      <td>0.0</td>\n",
       "      <td>0.0</td>\n",
       "      <td>0.0</td>\n",
       "      <td>1.0</td>\n",
       "      <td>0.0</td>\n",
       "      <td>0.0</td>\n",
       "      <td>1.0</td>\n",
       "      <td>0.0</td>\n",
       "      <td>0.0</td>\n",
       "      <td>0.0</td>\n",
       "    </tr>\n",
       "    <tr>\n",
       "      <th>1</th>\n",
       "      <td>1.0</td>\n",
       "      <td>0.0</td>\n",
       "      <td>0.0</td>\n",
       "      <td>0.0</td>\n",
       "      <td>0.0</td>\n",
       "      <td>0.0</td>\n",
       "      <td>0.0</td>\n",
       "      <td>1.0</td>\n",
       "      <td>0.0</td>\n",
       "      <td>0.0</td>\n",
       "      <td>1.0</td>\n",
       "      <td>0.0</td>\n",
       "      <td>0.0</td>\n",
       "      <td>0.0</td>\n",
       "      <td>1.0</td>\n",
       "      <td>0.0</td>\n",
       "      <td>1.0</td>\n",
       "      <td>0.0</td>\n",
       "      <td>0.0</td>\n",
       "      <td>0.0</td>\n",
       "      <td>0.0</td>\n",
       "      <td>0.0</td>\n",
       "      <td>0.0</td>\n",
       "      <td>0.0</td>\n",
       "      <td>1.0</td>\n",
       "      <td>0.0</td>\n",
       "      <td>1.0</td>\n",
       "      <td>0.0</td>\n",
       "      <td>0.0</td>\n",
       "      <td>0.0</td>\n",
       "      <td>0.0</td>\n",
       "      <td>0.0</td>\n",
       "      <td>0.0</td>\n",
       "      <td>0.0</td>\n",
       "      <td>0.0</td>\n",
       "      <td>0.0</td>\n",
       "      <td>0.0</td>\n",
       "      <td>1.0</td>\n",
       "      <td>0.0</td>\n",
       "      <td>0.0</td>\n",
       "      <td>0.0</td>\n",
       "      <td>0.0</td>\n",
       "      <td>0.0</td>\n",
       "      <td>1.0</td>\n",
       "      <td>0.0</td>\n",
       "      <td>1.0</td>\n",
       "      <td>0.0</td>\n",
       "      <td>0.0</td>\n",
       "      <td>1.0</td>\n",
       "      <td>0.0</td>\n",
       "      <td>0.0</td>\n",
       "      <td>0.0</td>\n",
       "      <td>0.0</td>\n",
       "      <td>1.0</td>\n",
       "      <td>0.0</td>\n",
       "      <td>0.0</td>\n",
       "      <td>0.0</td>\n",
       "      <td>0.0</td>\n",
       "      <td>1.0</td>\n",
       "      <td>0.0</td>\n",
       "      <td>0.0</td>\n",
       "      <td>1.0</td>\n",
       "      <td>0.0</td>\n",
       "      <td>0.0</td>\n",
       "      <td>0.0</td>\n",
       "    </tr>\n",
       "    <tr>\n",
       "      <th>2</th>\n",
       "      <td>1.0</td>\n",
       "      <td>0.0</td>\n",
       "      <td>0.0</td>\n",
       "      <td>0.0</td>\n",
       "      <td>0.0</td>\n",
       "      <td>0.0</td>\n",
       "      <td>0.0</td>\n",
       "      <td>1.0</td>\n",
       "      <td>0.0</td>\n",
       "      <td>0.0</td>\n",
       "      <td>1.0</td>\n",
       "      <td>0.0</td>\n",
       "      <td>0.0</td>\n",
       "      <td>0.0</td>\n",
       "      <td>1.0</td>\n",
       "      <td>0.0</td>\n",
       "      <td>1.0</td>\n",
       "      <td>0.0</td>\n",
       "      <td>0.0</td>\n",
       "      <td>0.0</td>\n",
       "      <td>0.0</td>\n",
       "      <td>0.0</td>\n",
       "      <td>0.0</td>\n",
       "      <td>1.0</td>\n",
       "      <td>0.0</td>\n",
       "      <td>0.0</td>\n",
       "      <td>1.0</td>\n",
       "      <td>0.0</td>\n",
       "      <td>0.0</td>\n",
       "      <td>0.0</td>\n",
       "      <td>0.0</td>\n",
       "      <td>0.0</td>\n",
       "      <td>0.0</td>\n",
       "      <td>0.0</td>\n",
       "      <td>0.0</td>\n",
       "      <td>0.0</td>\n",
       "      <td>0.0</td>\n",
       "      <td>1.0</td>\n",
       "      <td>0.0</td>\n",
       "      <td>0.0</td>\n",
       "      <td>0.0</td>\n",
       "      <td>0.0</td>\n",
       "      <td>0.0</td>\n",
       "      <td>1.0</td>\n",
       "      <td>0.0</td>\n",
       "      <td>1.0</td>\n",
       "      <td>0.0</td>\n",
       "      <td>0.0</td>\n",
       "      <td>1.0</td>\n",
       "      <td>0.0</td>\n",
       "      <td>0.0</td>\n",
       "      <td>0.0</td>\n",
       "      <td>0.0</td>\n",
       "      <td>0.0</td>\n",
       "      <td>0.0</td>\n",
       "      <td>1.0</td>\n",
       "      <td>0.0</td>\n",
       "      <td>0.0</td>\n",
       "      <td>1.0</td>\n",
       "      <td>0.0</td>\n",
       "      <td>0.0</td>\n",
       "      <td>1.0</td>\n",
       "      <td>0.0</td>\n",
       "      <td>0.0</td>\n",
       "      <td>0.0</td>\n",
       "    </tr>\n",
       "    <tr>\n",
       "      <th>3</th>\n",
       "      <td>1.0</td>\n",
       "      <td>0.0</td>\n",
       "      <td>0.0</td>\n",
       "      <td>0.0</td>\n",
       "      <td>0.0</td>\n",
       "      <td>0.0</td>\n",
       "      <td>0.0</td>\n",
       "      <td>1.0</td>\n",
       "      <td>0.0</td>\n",
       "      <td>0.0</td>\n",
       "      <td>1.0</td>\n",
       "      <td>0.0</td>\n",
       "      <td>0.0</td>\n",
       "      <td>0.0</td>\n",
       "      <td>1.0</td>\n",
       "      <td>0.0</td>\n",
       "      <td>1.0</td>\n",
       "      <td>0.0</td>\n",
       "      <td>0.0</td>\n",
       "      <td>0.0</td>\n",
       "      <td>0.0</td>\n",
       "      <td>1.0</td>\n",
       "      <td>0.0</td>\n",
       "      <td>0.0</td>\n",
       "      <td>0.0</td>\n",
       "      <td>0.0</td>\n",
       "      <td>1.0</td>\n",
       "      <td>0.0</td>\n",
       "      <td>0.0</td>\n",
       "      <td>0.0</td>\n",
       "      <td>0.0</td>\n",
       "      <td>0.0</td>\n",
       "      <td>0.0</td>\n",
       "      <td>0.0</td>\n",
       "      <td>0.0</td>\n",
       "      <td>0.0</td>\n",
       "      <td>0.0</td>\n",
       "      <td>0.0</td>\n",
       "      <td>0.0</td>\n",
       "      <td>1.0</td>\n",
       "      <td>0.0</td>\n",
       "      <td>0.0</td>\n",
       "      <td>0.0</td>\n",
       "      <td>1.0</td>\n",
       "      <td>0.0</td>\n",
       "      <td>1.0</td>\n",
       "      <td>0.0</td>\n",
       "      <td>0.0</td>\n",
       "      <td>1.0</td>\n",
       "      <td>0.0</td>\n",
       "      <td>0.0</td>\n",
       "      <td>0.0</td>\n",
       "      <td>0.0</td>\n",
       "      <td>0.0</td>\n",
       "      <td>0.0</td>\n",
       "      <td>1.0</td>\n",
       "      <td>0.0</td>\n",
       "      <td>0.0</td>\n",
       "      <td>1.0</td>\n",
       "      <td>0.0</td>\n",
       "      <td>0.0</td>\n",
       "      <td>1.0</td>\n",
       "      <td>0.0</td>\n",
       "      <td>0.0</td>\n",
       "      <td>0.0</td>\n",
       "    </tr>\n",
       "    <tr>\n",
       "      <th>4</th>\n",
       "      <td>0.0</td>\n",
       "      <td>0.0</td>\n",
       "      <td>0.0</td>\n",
       "      <td>0.0</td>\n",
       "      <td>1.0</td>\n",
       "      <td>0.0</td>\n",
       "      <td>0.0</td>\n",
       "      <td>1.0</td>\n",
       "      <td>0.0</td>\n",
       "      <td>0.0</td>\n",
       "      <td>1.0</td>\n",
       "      <td>0.0</td>\n",
       "      <td>0.0</td>\n",
       "      <td>0.0</td>\n",
       "      <td>1.0</td>\n",
       "      <td>0.0</td>\n",
       "      <td>1.0</td>\n",
       "      <td>0.0</td>\n",
       "      <td>0.0</td>\n",
       "      <td>0.0</td>\n",
       "      <td>0.0</td>\n",
       "      <td>0.0</td>\n",
       "      <td>0.0</td>\n",
       "      <td>0.0</td>\n",
       "      <td>1.0</td>\n",
       "      <td>0.0</td>\n",
       "      <td>1.0</td>\n",
       "      <td>0.0</td>\n",
       "      <td>0.0</td>\n",
       "      <td>0.0</td>\n",
       "      <td>0.0</td>\n",
       "      <td>0.0</td>\n",
       "      <td>0.0</td>\n",
       "      <td>0.0</td>\n",
       "      <td>0.0</td>\n",
       "      <td>0.0</td>\n",
       "      <td>0.0</td>\n",
       "      <td>1.0</td>\n",
       "      <td>0.0</td>\n",
       "      <td>0.0</td>\n",
       "      <td>0.0</td>\n",
       "      <td>0.0</td>\n",
       "      <td>0.0</td>\n",
       "      <td>1.0</td>\n",
       "      <td>0.0</td>\n",
       "      <td>0.0</td>\n",
       "      <td>1.0</td>\n",
       "      <td>0.0</td>\n",
       "      <td>1.0</td>\n",
       "      <td>0.0</td>\n",
       "      <td>0.0</td>\n",
       "      <td>0.0</td>\n",
       "      <td>0.0</td>\n",
       "      <td>0.0</td>\n",
       "      <td>0.0</td>\n",
       "      <td>1.0</td>\n",
       "      <td>0.0</td>\n",
       "      <td>0.0</td>\n",
       "      <td>1.0</td>\n",
       "      <td>0.0</td>\n",
       "      <td>0.0</td>\n",
       "      <td>1.0</td>\n",
       "      <td>0.0</td>\n",
       "      <td>0.0</td>\n",
       "      <td>0.0</td>\n",
       "    </tr>\n",
       "    <tr>\n",
       "      <th>...</th>\n",
       "      <td>...</td>\n",
       "      <td>...</td>\n",
       "      <td>...</td>\n",
       "      <td>...</td>\n",
       "      <td>...</td>\n",
       "      <td>...</td>\n",
       "      <td>...</td>\n",
       "      <td>...</td>\n",
       "      <td>...</td>\n",
       "      <td>...</td>\n",
       "      <td>...</td>\n",
       "      <td>...</td>\n",
       "      <td>...</td>\n",
       "      <td>...</td>\n",
       "      <td>...</td>\n",
       "      <td>...</td>\n",
       "      <td>...</td>\n",
       "      <td>...</td>\n",
       "      <td>...</td>\n",
       "      <td>...</td>\n",
       "      <td>...</td>\n",
       "      <td>...</td>\n",
       "      <td>...</td>\n",
       "      <td>...</td>\n",
       "      <td>...</td>\n",
       "      <td>...</td>\n",
       "      <td>...</td>\n",
       "      <td>...</td>\n",
       "      <td>...</td>\n",
       "      <td>...</td>\n",
       "      <td>...</td>\n",
       "      <td>...</td>\n",
       "      <td>...</td>\n",
       "      <td>...</td>\n",
       "      <td>...</td>\n",
       "      <td>...</td>\n",
       "      <td>...</td>\n",
       "      <td>...</td>\n",
       "      <td>...</td>\n",
       "      <td>...</td>\n",
       "      <td>...</td>\n",
       "      <td>...</td>\n",
       "      <td>...</td>\n",
       "      <td>...</td>\n",
       "      <td>...</td>\n",
       "      <td>...</td>\n",
       "      <td>...</td>\n",
       "      <td>...</td>\n",
       "      <td>...</td>\n",
       "      <td>...</td>\n",
       "      <td>...</td>\n",
       "      <td>...</td>\n",
       "      <td>...</td>\n",
       "      <td>...</td>\n",
       "      <td>...</td>\n",
       "      <td>...</td>\n",
       "      <td>...</td>\n",
       "      <td>...</td>\n",
       "      <td>...</td>\n",
       "      <td>...</td>\n",
       "      <td>...</td>\n",
       "      <td>...</td>\n",
       "      <td>...</td>\n",
       "      <td>...</td>\n",
       "      <td>...</td>\n",
       "    </tr>\n",
       "    <tr>\n",
       "      <th>989</th>\n",
       "      <td>1.0</td>\n",
       "      <td>0.0</td>\n",
       "      <td>0.0</td>\n",
       "      <td>0.0</td>\n",
       "      <td>0.0</td>\n",
       "      <td>1.0</td>\n",
       "      <td>0.0</td>\n",
       "      <td>0.0</td>\n",
       "      <td>0.0</td>\n",
       "      <td>0.0</td>\n",
       "      <td>1.0</td>\n",
       "      <td>0.0</td>\n",
       "      <td>0.0</td>\n",
       "      <td>0.0</td>\n",
       "      <td>1.0</td>\n",
       "      <td>0.0</td>\n",
       "      <td>1.0</td>\n",
       "      <td>0.0</td>\n",
       "      <td>0.0</td>\n",
       "      <td>0.0</td>\n",
       "      <td>0.0</td>\n",
       "      <td>0.0</td>\n",
       "      <td>0.0</td>\n",
       "      <td>0.0</td>\n",
       "      <td>1.0</td>\n",
       "      <td>0.0</td>\n",
       "      <td>1.0</td>\n",
       "      <td>0.0</td>\n",
       "      <td>0.0</td>\n",
       "      <td>0.0</td>\n",
       "      <td>0.0</td>\n",
       "      <td>0.0</td>\n",
       "      <td>0.0</td>\n",
       "      <td>0.0</td>\n",
       "      <td>1.0</td>\n",
       "      <td>0.0</td>\n",
       "      <td>0.0</td>\n",
       "      <td>0.0</td>\n",
       "      <td>0.0</td>\n",
       "      <td>0.0</td>\n",
       "      <td>0.0</td>\n",
       "      <td>0.0</td>\n",
       "      <td>0.0</td>\n",
       "      <td>1.0</td>\n",
       "      <td>1.0</td>\n",
       "      <td>0.0</td>\n",
       "      <td>0.0</td>\n",
       "      <td>0.0</td>\n",
       "      <td>1.0</td>\n",
       "      <td>0.0</td>\n",
       "      <td>0.0</td>\n",
       "      <td>0.0</td>\n",
       "      <td>0.0</td>\n",
       "      <td>0.0</td>\n",
       "      <td>0.0</td>\n",
       "      <td>1.0</td>\n",
       "      <td>0.0</td>\n",
       "      <td>0.0</td>\n",
       "      <td>1.0</td>\n",
       "      <td>0.0</td>\n",
       "      <td>0.0</td>\n",
       "      <td>1.0</td>\n",
       "      <td>0.0</td>\n",
       "      <td>0.0</td>\n",
       "      <td>0.0</td>\n",
       "    </tr>\n",
       "    <tr>\n",
       "      <th>990</th>\n",
       "      <td>1.0</td>\n",
       "      <td>0.0</td>\n",
       "      <td>0.0</td>\n",
       "      <td>0.0</td>\n",
       "      <td>0.0</td>\n",
       "      <td>1.0</td>\n",
       "      <td>0.0</td>\n",
       "      <td>0.0</td>\n",
       "      <td>0.0</td>\n",
       "      <td>0.0</td>\n",
       "      <td>1.0</td>\n",
       "      <td>0.0</td>\n",
       "      <td>0.0</td>\n",
       "      <td>0.0</td>\n",
       "      <td>1.0</td>\n",
       "      <td>0.0</td>\n",
       "      <td>0.0</td>\n",
       "      <td>0.0</td>\n",
       "      <td>1.0</td>\n",
       "      <td>0.0</td>\n",
       "      <td>0.0</td>\n",
       "      <td>0.0</td>\n",
       "      <td>0.0</td>\n",
       "      <td>0.0</td>\n",
       "      <td>1.0</td>\n",
       "      <td>0.0</td>\n",
       "      <td>1.0</td>\n",
       "      <td>0.0</td>\n",
       "      <td>0.0</td>\n",
       "      <td>0.0</td>\n",
       "      <td>0.0</td>\n",
       "      <td>0.0</td>\n",
       "      <td>0.0</td>\n",
       "      <td>0.0</td>\n",
       "      <td>0.0</td>\n",
       "      <td>0.0</td>\n",
       "      <td>0.0</td>\n",
       "      <td>1.0</td>\n",
       "      <td>0.0</td>\n",
       "      <td>0.0</td>\n",
       "      <td>0.0</td>\n",
       "      <td>0.0</td>\n",
       "      <td>0.0</td>\n",
       "      <td>1.0</td>\n",
       "      <td>0.0</td>\n",
       "      <td>1.0</td>\n",
       "      <td>0.0</td>\n",
       "      <td>0.0</td>\n",
       "      <td>1.0</td>\n",
       "      <td>0.0</td>\n",
       "      <td>0.0</td>\n",
       "      <td>1.0</td>\n",
       "      <td>0.0</td>\n",
       "      <td>0.0</td>\n",
       "      <td>0.0</td>\n",
       "      <td>0.0</td>\n",
       "      <td>0.0</td>\n",
       "      <td>0.0</td>\n",
       "      <td>1.0</td>\n",
       "      <td>0.0</td>\n",
       "      <td>0.0</td>\n",
       "      <td>1.0</td>\n",
       "      <td>0.0</td>\n",
       "      <td>0.0</td>\n",
       "      <td>0.0</td>\n",
       "    </tr>\n",
       "    <tr>\n",
       "      <th>991</th>\n",
       "      <td>1.0</td>\n",
       "      <td>0.0</td>\n",
       "      <td>0.0</td>\n",
       "      <td>0.0</td>\n",
       "      <td>0.0</td>\n",
       "      <td>0.0</td>\n",
       "      <td>0.0</td>\n",
       "      <td>1.0</td>\n",
       "      <td>0.0</td>\n",
       "      <td>0.0</td>\n",
       "      <td>1.0</td>\n",
       "      <td>0.0</td>\n",
       "      <td>0.0</td>\n",
       "      <td>0.0</td>\n",
       "      <td>1.0</td>\n",
       "      <td>0.0</td>\n",
       "      <td>1.0</td>\n",
       "      <td>0.0</td>\n",
       "      <td>0.0</td>\n",
       "      <td>0.0</td>\n",
       "      <td>0.0</td>\n",
       "      <td>0.0</td>\n",
       "      <td>0.0</td>\n",
       "      <td>0.0</td>\n",
       "      <td>1.0</td>\n",
       "      <td>0.0</td>\n",
       "      <td>1.0</td>\n",
       "      <td>0.0</td>\n",
       "      <td>0.0</td>\n",
       "      <td>0.0</td>\n",
       "      <td>0.0</td>\n",
       "      <td>0.0</td>\n",
       "      <td>0.0</td>\n",
       "      <td>0.0</td>\n",
       "      <td>0.0</td>\n",
       "      <td>0.0</td>\n",
       "      <td>0.0</td>\n",
       "      <td>1.0</td>\n",
       "      <td>0.0</td>\n",
       "      <td>0.0</td>\n",
       "      <td>0.0</td>\n",
       "      <td>0.0</td>\n",
       "      <td>0.0</td>\n",
       "      <td>1.0</td>\n",
       "      <td>0.0</td>\n",
       "      <td>1.0</td>\n",
       "      <td>0.0</td>\n",
       "      <td>0.0</td>\n",
       "      <td>1.0</td>\n",
       "      <td>0.0</td>\n",
       "      <td>0.0</td>\n",
       "      <td>0.0</td>\n",
       "      <td>0.0</td>\n",
       "      <td>1.0</td>\n",
       "      <td>0.0</td>\n",
       "      <td>0.0</td>\n",
       "      <td>0.0</td>\n",
       "      <td>0.0</td>\n",
       "      <td>1.0</td>\n",
       "      <td>0.0</td>\n",
       "      <td>0.0</td>\n",
       "      <td>1.0</td>\n",
       "      <td>0.0</td>\n",
       "      <td>0.0</td>\n",
       "      <td>0.0</td>\n",
       "    </tr>\n",
       "    <tr>\n",
       "      <th>992</th>\n",
       "      <td>1.0</td>\n",
       "      <td>0.0</td>\n",
       "      <td>0.0</td>\n",
       "      <td>0.0</td>\n",
       "      <td>0.0</td>\n",
       "      <td>0.0</td>\n",
       "      <td>0.0</td>\n",
       "      <td>1.0</td>\n",
       "      <td>0.0</td>\n",
       "      <td>0.0</td>\n",
       "      <td>1.0</td>\n",
       "      <td>0.0</td>\n",
       "      <td>0.0</td>\n",
       "      <td>0.0</td>\n",
       "      <td>1.0</td>\n",
       "      <td>0.0</td>\n",
       "      <td>0.0</td>\n",
       "      <td>0.0</td>\n",
       "      <td>1.0</td>\n",
       "      <td>0.0</td>\n",
       "      <td>0.0</td>\n",
       "      <td>1.0</td>\n",
       "      <td>0.0</td>\n",
       "      <td>0.0</td>\n",
       "      <td>0.0</td>\n",
       "      <td>0.0</td>\n",
       "      <td>1.0</td>\n",
       "      <td>0.0</td>\n",
       "      <td>0.0</td>\n",
       "      <td>0.0</td>\n",
       "      <td>0.0</td>\n",
       "      <td>0.0</td>\n",
       "      <td>0.0</td>\n",
       "      <td>0.0</td>\n",
       "      <td>0.0</td>\n",
       "      <td>0.0</td>\n",
       "      <td>0.0</td>\n",
       "      <td>1.0</td>\n",
       "      <td>0.0</td>\n",
       "      <td>0.0</td>\n",
       "      <td>0.0</td>\n",
       "      <td>0.0</td>\n",
       "      <td>0.0</td>\n",
       "      <td>1.0</td>\n",
       "      <td>0.0</td>\n",
       "      <td>1.0</td>\n",
       "      <td>0.0</td>\n",
       "      <td>0.0</td>\n",
       "      <td>1.0</td>\n",
       "      <td>0.0</td>\n",
       "      <td>0.0</td>\n",
       "      <td>1.0</td>\n",
       "      <td>0.0</td>\n",
       "      <td>0.0</td>\n",
       "      <td>0.0</td>\n",
       "      <td>0.0</td>\n",
       "      <td>0.0</td>\n",
       "      <td>0.0</td>\n",
       "      <td>0.0</td>\n",
       "      <td>1.0</td>\n",
       "      <td>0.0</td>\n",
       "      <td>1.0</td>\n",
       "      <td>0.0</td>\n",
       "      <td>0.0</td>\n",
       "      <td>0.0</td>\n",
       "    </tr>\n",
       "    <tr>\n",
       "      <th>993</th>\n",
       "      <td>1.0</td>\n",
       "      <td>0.0</td>\n",
       "      <td>0.0</td>\n",
       "      <td>0.0</td>\n",
       "      <td>0.0</td>\n",
       "      <td>1.0</td>\n",
       "      <td>0.0</td>\n",
       "      <td>0.0</td>\n",
       "      <td>0.0</td>\n",
       "      <td>0.0</td>\n",
       "      <td>0.0</td>\n",
       "      <td>1.0</td>\n",
       "      <td>0.0</td>\n",
       "      <td>0.0</td>\n",
       "      <td>1.0</td>\n",
       "      <td>0.0</td>\n",
       "      <td>1.0</td>\n",
       "      <td>0.0</td>\n",
       "      <td>0.0</td>\n",
       "      <td>0.0</td>\n",
       "      <td>0.0</td>\n",
       "      <td>0.0</td>\n",
       "      <td>0.0</td>\n",
       "      <td>0.0</td>\n",
       "      <td>1.0</td>\n",
       "      <td>0.0</td>\n",
       "      <td>1.0</td>\n",
       "      <td>0.0</td>\n",
       "      <td>0.0</td>\n",
       "      <td>0.0</td>\n",
       "      <td>0.0</td>\n",
       "      <td>0.0</td>\n",
       "      <td>0.0</td>\n",
       "      <td>0.0</td>\n",
       "      <td>1.0</td>\n",
       "      <td>0.0</td>\n",
       "      <td>0.0</td>\n",
       "      <td>0.0</td>\n",
       "      <td>0.0</td>\n",
       "      <td>0.0</td>\n",
       "      <td>0.0</td>\n",
       "      <td>0.0</td>\n",
       "      <td>0.0</td>\n",
       "      <td>1.0</td>\n",
       "      <td>0.0</td>\n",
       "      <td>1.0</td>\n",
       "      <td>0.0</td>\n",
       "      <td>0.0</td>\n",
       "      <td>1.0</td>\n",
       "      <td>0.0</td>\n",
       "      <td>0.0</td>\n",
       "      <td>0.0</td>\n",
       "      <td>0.0</td>\n",
       "      <td>0.0</td>\n",
       "      <td>0.0</td>\n",
       "      <td>1.0</td>\n",
       "      <td>0.0</td>\n",
       "      <td>0.0</td>\n",
       "      <td>1.0</td>\n",
       "      <td>0.0</td>\n",
       "      <td>0.0</td>\n",
       "      <td>1.0</td>\n",
       "      <td>0.0</td>\n",
       "      <td>0.0</td>\n",
       "      <td>0.0</td>\n",
       "    </tr>\n",
       "  </tbody>\n",
       "</table>\n",
       "<p>994 rows × 65 columns</p>\n",
       "</div>"
      ],
      "text/plain": [
       "      0    1    2    3    4    5    6    7    8    9    10   11   12   13  \\\n",
       "0    1.0  0.0  0.0  0.0  0.0  0.0  0.0  1.0  0.0  0.0  1.0  0.0  0.0  0.0   \n",
       "1    1.0  0.0  0.0  0.0  0.0  0.0  0.0  1.0  0.0  0.0  1.0  0.0  0.0  0.0   \n",
       "2    1.0  0.0  0.0  0.0  0.0  0.0  0.0  1.0  0.0  0.0  1.0  0.0  0.0  0.0   \n",
       "3    1.0  0.0  0.0  0.0  0.0  0.0  0.0  1.0  0.0  0.0  1.0  0.0  0.0  0.0   \n",
       "4    0.0  0.0  0.0  0.0  1.0  0.0  0.0  1.0  0.0  0.0  1.0  0.0  0.0  0.0   \n",
       "..   ...  ...  ...  ...  ...  ...  ...  ...  ...  ...  ...  ...  ...  ...   \n",
       "989  1.0  0.0  0.0  0.0  0.0  1.0  0.0  0.0  0.0  0.0  1.0  0.0  0.0  0.0   \n",
       "990  1.0  0.0  0.0  0.0  0.0  1.0  0.0  0.0  0.0  0.0  1.0  0.0  0.0  0.0   \n",
       "991  1.0  0.0  0.0  0.0  0.0  0.0  0.0  1.0  0.0  0.0  1.0  0.0  0.0  0.0   \n",
       "992  1.0  0.0  0.0  0.0  0.0  0.0  0.0  1.0  0.0  0.0  1.0  0.0  0.0  0.0   \n",
       "993  1.0  0.0  0.0  0.0  0.0  1.0  0.0  0.0  0.0  0.0  0.0  1.0  0.0  0.0   \n",
       "\n",
       "      14   15   16   17   18   19   20   21   22   23   24   25   26   27  \\\n",
       "0    1.0  0.0  0.0  0.0  1.0  0.0  0.0  0.0  0.0  0.0  1.0  0.0  1.0  0.0   \n",
       "1    1.0  0.0  1.0  0.0  0.0  0.0  0.0  0.0  0.0  0.0  1.0  0.0  1.0  0.0   \n",
       "2    1.0  0.0  1.0  0.0  0.0  0.0  0.0  0.0  0.0  1.0  0.0  0.0  1.0  0.0   \n",
       "3    1.0  0.0  1.0  0.0  0.0  0.0  0.0  1.0  0.0  0.0  0.0  0.0  1.0  0.0   \n",
       "4    1.0  0.0  1.0  0.0  0.0  0.0  0.0  0.0  0.0  0.0  1.0  0.0  1.0  0.0   \n",
       "..   ...  ...  ...  ...  ...  ...  ...  ...  ...  ...  ...  ...  ...  ...   \n",
       "989  1.0  0.0  1.0  0.0  0.0  0.0  0.0  0.0  0.0  0.0  1.0  0.0  1.0  0.0   \n",
       "990  1.0  0.0  0.0  0.0  1.0  0.0  0.0  0.0  0.0  0.0  1.0  0.0  1.0  0.0   \n",
       "991  1.0  0.0  1.0  0.0  0.0  0.0  0.0  0.0  0.0  0.0  1.0  0.0  1.0  0.0   \n",
       "992  1.0  0.0  0.0  0.0  1.0  0.0  0.0  1.0  0.0  0.0  0.0  0.0  1.0  0.0   \n",
       "993  1.0  0.0  1.0  0.0  0.0  0.0  0.0  0.0  0.0  0.0  1.0  0.0  1.0  0.0   \n",
       "\n",
       "      28   29   30   31   32   33   34   35   36   37   38   39   40   41  \\\n",
       "0    0.0  0.0  0.0  0.0  0.0  0.0  1.0  0.0  0.0  0.0  0.0  0.0  0.0  0.0   \n",
       "1    0.0  0.0  0.0  0.0  0.0  0.0  0.0  0.0  0.0  1.0  0.0  0.0  0.0  0.0   \n",
       "2    0.0  0.0  0.0  0.0  0.0  0.0  0.0  0.0  0.0  1.0  0.0  0.0  0.0  0.0   \n",
       "3    0.0  0.0  0.0  0.0  0.0  0.0  0.0  0.0  0.0  0.0  0.0  1.0  0.0  0.0   \n",
       "4    0.0  0.0  0.0  0.0  0.0  0.0  0.0  0.0  0.0  1.0  0.0  0.0  0.0  0.0   \n",
       "..   ...  ...  ...  ...  ...  ...  ...  ...  ...  ...  ...  ...  ...  ...   \n",
       "989  0.0  0.0  0.0  0.0  0.0  0.0  1.0  0.0  0.0  0.0  0.0  0.0  0.0  0.0   \n",
       "990  0.0  0.0  0.0  0.0  0.0  0.0  0.0  0.0  0.0  1.0  0.0  0.0  0.0  0.0   \n",
       "991  0.0  0.0  0.0  0.0  0.0  0.0  0.0  0.0  0.0  1.0  0.0  0.0  0.0  0.0   \n",
       "992  0.0  0.0  0.0  0.0  0.0  0.0  0.0  0.0  0.0  1.0  0.0  0.0  0.0  0.0   \n",
       "993  0.0  0.0  0.0  0.0  0.0  0.0  1.0  0.0  0.0  0.0  0.0  0.0  0.0  0.0   \n",
       "\n",
       "      42   43   44   45   46   47   48   49   50   51   52   53   54   55  \\\n",
       "0    0.0  1.0  0.0  1.0  0.0  0.0  1.0  0.0  0.0  1.0  0.0  0.0  0.0  0.0   \n",
       "1    0.0  1.0  0.0  1.0  0.0  0.0  1.0  0.0  0.0  0.0  0.0  1.0  0.0  0.0   \n",
       "2    0.0  1.0  0.0  1.0  0.0  0.0  1.0  0.0  0.0  0.0  0.0  0.0  0.0  1.0   \n",
       "3    0.0  1.0  0.0  1.0  0.0  0.0  1.0  0.0  0.0  0.0  0.0  0.0  0.0  1.0   \n",
       "4    0.0  1.0  0.0  0.0  1.0  0.0  1.0  0.0  0.0  0.0  0.0  0.0  0.0  1.0   \n",
       "..   ...  ...  ...  ...  ...  ...  ...  ...  ...  ...  ...  ...  ...  ...   \n",
       "989  0.0  1.0  1.0  0.0  0.0  0.0  1.0  0.0  0.0  0.0  0.0  0.0  0.0  1.0   \n",
       "990  0.0  1.0  0.0  1.0  0.0  0.0  1.0  0.0  0.0  1.0  0.0  0.0  0.0  0.0   \n",
       "991  0.0  1.0  0.0  1.0  0.0  0.0  1.0  0.0  0.0  0.0  0.0  1.0  0.0  0.0   \n",
       "992  0.0  1.0  0.0  1.0  0.0  0.0  1.0  0.0  0.0  1.0  0.0  0.0  0.0  0.0   \n",
       "993  0.0  1.0  0.0  1.0  0.0  0.0  1.0  0.0  0.0  0.0  0.0  0.0  0.0  1.0   \n",
       "\n",
       "      56   57   58   59   60   61   62   63   64  \n",
       "0    0.0  0.0  1.0  0.0  0.0  1.0  0.0  0.0  0.0  \n",
       "1    0.0  0.0  1.0  0.0  0.0  1.0  0.0  0.0  0.0  \n",
       "2    0.0  0.0  1.0  0.0  0.0  1.0  0.0  0.0  0.0  \n",
       "3    0.0  0.0  1.0  0.0  0.0  1.0  0.0  0.0  0.0  \n",
       "4    0.0  0.0  1.0  0.0  0.0  1.0  0.0  0.0  0.0  \n",
       "..   ...  ...  ...  ...  ...  ...  ...  ...  ...  \n",
       "989  0.0  0.0  1.0  0.0  0.0  1.0  0.0  0.0  0.0  \n",
       "990  0.0  0.0  1.0  0.0  0.0  1.0  0.0  0.0  0.0  \n",
       "991  0.0  0.0  1.0  0.0  0.0  1.0  0.0  0.0  0.0  \n",
       "992  0.0  0.0  0.0  1.0  0.0  1.0  0.0  0.0  0.0  \n",
       "993  0.0  0.0  1.0  0.0  0.0  1.0  0.0  0.0  0.0  \n",
       "\n",
       "[994 rows x 65 columns]"
      ]
     },
     "execution_count": 75,
     "metadata": {},
     "output_type": "execute_result"
    }
   ],
   "source": [
    "X_train_OHE_skl"
   ]
  },
  {
   "cell_type": "markdown",
   "metadata": {},
   "source": [
    "As we can see, the new encoded columns are named as integers. However, the names of the features are stored in the get_feature_names() method"
   ]
  },
  {
   "cell_type": "code",
   "execution_count": 76,
   "metadata": {},
   "outputs": [
    {
     "data": {
      "text/plain": [
       "array(['x0_1Fam', 'x0_2fmCon', 'x0_Duplex', 'x0_Twnhs', 'x0_TwnhsE',\n",
       "       'x1_BrkTil', 'x1_CBlock', 'x1_PConc', 'x1_Stone', 'x1_Wood',\n",
       "       'x2_Gtl', 'x2_Mod', 'x2_Sev', 'x3_N', 'x3_Y', 'x4_Flat',\n",
       "       'x4_Gable', 'x4_Gambrel', 'x4_Hip', 'x4_Mansard', 'x4_Shed',\n",
       "       'x5_Av', 'x5_Gd', 'x5_Mn', 'x5_No', 'x6_ClyTile', 'x6_CompShg',\n",
       "       'x6_Metal', 'x6_Roll', 'x6_Tar&Grv', 'x6_WdShake', 'x6_WdShngl',\n",
       "       'x7_1.5Fin', 'x7_1.5Unf', 'x7_1Story', 'x7_2.5Fin', 'x7_2.5Unf',\n",
       "       'x7_2Story', 'x7_SFoyer', 'x7_SLvl', 'x8_FuseA', 'x8_FuseF',\n",
       "       'x8_FuseP', 'x8_SBrkr', 'x9_Grvl', 'x9_Missing', 'x9_Pave',\n",
       "       'x10_Gar2', 'x10_Missing', 'x10_Othr', 'x10_Shed', 'x11_Corner',\n",
       "       'x11_CulDSac', 'x11_FR2', 'x11_FR3', 'x11_Inside', 'x12_GdPrv',\n",
       "       'x12_GdWo', 'x12_Missing', 'x12_MnPrv', 'x12_MnWw', 'x13_GasA',\n",
       "       'x13_GasW', 'x13_Grav', 'x13_OthW'], dtype=object)"
      ]
     },
     "execution_count": 76,
     "metadata": {},
     "output_type": "execute_result"
    }
   ],
   "source": [
    "encoder.get_feature_names()"
   ]
  },
  {
   "cell_type": "code",
   "execution_count": 77,
   "metadata": {},
   "outputs": [
    {
     "name": "stdout",
     "output_type": "stream",
     "text": [
      "BldgType ['1Fam' 'TwnhsE' 'Twnhs' '2fmCon' 'Duplex']\n",
      "Foundation ['PConc' 'CBlock' 'BrkTil' 'Stone' 'Wood']\n",
      "LandSlope ['Gtl' 'Mod' 'Sev']\n",
      "CentralAir ['Y' 'N']\n",
      "RoofStyle ['Hip' 'Gable' 'Gambrel' 'Flat' 'Mansard' 'Shed']\n",
      "BsmtExposure ['No' 'Mn' 'Av' 'Gd']\n",
      "RoofMatl ['CompShg' 'ClyTile' 'WdShake' 'Tar&Grv' 'WdShngl' 'Metal' 'Roll']\n",
      "HouseStyle ['1Story' '2Story' 'SLvl' '1.5Fin' 'SFoyer' '1.5Unf' '2.5Unf' '2.5Fin']\n",
      "Electrical ['SBrkr' 'FuseA' 'FuseF' 'FuseP']\n",
      "Alley ['Missing' 'Pave' 'Grvl']\n",
      "MiscFeature ['Missing' 'Shed' 'Gar2' 'Othr']\n",
      "LotConfig ['Corner' 'FR2' 'Inside' 'CulDSac' 'FR3']\n",
      "Fence ['Missing' 'MnPrv' 'GdPrv' 'GdWo' 'MnWw']\n",
      "Heating ['GasA' 'GasW' 'OthW' 'Grav']\n"
     ]
    }
   ],
   "source": [
    "for col in str_cols_OHE_encod:\n",
    "    print(col, X_train[col].unique())"
   ]
  },
  {
   "cell_type": "code",
   "execution_count": 78,
   "metadata": {},
   "outputs": [],
   "source": [
    "# we now create a dummy_cols_list which contains the names of the categorical columns and their category in the format \"col_cat\"\n",
    "dummy_cols_list = list(encoder.get_feature_names())\n",
    "for i in range(0, len(dummy_cols_list)):\n",
    "    for j in range(0, len(str_cols_OHE_encod)):\n",
    "        dummy_cols_list[i] = dummy_cols_list[i].replace(f\"x{j}_\", str_cols_OHE_encod[j]+ \"_\") "
   ]
  },
  {
   "cell_type": "code",
   "execution_count": 79,
   "metadata": {},
   "outputs": [
    {
     "name": "stdout",
     "output_type": "stream",
     "text": [
      "['BldgType_1Fam', 'BldgType_2fmCon', 'BldgType_Duplex', 'BldgType_Twnhs', 'BldgType_TwnhsE', 'Foundation_BrkTil', 'Foundation_CBlock', 'Foundation_PConc', 'Foundation_Stone', 'Foundation_Wood', 'LandSlope_Gtl', 'LandSlope_Mod', 'LandSlope_Sev', 'CentralAir_N', 'CentralAir_Y', 'RoofStyle_Flat', 'RoofStyle_Gable', 'RoofStyle_Gambrel', 'RoofStyle_Hip', 'RoofStyle_Mansard', 'RoofStyle_Shed', 'BsmtExposure_Av', 'BsmtExposure_Gd', 'BsmtExposure_Mn', 'BsmtExposure_No', 'RoofMatl_ClyTile', 'RoofMatl_CompShg', 'RoofMatl_Metal', 'RoofMatl_Roll', 'RoofMatl_Tar&Grv', 'RoofMatl_WdShake', 'RoofMatl_WdShngl', 'HouseStyle_1.5Fin', 'HouseStyle_1.5Unf', 'HouseStyle_1Story', 'HouseStyle_2.5Fin', 'HouseStyle_2.5Unf', 'HouseStyle_2Story', 'HouseStyle_SFoyer', 'HouseStyle_SLvl', 'Electrical_FuseA', 'Electrical_FuseF', 'Electrical_FuseP', 'Electrical_SBrkr', 'Alley_Grvl', 'Alley_Missing', 'Alley_Pave', 'MiscFeature_Gar2', 'MiscFeature_Missing', 'MiscFeature_Othr', 'MiscFeature_Shed', 'LotConfig_Corner', 'LotConfig_CulDSac', 'LotConfig_FR2', 'LotConfig_FR3', 'LotConfig_Inside', 'Fence_GdPrv', 'Fence_GdWo', 'Fence_Missing', 'Fence_MnPrv', 'Fence_MnWw', 'Heating_GasA', 'Heating_GasW', 'Heating_Grav', 'Heating_OthW']\n"
     ]
    }
   ],
   "source": [
    "print(dummy_cols_list)"
   ]
  },
  {
   "cell_type": "code",
   "execution_count": 80,
   "metadata": {},
   "outputs": [],
   "source": [
    "# we rename the dataframe columns to the above names\n",
    "X_train_OHE_skl.columns = dummy_cols_list"
   ]
  },
  {
   "cell_type": "code",
   "execution_count": 81,
   "metadata": {},
   "outputs": [
    {
     "data": {
      "text/html": [
       "<div>\n",
       "<style scoped>\n",
       "    .dataframe tbody tr th:only-of-type {\n",
       "        vertical-align: middle;\n",
       "    }\n",
       "\n",
       "    .dataframe tbody tr th {\n",
       "        vertical-align: top;\n",
       "    }\n",
       "\n",
       "    .dataframe thead th {\n",
       "        text-align: right;\n",
       "    }\n",
       "</style>\n",
       "<table border=\"1\" class=\"dataframe\">\n",
       "  <thead>\n",
       "    <tr style=\"text-align: right;\">\n",
       "      <th></th>\n",
       "      <th>BldgType_1Fam</th>\n",
       "      <th>BldgType_2fmCon</th>\n",
       "      <th>BldgType_Duplex</th>\n",
       "      <th>BldgType_Twnhs</th>\n",
       "      <th>BldgType_TwnhsE</th>\n",
       "      <th>Foundation_BrkTil</th>\n",
       "      <th>Foundation_CBlock</th>\n",
       "      <th>Foundation_PConc</th>\n",
       "      <th>Foundation_Stone</th>\n",
       "      <th>Foundation_Wood</th>\n",
       "      <th>LandSlope_Gtl</th>\n",
       "      <th>LandSlope_Mod</th>\n",
       "      <th>LandSlope_Sev</th>\n",
       "      <th>CentralAir_N</th>\n",
       "      <th>CentralAir_Y</th>\n",
       "      <th>RoofStyle_Flat</th>\n",
       "      <th>RoofStyle_Gable</th>\n",
       "      <th>RoofStyle_Gambrel</th>\n",
       "      <th>RoofStyle_Hip</th>\n",
       "      <th>RoofStyle_Mansard</th>\n",
       "      <th>RoofStyle_Shed</th>\n",
       "      <th>BsmtExposure_Av</th>\n",
       "      <th>BsmtExposure_Gd</th>\n",
       "      <th>BsmtExposure_Mn</th>\n",
       "      <th>BsmtExposure_No</th>\n",
       "      <th>RoofMatl_ClyTile</th>\n",
       "      <th>RoofMatl_CompShg</th>\n",
       "      <th>RoofMatl_Metal</th>\n",
       "      <th>RoofMatl_Roll</th>\n",
       "      <th>RoofMatl_Tar&amp;Grv</th>\n",
       "      <th>RoofMatl_WdShake</th>\n",
       "      <th>RoofMatl_WdShngl</th>\n",
       "      <th>HouseStyle_1.5Fin</th>\n",
       "      <th>HouseStyle_1.5Unf</th>\n",
       "      <th>HouseStyle_1Story</th>\n",
       "      <th>HouseStyle_2.5Fin</th>\n",
       "      <th>HouseStyle_2.5Unf</th>\n",
       "      <th>HouseStyle_2Story</th>\n",
       "      <th>HouseStyle_SFoyer</th>\n",
       "      <th>HouseStyle_SLvl</th>\n",
       "      <th>Electrical_FuseA</th>\n",
       "      <th>Electrical_FuseF</th>\n",
       "      <th>Electrical_FuseP</th>\n",
       "      <th>Electrical_SBrkr</th>\n",
       "      <th>Alley_Grvl</th>\n",
       "      <th>Alley_Missing</th>\n",
       "      <th>Alley_Pave</th>\n",
       "      <th>MiscFeature_Gar2</th>\n",
       "      <th>MiscFeature_Missing</th>\n",
       "      <th>MiscFeature_Othr</th>\n",
       "      <th>MiscFeature_Shed</th>\n",
       "      <th>LotConfig_Corner</th>\n",
       "      <th>LotConfig_CulDSac</th>\n",
       "      <th>LotConfig_FR2</th>\n",
       "      <th>LotConfig_FR3</th>\n",
       "      <th>LotConfig_Inside</th>\n",
       "      <th>Fence_GdPrv</th>\n",
       "      <th>Fence_GdWo</th>\n",
       "      <th>Fence_Missing</th>\n",
       "      <th>Fence_MnPrv</th>\n",
       "      <th>Fence_MnWw</th>\n",
       "      <th>Heating_GasA</th>\n",
       "      <th>Heating_GasW</th>\n",
       "      <th>Heating_Grav</th>\n",
       "      <th>Heating_OthW</th>\n",
       "    </tr>\n",
       "  </thead>\n",
       "  <tbody>\n",
       "    <tr>\n",
       "      <th>0</th>\n",
       "      <td>1.0</td>\n",
       "      <td>0.0</td>\n",
       "      <td>0.0</td>\n",
       "      <td>0.0</td>\n",
       "      <td>0.0</td>\n",
       "      <td>0.0</td>\n",
       "      <td>0.0</td>\n",
       "      <td>1.0</td>\n",
       "      <td>0.0</td>\n",
       "      <td>0.0</td>\n",
       "      <td>1.0</td>\n",
       "      <td>0.0</td>\n",
       "      <td>0.0</td>\n",
       "      <td>0.0</td>\n",
       "      <td>1.0</td>\n",
       "      <td>0.0</td>\n",
       "      <td>0.0</td>\n",
       "      <td>0.0</td>\n",
       "      <td>1.0</td>\n",
       "      <td>0.0</td>\n",
       "      <td>0.0</td>\n",
       "      <td>0.0</td>\n",
       "      <td>0.0</td>\n",
       "      <td>0.0</td>\n",
       "      <td>1.0</td>\n",
       "      <td>0.0</td>\n",
       "      <td>1.0</td>\n",
       "      <td>0.0</td>\n",
       "      <td>0.0</td>\n",
       "      <td>0.0</td>\n",
       "      <td>0.0</td>\n",
       "      <td>0.0</td>\n",
       "      <td>0.0</td>\n",
       "      <td>0.0</td>\n",
       "      <td>1.0</td>\n",
       "      <td>0.0</td>\n",
       "      <td>0.0</td>\n",
       "      <td>0.0</td>\n",
       "      <td>0.0</td>\n",
       "      <td>0.0</td>\n",
       "      <td>0.0</td>\n",
       "      <td>0.0</td>\n",
       "      <td>0.0</td>\n",
       "      <td>1.0</td>\n",
       "      <td>0.0</td>\n",
       "      <td>1.0</td>\n",
       "      <td>0.0</td>\n",
       "      <td>0.0</td>\n",
       "      <td>1.0</td>\n",
       "      <td>0.0</td>\n",
       "      <td>0.0</td>\n",
       "      <td>1.0</td>\n",
       "      <td>0.0</td>\n",
       "      <td>0.0</td>\n",
       "      <td>0.0</td>\n",
       "      <td>0.0</td>\n",
       "      <td>0.0</td>\n",
       "      <td>0.0</td>\n",
       "      <td>1.0</td>\n",
       "      <td>0.0</td>\n",
       "      <td>0.0</td>\n",
       "      <td>1.0</td>\n",
       "      <td>0.0</td>\n",
       "      <td>0.0</td>\n",
       "      <td>0.0</td>\n",
       "    </tr>\n",
       "    <tr>\n",
       "      <th>1</th>\n",
       "      <td>1.0</td>\n",
       "      <td>0.0</td>\n",
       "      <td>0.0</td>\n",
       "      <td>0.0</td>\n",
       "      <td>0.0</td>\n",
       "      <td>0.0</td>\n",
       "      <td>0.0</td>\n",
       "      <td>1.0</td>\n",
       "      <td>0.0</td>\n",
       "      <td>0.0</td>\n",
       "      <td>1.0</td>\n",
       "      <td>0.0</td>\n",
       "      <td>0.0</td>\n",
       "      <td>0.0</td>\n",
       "      <td>1.0</td>\n",
       "      <td>0.0</td>\n",
       "      <td>1.0</td>\n",
       "      <td>0.0</td>\n",
       "      <td>0.0</td>\n",
       "      <td>0.0</td>\n",
       "      <td>0.0</td>\n",
       "      <td>0.0</td>\n",
       "      <td>0.0</td>\n",
       "      <td>0.0</td>\n",
       "      <td>1.0</td>\n",
       "      <td>0.0</td>\n",
       "      <td>1.0</td>\n",
       "      <td>0.0</td>\n",
       "      <td>0.0</td>\n",
       "      <td>0.0</td>\n",
       "      <td>0.0</td>\n",
       "      <td>0.0</td>\n",
       "      <td>0.0</td>\n",
       "      <td>0.0</td>\n",
       "      <td>0.0</td>\n",
       "      <td>0.0</td>\n",
       "      <td>0.0</td>\n",
       "      <td>1.0</td>\n",
       "      <td>0.0</td>\n",
       "      <td>0.0</td>\n",
       "      <td>0.0</td>\n",
       "      <td>0.0</td>\n",
       "      <td>0.0</td>\n",
       "      <td>1.0</td>\n",
       "      <td>0.0</td>\n",
       "      <td>1.0</td>\n",
       "      <td>0.0</td>\n",
       "      <td>0.0</td>\n",
       "      <td>1.0</td>\n",
       "      <td>0.0</td>\n",
       "      <td>0.0</td>\n",
       "      <td>0.0</td>\n",
       "      <td>0.0</td>\n",
       "      <td>1.0</td>\n",
       "      <td>0.0</td>\n",
       "      <td>0.0</td>\n",
       "      <td>0.0</td>\n",
       "      <td>0.0</td>\n",
       "      <td>1.0</td>\n",
       "      <td>0.0</td>\n",
       "      <td>0.0</td>\n",
       "      <td>1.0</td>\n",
       "      <td>0.0</td>\n",
       "      <td>0.0</td>\n",
       "      <td>0.0</td>\n",
       "    </tr>\n",
       "    <tr>\n",
       "      <th>2</th>\n",
       "      <td>1.0</td>\n",
       "      <td>0.0</td>\n",
       "      <td>0.0</td>\n",
       "      <td>0.0</td>\n",
       "      <td>0.0</td>\n",
       "      <td>0.0</td>\n",
       "      <td>0.0</td>\n",
       "      <td>1.0</td>\n",
       "      <td>0.0</td>\n",
       "      <td>0.0</td>\n",
       "      <td>1.0</td>\n",
       "      <td>0.0</td>\n",
       "      <td>0.0</td>\n",
       "      <td>0.0</td>\n",
       "      <td>1.0</td>\n",
       "      <td>0.0</td>\n",
       "      <td>1.0</td>\n",
       "      <td>0.0</td>\n",
       "      <td>0.0</td>\n",
       "      <td>0.0</td>\n",
       "      <td>0.0</td>\n",
       "      <td>0.0</td>\n",
       "      <td>0.0</td>\n",
       "      <td>1.0</td>\n",
       "      <td>0.0</td>\n",
       "      <td>0.0</td>\n",
       "      <td>1.0</td>\n",
       "      <td>0.0</td>\n",
       "      <td>0.0</td>\n",
       "      <td>0.0</td>\n",
       "      <td>0.0</td>\n",
       "      <td>0.0</td>\n",
       "      <td>0.0</td>\n",
       "      <td>0.0</td>\n",
       "      <td>0.0</td>\n",
       "      <td>0.0</td>\n",
       "      <td>0.0</td>\n",
       "      <td>1.0</td>\n",
       "      <td>0.0</td>\n",
       "      <td>0.0</td>\n",
       "      <td>0.0</td>\n",
       "      <td>0.0</td>\n",
       "      <td>0.0</td>\n",
       "      <td>1.0</td>\n",
       "      <td>0.0</td>\n",
       "      <td>1.0</td>\n",
       "      <td>0.0</td>\n",
       "      <td>0.0</td>\n",
       "      <td>1.0</td>\n",
       "      <td>0.0</td>\n",
       "      <td>0.0</td>\n",
       "      <td>0.0</td>\n",
       "      <td>0.0</td>\n",
       "      <td>0.0</td>\n",
       "      <td>0.0</td>\n",
       "      <td>1.0</td>\n",
       "      <td>0.0</td>\n",
       "      <td>0.0</td>\n",
       "      <td>1.0</td>\n",
       "      <td>0.0</td>\n",
       "      <td>0.0</td>\n",
       "      <td>1.0</td>\n",
       "      <td>0.0</td>\n",
       "      <td>0.0</td>\n",
       "      <td>0.0</td>\n",
       "    </tr>\n",
       "    <tr>\n",
       "      <th>3</th>\n",
       "      <td>1.0</td>\n",
       "      <td>0.0</td>\n",
       "      <td>0.0</td>\n",
       "      <td>0.0</td>\n",
       "      <td>0.0</td>\n",
       "      <td>0.0</td>\n",
       "      <td>0.0</td>\n",
       "      <td>1.0</td>\n",
       "      <td>0.0</td>\n",
       "      <td>0.0</td>\n",
       "      <td>1.0</td>\n",
       "      <td>0.0</td>\n",
       "      <td>0.0</td>\n",
       "      <td>0.0</td>\n",
       "      <td>1.0</td>\n",
       "      <td>0.0</td>\n",
       "      <td>1.0</td>\n",
       "      <td>0.0</td>\n",
       "      <td>0.0</td>\n",
       "      <td>0.0</td>\n",
       "      <td>0.0</td>\n",
       "      <td>1.0</td>\n",
       "      <td>0.0</td>\n",
       "      <td>0.0</td>\n",
       "      <td>0.0</td>\n",
       "      <td>0.0</td>\n",
       "      <td>1.0</td>\n",
       "      <td>0.0</td>\n",
       "      <td>0.0</td>\n",
       "      <td>0.0</td>\n",
       "      <td>0.0</td>\n",
       "      <td>0.0</td>\n",
       "      <td>0.0</td>\n",
       "      <td>0.0</td>\n",
       "      <td>0.0</td>\n",
       "      <td>0.0</td>\n",
       "      <td>0.0</td>\n",
       "      <td>0.0</td>\n",
       "      <td>0.0</td>\n",
       "      <td>1.0</td>\n",
       "      <td>0.0</td>\n",
       "      <td>0.0</td>\n",
       "      <td>0.0</td>\n",
       "      <td>1.0</td>\n",
       "      <td>0.0</td>\n",
       "      <td>1.0</td>\n",
       "      <td>0.0</td>\n",
       "      <td>0.0</td>\n",
       "      <td>1.0</td>\n",
       "      <td>0.0</td>\n",
       "      <td>0.0</td>\n",
       "      <td>0.0</td>\n",
       "      <td>0.0</td>\n",
       "      <td>0.0</td>\n",
       "      <td>0.0</td>\n",
       "      <td>1.0</td>\n",
       "      <td>0.0</td>\n",
       "      <td>0.0</td>\n",
       "      <td>1.0</td>\n",
       "      <td>0.0</td>\n",
       "      <td>0.0</td>\n",
       "      <td>1.0</td>\n",
       "      <td>0.0</td>\n",
       "      <td>0.0</td>\n",
       "      <td>0.0</td>\n",
       "    </tr>\n",
       "    <tr>\n",
       "      <th>4</th>\n",
       "      <td>0.0</td>\n",
       "      <td>0.0</td>\n",
       "      <td>0.0</td>\n",
       "      <td>0.0</td>\n",
       "      <td>1.0</td>\n",
       "      <td>0.0</td>\n",
       "      <td>0.0</td>\n",
       "      <td>1.0</td>\n",
       "      <td>0.0</td>\n",
       "      <td>0.0</td>\n",
       "      <td>1.0</td>\n",
       "      <td>0.0</td>\n",
       "      <td>0.0</td>\n",
       "      <td>0.0</td>\n",
       "      <td>1.0</td>\n",
       "      <td>0.0</td>\n",
       "      <td>1.0</td>\n",
       "      <td>0.0</td>\n",
       "      <td>0.0</td>\n",
       "      <td>0.0</td>\n",
       "      <td>0.0</td>\n",
       "      <td>0.0</td>\n",
       "      <td>0.0</td>\n",
       "      <td>0.0</td>\n",
       "      <td>1.0</td>\n",
       "      <td>0.0</td>\n",
       "      <td>1.0</td>\n",
       "      <td>0.0</td>\n",
       "      <td>0.0</td>\n",
       "      <td>0.0</td>\n",
       "      <td>0.0</td>\n",
       "      <td>0.0</td>\n",
       "      <td>0.0</td>\n",
       "      <td>0.0</td>\n",
       "      <td>0.0</td>\n",
       "      <td>0.0</td>\n",
       "      <td>0.0</td>\n",
       "      <td>1.0</td>\n",
       "      <td>0.0</td>\n",
       "      <td>0.0</td>\n",
       "      <td>0.0</td>\n",
       "      <td>0.0</td>\n",
       "      <td>0.0</td>\n",
       "      <td>1.0</td>\n",
       "      <td>0.0</td>\n",
       "      <td>0.0</td>\n",
       "      <td>1.0</td>\n",
       "      <td>0.0</td>\n",
       "      <td>1.0</td>\n",
       "      <td>0.0</td>\n",
       "      <td>0.0</td>\n",
       "      <td>0.0</td>\n",
       "      <td>0.0</td>\n",
       "      <td>0.0</td>\n",
       "      <td>0.0</td>\n",
       "      <td>1.0</td>\n",
       "      <td>0.0</td>\n",
       "      <td>0.0</td>\n",
       "      <td>1.0</td>\n",
       "      <td>0.0</td>\n",
       "      <td>0.0</td>\n",
       "      <td>1.0</td>\n",
       "      <td>0.0</td>\n",
       "      <td>0.0</td>\n",
       "      <td>0.0</td>\n",
       "    </tr>\n",
       "  </tbody>\n",
       "</table>\n",
       "</div>"
      ],
      "text/plain": [
       "   BldgType_1Fam  BldgType_2fmCon  BldgType_Duplex  BldgType_Twnhs  \\\n",
       "0            1.0              0.0              0.0             0.0   \n",
       "1            1.0              0.0              0.0             0.0   \n",
       "2            1.0              0.0              0.0             0.0   \n",
       "3            1.0              0.0              0.0             0.0   \n",
       "4            0.0              0.0              0.0             0.0   \n",
       "\n",
       "   BldgType_TwnhsE  Foundation_BrkTil  Foundation_CBlock  Foundation_PConc  \\\n",
       "0              0.0                0.0                0.0               1.0   \n",
       "1              0.0                0.0                0.0               1.0   \n",
       "2              0.0                0.0                0.0               1.0   \n",
       "3              0.0                0.0                0.0               1.0   \n",
       "4              1.0                0.0                0.0               1.0   \n",
       "\n",
       "   Foundation_Stone  Foundation_Wood  LandSlope_Gtl  LandSlope_Mod  \\\n",
       "0               0.0              0.0            1.0            0.0   \n",
       "1               0.0              0.0            1.0            0.0   \n",
       "2               0.0              0.0            1.0            0.0   \n",
       "3               0.0              0.0            1.0            0.0   \n",
       "4               0.0              0.0            1.0            0.0   \n",
       "\n",
       "   LandSlope_Sev  CentralAir_N  CentralAir_Y  RoofStyle_Flat  RoofStyle_Gable  \\\n",
       "0            0.0           0.0           1.0             0.0              0.0   \n",
       "1            0.0           0.0           1.0             0.0              1.0   \n",
       "2            0.0           0.0           1.0             0.0              1.0   \n",
       "3            0.0           0.0           1.0             0.0              1.0   \n",
       "4            0.0           0.0           1.0             0.0              1.0   \n",
       "\n",
       "   RoofStyle_Gambrel  RoofStyle_Hip  RoofStyle_Mansard  RoofStyle_Shed  \\\n",
       "0                0.0            1.0                0.0             0.0   \n",
       "1                0.0            0.0                0.0             0.0   \n",
       "2                0.0            0.0                0.0             0.0   \n",
       "3                0.0            0.0                0.0             0.0   \n",
       "4                0.0            0.0                0.0             0.0   \n",
       "\n",
       "   BsmtExposure_Av  BsmtExposure_Gd  BsmtExposure_Mn  BsmtExposure_No  \\\n",
       "0              0.0              0.0              0.0              1.0   \n",
       "1              0.0              0.0              0.0              1.0   \n",
       "2              0.0              0.0              1.0              0.0   \n",
       "3              1.0              0.0              0.0              0.0   \n",
       "4              0.0              0.0              0.0              1.0   \n",
       "\n",
       "   RoofMatl_ClyTile  RoofMatl_CompShg  RoofMatl_Metal  RoofMatl_Roll  \\\n",
       "0               0.0               1.0             0.0            0.0   \n",
       "1               0.0               1.0             0.0            0.0   \n",
       "2               0.0               1.0             0.0            0.0   \n",
       "3               0.0               1.0             0.0            0.0   \n",
       "4               0.0               1.0             0.0            0.0   \n",
       "\n",
       "   RoofMatl_Tar&Grv  RoofMatl_WdShake  RoofMatl_WdShngl  HouseStyle_1.5Fin  \\\n",
       "0               0.0               0.0               0.0                0.0   \n",
       "1               0.0               0.0               0.0                0.0   \n",
       "2               0.0               0.0               0.0                0.0   \n",
       "3               0.0               0.0               0.0                0.0   \n",
       "4               0.0               0.0               0.0                0.0   \n",
       "\n",
       "   HouseStyle_1.5Unf  HouseStyle_1Story  HouseStyle_2.5Fin  HouseStyle_2.5Unf  \\\n",
       "0                0.0                1.0                0.0                0.0   \n",
       "1                0.0                0.0                0.0                0.0   \n",
       "2                0.0                0.0                0.0                0.0   \n",
       "3                0.0                0.0                0.0                0.0   \n",
       "4                0.0                0.0                0.0                0.0   \n",
       "\n",
       "   HouseStyle_2Story  HouseStyle_SFoyer  HouseStyle_SLvl  Electrical_FuseA  \\\n",
       "0                0.0                0.0              0.0               0.0   \n",
       "1                1.0                0.0              0.0               0.0   \n",
       "2                1.0                0.0              0.0               0.0   \n",
       "3                0.0                0.0              1.0               0.0   \n",
       "4                1.0                0.0              0.0               0.0   \n",
       "\n",
       "   Electrical_FuseF  Electrical_FuseP  Electrical_SBrkr  Alley_Grvl  \\\n",
       "0               0.0               0.0               1.0         0.0   \n",
       "1               0.0               0.0               1.0         0.0   \n",
       "2               0.0               0.0               1.0         0.0   \n",
       "3               0.0               0.0               1.0         0.0   \n",
       "4               0.0               0.0               1.0         0.0   \n",
       "\n",
       "   Alley_Missing  Alley_Pave  MiscFeature_Gar2  MiscFeature_Missing  \\\n",
       "0            1.0         0.0               0.0                  1.0   \n",
       "1            1.0         0.0               0.0                  1.0   \n",
       "2            1.0         0.0               0.0                  1.0   \n",
       "3            1.0         0.0               0.0                  1.0   \n",
       "4            0.0         1.0               0.0                  1.0   \n",
       "\n",
       "   MiscFeature_Othr  MiscFeature_Shed  LotConfig_Corner  LotConfig_CulDSac  \\\n",
       "0               0.0               0.0               1.0                0.0   \n",
       "1               0.0               0.0               0.0                0.0   \n",
       "2               0.0               0.0               0.0                0.0   \n",
       "3               0.0               0.0               0.0                0.0   \n",
       "4               0.0               0.0               0.0                0.0   \n",
       "\n",
       "   LotConfig_FR2  LotConfig_FR3  LotConfig_Inside  Fence_GdPrv  Fence_GdWo  \\\n",
       "0            0.0            0.0               0.0          0.0         0.0   \n",
       "1            1.0            0.0               0.0          0.0         0.0   \n",
       "2            0.0            0.0               1.0          0.0         0.0   \n",
       "3            0.0            0.0               1.0          0.0         0.0   \n",
       "4            0.0            0.0               1.0          0.0         0.0   \n",
       "\n",
       "   Fence_Missing  Fence_MnPrv  Fence_MnWw  Heating_GasA  Heating_GasW  \\\n",
       "0            1.0          0.0         0.0           1.0           0.0   \n",
       "1            1.0          0.0         0.0           1.0           0.0   \n",
       "2            1.0          0.0         0.0           1.0           0.0   \n",
       "3            1.0          0.0         0.0           1.0           0.0   \n",
       "4            1.0          0.0         0.0           1.0           0.0   \n",
       "\n",
       "   Heating_Grav  Heating_OthW  \n",
       "0           0.0           0.0  \n",
       "1           0.0           0.0  \n",
       "2           0.0           0.0  \n",
       "3           0.0           0.0  \n",
       "4           0.0           0.0  "
      ]
     },
     "execution_count": 81,
     "metadata": {},
     "output_type": "execute_result"
    }
   ],
   "source": [
    "X_train_OHE_skl.head()"
   ]
  },
  {
   "cell_type": "code",
   "execution_count": 82,
   "metadata": {},
   "outputs": [],
   "source": [
    "# transform the categorical columns in X_test\n",
    "X_test_transformed = encoder.transform(X_test[str_cols_OHE_encod])\n",
    "# turned the transformed Numpy array into a Pandas dataframe\n",
    "X_test_OHE_skl = pd.DataFrame(X_test_transformed)\n",
    "# rename the new encoded  columns \n",
    "X_test_OHE_skl.columns = dummy_cols_list"
   ]
  },
  {
   "cell_type": "code",
   "execution_count": 83,
   "metadata": {},
   "outputs": [
    {
     "data": {
      "text/plain": [
       "((994, 65), (427, 65))"
      ]
     },
     "execution_count": 83,
     "metadata": {},
     "output_type": "execute_result"
    }
   ],
   "source": [
    "X_train_OHE_skl.shape, X_test_OHE_skl.shape"
   ]
  },
  {
   "cell_type": "markdown",
   "metadata": {},
   "source": [
    "We observe that although the encoder was fitted to the X_train, the number of encoded features in both X_train and X_test are equal."
   ]
  },
  {
   "cell_type": "markdown",
   "metadata": {},
   "source": [
    "We now want to concatenate the original X_train and the encoded X_train_OHE_skl (and then drop the categorical columns from the resulting dataframe).\n",
    "\n",
    "Before doing pd.concat([X_train,X_train_OHE_skl], axis=1), we need to check if both dataframes have the same index structure"
   ]
  },
  {
   "cell_type": "code",
   "execution_count": 84,
   "metadata": {},
   "outputs": [],
   "source": [
    "X_train = pd.concat([X_train.reset_index(drop=True), X_train_OHE_skl.reset_index(drop=True)], axis=1)\n",
    "X_train = X_train.drop(columns=str_cols, axis=1)\n",
    "X_test = pd.concat([X_test.reset_index(drop=True), X_test_OHE_skl.reset_index(drop=True)], axis=1)\n",
    "X_test = X_test.drop(columns=str_cols, axis=1)"
   ]
  },
  {
   "cell_type": "code",
   "execution_count": 85,
   "metadata": {},
   "outputs": [
    {
     "data": {
      "text/html": [
       "<div>\n",
       "<style scoped>\n",
       "    .dataframe tbody tr th:only-of-type {\n",
       "        vertical-align: middle;\n",
       "    }\n",
       "\n",
       "    .dataframe tbody tr th {\n",
       "        vertical-align: top;\n",
       "    }\n",
       "\n",
       "    .dataframe thead th {\n",
       "        text-align: right;\n",
       "    }\n",
       "</style>\n",
       "<table border=\"1\" class=\"dataframe\">\n",
       "  <thead>\n",
       "    <tr style=\"text-align: right;\">\n",
       "      <th></th>\n",
       "      <th>GarageCars</th>\n",
       "      <th>GarageArea</th>\n",
       "      <th>OverallCond</th>\n",
       "      <th>LotArea</th>\n",
       "      <th>OpenPorchSF</th>\n",
       "      <th>OverallQual</th>\n",
       "      <th>isNew</th>\n",
       "      <th>TotalBsmtSF</th>\n",
       "      <th>FullBath</th>\n",
       "      <th>GrLivArea</th>\n",
       "      <th>Fireplaces</th>\n",
       "      <th>MoSold</th>\n",
       "      <th>hasGarage</th>\n",
       "      <th>firstFlrSF</th>\n",
       "      <th>WoodDeckSF</th>\n",
       "      <th>TotRmsAbvGrd</th>\n",
       "      <th>Nr.Ring</th>\n",
       "      <th>BsmtFullBath</th>\n",
       "      <th>BedroomAbvGr</th>\n",
       "      <th>secondFlrSF</th>\n",
       "      <th>HalfBath</th>\n",
       "      <th>LotFrontage_median</th>\n",
       "      <th>HouseAge</th>\n",
       "      <th>RemodAge</th>\n",
       "      <th>BldgType_1Fam</th>\n",
       "      <th>BldgType_2fmCon</th>\n",
       "      <th>BldgType_Duplex</th>\n",
       "      <th>BldgType_Twnhs</th>\n",
       "      <th>BldgType_TwnhsE</th>\n",
       "      <th>Foundation_BrkTil</th>\n",
       "      <th>Foundation_CBlock</th>\n",
       "      <th>Foundation_PConc</th>\n",
       "      <th>Foundation_Stone</th>\n",
       "      <th>Foundation_Wood</th>\n",
       "      <th>LandSlope_Gtl</th>\n",
       "      <th>LandSlope_Mod</th>\n",
       "      <th>LandSlope_Sev</th>\n",
       "      <th>CentralAir_N</th>\n",
       "      <th>CentralAir_Y</th>\n",
       "      <th>RoofStyle_Flat</th>\n",
       "      <th>RoofStyle_Gable</th>\n",
       "      <th>RoofStyle_Gambrel</th>\n",
       "      <th>RoofStyle_Hip</th>\n",
       "      <th>RoofStyle_Mansard</th>\n",
       "      <th>RoofStyle_Shed</th>\n",
       "      <th>BsmtExposure_Av</th>\n",
       "      <th>BsmtExposure_Gd</th>\n",
       "      <th>BsmtExposure_Mn</th>\n",
       "      <th>BsmtExposure_No</th>\n",
       "      <th>RoofMatl_ClyTile</th>\n",
       "      <th>RoofMatl_CompShg</th>\n",
       "      <th>RoofMatl_Metal</th>\n",
       "      <th>RoofMatl_Roll</th>\n",
       "      <th>RoofMatl_Tar&amp;Grv</th>\n",
       "      <th>RoofMatl_WdShake</th>\n",
       "      <th>RoofMatl_WdShngl</th>\n",
       "      <th>HouseStyle_1.5Fin</th>\n",
       "      <th>HouseStyle_1.5Unf</th>\n",
       "      <th>HouseStyle_1Story</th>\n",
       "      <th>HouseStyle_2.5Fin</th>\n",
       "      <th>HouseStyle_2.5Unf</th>\n",
       "      <th>HouseStyle_2Story</th>\n",
       "      <th>HouseStyle_SFoyer</th>\n",
       "      <th>HouseStyle_SLvl</th>\n",
       "      <th>Electrical_FuseA</th>\n",
       "      <th>Electrical_FuseF</th>\n",
       "      <th>Electrical_FuseP</th>\n",
       "      <th>Electrical_SBrkr</th>\n",
       "      <th>Alley_Grvl</th>\n",
       "      <th>Alley_Missing</th>\n",
       "      <th>Alley_Pave</th>\n",
       "      <th>MiscFeature_Gar2</th>\n",
       "      <th>MiscFeature_Missing</th>\n",
       "      <th>MiscFeature_Othr</th>\n",
       "      <th>MiscFeature_Shed</th>\n",
       "      <th>LotConfig_Corner</th>\n",
       "      <th>LotConfig_CulDSac</th>\n",
       "      <th>LotConfig_FR2</th>\n",
       "      <th>LotConfig_FR3</th>\n",
       "      <th>LotConfig_Inside</th>\n",
       "      <th>Fence_GdPrv</th>\n",
       "      <th>Fence_GdWo</th>\n",
       "      <th>Fence_Missing</th>\n",
       "      <th>Fence_MnPrv</th>\n",
       "      <th>Fence_MnWw</th>\n",
       "      <th>Heating_GasA</th>\n",
       "      <th>Heating_GasW</th>\n",
       "      <th>Heating_Grav</th>\n",
       "      <th>Heating_OthW</th>\n",
       "    </tr>\n",
       "  </thead>\n",
       "  <tbody>\n",
       "    <tr>\n",
       "      <th>0</th>\n",
       "      <td>3</td>\n",
       "      <td>788</td>\n",
       "      <td>5</td>\n",
       "      <td>11670</td>\n",
       "      <td>191</td>\n",
       "      <td>9</td>\n",
       "      <td>True</td>\n",
       "      <td>1905</td>\n",
       "      <td>2</td>\n",
       "      <td>1905</td>\n",
       "      <td>1</td>\n",
       "      <td>3</td>\n",
       "      <td>True</td>\n",
       "      <td>1905</td>\n",
       "      <td>0</td>\n",
       "      <td>8</td>\n",
       "      <td>2</td>\n",
       "      <td>0</td>\n",
       "      <td>3</td>\n",
       "      <td>0</td>\n",
       "      <td>0</td>\n",
       "      <td>84.0</td>\n",
       "      <td>1</td>\n",
       "      <td>1</td>\n",
       "      <td>1.0</td>\n",
       "      <td>0.0</td>\n",
       "      <td>0.0</td>\n",
       "      <td>0.0</td>\n",
       "      <td>0.0</td>\n",
       "      <td>0.0</td>\n",
       "      <td>0.0</td>\n",
       "      <td>1.0</td>\n",
       "      <td>0.0</td>\n",
       "      <td>0.0</td>\n",
       "      <td>1.0</td>\n",
       "      <td>0.0</td>\n",
       "      <td>0.0</td>\n",
       "      <td>0.0</td>\n",
       "      <td>1.0</td>\n",
       "      <td>0.0</td>\n",
       "      <td>0.0</td>\n",
       "      <td>0.0</td>\n",
       "      <td>1.0</td>\n",
       "      <td>0.0</td>\n",
       "      <td>0.0</td>\n",
       "      <td>0.0</td>\n",
       "      <td>0.0</td>\n",
       "      <td>0.0</td>\n",
       "      <td>1.0</td>\n",
       "      <td>0.0</td>\n",
       "      <td>1.0</td>\n",
       "      <td>0.0</td>\n",
       "      <td>0.0</td>\n",
       "      <td>0.0</td>\n",
       "      <td>0.0</td>\n",
       "      <td>0.0</td>\n",
       "      <td>0.0</td>\n",
       "      <td>0.0</td>\n",
       "      <td>1.0</td>\n",
       "      <td>0.0</td>\n",
       "      <td>0.0</td>\n",
       "      <td>0.0</td>\n",
       "      <td>0.0</td>\n",
       "      <td>0.0</td>\n",
       "      <td>0.0</td>\n",
       "      <td>0.0</td>\n",
       "      <td>0.0</td>\n",
       "      <td>1.0</td>\n",
       "      <td>0.0</td>\n",
       "      <td>1.0</td>\n",
       "      <td>0.0</td>\n",
       "      <td>0.0</td>\n",
       "      <td>1.0</td>\n",
       "      <td>0.0</td>\n",
       "      <td>0.0</td>\n",
       "      <td>1.0</td>\n",
       "      <td>0.0</td>\n",
       "      <td>0.0</td>\n",
       "      <td>0.0</td>\n",
       "      <td>0.0</td>\n",
       "      <td>0.0</td>\n",
       "      <td>0.0</td>\n",
       "      <td>1.0</td>\n",
       "      <td>0.0</td>\n",
       "      <td>0.0</td>\n",
       "      <td>1.0</td>\n",
       "      <td>0.0</td>\n",
       "      <td>0.0</td>\n",
       "      <td>0.0</td>\n",
       "    </tr>\n",
       "    <tr>\n",
       "      <th>1</th>\n",
       "      <td>2</td>\n",
       "      <td>540</td>\n",
       "      <td>5</td>\n",
       "      <td>8633</td>\n",
       "      <td>35</td>\n",
       "      <td>6</td>\n",
       "      <td>True</td>\n",
       "      <td>738</td>\n",
       "      <td>2</td>\n",
       "      <td>1476</td>\n",
       "      <td>0</td>\n",
       "      <td>2</td>\n",
       "      <td>True</td>\n",
       "      <td>738</td>\n",
       "      <td>100</td>\n",
       "      <td>7</td>\n",
       "      <td>2</td>\n",
       "      <td>1</td>\n",
       "      <td>3</td>\n",
       "      <td>738</td>\n",
       "      <td>1</td>\n",
       "      <td>64.0</td>\n",
       "      <td>4</td>\n",
       "      <td>4</td>\n",
       "      <td>1.0</td>\n",
       "      <td>0.0</td>\n",
       "      <td>0.0</td>\n",
       "      <td>0.0</td>\n",
       "      <td>0.0</td>\n",
       "      <td>0.0</td>\n",
       "      <td>0.0</td>\n",
       "      <td>1.0</td>\n",
       "      <td>0.0</td>\n",
       "      <td>0.0</td>\n",
       "      <td>1.0</td>\n",
       "      <td>0.0</td>\n",
       "      <td>0.0</td>\n",
       "      <td>0.0</td>\n",
       "      <td>1.0</td>\n",
       "      <td>0.0</td>\n",
       "      <td>1.0</td>\n",
       "      <td>0.0</td>\n",
       "      <td>0.0</td>\n",
       "      <td>0.0</td>\n",
       "      <td>0.0</td>\n",
       "      <td>0.0</td>\n",
       "      <td>0.0</td>\n",
       "      <td>0.0</td>\n",
       "      <td>1.0</td>\n",
       "      <td>0.0</td>\n",
       "      <td>1.0</td>\n",
       "      <td>0.0</td>\n",
       "      <td>0.0</td>\n",
       "      <td>0.0</td>\n",
       "      <td>0.0</td>\n",
       "      <td>0.0</td>\n",
       "      <td>0.0</td>\n",
       "      <td>0.0</td>\n",
       "      <td>0.0</td>\n",
       "      <td>0.0</td>\n",
       "      <td>0.0</td>\n",
       "      <td>1.0</td>\n",
       "      <td>0.0</td>\n",
       "      <td>0.0</td>\n",
       "      <td>0.0</td>\n",
       "      <td>0.0</td>\n",
       "      <td>0.0</td>\n",
       "      <td>1.0</td>\n",
       "      <td>0.0</td>\n",
       "      <td>1.0</td>\n",
       "      <td>0.0</td>\n",
       "      <td>0.0</td>\n",
       "      <td>1.0</td>\n",
       "      <td>0.0</td>\n",
       "      <td>0.0</td>\n",
       "      <td>0.0</td>\n",
       "      <td>0.0</td>\n",
       "      <td>1.0</td>\n",
       "      <td>0.0</td>\n",
       "      <td>0.0</td>\n",
       "      <td>0.0</td>\n",
       "      <td>0.0</td>\n",
       "      <td>1.0</td>\n",
       "      <td>0.0</td>\n",
       "      <td>0.0</td>\n",
       "      <td>1.0</td>\n",
       "      <td>0.0</td>\n",
       "      <td>0.0</td>\n",
       "      <td>0.0</td>\n",
       "    </tr>\n",
       "    <tr>\n",
       "      <th>2</th>\n",
       "      <td>3</td>\n",
       "      <td>1069</td>\n",
       "      <td>5</td>\n",
       "      <td>16545</td>\n",
       "      <td>126</td>\n",
       "      <td>8</td>\n",
       "      <td>False</td>\n",
       "      <td>1284</td>\n",
       "      <td>2</td>\n",
       "      <td>2450</td>\n",
       "      <td>1</td>\n",
       "      <td>5</td>\n",
       "      <td>True</td>\n",
       "      <td>1310</td>\n",
       "      <td>0</td>\n",
       "      <td>7</td>\n",
       "      <td>2</td>\n",
       "      <td>1</td>\n",
       "      <td>3</td>\n",
       "      <td>1140</td>\n",
       "      <td>1</td>\n",
       "      <td>70.0</td>\n",
       "      <td>11</td>\n",
       "      <td>11</td>\n",
       "      <td>1.0</td>\n",
       "      <td>0.0</td>\n",
       "      <td>0.0</td>\n",
       "      <td>0.0</td>\n",
       "      <td>0.0</td>\n",
       "      <td>0.0</td>\n",
       "      <td>0.0</td>\n",
       "      <td>1.0</td>\n",
       "      <td>0.0</td>\n",
       "      <td>0.0</td>\n",
       "      <td>1.0</td>\n",
       "      <td>0.0</td>\n",
       "      <td>0.0</td>\n",
       "      <td>0.0</td>\n",
       "      <td>1.0</td>\n",
       "      <td>0.0</td>\n",
       "      <td>1.0</td>\n",
       "      <td>0.0</td>\n",
       "      <td>0.0</td>\n",
       "      <td>0.0</td>\n",
       "      <td>0.0</td>\n",
       "      <td>0.0</td>\n",
       "      <td>0.0</td>\n",
       "      <td>1.0</td>\n",
       "      <td>0.0</td>\n",
       "      <td>0.0</td>\n",
       "      <td>1.0</td>\n",
       "      <td>0.0</td>\n",
       "      <td>0.0</td>\n",
       "      <td>0.0</td>\n",
       "      <td>0.0</td>\n",
       "      <td>0.0</td>\n",
       "      <td>0.0</td>\n",
       "      <td>0.0</td>\n",
       "      <td>0.0</td>\n",
       "      <td>0.0</td>\n",
       "      <td>0.0</td>\n",
       "      <td>1.0</td>\n",
       "      <td>0.0</td>\n",
       "      <td>0.0</td>\n",
       "      <td>0.0</td>\n",
       "      <td>0.0</td>\n",
       "      <td>0.0</td>\n",
       "      <td>1.0</td>\n",
       "      <td>0.0</td>\n",
       "      <td>1.0</td>\n",
       "      <td>0.0</td>\n",
       "      <td>0.0</td>\n",
       "      <td>1.0</td>\n",
       "      <td>0.0</td>\n",
       "      <td>0.0</td>\n",
       "      <td>0.0</td>\n",
       "      <td>0.0</td>\n",
       "      <td>0.0</td>\n",
       "      <td>0.0</td>\n",
       "      <td>1.0</td>\n",
       "      <td>0.0</td>\n",
       "      <td>0.0</td>\n",
       "      <td>1.0</td>\n",
       "      <td>0.0</td>\n",
       "      <td>0.0</td>\n",
       "      <td>1.0</td>\n",
       "      <td>0.0</td>\n",
       "      <td>0.0</td>\n",
       "      <td>0.0</td>\n",
       "    </tr>\n",
       "    <tr>\n",
       "      <th>3</th>\n",
       "      <td>1</td>\n",
       "      <td>384</td>\n",
       "      <td>5</td>\n",
       "      <td>9750</td>\n",
       "      <td>0</td>\n",
       "      <td>5</td>\n",
       "      <td>False</td>\n",
       "      <td>980</td>\n",
       "      <td>2</td>\n",
       "      <td>980</td>\n",
       "      <td>0</td>\n",
       "      <td>10</td>\n",
       "      <td>True</td>\n",
       "      <td>980</td>\n",
       "      <td>68</td>\n",
       "      <td>6</td>\n",
       "      <td>2</td>\n",
       "      <td>0</td>\n",
       "      <td>3</td>\n",
       "      <td>0</td>\n",
       "      <td>0</td>\n",
       "      <td>75.0</td>\n",
       "      <td>39</td>\n",
       "      <td>39</td>\n",
       "      <td>1.0</td>\n",
       "      <td>0.0</td>\n",
       "      <td>0.0</td>\n",
       "      <td>0.0</td>\n",
       "      <td>0.0</td>\n",
       "      <td>0.0</td>\n",
       "      <td>0.0</td>\n",
       "      <td>1.0</td>\n",
       "      <td>0.0</td>\n",
       "      <td>0.0</td>\n",
       "      <td>1.0</td>\n",
       "      <td>0.0</td>\n",
       "      <td>0.0</td>\n",
       "      <td>0.0</td>\n",
       "      <td>1.0</td>\n",
       "      <td>0.0</td>\n",
       "      <td>1.0</td>\n",
       "      <td>0.0</td>\n",
       "      <td>0.0</td>\n",
       "      <td>0.0</td>\n",
       "      <td>0.0</td>\n",
       "      <td>1.0</td>\n",
       "      <td>0.0</td>\n",
       "      <td>0.0</td>\n",
       "      <td>0.0</td>\n",
       "      <td>0.0</td>\n",
       "      <td>1.0</td>\n",
       "      <td>0.0</td>\n",
       "      <td>0.0</td>\n",
       "      <td>0.0</td>\n",
       "      <td>0.0</td>\n",
       "      <td>0.0</td>\n",
       "      <td>0.0</td>\n",
       "      <td>0.0</td>\n",
       "      <td>0.0</td>\n",
       "      <td>0.0</td>\n",
       "      <td>0.0</td>\n",
       "      <td>0.0</td>\n",
       "      <td>0.0</td>\n",
       "      <td>1.0</td>\n",
       "      <td>0.0</td>\n",
       "      <td>0.0</td>\n",
       "      <td>0.0</td>\n",
       "      <td>1.0</td>\n",
       "      <td>0.0</td>\n",
       "      <td>1.0</td>\n",
       "      <td>0.0</td>\n",
       "      <td>0.0</td>\n",
       "      <td>1.0</td>\n",
       "      <td>0.0</td>\n",
       "      <td>0.0</td>\n",
       "      <td>0.0</td>\n",
       "      <td>0.0</td>\n",
       "      <td>0.0</td>\n",
       "      <td>0.0</td>\n",
       "      <td>1.0</td>\n",
       "      <td>0.0</td>\n",
       "      <td>0.0</td>\n",
       "      <td>1.0</td>\n",
       "      <td>0.0</td>\n",
       "      <td>0.0</td>\n",
       "      <td>1.0</td>\n",
       "      <td>0.0</td>\n",
       "      <td>0.0</td>\n",
       "      <td>0.0</td>\n",
       "    </tr>\n",
       "    <tr>\n",
       "      <th>4</th>\n",
       "      <td>2</td>\n",
       "      <td>480</td>\n",
       "      <td>5</td>\n",
       "      <td>3180</td>\n",
       "      <td>166</td>\n",
       "      <td>7</td>\n",
       "      <td>True</td>\n",
       "      <td>600</td>\n",
       "      <td>2</td>\n",
       "      <td>1200</td>\n",
       "      <td>0</td>\n",
       "      <td>6</td>\n",
       "      <td>True</td>\n",
       "      <td>520</td>\n",
       "      <td>0</td>\n",
       "      <td>4</td>\n",
       "      <td>2</td>\n",
       "      <td>0</td>\n",
       "      <td>2</td>\n",
       "      <td>600</td>\n",
       "      <td>1</td>\n",
       "      <td>30.0</td>\n",
       "      <td>1</td>\n",
       "      <td>1</td>\n",
       "      <td>0.0</td>\n",
       "      <td>0.0</td>\n",
       "      <td>0.0</td>\n",
       "      <td>0.0</td>\n",
       "      <td>1.0</td>\n",
       "      <td>0.0</td>\n",
       "      <td>0.0</td>\n",
       "      <td>1.0</td>\n",
       "      <td>0.0</td>\n",
       "      <td>0.0</td>\n",
       "      <td>1.0</td>\n",
       "      <td>0.0</td>\n",
       "      <td>0.0</td>\n",
       "      <td>0.0</td>\n",
       "      <td>1.0</td>\n",
       "      <td>0.0</td>\n",
       "      <td>1.0</td>\n",
       "      <td>0.0</td>\n",
       "      <td>0.0</td>\n",
       "      <td>0.0</td>\n",
       "      <td>0.0</td>\n",
       "      <td>0.0</td>\n",
       "      <td>0.0</td>\n",
       "      <td>0.0</td>\n",
       "      <td>1.0</td>\n",
       "      <td>0.0</td>\n",
       "      <td>1.0</td>\n",
       "      <td>0.0</td>\n",
       "      <td>0.0</td>\n",
       "      <td>0.0</td>\n",
       "      <td>0.0</td>\n",
       "      <td>0.0</td>\n",
       "      <td>0.0</td>\n",
       "      <td>0.0</td>\n",
       "      <td>0.0</td>\n",
       "      <td>0.0</td>\n",
       "      <td>0.0</td>\n",
       "      <td>1.0</td>\n",
       "      <td>0.0</td>\n",
       "      <td>0.0</td>\n",
       "      <td>0.0</td>\n",
       "      <td>0.0</td>\n",
       "      <td>0.0</td>\n",
       "      <td>1.0</td>\n",
       "      <td>0.0</td>\n",
       "      <td>0.0</td>\n",
       "      <td>1.0</td>\n",
       "      <td>0.0</td>\n",
       "      <td>1.0</td>\n",
       "      <td>0.0</td>\n",
       "      <td>0.0</td>\n",
       "      <td>0.0</td>\n",
       "      <td>0.0</td>\n",
       "      <td>0.0</td>\n",
       "      <td>0.0</td>\n",
       "      <td>1.0</td>\n",
       "      <td>0.0</td>\n",
       "      <td>0.0</td>\n",
       "      <td>1.0</td>\n",
       "      <td>0.0</td>\n",
       "      <td>0.0</td>\n",
       "      <td>1.0</td>\n",
       "      <td>0.0</td>\n",
       "      <td>0.0</td>\n",
       "      <td>0.0</td>\n",
       "    </tr>\n",
       "    <tr>\n",
       "      <th>...</th>\n",
       "      <td>...</td>\n",
       "      <td>...</td>\n",
       "      <td>...</td>\n",
       "      <td>...</td>\n",
       "      <td>...</td>\n",
       "      <td>...</td>\n",
       "      <td>...</td>\n",
       "      <td>...</td>\n",
       "      <td>...</td>\n",
       "      <td>...</td>\n",
       "      <td>...</td>\n",
       "      <td>...</td>\n",
       "      <td>...</td>\n",
       "      <td>...</td>\n",
       "      <td>...</td>\n",
       "      <td>...</td>\n",
       "      <td>...</td>\n",
       "      <td>...</td>\n",
       "      <td>...</td>\n",
       "      <td>...</td>\n",
       "      <td>...</td>\n",
       "      <td>...</td>\n",
       "      <td>...</td>\n",
       "      <td>...</td>\n",
       "      <td>...</td>\n",
       "      <td>...</td>\n",
       "      <td>...</td>\n",
       "      <td>...</td>\n",
       "      <td>...</td>\n",
       "      <td>...</td>\n",
       "      <td>...</td>\n",
       "      <td>...</td>\n",
       "      <td>...</td>\n",
       "      <td>...</td>\n",
       "      <td>...</td>\n",
       "      <td>...</td>\n",
       "      <td>...</td>\n",
       "      <td>...</td>\n",
       "      <td>...</td>\n",
       "      <td>...</td>\n",
       "      <td>...</td>\n",
       "      <td>...</td>\n",
       "      <td>...</td>\n",
       "      <td>...</td>\n",
       "      <td>...</td>\n",
       "      <td>...</td>\n",
       "      <td>...</td>\n",
       "      <td>...</td>\n",
       "      <td>...</td>\n",
       "      <td>...</td>\n",
       "      <td>...</td>\n",
       "      <td>...</td>\n",
       "      <td>...</td>\n",
       "      <td>...</td>\n",
       "      <td>...</td>\n",
       "      <td>...</td>\n",
       "      <td>...</td>\n",
       "      <td>...</td>\n",
       "      <td>...</td>\n",
       "      <td>...</td>\n",
       "      <td>...</td>\n",
       "      <td>...</td>\n",
       "      <td>...</td>\n",
       "      <td>...</td>\n",
       "      <td>...</td>\n",
       "      <td>...</td>\n",
       "      <td>...</td>\n",
       "      <td>...</td>\n",
       "      <td>...</td>\n",
       "      <td>...</td>\n",
       "      <td>...</td>\n",
       "      <td>...</td>\n",
       "      <td>...</td>\n",
       "      <td>...</td>\n",
       "      <td>...</td>\n",
       "      <td>...</td>\n",
       "      <td>...</td>\n",
       "      <td>...</td>\n",
       "      <td>...</td>\n",
       "      <td>...</td>\n",
       "      <td>...</td>\n",
       "      <td>...</td>\n",
       "      <td>...</td>\n",
       "      <td>...</td>\n",
       "      <td>...</td>\n",
       "      <td>...</td>\n",
       "      <td>...</td>\n",
       "      <td>...</td>\n",
       "      <td>...</td>\n",
       "    </tr>\n",
       "    <tr>\n",
       "      <th>989</th>\n",
       "      <td>1</td>\n",
       "      <td>216</td>\n",
       "      <td>6</td>\n",
       "      <td>10800</td>\n",
       "      <td>0</td>\n",
       "      <td>4</td>\n",
       "      <td>False</td>\n",
       "      <td>656</td>\n",
       "      <td>2</td>\n",
       "      <td>968</td>\n",
       "      <td>0</td>\n",
       "      <td>8</td>\n",
       "      <td>True</td>\n",
       "      <td>968</td>\n",
       "      <td>0</td>\n",
       "      <td>5</td>\n",
       "      <td>2</td>\n",
       "      <td>0</td>\n",
       "      <td>4</td>\n",
       "      <td>0</td>\n",
       "      <td>0</td>\n",
       "      <td>60.0</td>\n",
       "      <td>80</td>\n",
       "      <td>0</td>\n",
       "      <td>1.0</td>\n",
       "      <td>0.0</td>\n",
       "      <td>0.0</td>\n",
       "      <td>0.0</td>\n",
       "      <td>0.0</td>\n",
       "      <td>1.0</td>\n",
       "      <td>0.0</td>\n",
       "      <td>0.0</td>\n",
       "      <td>0.0</td>\n",
       "      <td>0.0</td>\n",
       "      <td>1.0</td>\n",
       "      <td>0.0</td>\n",
       "      <td>0.0</td>\n",
       "      <td>0.0</td>\n",
       "      <td>1.0</td>\n",
       "      <td>0.0</td>\n",
       "      <td>1.0</td>\n",
       "      <td>0.0</td>\n",
       "      <td>0.0</td>\n",
       "      <td>0.0</td>\n",
       "      <td>0.0</td>\n",
       "      <td>0.0</td>\n",
       "      <td>0.0</td>\n",
       "      <td>0.0</td>\n",
       "      <td>1.0</td>\n",
       "      <td>0.0</td>\n",
       "      <td>1.0</td>\n",
       "      <td>0.0</td>\n",
       "      <td>0.0</td>\n",
       "      <td>0.0</td>\n",
       "      <td>0.0</td>\n",
       "      <td>0.0</td>\n",
       "      <td>0.0</td>\n",
       "      <td>0.0</td>\n",
       "      <td>1.0</td>\n",
       "      <td>0.0</td>\n",
       "      <td>0.0</td>\n",
       "      <td>0.0</td>\n",
       "      <td>0.0</td>\n",
       "      <td>0.0</td>\n",
       "      <td>0.0</td>\n",
       "      <td>0.0</td>\n",
       "      <td>0.0</td>\n",
       "      <td>1.0</td>\n",
       "      <td>1.0</td>\n",
       "      <td>0.0</td>\n",
       "      <td>0.0</td>\n",
       "      <td>0.0</td>\n",
       "      <td>1.0</td>\n",
       "      <td>0.0</td>\n",
       "      <td>0.0</td>\n",
       "      <td>0.0</td>\n",
       "      <td>0.0</td>\n",
       "      <td>0.0</td>\n",
       "      <td>0.0</td>\n",
       "      <td>1.0</td>\n",
       "      <td>0.0</td>\n",
       "      <td>0.0</td>\n",
       "      <td>1.0</td>\n",
       "      <td>0.0</td>\n",
       "      <td>0.0</td>\n",
       "      <td>1.0</td>\n",
       "      <td>0.0</td>\n",
       "      <td>0.0</td>\n",
       "      <td>0.0</td>\n",
       "    </tr>\n",
       "    <tr>\n",
       "      <th>990</th>\n",
       "      <td>2</td>\n",
       "      <td>576</td>\n",
       "      <td>7</td>\n",
       "      <td>7200</td>\n",
       "      <td>0</td>\n",
       "      <td>7</td>\n",
       "      <td>False</td>\n",
       "      <td>596</td>\n",
       "      <td>1</td>\n",
       "      <td>1762</td>\n",
       "      <td>0</td>\n",
       "      <td>10</td>\n",
       "      <td>True</td>\n",
       "      <td>998</td>\n",
       "      <td>36</td>\n",
       "      <td>8</td>\n",
       "      <td>2</td>\n",
       "      <td>1</td>\n",
       "      <td>4</td>\n",
       "      <td>764</td>\n",
       "      <td>1</td>\n",
       "      <td>60.0</td>\n",
       "      <td>86</td>\n",
       "      <td>56</td>\n",
       "      <td>1.0</td>\n",
       "      <td>0.0</td>\n",
       "      <td>0.0</td>\n",
       "      <td>0.0</td>\n",
       "      <td>0.0</td>\n",
       "      <td>1.0</td>\n",
       "      <td>0.0</td>\n",
       "      <td>0.0</td>\n",
       "      <td>0.0</td>\n",
       "      <td>0.0</td>\n",
       "      <td>1.0</td>\n",
       "      <td>0.0</td>\n",
       "      <td>0.0</td>\n",
       "      <td>0.0</td>\n",
       "      <td>1.0</td>\n",
       "      <td>0.0</td>\n",
       "      <td>0.0</td>\n",
       "      <td>0.0</td>\n",
       "      <td>1.0</td>\n",
       "      <td>0.0</td>\n",
       "      <td>0.0</td>\n",
       "      <td>0.0</td>\n",
       "      <td>0.0</td>\n",
       "      <td>0.0</td>\n",
       "      <td>1.0</td>\n",
       "      <td>0.0</td>\n",
       "      <td>1.0</td>\n",
       "      <td>0.0</td>\n",
       "      <td>0.0</td>\n",
       "      <td>0.0</td>\n",
       "      <td>0.0</td>\n",
       "      <td>0.0</td>\n",
       "      <td>0.0</td>\n",
       "      <td>0.0</td>\n",
       "      <td>0.0</td>\n",
       "      <td>0.0</td>\n",
       "      <td>0.0</td>\n",
       "      <td>1.0</td>\n",
       "      <td>0.0</td>\n",
       "      <td>0.0</td>\n",
       "      <td>0.0</td>\n",
       "      <td>0.0</td>\n",
       "      <td>0.0</td>\n",
       "      <td>1.0</td>\n",
       "      <td>0.0</td>\n",
       "      <td>1.0</td>\n",
       "      <td>0.0</td>\n",
       "      <td>0.0</td>\n",
       "      <td>1.0</td>\n",
       "      <td>0.0</td>\n",
       "      <td>0.0</td>\n",
       "      <td>1.0</td>\n",
       "      <td>0.0</td>\n",
       "      <td>0.0</td>\n",
       "      <td>0.0</td>\n",
       "      <td>0.0</td>\n",
       "      <td>0.0</td>\n",
       "      <td>0.0</td>\n",
       "      <td>1.0</td>\n",
       "      <td>0.0</td>\n",
       "      <td>0.0</td>\n",
       "      <td>1.0</td>\n",
       "      <td>0.0</td>\n",
       "      <td>0.0</td>\n",
       "      <td>0.0</td>\n",
       "    </tr>\n",
       "    <tr>\n",
       "      <th>991</th>\n",
       "      <td>3</td>\n",
       "      <td>648</td>\n",
       "      <td>5</td>\n",
       "      <td>11000</td>\n",
       "      <td>56</td>\n",
       "      <td>8</td>\n",
       "      <td>False</td>\n",
       "      <td>969</td>\n",
       "      <td>2</td>\n",
       "      <td>2285</td>\n",
       "      <td>1</td>\n",
       "      <td>6</td>\n",
       "      <td>True</td>\n",
       "      <td>997</td>\n",
       "      <td>0</td>\n",
       "      <td>8</td>\n",
       "      <td>2</td>\n",
       "      <td>0</td>\n",
       "      <td>4</td>\n",
       "      <td>1288</td>\n",
       "      <td>1</td>\n",
       "      <td>70.0</td>\n",
       "      <td>7</td>\n",
       "      <td>7</td>\n",
       "      <td>1.0</td>\n",
       "      <td>0.0</td>\n",
       "      <td>0.0</td>\n",
       "      <td>0.0</td>\n",
       "      <td>0.0</td>\n",
       "      <td>0.0</td>\n",
       "      <td>0.0</td>\n",
       "      <td>1.0</td>\n",
       "      <td>0.0</td>\n",
       "      <td>0.0</td>\n",
       "      <td>1.0</td>\n",
       "      <td>0.0</td>\n",
       "      <td>0.0</td>\n",
       "      <td>0.0</td>\n",
       "      <td>1.0</td>\n",
       "      <td>0.0</td>\n",
       "      <td>1.0</td>\n",
       "      <td>0.0</td>\n",
       "      <td>0.0</td>\n",
       "      <td>0.0</td>\n",
       "      <td>0.0</td>\n",
       "      <td>0.0</td>\n",
       "      <td>0.0</td>\n",
       "      <td>0.0</td>\n",
       "      <td>1.0</td>\n",
       "      <td>0.0</td>\n",
       "      <td>1.0</td>\n",
       "      <td>0.0</td>\n",
       "      <td>0.0</td>\n",
       "      <td>0.0</td>\n",
       "      <td>0.0</td>\n",
       "      <td>0.0</td>\n",
       "      <td>0.0</td>\n",
       "      <td>0.0</td>\n",
       "      <td>0.0</td>\n",
       "      <td>0.0</td>\n",
       "      <td>0.0</td>\n",
       "      <td>1.0</td>\n",
       "      <td>0.0</td>\n",
       "      <td>0.0</td>\n",
       "      <td>0.0</td>\n",
       "      <td>0.0</td>\n",
       "      <td>0.0</td>\n",
       "      <td>1.0</td>\n",
       "      <td>0.0</td>\n",
       "      <td>1.0</td>\n",
       "      <td>0.0</td>\n",
       "      <td>0.0</td>\n",
       "      <td>1.0</td>\n",
       "      <td>0.0</td>\n",
       "      <td>0.0</td>\n",
       "      <td>0.0</td>\n",
       "      <td>0.0</td>\n",
       "      <td>1.0</td>\n",
       "      <td>0.0</td>\n",
       "      <td>0.0</td>\n",
       "      <td>0.0</td>\n",
       "      <td>0.0</td>\n",
       "      <td>1.0</td>\n",
       "      <td>0.0</td>\n",
       "      <td>0.0</td>\n",
       "      <td>1.0</td>\n",
       "      <td>0.0</td>\n",
       "      <td>0.0</td>\n",
       "      <td>0.0</td>\n",
       "    </tr>\n",
       "    <tr>\n",
       "      <th>992</th>\n",
       "      <td>3</td>\n",
       "      <td>813</td>\n",
       "      <td>5</td>\n",
       "      <td>15623</td>\n",
       "      <td>78</td>\n",
       "      <td>10</td>\n",
       "      <td>False</td>\n",
       "      <td>2396</td>\n",
       "      <td>3</td>\n",
       "      <td>4476</td>\n",
       "      <td>2</td>\n",
       "      <td>7</td>\n",
       "      <td>True</td>\n",
       "      <td>2411</td>\n",
       "      <td>171</td>\n",
       "      <td>10</td>\n",
       "      <td>2</td>\n",
       "      <td>1</td>\n",
       "      <td>4</td>\n",
       "      <td>2065</td>\n",
       "      <td>1</td>\n",
       "      <td>160.0</td>\n",
       "      <td>11</td>\n",
       "      <td>11</td>\n",
       "      <td>1.0</td>\n",
       "      <td>0.0</td>\n",
       "      <td>0.0</td>\n",
       "      <td>0.0</td>\n",
       "      <td>0.0</td>\n",
       "      <td>0.0</td>\n",
       "      <td>0.0</td>\n",
       "      <td>1.0</td>\n",
       "      <td>0.0</td>\n",
       "      <td>0.0</td>\n",
       "      <td>1.0</td>\n",
       "      <td>0.0</td>\n",
       "      <td>0.0</td>\n",
       "      <td>0.0</td>\n",
       "      <td>1.0</td>\n",
       "      <td>0.0</td>\n",
       "      <td>0.0</td>\n",
       "      <td>0.0</td>\n",
       "      <td>1.0</td>\n",
       "      <td>0.0</td>\n",
       "      <td>0.0</td>\n",
       "      <td>1.0</td>\n",
       "      <td>0.0</td>\n",
       "      <td>0.0</td>\n",
       "      <td>0.0</td>\n",
       "      <td>0.0</td>\n",
       "      <td>1.0</td>\n",
       "      <td>0.0</td>\n",
       "      <td>0.0</td>\n",
       "      <td>0.0</td>\n",
       "      <td>0.0</td>\n",
       "      <td>0.0</td>\n",
       "      <td>0.0</td>\n",
       "      <td>0.0</td>\n",
       "      <td>0.0</td>\n",
       "      <td>0.0</td>\n",
       "      <td>0.0</td>\n",
       "      <td>1.0</td>\n",
       "      <td>0.0</td>\n",
       "      <td>0.0</td>\n",
       "      <td>0.0</td>\n",
       "      <td>0.0</td>\n",
       "      <td>0.0</td>\n",
       "      <td>1.0</td>\n",
       "      <td>0.0</td>\n",
       "      <td>1.0</td>\n",
       "      <td>0.0</td>\n",
       "      <td>0.0</td>\n",
       "      <td>1.0</td>\n",
       "      <td>0.0</td>\n",
       "      <td>0.0</td>\n",
       "      <td>1.0</td>\n",
       "      <td>0.0</td>\n",
       "      <td>0.0</td>\n",
       "      <td>0.0</td>\n",
       "      <td>0.0</td>\n",
       "      <td>0.0</td>\n",
       "      <td>0.0</td>\n",
       "      <td>0.0</td>\n",
       "      <td>1.0</td>\n",
       "      <td>0.0</td>\n",
       "      <td>1.0</td>\n",
       "      <td>0.0</td>\n",
       "      <td>0.0</td>\n",
       "      <td>0.0</td>\n",
       "    </tr>\n",
       "    <tr>\n",
       "      <th>993</th>\n",
       "      <td>0</td>\n",
       "      <td>0</td>\n",
       "      <td>6</td>\n",
       "      <td>4270</td>\n",
       "      <td>0</td>\n",
       "      <td>3</td>\n",
       "      <td>False</td>\n",
       "      <td>544</td>\n",
       "      <td>1</td>\n",
       "      <td>774</td>\n",
       "      <td>0</td>\n",
       "      <td>5</td>\n",
       "      <td>False</td>\n",
       "      <td>774</td>\n",
       "      <td>0</td>\n",
       "      <td>6</td>\n",
       "      <td>2</td>\n",
       "      <td>0</td>\n",
       "      <td>3</td>\n",
       "      <td>0</td>\n",
       "      <td>0</td>\n",
       "      <td>70.0</td>\n",
       "      <td>76</td>\n",
       "      <td>1</td>\n",
       "      <td>1.0</td>\n",
       "      <td>0.0</td>\n",
       "      <td>0.0</td>\n",
       "      <td>0.0</td>\n",
       "      <td>0.0</td>\n",
       "      <td>1.0</td>\n",
       "      <td>0.0</td>\n",
       "      <td>0.0</td>\n",
       "      <td>0.0</td>\n",
       "      <td>0.0</td>\n",
       "      <td>0.0</td>\n",
       "      <td>1.0</td>\n",
       "      <td>0.0</td>\n",
       "      <td>0.0</td>\n",
       "      <td>1.0</td>\n",
       "      <td>0.0</td>\n",
       "      <td>1.0</td>\n",
       "      <td>0.0</td>\n",
       "      <td>0.0</td>\n",
       "      <td>0.0</td>\n",
       "      <td>0.0</td>\n",
       "      <td>0.0</td>\n",
       "      <td>0.0</td>\n",
       "      <td>0.0</td>\n",
       "      <td>1.0</td>\n",
       "      <td>0.0</td>\n",
       "      <td>1.0</td>\n",
       "      <td>0.0</td>\n",
       "      <td>0.0</td>\n",
       "      <td>0.0</td>\n",
       "      <td>0.0</td>\n",
       "      <td>0.0</td>\n",
       "      <td>0.0</td>\n",
       "      <td>0.0</td>\n",
       "      <td>1.0</td>\n",
       "      <td>0.0</td>\n",
       "      <td>0.0</td>\n",
       "      <td>0.0</td>\n",
       "      <td>0.0</td>\n",
       "      <td>0.0</td>\n",
       "      <td>0.0</td>\n",
       "      <td>0.0</td>\n",
       "      <td>0.0</td>\n",
       "      <td>1.0</td>\n",
       "      <td>0.0</td>\n",
       "      <td>1.0</td>\n",
       "      <td>0.0</td>\n",
       "      <td>0.0</td>\n",
       "      <td>1.0</td>\n",
       "      <td>0.0</td>\n",
       "      <td>0.0</td>\n",
       "      <td>0.0</td>\n",
       "      <td>0.0</td>\n",
       "      <td>0.0</td>\n",
       "      <td>0.0</td>\n",
       "      <td>1.0</td>\n",
       "      <td>0.0</td>\n",
       "      <td>0.0</td>\n",
       "      <td>1.0</td>\n",
       "      <td>0.0</td>\n",
       "      <td>0.0</td>\n",
       "      <td>1.0</td>\n",
       "      <td>0.0</td>\n",
       "      <td>0.0</td>\n",
       "      <td>0.0</td>\n",
       "    </tr>\n",
       "  </tbody>\n",
       "</table>\n",
       "<p>994 rows × 89 columns</p>\n",
       "</div>"
      ],
      "text/plain": [
       "     GarageCars  GarageArea  OverallCond  LotArea  OpenPorchSF  OverallQual  \\\n",
       "0             3         788            5    11670          191            9   \n",
       "1             2         540            5     8633           35            6   \n",
       "2             3        1069            5    16545          126            8   \n",
       "3             1         384            5     9750            0            5   \n",
       "4             2         480            5     3180          166            7   \n",
       "..          ...         ...          ...      ...          ...          ...   \n",
       "989           1         216            6    10800            0            4   \n",
       "990           2         576            7     7200            0            7   \n",
       "991           3         648            5    11000           56            8   \n",
       "992           3         813            5    15623           78           10   \n",
       "993           0           0            6     4270            0            3   \n",
       "\n",
       "     isNew  TotalBsmtSF  FullBath  GrLivArea  Fireplaces  MoSold  hasGarage  \\\n",
       "0     True         1905         2       1905           1       3       True   \n",
       "1     True          738         2       1476           0       2       True   \n",
       "2    False         1284         2       2450           1       5       True   \n",
       "3    False          980         2        980           0      10       True   \n",
       "4     True          600         2       1200           0       6       True   \n",
       "..     ...          ...       ...        ...         ...     ...        ...   \n",
       "989  False          656         2        968           0       8       True   \n",
       "990  False          596         1       1762           0      10       True   \n",
       "991  False          969         2       2285           1       6       True   \n",
       "992  False         2396         3       4476           2       7       True   \n",
       "993  False          544         1        774           0       5      False   \n",
       "\n",
       "     firstFlrSF  WoodDeckSF  TotRmsAbvGrd  Nr.Ring  BsmtFullBath  \\\n",
       "0          1905           0             8        2             0   \n",
       "1           738         100             7        2             1   \n",
       "2          1310           0             7        2             1   \n",
       "3           980          68             6        2             0   \n",
       "4           520           0             4        2             0   \n",
       "..          ...         ...           ...      ...           ...   \n",
       "989         968           0             5        2             0   \n",
       "990         998          36             8        2             1   \n",
       "991         997           0             8        2             0   \n",
       "992        2411         171            10        2             1   \n",
       "993         774           0             6        2             0   \n",
       "\n",
       "     BedroomAbvGr  secondFlrSF  HalfBath  LotFrontage_median  HouseAge  \\\n",
       "0               3            0         0                84.0         1   \n",
       "1               3          738         1                64.0         4   \n",
       "2               3         1140         1                70.0        11   \n",
       "3               3            0         0                75.0        39   \n",
       "4               2          600         1                30.0         1   \n",
       "..            ...          ...       ...                 ...       ...   \n",
       "989             4            0         0                60.0        80   \n",
       "990             4          764         1                60.0        86   \n",
       "991             4         1288         1                70.0         7   \n",
       "992             4         2065         1               160.0        11   \n",
       "993             3            0         0                70.0        76   \n",
       "\n",
       "     RemodAge  BldgType_1Fam  BldgType_2fmCon  BldgType_Duplex  \\\n",
       "0           1            1.0              0.0              0.0   \n",
       "1           4            1.0              0.0              0.0   \n",
       "2          11            1.0              0.0              0.0   \n",
       "3          39            1.0              0.0              0.0   \n",
       "4           1            0.0              0.0              0.0   \n",
       "..        ...            ...              ...              ...   \n",
       "989         0            1.0              0.0              0.0   \n",
       "990        56            1.0              0.0              0.0   \n",
       "991         7            1.0              0.0              0.0   \n",
       "992        11            1.0              0.0              0.0   \n",
       "993         1            1.0              0.0              0.0   \n",
       "\n",
       "     BldgType_Twnhs  BldgType_TwnhsE  Foundation_BrkTil  Foundation_CBlock  \\\n",
       "0               0.0              0.0                0.0                0.0   \n",
       "1               0.0              0.0                0.0                0.0   \n",
       "2               0.0              0.0                0.0                0.0   \n",
       "3               0.0              0.0                0.0                0.0   \n",
       "4               0.0              1.0                0.0                0.0   \n",
       "..              ...              ...                ...                ...   \n",
       "989             0.0              0.0                1.0                0.0   \n",
       "990             0.0              0.0                1.0                0.0   \n",
       "991             0.0              0.0                0.0                0.0   \n",
       "992             0.0              0.0                0.0                0.0   \n",
       "993             0.0              0.0                1.0                0.0   \n",
       "\n",
       "     Foundation_PConc  Foundation_Stone  Foundation_Wood  LandSlope_Gtl  \\\n",
       "0                 1.0               0.0              0.0            1.0   \n",
       "1                 1.0               0.0              0.0            1.0   \n",
       "2                 1.0               0.0              0.0            1.0   \n",
       "3                 1.0               0.0              0.0            1.0   \n",
       "4                 1.0               0.0              0.0            1.0   \n",
       "..                ...               ...              ...            ...   \n",
       "989               0.0               0.0              0.0            1.0   \n",
       "990               0.0               0.0              0.0            1.0   \n",
       "991               1.0               0.0              0.0            1.0   \n",
       "992               1.0               0.0              0.0            1.0   \n",
       "993               0.0               0.0              0.0            0.0   \n",
       "\n",
       "     LandSlope_Mod  LandSlope_Sev  CentralAir_N  CentralAir_Y  RoofStyle_Flat  \\\n",
       "0              0.0            0.0           0.0           1.0             0.0   \n",
       "1              0.0            0.0           0.0           1.0             0.0   \n",
       "2              0.0            0.0           0.0           1.0             0.0   \n",
       "3              0.0            0.0           0.0           1.0             0.0   \n",
       "4              0.0            0.0           0.0           1.0             0.0   \n",
       "..             ...            ...           ...           ...             ...   \n",
       "989            0.0            0.0           0.0           1.0             0.0   \n",
       "990            0.0            0.0           0.0           1.0             0.0   \n",
       "991            0.0            0.0           0.0           1.0             0.0   \n",
       "992            0.0            0.0           0.0           1.0             0.0   \n",
       "993            1.0            0.0           0.0           1.0             0.0   \n",
       "\n",
       "     RoofStyle_Gable  RoofStyle_Gambrel  RoofStyle_Hip  RoofStyle_Mansard  \\\n",
       "0                0.0                0.0            1.0                0.0   \n",
       "1                1.0                0.0            0.0                0.0   \n",
       "2                1.0                0.0            0.0                0.0   \n",
       "3                1.0                0.0            0.0                0.0   \n",
       "4                1.0                0.0            0.0                0.0   \n",
       "..               ...                ...            ...                ...   \n",
       "989              1.0                0.0            0.0                0.0   \n",
       "990              0.0                0.0            1.0                0.0   \n",
       "991              1.0                0.0            0.0                0.0   \n",
       "992              0.0                0.0            1.0                0.0   \n",
       "993              1.0                0.0            0.0                0.0   \n",
       "\n",
       "     RoofStyle_Shed  BsmtExposure_Av  BsmtExposure_Gd  BsmtExposure_Mn  \\\n",
       "0               0.0              0.0              0.0              0.0   \n",
       "1               0.0              0.0              0.0              0.0   \n",
       "2               0.0              0.0              0.0              1.0   \n",
       "3               0.0              1.0              0.0              0.0   \n",
       "4               0.0              0.0              0.0              0.0   \n",
       "..              ...              ...              ...              ...   \n",
       "989             0.0              0.0              0.0              0.0   \n",
       "990             0.0              0.0              0.0              0.0   \n",
       "991             0.0              0.0              0.0              0.0   \n",
       "992             0.0              1.0              0.0              0.0   \n",
       "993             0.0              0.0              0.0              0.0   \n",
       "\n",
       "     BsmtExposure_No  RoofMatl_ClyTile  RoofMatl_CompShg  RoofMatl_Metal  \\\n",
       "0                1.0               0.0               1.0             0.0   \n",
       "1                1.0               0.0               1.0             0.0   \n",
       "2                0.0               0.0               1.0             0.0   \n",
       "3                0.0               0.0               1.0             0.0   \n",
       "4                1.0               0.0               1.0             0.0   \n",
       "..               ...               ...               ...             ...   \n",
       "989              1.0               0.0               1.0             0.0   \n",
       "990              1.0               0.0               1.0             0.0   \n",
       "991              1.0               0.0               1.0             0.0   \n",
       "992              0.0               0.0               1.0             0.0   \n",
       "993              1.0               0.0               1.0             0.0   \n",
       "\n",
       "     RoofMatl_Roll  RoofMatl_Tar&Grv  RoofMatl_WdShake  RoofMatl_WdShngl  \\\n",
       "0              0.0               0.0               0.0               0.0   \n",
       "1              0.0               0.0               0.0               0.0   \n",
       "2              0.0               0.0               0.0               0.0   \n",
       "3              0.0               0.0               0.0               0.0   \n",
       "4              0.0               0.0               0.0               0.0   \n",
       "..             ...               ...               ...               ...   \n",
       "989            0.0               0.0               0.0               0.0   \n",
       "990            0.0               0.0               0.0               0.0   \n",
       "991            0.0               0.0               0.0               0.0   \n",
       "992            0.0               0.0               0.0               0.0   \n",
       "993            0.0               0.0               0.0               0.0   \n",
       "\n",
       "     HouseStyle_1.5Fin  HouseStyle_1.5Unf  HouseStyle_1Story  \\\n",
       "0                  0.0                0.0                1.0   \n",
       "1                  0.0                0.0                0.0   \n",
       "2                  0.0                0.0                0.0   \n",
       "3                  0.0                0.0                0.0   \n",
       "4                  0.0                0.0                0.0   \n",
       "..                 ...                ...                ...   \n",
       "989                0.0                0.0                1.0   \n",
       "990                0.0                0.0                0.0   \n",
       "991                0.0                0.0                0.0   \n",
       "992                0.0                0.0                0.0   \n",
       "993                0.0                0.0                1.0   \n",
       "\n",
       "     HouseStyle_2.5Fin  HouseStyle_2.5Unf  HouseStyle_2Story  \\\n",
       "0                  0.0                0.0                0.0   \n",
       "1                  0.0                0.0                1.0   \n",
       "2                  0.0                0.0                1.0   \n",
       "3                  0.0                0.0                0.0   \n",
       "4                  0.0                0.0                1.0   \n",
       "..                 ...                ...                ...   \n",
       "989                0.0                0.0                0.0   \n",
       "990                0.0                0.0                1.0   \n",
       "991                0.0                0.0                1.0   \n",
       "992                0.0                0.0                1.0   \n",
       "993                0.0                0.0                0.0   \n",
       "\n",
       "     HouseStyle_SFoyer  HouseStyle_SLvl  Electrical_FuseA  Electrical_FuseF  \\\n",
       "0                  0.0              0.0               0.0               0.0   \n",
       "1                  0.0              0.0               0.0               0.0   \n",
       "2                  0.0              0.0               0.0               0.0   \n",
       "3                  0.0              1.0               0.0               0.0   \n",
       "4                  0.0              0.0               0.0               0.0   \n",
       "..                 ...              ...               ...               ...   \n",
       "989                0.0              0.0               0.0               0.0   \n",
       "990                0.0              0.0               0.0               0.0   \n",
       "991                0.0              0.0               0.0               0.0   \n",
       "992                0.0              0.0               0.0               0.0   \n",
       "993                0.0              0.0               0.0               0.0   \n",
       "\n",
       "     Electrical_FuseP  Electrical_SBrkr  Alley_Grvl  Alley_Missing  \\\n",
       "0                 0.0               1.0         0.0            1.0   \n",
       "1                 0.0               1.0         0.0            1.0   \n",
       "2                 0.0               1.0         0.0            1.0   \n",
       "3                 0.0               1.0         0.0            1.0   \n",
       "4                 0.0               1.0         0.0            0.0   \n",
       "..                ...               ...         ...            ...   \n",
       "989               0.0               1.0         1.0            0.0   \n",
       "990               0.0               1.0         0.0            1.0   \n",
       "991               0.0               1.0         0.0            1.0   \n",
       "992               0.0               1.0         0.0            1.0   \n",
       "993               0.0               1.0         0.0            1.0   \n",
       "\n",
       "     Alley_Pave  MiscFeature_Gar2  MiscFeature_Missing  MiscFeature_Othr  \\\n",
       "0           0.0               0.0                  1.0               0.0   \n",
       "1           0.0               0.0                  1.0               0.0   \n",
       "2           0.0               0.0                  1.0               0.0   \n",
       "3           0.0               0.0                  1.0               0.0   \n",
       "4           1.0               0.0                  1.0               0.0   \n",
       "..          ...               ...                  ...               ...   \n",
       "989         0.0               0.0                  1.0               0.0   \n",
       "990         0.0               0.0                  1.0               0.0   \n",
       "991         0.0               0.0                  1.0               0.0   \n",
       "992         0.0               0.0                  1.0               0.0   \n",
       "993         0.0               0.0                  1.0               0.0   \n",
       "\n",
       "     MiscFeature_Shed  LotConfig_Corner  LotConfig_CulDSac  LotConfig_FR2  \\\n",
       "0                 0.0               1.0                0.0            0.0   \n",
       "1                 0.0               0.0                0.0            1.0   \n",
       "2                 0.0               0.0                0.0            0.0   \n",
       "3                 0.0               0.0                0.0            0.0   \n",
       "4                 0.0               0.0                0.0            0.0   \n",
       "..                ...               ...                ...            ...   \n",
       "989               0.0               0.0                0.0            0.0   \n",
       "990               0.0               1.0                0.0            0.0   \n",
       "991               0.0               0.0                0.0            1.0   \n",
       "992               0.0               1.0                0.0            0.0   \n",
       "993               0.0               0.0                0.0            0.0   \n",
       "\n",
       "     LotConfig_FR3  LotConfig_Inside  Fence_GdPrv  Fence_GdWo  Fence_Missing  \\\n",
       "0              0.0               0.0          0.0         0.0            1.0   \n",
       "1              0.0               0.0          0.0         0.0            1.0   \n",
       "2              0.0               1.0          0.0         0.0            1.0   \n",
       "3              0.0               1.0          0.0         0.0            1.0   \n",
       "4              0.0               1.0          0.0         0.0            1.0   \n",
       "..             ...               ...          ...         ...            ...   \n",
       "989            0.0               1.0          0.0         0.0            1.0   \n",
       "990            0.0               0.0          0.0         0.0            1.0   \n",
       "991            0.0               0.0          0.0         0.0            1.0   \n",
       "992            0.0               0.0          0.0         0.0            0.0   \n",
       "993            0.0               1.0          0.0         0.0            1.0   \n",
       "\n",
       "     Fence_MnPrv  Fence_MnWw  Heating_GasA  Heating_GasW  Heating_Grav  \\\n",
       "0            0.0         0.0           1.0           0.0           0.0   \n",
       "1            0.0         0.0           1.0           0.0           0.0   \n",
       "2            0.0         0.0           1.0           0.0           0.0   \n",
       "3            0.0         0.0           1.0           0.0           0.0   \n",
       "4            0.0         0.0           1.0           0.0           0.0   \n",
       "..           ...         ...           ...           ...           ...   \n",
       "989          0.0         0.0           1.0           0.0           0.0   \n",
       "990          0.0         0.0           1.0           0.0           0.0   \n",
       "991          0.0         0.0           1.0           0.0           0.0   \n",
       "992          1.0         0.0           1.0           0.0           0.0   \n",
       "993          0.0         0.0           1.0           0.0           0.0   \n",
       "\n",
       "     Heating_OthW  \n",
       "0             0.0  \n",
       "1             0.0  \n",
       "2             0.0  \n",
       "3             0.0  \n",
       "4             0.0  \n",
       "..            ...  \n",
       "989           0.0  \n",
       "990           0.0  \n",
       "991           0.0  \n",
       "992           0.0  \n",
       "993           0.0  \n",
       "\n",
       "[994 rows x 89 columns]"
      ]
     },
     "execution_count": 85,
     "metadata": {},
     "output_type": "execute_result"
    }
   ],
   "source": [
    "X_train"
   ]
  },
  {
   "cell_type": "code",
   "execution_count": 86,
   "metadata": {},
   "outputs": [
    {
     "data": {
      "text/plain": [
       "((994, 89), (427, 89), (994,), (427,))"
      ]
     },
     "execution_count": 86,
     "metadata": {},
     "output_type": "execute_result"
    }
   ],
   "source": [
    "X_train.shape, X_test.shape, y_train.shape, y_test.shape"
   ]
  },
  {
   "cell_type": "markdown",
   "metadata": {},
   "source": [
    "# 4. Handling Outliers\n",
    "\n",
    "In statistics, an outlier is a data point that differs significantly from other observations. \n",
    "\n",
    "Outliers influence the performance of ML algorithms and may lead to overfitting.\n",
    "\n",
    "This section, which deals with different ways to handle outliers in our dataset, consists of the following parts:\n",
    "\n",
    "4.1. Identifying the outliers \\\n",
    "4.2. Outlier trimming \\\n",
    "4.3. Outlier Capping\n"
   ]
  },
  {
   "cell_type": "markdown",
   "metadata": {},
   "source": [
    "### 4.1. Identifying the outliers\n",
    "\n",
    "In this part, we will identify the columns which contain outliers. We first consider all numerical column (num_col) and plot the boxplot for them."
   ]
  },
  {
   "cell_type": "code",
   "execution_count": 87,
   "metadata": {},
   "outputs": [
    {
     "name": "stdout",
     "output_type": "stream",
     "text": [
      "['GarageCars', 'GarageArea', 'OverallCond', 'LotArea', 'OpenPorchSF', 'OverallQual', 'TotalBsmtSF', 'FullBath', 'GrLivArea', 'Fireplaces', 'MoSold', 'firstFlrSF', 'WoodDeckSF', 'TotRmsAbvGrd', 'Nr.Ring', 'BsmtFullBath', 'BedroomAbvGr', 'secondFlrSF', 'HalfBath', 'LotFrontage_median', 'HouseAge', 'RemodAge']\n"
     ]
    }
   ],
   "source": [
    "print(num_cols)"
   ]
  },
  {
   "cell_type": "code",
   "execution_count": 88,
   "metadata": {},
   "outputs": [
    {
     "data": {
      "image/png": "[encoded data removed]",
      "text/plain": [
       "<Figure size 3600x720 with 5 Axes>"
      ]
     },
     "metadata": {
      "needs_background": "light"
     },
     "output_type": "display_data"
    }
   ],
   "source": [
    "plt.rcParams[\"figure.figsize\"] = (50,10)\n",
    "fig, axs = plt.subplots(ncols=5, constrained_layout=True)\n",
    "sns.boxplot(y=X_train['LotArea'], ax=axs[0])\n",
    "sns.boxplot(y=X_train['OverallQual'], ax=axs[1])\n",
    "sns.boxplot(y=X_train['OverallCond'], ax=axs[2])\n",
    "sns.boxplot(y=X_train['HouseAge'], ax=axs[3])\n",
    "sns.boxplot(y=X_train['RemodAge'], ax=axs[4])\n",
    "plt.show()\n"
   ]
  },
  {
   "cell_type": "code",
   "execution_count": 89,
   "metadata": {},
   "outputs": [
    {
     "data": {
      "image/png": "[encoded data removed]",
      "text/plain": [
       "<Figure size 3600x720 with 7 Axes>"
      ]
     },
     "metadata": {
      "needs_background": "light"
     },
     "output_type": "display_data"
    }
   ],
   "source": [
    "fig, axs = plt.subplots(ncols=7, constrained_layout=True)\n",
    "sns.boxplot(y=X_train['TotalBsmtSF'], ax=axs[0])\n",
    "sns.boxplot(y=X_train['firstFlrSF'], ax=axs[1])\n",
    "sns.boxplot(y=X_train['secondFlrSF'], ax=axs[2])\n",
    "sns.boxplot(y=X_train['GrLivArea'], ax=axs[3])\n",
    "sns.boxplot(y=X_train['BsmtFullBath'], ax=axs[4])\n",
    "sns.boxplot(y=X_train['FullBath'], ax=axs[5])\n",
    "sns.boxplot(y=X_train['HalfBath'], ax=axs[6])\n",
    "plt.rcParams[\"figure.figsize\"] = (50,10)\n",
    "plt.show()"
   ]
  },
  {
   "cell_type": "code",
   "execution_count": 90,
   "metadata": {},
   "outputs": [
    {
     "data": {
      "image/png": "[encoded data removed]",
      "text/plain": [
       "<Figure size 3600x720 with 6 Axes>"
      ]
     },
     "metadata": {
      "needs_background": "light"
     },
     "output_type": "display_data"
    }
   ],
   "source": [
    "fig, axs = plt.subplots(ncols=6, constrained_layout=True)\n",
    "sns.boxplot(y=X_train['BedroomAbvGr'], ax=axs[0])\n",
    "sns.boxplot(y=X_train['TotRmsAbvGrd'], ax=axs[1])\n",
    "sns.boxplot(y=X_train['Fireplaces'], ax=axs[2])\n",
    "sns.boxplot(y=X_train['GarageCars'], ax=axs[3])\n",
    "sns.boxplot(y=X_train['GarageArea'], ax=axs[4])\n",
    "sns.boxplot(y=X_train['WoodDeckSF'], ax=axs[5])\n",
    "plt.rcParams[\"figure.figsize\"] = (50,10)\n",
    "plt.show()"
   ]
  },
  {
   "cell_type": "code",
   "execution_count": 91,
   "metadata": {},
   "outputs": [
    {
     "data": {
      "image/png": "[encoded data removed]",
      "text/plain": [
       "<Figure size 3600x720 with 4 Axes>"
      ]
     },
     "metadata": {
      "needs_background": "light"
     },
     "output_type": "display_data"
    }
   ],
   "source": [
    "fig, axs = plt.subplots(ncols=4, constrained_layout=True)\n",
    "sns.boxplot(y=X_train['Nr.Ring'], ax=axs[0])\n",
    "sns.boxplot(y=X_train['OpenPorchSF'], ax=axs[1])\n",
    "sns.boxplot(y=X_train['MoSold'], ax=axs[2])\n",
    "sns.boxplot(y=X_train['LotFrontage_median'], ax=axs[3])\n",
    "plt.rcParams[\"figure.figsize\"] = (50,10)\n",
    "plt.show()"
   ]
  },
  {
   "cell_type": "markdown",
   "metadata": {},
   "source": [
    "Before we determine the outliers for all columns, we focus on two example columns:\n",
    "- 'LotFrontage' which obviously contains outliers \n",
    "- 'MoSold' without outliers, as can be seen in the boxplot"
   ]
  },
  {
   "cell_type": "code",
   "execution_count": 92,
   "metadata": {},
   "outputs": [
    {
     "data": {
      "text/plain": [
       "<AxesSubplot:ylabel='MoSold'>"
      ]
     },
     "execution_count": 92,
     "metadata": {},
     "output_type": "execute_result"
    },
    {
     "data": {
      "image/png": "[encoded data removed]",
      "text/plain": [
       "<Figure size 3600x720 with 2 Axes>"
      ]
     },
     "metadata": {
      "needs_background": "light"
     },
     "output_type": "display_data"
    }
   ],
   "source": [
    "fig, axs = plt.subplots(ncols=2, constrained_layout=True)\n",
    "sns.boxplot(y=X_train['LotFrontage_median'], ax=axs[0])\n",
    "sns.boxplot(y=X_train['MoSold'], ax=axs[1])"
   ]
  },
  {
   "cell_type": "code",
   "execution_count": 93,
   "metadata": {},
   "outputs": [],
   "source": [
    "# STEP1: Calculate the IQR, lower_boundary and upper_boundary for\n",
    "# 'LotFrontage'\n",
    "LotFrontage_IQR = X_train['LotFrontage_median'].quantile(0.75) - X_train['LotFrontage_median'].quantile(0.25)\n",
    "LotFrontage_lower_boundary = X_train['LotFrontage_median'].quantile(0.25) - (LotFrontage_IQR * 1.5)\n",
    "LotFrontage_upper_boundary = X_train['LotFrontage_median'].quantile(0.75) + (LotFrontage_IQR * 1.5) \n",
    "# 'MoSold'\n",
    "MoSold_IQR = X_train['MoSold'].quantile(0.75) - X_train['MoSold'].quantile(0.25)\n",
    "MoSold_lower_boundary = X_train['MoSold'].quantile(0.25) - (MoSold_IQR * 1.5)\n",
    "MoSold_upper_boundary = X_train['MoSold'].quantile(0.75) + (MoSold_IQR * 1.5) "
   ]
  },
  {
   "cell_type": "code",
   "execution_count": 94,
   "metadata": {},
   "outputs": [
    {
     "name": "stdout",
     "output_type": "stream",
     "text": [
      "LotFrontage_upper_boundary:  107.5\n",
      "LotFrontage_IQR: 19.0\n",
      "LotFrontage_lower_boundary: 31.5\n",
      "MoSold_upper_boundary:  12.5\n",
      "MoSold_IQR: 3.0\n",
      "MoSold_lower_boundary: 0.5\n"
     ]
    }
   ],
   "source": [
    "print('LotFrontage_upper_boundary: ' ,LotFrontage_upper_boundary)\n",
    "print('LotFrontage_IQR:', LotFrontage_IQR)\n",
    "print('LotFrontage_lower_boundary:' ,LotFrontage_lower_boundary)\n",
    "\n",
    "print('MoSold_upper_boundary: ' ,MoSold_upper_boundary)\n",
    "print('MoSold_IQR:', MoSold_IQR)\n",
    "print('MoSold_lower_boundary:' ,MoSold_lower_boundary)"
   ]
  },
  {
   "cell_type": "code",
   "execution_count": 95,
   "metadata": {},
   "outputs": [
    {
     "name": "stdout",
     "output_type": "stream",
     "text": [
      "Percentage of outliers in LotFrontage:  0.07243460764587525\n",
      "Percentage of outliers in MoSold:  0.0\n"
     ]
    }
   ],
   "source": [
    "# STEP 2: lagging the outliers:\n",
    "# Create a list with boolean values indicating whether each record in the considered column is an outlier (True) or not (False) \n",
    "LotFrontage_outliers_list = np.where(X_train['LotFrontage_median'] > LotFrontage_upper_boundary, True,\n",
    "                       np.where(X_train['LotFrontage_median'] < LotFrontage_lower_boundary, True, False))\n",
    "\n",
    "MoSold_outliers_list = np.where(X_train['MoSold'] > MoSold_upper_boundary, True,\n",
    "                       np.where(X_train['MoSold'] < MoSold_lower_boundary, True, False))\n",
    "\n",
    "#Percentage of outliers\n",
    "print('Percentage of outliers in LotFrontage: ', LotFrontage_outliers_list.mean())\n",
    "print('Percentage of outliers in MoSold: ', MoSold_outliers_list.mean())"
   ]
  },
  {
   "cell_type": "markdown",
   "metadata": {},
   "source": [
    "The above result confirms our observation from the boxplots. Now we create a list of all columns which contain outliers."
   ]
  },
  {
   "cell_type": "code",
   "execution_count": 96,
   "metadata": {},
   "outputs": [],
   "source": [
    "outlier_cols = [\"LotArea\", \"OverallQual\", \"OverallCond\", \"YearBuilt\", \"TotalBsmtSF\", \"firstFlrSF\", \"secondFlrSF\", \"GrLivArea\", \"BsmtFullBath\",\n",
    "  \"TotRmsAbvGrd\", \"Fireplaces\", \"GarageCars\", \"GarageArea\", \"WoodDeckSF\",  \"OpenPorchSF\", \"BedroomAbvGr\"]"
   ]
  },
  {
   "cell_type": "code",
   "execution_count": 97,
   "metadata": {},
   "outputs": [],
   "source": [
    "# Now we repeat the same steps for all the columns with outliers\n",
    "# We first create the following dictionaries\n",
    "IQR_dict= {}\n",
    "for col in num_cols:\n",
    "    IQR_dict[f\"{col}_IQR\"] = X_train[col].quantile(0.75) - X_train[col].quantile(0.25)\n",
    "\n",
    "lower_boundary_dict= {}\n",
    "for col in num_cols:\n",
    "    lower_boundary_dict[f\"{col}_lower_boundary\"] = X_train[col].quantile(0.25) - (IQR_dict[f\"{col}_IQR\"] * 1.6)\n",
    "\n",
    "upper_boundary_dict= {}\n",
    "for col in num_cols:\n",
    "    upper_boundary_dict[f\"{col}_upper_boundary\"] = X_train[col].quantile(0.25) + (IQR_dict[f\"{col}_IQR\"] * 1.6)\n",
    "\n",
    "columns_outliers_dict={}\n",
    "for col in num_cols:\n",
    "    columns_outliers_dict[f\"{col}_outliers_list\"] = np.where(X_train[col] > upper_boundary_dict[f\"{col}_upper_boundary\"], True,\n",
    "                       np.where(X_train[col] < lower_boundary_dict[f\"{col}_lower_boundary\"], True, False))"
   ]
  },
  {
   "cell_type": "code",
   "execution_count": 98,
   "metadata": {},
   "outputs": [
    {
     "name": "stdout",
     "output_type": "stream",
     "text": [
      " >>IQR_dict:  {'GarageCars_IQR': 1.0, 'GarageArea_IQR': 250.5, 'OverallCond_IQR': 1.0, 'LotArea_IQR': 3903.5, 'OpenPorchSF_IQR': 70.0, 'OverallQual_IQR': 2.0, 'TotalBsmtSF_IQR': 493.75, 'FullBath_IQR': 1.0, 'GrLivArea_IQR': 644.5, 'Fireplaces_IQR': 1.0, 'MoSold_IQR': 3.0, 'firstFlrSF_IQR': 504.25, 'WoodDeckSF_IQR': 171.0, 'TotRmsAbvGrd_IQR': 2.0, 'Nr.Ring_IQR': 0.0, 'BsmtFullBath_IQR': 1.0, 'BedroomAbvGr_IQR': 1.0, 'secondFlrSF_IQR': 755.0, 'HalfBath_IQR': 1.0, 'LotFrontage_median_IQR': 19.0, 'HouseAge_IQR': 46.0, 'RemodAge_IQR': 36.0}\n",
      " >>lower_boundary_dict:  {'GarageCars_lower_boundary': -0.6000000000000001, 'GarageArea_lower_boundary': -73.55000000000001, 'OverallCond_lower_boundary': 3.4, 'LotArea_lower_boundary': 1432.3999999999996, 'OpenPorchSF_lower_boundary': -112.0, 'OverallQual_lower_boundary': 1.7999999999999998, 'TotalBsmtSF_lower_boundary': 26.0, 'FullBath_lower_boundary': -0.6000000000000001, 'GrLivArea_lower_boundary': 119.29999999999995, 'Fireplaces_lower_boundary': -1.6, 'MoSold_lower_boundary': 0.1999999999999993, 'firstFlrSF_lower_boundary': 78.69999999999993, 'WoodDeckSF_lower_boundary': -273.6, 'TotRmsAbvGrd_lower_boundary': 1.7999999999999998, 'Nr.Ring_lower_boundary': 2.0, 'BsmtFullBath_lower_boundary': -1.6, 'BedroomAbvGr_lower_boundary': 0.3999999999999999, 'secondFlrSF_lower_boundary': -1208.0, 'HalfBath_lower_boundary': -1.6, 'LotFrontage_median_lower_boundary': 29.599999999999998, 'HouseAge_lower_boundary': -66.60000000000001, 'RemodAge_lower_boundary': -53.6}\n",
      " >>upper_boundary_dict:  {'GarageCars_upper_boundary': 2.6, 'GarageArea_upper_boundary': 728.05, 'OverallCond_upper_boundary': 6.6, 'LotArea_upper_boundary': 13923.6, 'OpenPorchSF_upper_boundary': 112.0, 'OverallQual_upper_boundary': 8.2, 'TotalBsmtSF_upper_boundary': 1606.0, 'FullBath_upper_boundary': 2.6, 'GrLivArea_upper_boundary': 2181.7, 'Fireplaces_upper_boundary': 1.6, 'MoSold_upper_boundary': 9.8, 'firstFlrSF_upper_boundary': 1692.3000000000002, 'WoodDeckSF_upper_boundary': 273.6, 'TotRmsAbvGrd_upper_boundary': 8.2, 'Nr.Ring_upper_boundary': 2.0, 'BsmtFullBath_upper_boundary': 1.6, 'BedroomAbvGr_upper_boundary': 3.6, 'secondFlrSF_upper_boundary': 1208.0, 'HalfBath_upper_boundary': 1.6, 'LotFrontage_median_upper_boundary': 90.4, 'HouseAge_upper_boundary': 80.60000000000001, 'RemodAge_upper_boundary': 61.6}\n"
     ]
    }
   ],
   "source": [
    "print(\" >>IQR_dict: \", IQR_dict)\n",
    "print(\" >>lower_boundary_dict: \", lower_boundary_dict)\n",
    "print(\" >>upper_boundary_dict: \", upper_boundary_dict)"
   ]
  },
  {
   "cell_type": "code",
   "execution_count": 99,
   "metadata": {},
   "outputs": [
    {
     "name": "stdout",
     "output_type": "stream",
     "text": [
      "['GarageCars', 'GarageArea', 'OverallCond', 'LotArea', 'OpenPorchSF', 'OverallQual', 'TotalBsmtSF', 'FullBath', 'GrLivArea', 'Fireplaces', 'MoSold', 'firstFlrSF', 'WoodDeckSF', 'TotRmsAbvGrd', 'BsmtFullBath', 'BedroomAbvGr', 'secondFlrSF', 'HalfBath', 'LotFrontage_median', 'HouseAge']\n",
      "20\n"
     ]
    }
   ],
   "source": [
    "outlier_cols = [col for col in num_cols if  columns_outliers_dict[f\"{col}_outliers_list\"].mean() > 0 ] \n",
    "print(outlier_cols)\n",
    "print(len(outlier_cols))"
   ]
  },
  {
   "cell_type": "code",
   "execution_count": 100,
   "metadata": {},
   "outputs": [
    {
     "name": "stdout",
     "output_type": "stream",
     "text": [
      "Percentage of outliers in GarageCars:  0.134\n",
      "Percentage of outliers in GarageArea:  0.111\n",
      "Percentage of outliers in OverallCond:  0.214\n",
      "Percentage of outliers in LotArea:  0.114\n",
      "Percentage of outliers in OpenPorchSF:  0.144\n",
      "Percentage of outliers in OverallQual:  0.044\n",
      "Percentage of outliers in TotalBsmtSF:  0.104\n",
      "Percentage of outliers in FullBath:  0.025\n",
      "Percentage of outliers in GrLivArea:  0.106\n",
      "Percentage of outliers in Fireplaces:  0.082\n",
      "Percentage of outliers in MoSold:  0.157\n",
      "Percentage of outliers in firstFlrSF:  0.096\n",
      "Percentage of outliers in WoodDeckSF:  0.091\n",
      "Percentage of outliers in TotRmsAbvGrd:  0.113\n",
      "Percentage of outliers in BsmtFullBath:  0.012\n",
      "Percentage of outliers in BedroomAbvGr:  0.172\n",
      "Percentage of outliers in secondFlrSF:  0.038\n",
      "Percentage of outliers in HalfBath:  0.01\n",
      "Percentage of outliers in LotFrontage_median:  0.142\n",
      "Percentage of outliers in HouseAge:  0.123\n"
     ]
    }
   ],
   "source": [
    "for col in outlier_cols:\n",
    "    print(f\"Percentage of outliers in {col}: \", round(columns_outliers_dict[f\"{col}_outliers_list\"].mean(), 3))"
   ]
  },
  {
   "cell_type": "markdown",
   "metadata": {},
   "source": [
    "### 4.2. Outlier trimming\n",
    "This method amounts to dropping all the records which include an outlier (in X_train)."
   ]
  },
  {
   "cell_type": "markdown",
   "metadata": {},
   "source": [
    "We first begin by trimming the outliers of the column \"LotFrontage_median\", as an example."
   ]
  },
  {
   "cell_type": "code",
   "execution_count": 101,
   "metadata": {},
   "outputs": [
    {
     "data": {
      "text/plain": [
       "((994, 89), (922, 89))"
      ]
     },
     "execution_count": 101,
     "metadata": {},
     "output_type": "execute_result"
    }
   ],
   "source": [
    "X_train_trimmed = X_train.loc[~LotFrontage_outliers_list, ]\n",
    "X_train.shape, X_train_trimmed.shape"
   ]
  },
  {
   "cell_type": "markdown",
   "metadata": {},
   "source": [
    "We observe that after trimming the outliers in \"LotFrontage_median\", the dataset size is reduced by 2 records."
   ]
  },
  {
   "cell_type": "code",
   "execution_count": 102,
   "metadata": {},
   "outputs": [
    {
     "name": "stdout",
     "output_type": "stream",
     "text": [
      "Percentage of outliers in LotFrontage after trimming:  0.0\n"
     ]
    }
   ],
   "source": [
    "# Here we recheck the percentage of the outliers after trimming\n",
    "LotFrontage_trimmed_outliers = np.where(X_train_trimmed['LotFrontage_median'] > LotFrontage_upper_boundary, True,\n",
    "                       np.where(X_train_trimmed['LotFrontage_median'] < LotFrontage_lower_boundary, True, False))\n",
    "\n",
    "#Percentage of outliers after trimming\n",
    "print('Percentage of outliers in LotFrontage after trimming: ', LotFrontage_trimmed_outliers.mean())"
   ]
  },
  {
   "cell_type": "markdown",
   "metadata": {},
   "source": [
    "We now implement the outlier trimming on all columns whose percentage of outliers is less than a threshold."
   ]
  },
  {
   "cell_type": "code",
   "execution_count": 103,
   "metadata": {},
   "outputs": [
    {
     "name": "stdout",
     "output_type": "stream",
     "text": [
      "['OverallQual', 'FullBath', 'BsmtFullBath', 'secondFlrSF', 'HalfBath']\n"
     ]
    }
   ],
   "source": [
    "outlier_trim_threshold = 0.05\n",
    "# create a list of columns which have smaller percentage than outlier_trim_threshold \n",
    "outlier_trim_cols = [col for col in outlier_cols if columns_outliers_dict[f\"{col}_outliers_list\"].mean() < outlier_trim_threshold ] \n",
    "\n",
    "print(outlier_trim_cols)"
   ]
  },
  {
   "cell_type": "code",
   "execution_count": 104,
   "metadata": {},
   "outputs": [],
   "source": [
    "X_train = X_train.loc[~(\n",
    "+ columns_outliers_dict[\"OverallQual_outliers_list\"]\n",
    "+ columns_outliers_dict[\"HalfBath_outliers_list\"]\n",
    "+ columns_outliers_dict[\"secondFlrSF_outliers_list\"]\n",
    "+ columns_outliers_dict[\"BsmtFullBath_outliers_list\"] \n",
    "+ columns_outliers_dict[\"FullBath_outliers_list\"]\n",
    "), \n",
    "]"
   ]
  },
  {
   "cell_type": "code",
   "execution_count": 105,
   "metadata": {},
   "outputs": [],
   "source": [
    "y_train = y_train.loc[~(\n",
    "+ columns_outliers_dict[\"OverallQual_outliers_list\"]\n",
    "+ columns_outliers_dict[\"HalfBath_outliers_list\"]\n",
    "+ columns_outliers_dict[\"secondFlrSF_outliers_list\"]\n",
    "+ columns_outliers_dict[\"BsmtFullBath_outliers_list\"] \n",
    "+ columns_outliers_dict[\"FullBath_outliers_list\"]\n",
    "), \n",
    "]"
   ]
  },
  {
   "cell_type": "code",
   "execution_count": 106,
   "metadata": {},
   "outputs": [
    {
     "data": {
      "text/plain": [
       "((896, 89), (427, 89), (896,), (427,))"
      ]
     },
     "execution_count": 106,
     "metadata": {},
     "output_type": "execute_result"
    }
   ],
   "source": [
    "X_train.shape , X_test.shape, y_train.shape, y_test.shape"
   ]
  },
  {
   "cell_type": "code",
   "execution_count": 107,
   "metadata": {},
   "outputs": [
    {
     "name": "stdout",
     "output_type": "stream",
     "text": [
      "We observe that after outlier trimming, the number of records is reduced to 896 .\n"
     ]
    }
   ],
   "source": [
    "print(\"We observe that after outlier trimming, the number of records is reduced to\", X_train.shape[0],\".\")"
   ]
  },
  {
   "cell_type": "markdown",
   "metadata": {},
   "source": [
    "### 4.2. Outlier Capping\n",
    "In this method, we replace the outliers at both tails (or one of the tails) by the maximum and minimum limits, respectively."
   ]
  },
  {
   "cell_type": "code",
   "execution_count": 108,
   "metadata": {},
   "outputs": [
    {
     "name": "stdout",
     "output_type": "stream",
     "text": [
      "['LotFrontage_median', 'GarageCars', 'GarageArea', 'TotRmsAbvGrd', 'OverallCond', 'GrLivArea', 'LotArea', 'Fireplaces', 'HouseAge', 'MoSold', 'OpenPorchSF', 'BedroomAbvGr', 'WoodDeckSF', 'TotalBsmtSF', 'firstFlrSF']\n"
     ]
    }
   ],
   "source": [
    "# For the rest of columns with outliers, we implement the outlier capping method.\n",
    "outlier_cap_cols = list(set(outlier_cols) - set(outlier_trim_cols)) \n",
    "print(outlier_cap_cols)"
   ]
  },
  {
   "cell_type": "code",
   "execution_count": 109,
   "metadata": {},
   "outputs": [],
   "source": [
    "for col in outlier_cap_cols:\n",
    "    X_train[col] = np.where(X_train[col] > upper_boundary_dict[f\"{col}_upper_boundary\"], upper_boundary_dict[f\"{col}_upper_boundary\"],\n",
    "                         np.where(X_train[col] < lower_boundary_dict[f\"{col}_lower_boundary\"], lower_boundary_dict[f\"{col}_lower_boundary\"], X_train[col]))"
   ]
  },
  {
   "cell_type": "code",
   "execution_count": 110,
   "metadata": {},
   "outputs": [
    {
     "data": {
      "text/plain": [
       "((896, 89), (427, 89), (896,), (427,))"
      ]
     },
     "execution_count": 110,
     "metadata": {},
     "output_type": "execute_result"
    }
   ],
   "source": [
    "X_train.shape , X_test.shape, y_train.shape, y_test.shape"
   ]
  },
  {
   "cell_type": "markdown",
   "metadata": {},
   "source": [
    "We observe that the after outlier capping the dataset size does not change."
   ]
  },
  {
   "cell_type": "markdown",
   "metadata": {},
   "source": [
    "# 5. Feature Scaling\n",
    "\n",
    "- Feature scaling is a method to normalize the magnitude of features. \n",
    "- The magnitude of the features is important in training many ML model:\n",
    "-- values with larger magnitude may dominant the ones with smaller magnitude while learning\n",
    "-- faster convergence of gradient descent when features are on similar scales\n",
    "\n",
    "This section consists of two parts:\n",
    " \n",
    "5.2. Standardization \\\n",
    "5.2. Min-Max Scaling\n",
    "\n",
    "In this notebook, we perform the min-max scaling. However, we present the commented code for the standardization as well."
   ]
  },
  {
   "cell_type": "markdown",
   "metadata": {},
   "source": [
    "### 5.1. Standardization\n",
    "In the standardization, we transform all the values\u000b",
    "to a scale between 0 and 1 by performing the following transformation\n",
    "\n",
    "$X_{scaled}(X) = \\frac{X -  \\bar{X}}{\\sigma}$\n"
   ]
  },
  {
   "cell_type": "code",
   "execution_count": 111,
   "metadata": {},
   "outputs": [],
   "source": [
    "# from sklearn.preprocessing import StandardScaler\n",
    "# scaler = StandardScaler()\n",
    "# scaler.fit(X_train)\n",
    "# X_train_scaled = scaler.transform(X_train)\n",
    "# X_test_scaled = scaler.transform(X_test)"
   ]
  },
  {
   "cell_type": "markdown",
   "metadata": {},
   "source": [
    "### 5.2. Min-Max Scaling\n",
    "\n",
    "In the Min-Max scaling, we transform all the values to a scale between 0 and 1 by performing the following transformation\n",
    "\n",
    "$X_{scaled}(X) = \\frac{X -  X_{min}}{X_{max} - X_{min}}$"
   ]
  },
  {
   "cell_type": "code",
   "execution_count": 112,
   "metadata": {},
   "outputs": [],
   "source": [
    "from sklearn.preprocessing import MinMaxScaler\n",
    "scaler = MinMaxScaler()\n",
    "scaler.fit(X_train)\n",
    "X_train_scaled = scaler.transform(X_train)\n",
    "X_test_scaled = scaler.transform(X_test)"
   ]
  },
  {
   "cell_type": "markdown",
   "metadata": {},
   "source": [
    "# 6. Feature Selection\n",
    "\n",
    "Feature selection is the process of finding a subset of features which are the most predictive ones for the chosen ML algorithm. \n",
    "\n",
    "WHY Feature selection?\n",
    "- Makes models simpler to understand and interpret \n",
    "- Reduces training time\n",
    "- Reduces overfitting \n",
    "- Avoids data redundancy\n",
    "\n",
    "In this section, we perform the following methods of feature selection:\n",
    "\n",
    "6.1. Dropping Constant Features \\\n",
    "6.2. Correlation-based Feature Selection\\\n",
    "6.2.a Selecting Features with low correlations with other features\\\n",
    "6.2.a Selecting Features with hight correlations with Target"
   ]
  },
  {
   "cell_type": "markdown",
   "metadata": {},
   "source": [
    "We are almost done with preprocessing. In fact, we have done the data cleaning and feature engineering part: all the columns have numerical values, have no Null values, have no outliers, are on the same scale.\n",
    "\n",
    "This way we have reduces the data size by dropping a chunk of rows. \n",
    "\n",
    "However, there are now too many features in our dataset.\n",
    "Now it is time to reduce the dimensionality of our dataset by dropping unnecessary columns which do not contribute to the prediction of the target."
   ]
  },
  {
   "cell_type": "code",
   "execution_count": 113,
   "metadata": {},
   "outputs": [
    {
     "data": {
      "text/plain": [
       "89"
      ]
     },
     "execution_count": 113,
     "metadata": {},
     "output_type": "execute_result"
    }
   ],
   "source": [
    "len(X_train.columns)"
   ]
  },
  {
   "cell_type": "markdown",
   "metadata": {},
   "source": [
    "### 6.1. Dropping Constant Features\n",
    "We first identify the features with constant values and drop them, since they have no predictive power."
   ]
  },
  {
   "cell_type": "code",
   "execution_count": 114,
   "metadata": {},
   "outputs": [
    {
     "data": {
      "text/plain": [
       "['Nr.Ring', 'RoofStyle_Shed', 'RoofMatl_ClyTile']"
      ]
     },
     "execution_count": 114,
     "metadata": {},
     "output_type": "execute_result"
    }
   ],
   "source": [
    "const_feat = [X for X in X_train.columns if X_train[X].nunique() == 1]\n",
    "const_feat"
   ]
  },
  {
   "cell_type": "code",
   "execution_count": 115,
   "metadata": {},
   "outputs": [],
   "source": [
    "X_train.drop(labels=const_feat, axis=1, inplace= True)\n",
    "X_test.drop(labels=const_feat, axis=1, inplace= True)"
   ]
  },
  {
   "cell_type": "code",
   "execution_count": 116,
   "metadata": {},
   "outputs": [
    {
     "data": {
      "text/plain": [
       "((896, 86), (427, 86), (896,), (427,))"
      ]
     },
     "execution_count": 116,
     "metadata": {},
     "output_type": "execute_result"
    }
   ],
   "source": [
    "X_train.shape , X_test.shape, y_train.shape, y_test.shape"
   ]
  },
  {
   "cell_type": "code",
   "execution_count": 117,
   "metadata": {},
   "outputs": [
    {
     "name": "stdout",
     "output_type": "stream",
     "text": [
      "We observe that the number of features is reduced to 86\n"
     ]
    }
   ],
   "source": [
    "print(\"We observe that the number of features is reduced to\", X_train.shape[1])  "
   ]
  },
  {
   "cell_type": "markdown",
   "metadata": {},
   "source": [
    "### 6.2. Correlation-based Feature Selection\n",
    "\n",
    "After removing constant features, we remove those features which are highly correlated, based on the following criteria:\n",
    "\n",
    "- \"Good feature subsets contain features highly correlated with the target, yet uncorrelated to each other\" M A.Hall, 1999"
   ]
  },
  {
   "cell_type": "markdown",
   "metadata": {},
   "source": [
    "### 6.2.a Selecting Features with low correlations with other features\n",
    "Example: GarageCars and GarageArea are probably correlated"
   ]
  },
  {
   "cell_type": "code",
   "execution_count": 118,
   "metadata": {},
   "outputs": [
    {
     "data": {
      "text/plain": [
       "<AxesSubplot:>"
      ]
     },
     "execution_count": 118,
     "metadata": {},
     "output_type": "execute_result"
    },
    {
     "data": {
      "image/png": "[encoded data removed]",
      "text/plain": [
       "<Figure size 792x792 with 2 Axes>"
      ]
     },
     "metadata": {
      "needs_background": "light"
     },
     "output_type": "display_data"
    }
   ],
   "source": [
    "# plotting the correlation diagram of X_train\n",
    "corrmat = X_train.corr(method='pearson')\n",
    "\n",
    "cmap = sns.diverging_palette(220, 20, as_cmap=True)\n",
    "\n",
    "fig, ax = plt.subplots()\n",
    "fig.set_size_inches(11,11)\n",
    "\n",
    "sns.heatmap(corrmat, cmap=cmap)"
   ]
  },
  {
   "cell_type": "code",
   "execution_count": 119,
   "metadata": {},
   "outputs": [
    {
     "name": "stdout",
     "output_type": "stream",
     "text": [
      "0.8941463538929487 GarageArea GarageCars\n",
      "0.8693579924934365 firstFlrSF TotalBsmtSF\n",
      "0.7955348055869929 TotRmsAbvGrd GrLivArea\n",
      "0.6603603927603625 BedroomAbvGr TotRmsAbvGrd\n",
      "0.6528463588336926 secondFlrSF GrLivArea\n",
      "0.6599467437309584 HouseAge isNew\n",
      "0.6964670166357704 BldgType_TwnhsE BldgType_1Fam\n",
      "0.6959121973500262 Foundation_PConc HouseAge\n",
      "0.7792726318697688 Foundation_PConc Foundation_CBlock\n",
      "0.9387184455054185 LandSlope_Mod LandSlope_Gtl\n",
      "0.9999999999999997 CentralAir_Y CentralAir_N\n",
      "0.9270033110737551 RoofStyle_Hip RoofStyle_Gable\n",
      "0.844205176097046 RoofMatl_Tar&Grv RoofStyle_Flat\n",
      "0.7949268160073627 HouseStyle_1Story secondFlrSF\n",
      "0.8243642517166129 HouseStyle_2Story secondFlrSF\n",
      "0.9009798587550962 Electrical_SBrkr Electrical_FuseA\n",
      "0.7331931903224824 Alley_Missing Alley_Grvl\n",
      "0.6561551719251224 Alley_Pave Alley_Missing\n",
      "0.971467254556455 MiscFeature_Shed MiscFeature_Missing\n",
      "0.7557792357060696 LotConfig_Inside LotConfig_Corner\n",
      "0.6987486775837685 Fence_MnPrv Fence_Missing\n",
      "0.7822529079010264 Heating_GasW Heating_GasA\n"
     ]
    }
   ],
   "source": [
    "intercorr_threshold = 0.65\n",
    "# creating a set of column pairs whose correlation is higher than intercorr_threshold\n",
    "col_corr = set()\n",
    "corr_matrix = X_train.corr()\n",
    "\n",
    "for i in range(len(corr_matrix.columns)):\n",
    "    for j in range(i):\n",
    "        if abs(corr_matrix.iloc[i, j]) > intercorr_threshold: \n",
    "            print(abs(corr_matrix.iloc[i, j]), corr_matrix.columns[i], corr_matrix.columns[j])\n",
    "            colname = corr_matrix.columns[j]\n",
    "            col_corr.add(colname)"
   ]
  },
  {
   "cell_type": "code",
   "execution_count": 120,
   "metadata": {},
   "outputs": [
    {
     "data": {
      "text/plain": [
       "20"
      ]
     },
     "execution_count": 120,
     "metadata": {},
     "output_type": "execute_result"
    }
   ],
   "source": [
    "len(set(col_corr))"
   ]
  },
  {
   "cell_type": "code",
   "execution_count": 121,
   "metadata": {},
   "outputs": [
    {
     "data": {
      "text/plain": [
       "((896, 66), (427, 66))"
      ]
     },
     "execution_count": 121,
     "metadata": {},
     "output_type": "execute_result"
    }
   ],
   "source": [
    "# dropping one of the columns in each pair in col_corr in X_train and X_test\n",
    "X_train.drop(labels=col_corr, axis=1, inplace=True)\n",
    "X_test.drop(labels=col_corr, axis=1, inplace=True)\n",
    "\n",
    "X_train.shape, X_test.shape"
   ]
  },
  {
   "cell_type": "code",
   "execution_count": 122,
   "metadata": {},
   "outputs": [
    {
     "name": "stdout",
     "output_type": "stream",
     "text": [
      "We observe that the number of features is reduced to 66\n"
     ]
    }
   ],
   "source": [
    "print(\"We observe that the number of features is reduced to\", X_train.shape[1])"
   ]
  },
  {
   "cell_type": "markdown",
   "metadata": {},
   "source": [
    "### 6.2. Selecting Features with hight correlations with Target"
   ]
  },
  {
   "cell_type": "code",
   "execution_count": 123,
   "metadata": {},
   "outputs": [],
   "source": [
    "# We first add the target (y_train) to the Features (X_train) to be able to calculate the correlation matrix between them\n",
    "df_train = pd.concat([X_train.reset_index(drop=True), y_train.reset_index(drop=True)], axis = 1)\n",
    "\n",
    "# create the correlation matrix\n",
    "cor_mat = df_train.corr()\n",
    "\n",
    "# Add a column which contains the sorted absolute values of corr(X_train, y_train)\n",
    "cor_mat[\"X-Y_corr\"]= cor_mat[target].abs().sort_values(ascending=False)"
   ]
  },
  {
   "cell_type": "code",
   "execution_count": 124,
   "metadata": {},
   "outputs": [
    {
     "data": {
      "text/plain": [
       "GarageArea      0.635103\n",
       "OverallCond     0.045567\n",
       "LotArea         0.393027\n",
       "OpenPorchSF     0.415512\n",
       "OverallQual     0.768556\n",
       "                  ...   \n",
       "Fence_MnWw      0.058026\n",
       "Heating_GasW    0.019617\n",
       "Heating_Grav    0.172726\n",
       "Heating_OthW    0.020212\n",
       "SalePrice       1.000000\n",
       "Name: X-Y_corr, Length: 67, dtype: float64"
      ]
     },
     "execution_count": 124,
     "metadata": {},
     "output_type": "execute_result"
    }
   ],
   "source": [
    "cor_mat[\"X-Y_corr\"]"
   ]
  },
  {
   "cell_type": "code",
   "execution_count": 125,
   "metadata": {},
   "outputs": [],
   "source": [
    "target_feature_corr_threshold = 0.1\n",
    "# collect all the features with corr(X_train, y_train) > target_feature_corr_threshold into a list\n",
    "final_cols = cor_mat[cor_mat[\"X-Y_corr\"] > target_feature_corr_threshold].index.values.tolist()\n",
    "final_cols = list(set(final_cols) - set([\"Id\", target]))"
   ]
  },
  {
   "cell_type": "code",
   "execution_count": 126,
   "metadata": {},
   "outputs": [
    {
     "name": "stdout",
     "output_type": "stream",
     "text": [
      "The total number of selected features:  31\n"
     ]
    }
   ],
   "source": [
    "print(\"The total number of selected features: \", len(final_cols))"
   ]
  },
  {
   "cell_type": "code",
   "execution_count": 127,
   "metadata": {},
   "outputs": [],
   "source": [
    "# replacing the columns in X_train and X_test with final_cols\n",
    "X_train = X_train[final_cols]\n",
    "X_test = X_test[final_cols]"
   ]
  },
  {
   "cell_type": "code",
   "execution_count": 128,
   "metadata": {},
   "outputs": [
    {
     "data": {
      "text/plain": [
       "((896, 31), (896,), (427, 31), (427,))"
      ]
     },
     "execution_count": 128,
     "metadata": {},
     "output_type": "execute_result"
    }
   ],
   "source": [
    "X_train.shape, y_train.shape, X_test.shape, y_test.shape"
   ]
  },
  {
   "cell_type": "code",
   "execution_count": 129,
   "metadata": {},
   "outputs": [
    {
     "name": "stdout",
     "output_type": "stream",
     "text": [
      "We observe that the number of features is reduced to 31\n"
     ]
    }
   ],
   "source": [
    "print(\"We observe that the number of features is reduced to\", X_train.shape[1])"
   ]
  },
  {
   "cell_type": "markdown",
   "metadata": {},
   "source": [
    "# 7. Saving the preprocessed data"
   ]
  },
  {
   "cell_type": "code",
   "execution_count": 130,
   "metadata": {},
   "outputs": [],
   "source": [
    "X_train.to_csv(\"../datasets/regression/processed/X_train.csv\", sep = \",\", encoding= \"utf-8\")\n",
    "X_test.to_csv(\"../datasets/regression/processed/X_test.csv\", sep = \",\", encoding= \"utf-8\")\n",
    "y_train.to_csv(\"../datasets/regression/processed/y_train.csv\", sep = \",\", encoding= \"utf-8\")\n",
    "y_test.to_csv(\"../datasets/regression/processed/y_test.csv\", sep = \",\", encoding= \"utf-8\")"
   ]
  }
 ],
 "metadata": {
  "interpreter": {
   "hash": "e737f341e96eee98a3a2acbd8b0c12a6221c684ebe624d9d044b4a2a2a65610f"
  },
  "kernelspec": {
   "display_name": "Python 3 (ipykernel)",
   "language": "python",
   "name": "python3"
  },
  "language_info": {
   "codemirror_mode": {
    "name": "ipython",
    "version": 3
   },
   "file_extension": ".py",
   "mimetype": "text/x-python",
   "name": "python",
   "nbconvert_exporter": "python",
   "pygments_lexer": "ipython3",
   "version": "3.9.7"
  }
 },
 "nbformat": 4,
 "nbformat_minor": 4
}
