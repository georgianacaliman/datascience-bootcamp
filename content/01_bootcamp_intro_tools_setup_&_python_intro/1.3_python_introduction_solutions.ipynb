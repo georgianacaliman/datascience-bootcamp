{
 "cells": [
  {
   "cell_type": "markdown",
   "id": "f999d05d-408b-4980-b2dc-ba41292b8a87",
   "metadata": {},
   "source": [
    "# 1.3 Python Introduction"
   ]
  },
  {
   "cell_type": "markdown",
   "id": "41f8368f-ee6f-4760-bd90-b5fc09342728",
   "metadata": {},
   "source": [
    "The material presented in this notebook is heavily based on the Datacamp \"Introduction to Python for Data Science\" course. Check the full course [here](https://app.datacamp.com/learn/courses/intro-to-python-for-data-science)."
   ]
  },
  {
   "cell_type": "markdown",
   "id": "31b69fae-1a9d-4b34-9ee8-0dc40381b878",
   "metadata": {},
   "source": [
    "Python is a general-purpose programming language that is becoming ever more popular for data science (also used for web development, application development etc...). Companies worldwide are using Python to harvest insights from their data and gain a competitive edge. This notebook will focus particularly on an introduction to Python from a data science perspective. You will get to see powerful ways to store and manipulate data and learn about helpful tools to begin conducting your own analyses."
   ]
  },
  {
   "cell_type": "markdown",
   "id": "8cf5df16-20f7-4753-829a-ef42427444e0",
   "metadata": {},
   "source": [
    "Python\n",
    "- general purpose (build anything; swiss army knife)\n",
    "- open source (free)\n",
    "- Python ecosystem (packages for data science; community; easy to build new packages)"
   ]
  },
  {
   "cell_type": "markdown",
   "id": "daf5b3be-e9d8-47db-8028-afa39e244b3d",
   "metadata": {},
   "source": [
    "## Calculations"
   ]
  },
  {
   "cell_type": "code",
   "execution_count": 1,
   "id": "ebaf53ab-1806-446a-ad68-41a0cad42ec6",
   "metadata": {},
   "outputs": [
    {
     "name": "stdout",
     "output_type": "stream",
     "text": [
      "3\n",
      "1\n",
      "15\n",
      "5.0\n",
      "4\n",
      "16\n"
     ]
    }
   ],
   "source": [
    "# Addition (hashtag indicates a comment)\n",
    "print(1 + 2)\n",
    "\n",
    "# Subtraction\n",
    "print(2 - 1)\n",
    "\n",
    "# Multiplication, division, modulo and exponentiation\n",
    "print(3 * 5)\n",
    "print(10 / 2)\n",
    "print(18 % 7)\n",
    "print(4 ** 2)"
   ]
  },
  {
   "cell_type": "code",
   "execution_count": 2,
   "id": "bd74544b-7134-4b99-a9cf-a4ffcfa8da01",
   "metadata": {},
   "outputs": [
    {
     "name": "stdout",
     "output_type": "stream",
     "text": [
      "194.87171000000012\n"
     ]
    }
   ],
   "source": [
    "### TO DO ###\n",
    "'''\n",
    "Suppose you have $100 which you can invest with a 10% return each year.\n",
    "Add code to calculate how much money you end up with after 7 years and print the result\n",
    "'''\n",
    "\n",
    "### SOLUTION ###\n",
    "print(100 * 1.1 ** 7)"
   ]
  },
  {
   "cell_type": "markdown",
   "id": "6bdbfaea-bdd5-4dd5-bd16-cb07c981da45",
   "metadata": {},
   "source": [
    "## Variables and Types"
   ]
  },
  {
   "cell_type": "markdown",
   "id": "77554628-a5f5-41fd-9919-2d047a8af745",
   "metadata": {},
   "source": [
    "- Save values and call them up later\n",
    "- Specific, case-sensitive name"
   ]
  },
  {
   "cell_type": "code",
   "execution_count": 3,
   "id": "a40be7cf-f7eb-486e-8cd1-d2dc25ce4dbf",
   "metadata": {},
   "outputs": [
    {
     "name": "stdout",
     "output_type": "stream",
     "text": [
      "21.44127836209856\n"
     ]
    }
   ],
   "source": [
    "height = 1.79\n",
    "weight = 68.7\n",
    "bmi = weight / height ** 2\n",
    "print(bmi)"
   ]
  },
  {
   "cell_type": "code",
   "execution_count": 4,
   "id": "f3cb197a-9f15-452a-8844-49bfe4a57b39",
   "metadata": {},
   "outputs": [
    {
     "name": "stdout",
     "output_type": "stream",
     "text": [
      "<class 'float'>\n"
     ]
    }
   ],
   "source": [
    "# Floats\n",
    "print(type(bmi))"
   ]
  },
  {
   "cell_type": "code",
   "execution_count": 5,
   "id": "fb2f417b-58d7-4a82-8c99-86ba1748365c",
   "metadata": {},
   "outputs": [
    {
     "name": "stdout",
     "output_type": "stream",
     "text": [
      "<class 'int'>\n",
      "5\n"
     ]
    }
   ],
   "source": [
    "# Integers\n",
    "day_of_week = 5\n",
    "print(type(day_of_week))\n",
    "print(2 + 3)"
   ]
  },
  {
   "cell_type": "code",
   "execution_count": 6,
   "id": "5cf53667-53d0-47f6-a4af-fe2b07190695",
   "metadata": {},
   "outputs": [
    {
     "name": "stdout",
     "output_type": "stream",
     "text": [
      "<class 'str'>\n",
      "body mass indexabc\n"
     ]
    }
   ],
   "source": [
    "# Strings\n",
    "x = \"body mass index\"\n",
    "y = \"abc\"\n",
    "print(type(x))\n",
    "print(x + y) # operator action depends on data type"
   ]
  },
  {
   "cell_type": "code",
   "execution_count": 7,
   "id": "3fd54de4-fc50-4889-bbce-19ccaf19855b",
   "metadata": {},
   "outputs": [
    {
     "name": "stdout",
     "output_type": "stream",
     "text": [
      "<class 'bool'>\n"
     ]
    }
   ],
   "source": [
    "# Booleans\n",
    "z = True\n",
    "print(type(z))"
   ]
  },
  {
   "cell_type": "code",
   "execution_count": 8,
   "id": "a8766ae2-a49d-4377-bf56-3ca3b34d1acc",
   "metadata": {},
   "outputs": [
    {
     "name": "stdout",
     "output_type": "stream",
     "text": [
      "The body mass index is 21.44127836209856!\n",
      "3.1415926\n",
      "3.1415926\n",
      "3\n",
      "True\n"
     ]
    }
   ],
   "source": [
    "# Type conversion\n",
    "print(\"The body mass index is \" + str(bmi) + \"!\")\n",
    "\n",
    "pi_string = \"3.1415926\"\n",
    "pi_float = float(pi_string)\n",
    "pi_int = int(pi_float)\n",
    "pi_bool = bool(pi_int)\n",
    "print(pi_string)\n",
    "print(pi_float)\n",
    "print(pi_int)\n",
    "print(pi_bool)"
   ]
  },
  {
   "cell_type": "code",
   "execution_count": 9,
   "id": "34d7fb8c-59dd-42e0-855f-3a3be8dd017a",
   "metadata": {},
   "outputs": [
    {
     "name": "stdout",
     "output_type": "stream",
     "text": [
      "I can add integers, like 5 to strings.\n"
     ]
    }
   ],
   "source": [
    "print(\"I can add integers, like \" + str(5) + \" to strings.\")"
   ]
  },
  {
   "cell_type": "code",
   "execution_count": 10,
   "id": "d9d575be-8bd9-436d-903e-24ac75ea43c1",
   "metadata": {},
   "outputs": [
    {
     "name": "stdout",
     "output_type": "stream",
     "text": [
      "I said Hey Hey Hey!\n"
     ]
    }
   ],
   "source": [
    "print(\"I said \" + (\"Hey \" * 2) + \"Hey!\")"
   ]
  },
  {
   "cell_type": "code",
   "execution_count": 11,
   "id": "6893c12d-306a-41b8-b80b-602af3940aa3",
   "metadata": {},
   "outputs": [
    {
     "ename": "TypeError",
     "evalue": "can only concatenate str (not \"int\") to str",
     "output_type": "error",
     "traceback": [
      "\u001b[0;31m---------------------------------------------------------------------------\u001b[0m",
      "\u001b[0;31mTypeError\u001b[0m                                 Traceback (most recent call last)",
      "Input \u001b[0;32mIn [11]\u001b[0m, in \u001b[0;36m<cell line: 1>\u001b[0;34m()\u001b[0m\n\u001b[0;32m----> 1\u001b[0m \u001b[38;5;28mprint\u001b[39m(\u001b[38;5;124;43m\"\u001b[39;49m\u001b[38;5;124;43mCan I add an integer like this to a string \u001b[39;49m\u001b[38;5;124;43m\"\u001b[39;49m\u001b[43m \u001b[49m\u001b[38;5;241;43m+\u001b[39;49m\u001b[43m \u001b[49m\u001b[38;5;241;43m5\u001b[39;49m)\n",
      "\u001b[0;31mTypeError\u001b[0m: can only concatenate str (not \"int\") to str"
     ]
    }
   ],
   "source": [
    "print(\"Can I add an integer like this to a string \" + 5) # this will throw an error"
   ]
  },
  {
   "cell_type": "code",
   "execution_count": 12,
   "id": "46023244-93fc-4636-b562-a37fa591a73d",
   "metadata": {},
   "outputs": [
    {
     "name": "stdout",
     "output_type": "stream",
     "text": [
      "2\n"
     ]
    }
   ],
   "source": [
    "print(True + False + True)"
   ]
  },
  {
   "cell_type": "code",
   "execution_count": 13,
   "id": "8ad3615d-add6-4b03-8fa1-77197c54e6ab",
   "metadata": {},
   "outputs": [
    {
     "name": "stdout",
     "output_type": "stream",
     "text": [
      "100\n",
      "194.87171000000012\n",
      "<class 'int'>\n",
      "<class 'float'>\n"
     ]
    }
   ],
   "source": [
    "### TO DO ###\n",
    "'''\n",
    "Create a variable called \"savings\" with the value 100 and print it.\n",
    "Create a variable called \"growth_multiplier\" with the value 1.1.\n",
    "Use \"savings\" and \"growth multiplier\" to do the same calculation that you did in the previous to do\n",
    "and store the result in a variable called \"result\".\n",
    "Print out the result.\n",
    "Create a new string called \"desc\" with the value \"compound interest\".\n",
    "Create a new boolean called \"profitable\" with the value True.\n",
    "Print out the type of the \"savings\" and \"growth_multiplier\" variables.\n",
    "'''\n",
    "\n",
    "### SOLUTION ###\n",
    "savings = 100\n",
    "print(savings)\n",
    "growth_multiplier = 1.1\n",
    "result = savings * growth_multiplier ** 7\n",
    "print(result)\n",
    "desc = \"compound interest\"\n",
    "profitable = True\n",
    "print(type(savings))\n",
    "print(type(growth_multiplier))"
   ]
  },
  {
   "cell_type": "markdown",
   "id": "a7d0e880-7969-40ef-88ad-3de1783d9f41",
   "metadata": {},
   "source": [
    "## Lists"
   ]
  },
  {
   "cell_type": "markdown",
   "id": "40b70b17-d734-4466-8f68-4b146810a128",
   "metadata": {},
   "source": [
    "- Work with many data points -> store in list\n",
    "- Give a single name to collection of values\n",
    "- Mixed data types possible (even nested lists)\n",
    "- List is a data type with specific functionality and behavior"
   ]
  },
  {
   "cell_type": "code",
   "execution_count": 14,
   "id": "e843bc73-5871-4f40-bfff-0d37112c7fd7",
   "metadata": {},
   "outputs": [],
   "source": [
    "fam = [1.73, 1.68, 1.71, 1.89]"
   ]
  },
  {
   "cell_type": "code",
   "execution_count": 15,
   "id": "f37a35b0-4b6c-4b40-a72f-35b824f1dda7",
   "metadata": {},
   "outputs": [],
   "source": [
    "fam2 = [[\"liz\", 1.73],\n",
    "        [\"emma\", 1.68],\n",
    "        [\"mom\", 1.71],\n",
    "        [\"dad\", 1.89]]"
   ]
  },
  {
   "cell_type": "code",
   "execution_count": 16,
   "id": "8983301f-0dd5-4786-b4f7-f4001461eece",
   "metadata": {},
   "outputs": [
    {
     "name": "stdout",
     "output_type": "stream",
     "text": [
      "<class 'list'>\n"
     ]
    }
   ],
   "source": [
    "print(type(fam))"
   ]
  },
  {
   "cell_type": "code",
   "execution_count": 17,
   "id": "48dfcd7e-2e76-4cca-b60e-bde22e568e52",
   "metadata": {},
   "outputs": [
    {
     "name": "stdout",
     "output_type": "stream",
     "text": [
      "<class 'list'>\n"
     ]
    }
   ],
   "source": [
    "print(type(fam2))"
   ]
  },
  {
   "cell_type": "code",
   "execution_count": 18,
   "id": "3c4ea30b-0b47-4bf0-be7c-698ef4fa20b9",
   "metadata": {},
   "outputs": [
    {
     "name": "stdout",
     "output_type": "stream",
     "text": [
      "[11.25, 18.0, 20.0, 10.75, 9.5]\n",
      "['hallway', 11.25, 'kitchen', 18.0, 'living room', 20.0, 'bedroom', 10.75, 'bathroom', 9.5]\n",
      "[['hallway', 11.25], ['kitchen', 18.0], ['living room', 20.0], ['bedroom', 10.75], ['bathroom', 9.5]]\n"
     ]
    }
   ],
   "source": [
    "### TO DO ###\n",
    "'''\n",
    "Create a list called \"areas\" and store the area sizes of the following rooms in it\n",
    "in this order: hallway (11.25), kitchen (18.0), living room (20.0), bedroom (10.75), bathroom (9.50).\n",
    "Print the list \"areas\".\n",
    "Now create a list called \"areas_mixed\" with mixed data types by adding the room name as string before\n",
    "the area sizes respectively.\n",
    "Print the list \"areas_mixed\".\n",
    "Next create a list of lists called \"house\" with each room name and area size in a seperate list.\n",
    "Print the list \"house\".\n",
    "'''\n",
    "\n",
    "### SOLUTION ###\n",
    "hall = 11.25\n",
    "kit = 18.0\n",
    "liv = 20.0\n",
    "bed = 10.75\n",
    "bath = 9.50\n",
    "areas = [hall, kit, liv, bed, bath]\n",
    "print(areas)\n",
    "areas_mixed = [\"hallway\", hall, \"kitchen\", kit, \"living room\", liv, \"bedroom\", bed, \"bathroom\", bath]\n",
    "print(areas_mixed)\n",
    "house = [[\"hallway\", hall],\n",
    "         [\"kitchen\", kit],\n",
    "         [\"living room\", liv],\n",
    "         [\"bedroom\",bed],\n",
    "         [\"bathroom\",bath]]\n",
    "print(house)"
   ]
  },
  {
   "cell_type": "code",
   "execution_count": 19,
   "id": "1e22ad82-2b29-45ab-a366-0936a36461c2",
   "metadata": {},
   "outputs": [
    {
     "name": "stdout",
     "output_type": "stream",
     "text": [
      "1.73\n",
      "1.89\n",
      "[1.68, 1.71]\n",
      "[1.73, 1.68, 1.71]\n",
      "[1.71, 1.89]\n"
     ]
    }
   ],
   "source": [
    "# Subsetting lists\n",
    "print(fam[0]) # 0-indexing\n",
    "print(fam[-1])\n",
    "\n",
    "# List slicing\n",
    "print(fam[1:3]) # start is inclusive, end is exclusive\n",
    "print(fam[:3])\n",
    "print(fam[2:])"
   ]
  },
  {
   "cell_type": "code",
   "execution_count": 20,
   "id": "c922856d-0ec1-4389-9794-88ac9f721e5c",
   "metadata": {},
   "outputs": [
    {
     "name": "stdout",
     "output_type": "stream",
     "text": [
      "20.0\n",
      "28.75\n",
      "[11.25, 18.0, 20.0, 10.75, 9.5]\n",
      "18.0\n"
     ]
    }
   ],
   "source": [
    "### TO DO ###\n",
    "'''\n",
    "Print out the area of the living room from the mixed data type list \"areas_mixed\".\n",
    "Using a combination of list subsetting and variable assignment, create a new variable called \n",
    "\"eat_sleep_area\" that contains the sum of the area of the kitchen and the area of the bedroom.\n",
    "Print the variable \"eat_sleep_area\".\n",
    "Use slicing to create a list called \"downstairs\" that contains the first 6 elements of areas.\n",
    "Simplify slicing by omitting the begin index.\n",
    "Print the list called \"downstairs\".\n",
    "Subset list of lists by retrieving just the area of the kitchen of the nested list.\n",
    "'''\n",
    "\n",
    "### SOLUTION ###\n",
    "print(areas_mixed[5])\n",
    "eat_sleep_area = (areas_mixed[3] + areas_mixed[-3])\n",
    "print(eat_sleep_area)\n",
    "downstairs = areas[:6]\n",
    "print(downstairs)\n",
    "print(house[1][1])"
   ]
  },
  {
   "cell_type": "code",
   "execution_count": 21,
   "id": "6934740a-28b2-4736-bc86-02ba48afbcb7",
   "metadata": {},
   "outputs": [
    {
     "name": "stdout",
     "output_type": "stream",
     "text": [
      "[1.73, 1.68, 1.71, 1.89]\n",
      "[1.73, 1.68, 1.87, 1.89] \n",
      "\n",
      "[['liz', 1.73], ['emma', 1.68], ['mom', 1.71], ['dad', 1.89]]\n",
      "['liz', 1.72, ['mom', 1.71], ['dad', 1.89]] \n",
      "\n",
      "['liz', 1.72, ['mom', 1.71], ['dad', 1.89], 'me', 1.79] \n",
      "\n",
      "[1.73, 1.68, 1.89]\n"
     ]
    }
   ],
   "source": [
    "# Manipulating lists\n",
    "# Change list elements\n",
    "print(fam)\n",
    "fam[2] = 1.87\n",
    "print(fam, \"\\n\")\n",
    "print(fam2)\n",
    "fam2[0:2] = [\"liz\", 1.72]\n",
    "print(fam2, \"\\n\")\n",
    "\n",
    "# Add list elements\n",
    "fam_ext = fam2 + [\"me\", 1.79]\n",
    "print(fam_ext, \"\\n\")\n",
    "\n",
    "# Remove list elements\n",
    "del(fam[2])\n",
    "print(fam)"
   ]
  },
  {
   "cell_type": "code",
   "execution_count": 22,
   "id": "31ad5888-7b8d-466d-b286-1cb0132ade0b",
   "metadata": {},
   "outputs": [
    {
     "name": "stdout",
     "output_type": "stream",
     "text": [
      "['a', 'z', 'c']\n",
      "['a', 'z', 'c'] \n",
      "\n",
      "['a', 'z', 'c']\n",
      "['a', 'b', 'c'] \n",
      "\n",
      "['a', 'z', 'c']\n",
      "['a', 'b', 'c']\n"
     ]
    }
   ],
   "source": [
    "# Behind the scenes\n",
    "x = [\"a\", \"b\", \"c\"]\n",
    "y = x # copy reference to list, not actual values; in terms of computer memory it is the same\n",
    "y[1] = \"z\"\n",
    "print(y)\n",
    "print(x, \"\\n\")\n",
    "\n",
    "x = [\"a\", \"b\", \"c\"]\n",
    "y = list(x)\n",
    "y[1] = \"z\"\n",
    "print(y)\n",
    "print(x, \"\\n\")\n",
    "\n",
    "y = x[:]\n",
    "y[1] = \"z\"\n",
    "print(y)\n",
    "print(x)"
   ]
  },
  {
   "cell_type": "code",
   "execution_count": 24,
   "id": "010434d5-449f-44b4-a2bb-f5e9b676a4c2",
   "metadata": {},
   "outputs": [
    {
     "name": "stdout",
     "output_type": "stream",
     "text": [
      "['hallway', 11.25, 'kitchen', 18.0, 'chill zone', 20.0, 'bedroom', 10.75, 'bathroom', 10.5]\n",
      "['hallway', 11.25, 'kitchen', 18.0, 'chill zone', 20.0, 'bedroom', 10.75, 'bathroom', 10.5, 'poolhouse', 24.5, 'garage', 15.45]\n",
      "['hallway', 11.25, 'kitchen', 18.0, 'chill zone', 20.0, 'bedroom', 10.75, 'bathroom', 10.5, 'garage', 15.45]\n"
     ]
    }
   ],
   "source": [
    "## TO DO ##\n",
    "'''\n",
    "Update the area of the bathroom in your list \"areas_mixed\" to be 10.50.\n",
    "Change the string \"living room\" to \"chill zone\" in \"areas_mixed\".\n",
    "Print the list \"areas_mixed\".\n",
    "Add a poolhouse (24.5) and garage (15.45) to your \"areas_mixed\" list and store the resulting \n",
    "list as \"areas_mixed_new\".\n",
    "Print the list \"areas_mixed_new\"\n",
    "Delete the poolhouse and corresponding area from the list areas_new.\n",
    "Print the list \"areas_mixed_new\".\n",
    "'''\n",
    "\n",
    "### SOLUTION ###\n",
    "areas_mixed[-1] = 10.50\n",
    "areas_mixed[4] = \"chill zone\"\n",
    "print(areas_mixed)\n",
    "areas_mixed_new = areas_mixed + [\"poolhouse\", 24.5, \"garage\", 15.45]\n",
    "print(areas_mixed_new)\n",
    "del(areas_mixed_new[-4:-2])\n",
    "print(areas_mixed_new)"
   ]
  },
  {
   "cell_type": "markdown",
   "id": "1e9b1de0-3ce1-4034-bb7d-aef907af2687",
   "metadata": {},
   "source": [
    "## Functions"
   ]
  },
  {
   "cell_type": "markdown",
   "id": "0fa4688d-6107-43f4-8423-7325a7712aa7",
   "metadata": {},
   "source": [
    "- Noting new, e.g. type()\n",
    "- Piece of reusable code\n",
    "- Solves particular task\n",
    "- Leverage functions instead of writing custom code"
   ]
  },
  {
   "cell_type": "code",
   "execution_count": 25,
   "id": "a74f34d6-8e10-4d8a-890d-976f40d769ce",
   "metadata": {},
   "outputs": [
    {
     "name": "stdout",
     "output_type": "stream",
     "text": [
      "1.89\n"
     ]
    }
   ],
   "source": [
    "tallest = max(fam) # logic is abstracted\n",
    "print(tallest)"
   ]
  },
  {
   "cell_type": "code",
   "execution_count": 26,
   "id": "33969ee4-a45d-4cba-9d17-2e741882e195",
   "metadata": {},
   "outputs": [
    {
     "name": "stdout",
     "output_type": "stream",
     "text": [
      "1.7\n",
      "2\n"
     ]
    }
   ],
   "source": [
    "# Multiple arguments\n",
    "print(round(1.68, 1))\n",
    "print(round(1.68)) # default arguments"
   ]
  },
  {
   "cell_type": "code",
   "execution_count": 27,
   "id": "9780810d-14d2-4edf-b33b-915e44f7f623",
   "metadata": {},
   "outputs": [
    {
     "name": "stdout",
     "output_type": "stream",
     "text": [
      "Help on built-in function round in module builtins:\n",
      "\n",
      "round(number, ndigits=None)\n",
      "    Round a number to a given precision in decimal digits.\n",
      "    \n",
      "    The return value is an integer if ndigits is omitted or None.  Otherwise\n",
      "    the return value has the same type as the number.  ndigits may be negative.\n",
      "\n"
     ]
    }
   ],
   "source": [
    "help(round)"
   ]
  },
  {
   "cell_type": "markdown",
   "id": "5124f2c6-74ac-48d1-8fbf-36cb547d3737",
   "metadata": {},
   "source": [
    "Leverage existing functions to get work done!\n",
    "- standard task -> function probably exists\n",
    "- internet is your friend"
   ]
  },
  {
   "cell_type": "code",
   "execution_count": 28,
   "id": "21748a36-e799-4786-a14b-d1e93fa3b085",
   "metadata": {},
   "outputs": [
    {
     "name": "stdout",
     "output_type": "stream",
     "text": [
      "3\n",
      "Help on built-in function pow in module builtins:\n",
      "\n",
      "pow(base, exp, mod=None)\n",
      "    Equivalent to base**exp with 2 arguments or base**exp % mod with 3 arguments\n",
      "    \n",
      "    Some types, such as ints, are able to use a more efficient algorithm when\n",
      "    invoked using the three argument form.\n",
      "\n",
      "Help on built-in function sorted in module builtins:\n",
      "\n",
      "sorted(iterable, /, *, key=None, reverse=False)\n",
      "    Return a new list containing all items from the iterable in ascending order.\n",
      "    \n",
      "    A custom key function can be supplied to customize the sort order, and the\n",
      "    reverse flag can be set to request the result in descending order.\n",
      "\n",
      "[25.0, 20.0, 18.0, 11.25]\n"
     ]
    }
   ],
   "source": [
    "## TO DO ##\n",
    "'''\n",
    "Print the length of the fam list.\n",
    "Find out what the function pow() is doing.\n",
    "Find out how the function sorted() works.\n",
    "Reverse the number list defined below and print the result.\n",
    "'''\n",
    "\n",
    "numbers = [11.25, 18.0, 20.0, 25.0]\n",
    "\n",
    "### SOLUTION ###\n",
    "print(len(fam))\n",
    "help(pow)\n",
    "help(sorted)\n",
    "print(sorted(numbers, reverse=True))"
   ]
  },
  {
   "cell_type": "markdown",
   "id": "a99a0b5d-4d2e-424c-9ddf-bba05dbc96ad",
   "metadata": {},
   "source": [
    "## Methods"
   ]
  },
  {
   "cell_type": "markdown",
   "id": "77a10a53-4668-44ef-a632-3e6061da78ed",
   "metadata": {},
   "source": [
    "- Functions that belong to objects\n",
    "- All data structures we have seen so far are objects\n",
    "- Everyting = object\n",
    "- Objects have methods associated, depending on type"
   ]
  },
  {
   "cell_type": "code",
   "execution_count": 29,
   "id": "143a5377-1e9d-47c3-8a29-d40f0d9cddb0",
   "metadata": {},
   "outputs": [
    {
     "name": "stdout",
     "output_type": "stream",
     "text": [
      "Liz\n",
      "lisa\n",
      "4\n",
      "1\n"
     ]
    }
   ],
   "source": [
    "# Python data structures are objects\n",
    "sister = \"liz\" # object of type str\n",
    "height = 1.73 # object of type float\n",
    "fam = [\"liz\", 1.73, \"emma\", 1.68, \"mom\", 1.71, \"dad\", 1.89] # object of type list\n",
    "\n",
    "print(sister.capitalize()) # \"Call method capitalize() on sister\"\n",
    "print(sister.replace(\"z\", \"sa\"))\n",
    "print(fam.index(\"mom\")) # \"Call method index() on fam\"\n",
    "print(fam.count(1.73))"
   ]
  },
  {
   "cell_type": "code",
   "execution_count": 30,
   "id": "12132d8e-b606-4f60-8d10-868c741e1571",
   "metadata": {},
   "outputs": [
    {
     "ename": "AttributeError",
     "evalue": "'list' object has no attribute 'replace'",
     "output_type": "error",
     "traceback": [
      "\u001b[0;31m---------------------------------------------------------------------------\u001b[0m",
      "\u001b[0;31mAttributeError\u001b[0m                            Traceback (most recent call last)",
      "Input \u001b[0;32mIn [30]\u001b[0m, in \u001b[0;36m<cell line: 1>\u001b[0;34m()\u001b[0m\n\u001b[0;32m----> 1\u001b[0m \u001b[38;5;28mprint\u001b[39m(\u001b[43mfam\u001b[49m\u001b[38;5;241;43m.\u001b[39;49m\u001b[43mreplace\u001b[49m(\u001b[38;5;124m\"\u001b[39m\u001b[38;5;124mmom\u001b[39m\u001b[38;5;124m\"\u001b[39m, \u001b[38;5;124m\"\u001b[39m\u001b[38;5;124mmommy\u001b[39m\u001b[38;5;124m\"\u001b[39m))\n",
      "\u001b[0;31mAttributeError\u001b[0m: 'list' object has no attribute 'replace'"
     ]
    }
   ],
   "source": [
    "print(fam.replace(\"mom\", \"mommy\")) # list object has no method \"replace\""
   ]
  },
  {
   "cell_type": "code",
   "execution_count": 31,
   "id": "0f0ee100-e3a8-496f-9dc1-b8e00ff40f57",
   "metadata": {},
   "outputs": [
    {
     "name": "stdout",
     "output_type": "stream",
     "text": [
      "2\n",
      "4\n"
     ]
    }
   ],
   "source": [
    "# Method can be different depending on type of object\n",
    "print(sister.index(\"z\"))\n",
    "print(fam.index(\"mom\"))"
   ]
  },
  {
   "cell_type": "code",
   "execution_count": 32,
   "id": "fd53acb5-567c-49f7-8360-9a3db418c7ea",
   "metadata": {},
   "outputs": [
    {
     "name": "stdout",
     "output_type": "stream",
     "text": [
      "['liz', 1.73, 'emma', 1.68, 'mom', 1.71, 'dad', 1.89, 'me']\n",
      "['liz', 1.73, 'emma', 1.68, 'mom', 1.71, 'dad', 1.89, 'me', 1.79]\n"
     ]
    }
   ],
   "source": [
    "# Some methods change the objects they are called on (others not)\n",
    "fam.append(\"me\")\n",
    "print(fam)\n",
    "fam.append(1.79)\n",
    "print(fam)"
   ]
  },
  {
   "cell_type": "code",
   "execution_count": 33,
   "id": "792e196f-5f6e-472b-8ab8-82ee0bc1cb6a",
   "metadata": {},
   "outputs": [
    {
     "name": "stdout",
     "output_type": "stream",
     "text": [
      "3\n",
      "2\n",
      "[11.25, 18.0, 20.0, 10.75, 9.5, 15.45]\n"
     ]
    }
   ],
   "source": [
    "## TO DO ##\n",
    "'''\n",
    "Create a variable called \"place\" and store the string \"poolhouse\" in it.\n",
    "Count the number of times the letter \"o\" appears in the variable \"place\" by calling the method count\n",
    "on it.\n",
    "Use your \"areas\" list to find the index of the number 20.0.\n",
    "Use the method append to add the area 15.45 to your \"areas\" list.\n",
    "Print the \"areas\" list.\n",
    "'''\n",
    "\n",
    "### SOLUTION ###\n",
    "place = \"poolhouse\"\n",
    "print(place.count(\"o\"))\n",
    "print(areas.index(20.0))\n",
    "areas.append(15.45)\n",
    "print(areas)"
   ]
  },
  {
   "cell_type": "markdown",
   "id": "dc54b5fa-f797-4b67-9938-3b51bc2eeab8",
   "metadata": {},
   "source": [
    "## Packages"
   ]
  },
  {
   "cell_type": "markdown",
   "id": "f0a6401d-80fd-4976-9915-33e60dc60dee",
   "metadata": {},
   "source": [
    "- All code can't be in the general Python distribution that we have installed.\n",
    "    - That would be a mess and impossible to maintain\n",
    "- That is where packages come into the picture\n",
    "- Think of packages as a directory of python scripts\n",
    "    - Each script is a so called module\n",
    "    - In the modules, functions, methods and types are defined to solve particular problems\n",
    "- Thousands of packages are available\n",
    "- Very prominent packages for Data Science are among others:\n",
    "    - NumPy\n",
    "    - Matplotlib\n",
    "    - scikit-learn"
   ]
  },
  {
   "cell_type": "code",
   "execution_count": 34,
   "id": "b6347fd3-ddaf-4fcb-b45b-456fd1221eee",
   "metadata": {},
   "outputs": [],
   "source": [
    "# Import packages\n",
    "import numpy as np\n",
    "\n",
    "numbers = np.array([1, 2, 3]) # array is a function from the NumPy package"
   ]
  },
  {
   "cell_type": "code",
   "execution_count": 35,
   "id": "8f1af2ae-9b61-4e13-ad1e-b45edb0c9f0d",
   "metadata": {},
   "outputs": [
    {
     "name": "stdout",
     "output_type": "stream",
     "text": [
      "0.20943951023931956\n"
     ]
    }
   ],
   "source": [
    "## TO DO ##\n",
    "'''\n",
    "Import the package called math.\n",
    "Use the function radians to convert the angle 12 degrees into radians and print the result.\n",
    "'''\n",
    "\n",
    "### SOLUTION ###\n",
    "import math\n",
    "print(math.radians(12))"
   ]
  },
  {
   "cell_type": "markdown",
   "id": "a7cd85fd-37d7-4baa-be36-4ed7f62ef8de",
   "metadata": {},
   "source": [
    "## NumPy "
   ]
  },
  {
   "cell_type": "markdown",
   "id": "0cbe4804-c914-4383-8235-b78aee5628e9",
   "metadata": {},
   "source": [
    "- One feature is missing in Lists: mathematical operations over collections at speed\n",
    "- Use NumPy as an alternative for easy and fast calculations over entire arrays\n",
    "- NumPy has a new data type: arrays"
   ]
  },
  {
   "cell_type": "code",
   "execution_count": 36,
   "id": "95365d2f-51e4-498e-9d5c-21f48be98781",
   "metadata": {},
   "outputs": [],
   "source": [
    "# Problem with lists\n",
    "height = [1.73, 1.68, 1.71, 1.89, 1.79]\n",
    "weight = [65.4, 59.2, 63.3, 88.4, 68.7]"
   ]
  },
  {
   "cell_type": "code",
   "execution_count": 37,
   "id": "469eb630-f5d0-4247-8e69-67a87cd4d700",
   "metadata": {},
   "outputs": [
    {
     "ename": "TypeError",
     "evalue": "unsupported operand type(s) for ** or pow(): 'list' and 'int'",
     "output_type": "error",
     "traceback": [
      "\u001b[0;31m---------------------------------------------------------------------------\u001b[0m",
      "\u001b[0;31mTypeError\u001b[0m                                 Traceback (most recent call last)",
      "Input \u001b[0;32mIn [37]\u001b[0m, in \u001b[0;36m<cell line: 1>\u001b[0;34m()\u001b[0m\n\u001b[0;32m----> 1\u001b[0m bmi \u001b[38;5;241m=\u001b[39m weight \u001b[38;5;241m/\u001b[39m \u001b[43mheight\u001b[49m\u001b[43m \u001b[49m\u001b[38;5;241;43m*\u001b[39;49m\u001b[38;5;241;43m*\u001b[39;49m\u001b[43m \u001b[49m\u001b[38;5;241;43m2\u001b[39;49m\n\u001b[1;32m      2\u001b[0m \u001b[38;5;28mprint\u001b[39m(bmi)\n",
      "\u001b[0;31mTypeError\u001b[0m: unsupported operand type(s) for ** or pow(): 'list' and 'int'"
     ]
    }
   ],
   "source": [
    "bmi = weight / height ** 2 # this will throw an error\n",
    "print(bmi)"
   ]
  },
  {
   "cell_type": "code",
   "execution_count": 38,
   "id": "ee103150-2fb4-403d-a44f-537fb398f3e9",
   "metadata": {},
   "outputs": [],
   "source": [
    "np_height = np.array(height) \n",
    "np_weight = np.array(weight)"
   ]
  },
  {
   "cell_type": "code",
   "execution_count": 39,
   "id": "c260a5db-430c-4cf6-88f9-b7f5a8124f32",
   "metadata": {},
   "outputs": [
    {
     "name": "stdout",
     "output_type": "stream",
     "text": [
      "[21.85171573 20.97505669 21.64768647 24.7473475  21.44127836]\n"
     ]
    }
   ],
   "source": [
    "bmi = np_weight / np_height ** 2\n",
    "print(bmi)"
   ]
  },
  {
   "cell_type": "code",
   "execution_count": 40,
   "id": "28757171-edb7-45ff-9d46-ca9a04aad424",
   "metadata": {},
   "outputs": [
    {
     "name": "stdout",
     "output_type": "stream",
     "text": [
      "[1.73, 1.68, 1.71, 1.89, 1.79, 65.4, 59.2, 63.3, 88.4, 68.7]\n",
      "[67.13 60.88 65.01 90.29 70.49]\n"
     ]
    }
   ],
   "source": [
    "# Different behavior of different Python data types\n",
    "print(height + weight)\n",
    "print(np_height + np_weight)"
   ]
  },
  {
   "cell_type": "code",
   "execution_count": 41,
   "id": "ace180e8-a2a8-41c5-bd13-57ae838c4d37",
   "metadata": {},
   "outputs": [
    {
     "name": "stdout",
     "output_type": "stream",
     "text": [
      "20.97505668934241\n",
      "[24.7473475]\n"
     ]
    }
   ],
   "source": [
    "# Indexing NumPy arrays\n",
    "print(bmi[1])\n",
    "print(bmi[bmi > 23])"
   ]
  },
  {
   "cell_type": "code",
   "execution_count": 42,
   "id": "3a1c3f1d-8902-4561-8cd8-7cb61adb0f8b",
   "metadata": {},
   "outputs": [
    {
     "name": "stdout",
     "output_type": "stream",
     "text": [
      "<class 'numpy.ndarray'>\n",
      "[360 430 420 420 376 352 418 400]\n",
      "[180 188 176]\n"
     ]
    }
   ],
   "source": [
    "## TO DO ##\n",
    "'''\n",
    "Convert the list called \"baseball\" into a numpy array called \"np_baseball\".\n",
    "Print the type of \"np_baseball\"\n",
    "Multiply each value in \"np_baseball\" by 2 and print the result.\n",
    "Print all values of np_baseball that are below 200.\n",
    "'''\n",
    "\n",
    "baseball = [180, 215, 210, 210, 188, 176, 209, 200]\n",
    "\n",
    "### SOLUTION ###\n",
    "np_baseball = np.array(baseball)\n",
    "print(type(np_baseball))\n",
    "print(np_baseball*2)\n",
    "print(np_baseball[np_baseball < 200])"
   ]
  },
  {
   "cell_type": "code",
   "execution_count": 43,
   "id": "7fc9caf0-34f1-4f9b-8b65-f7372f4f7a30",
   "metadata": {},
   "outputs": [],
   "source": [
    "# 2D NumPy array\n",
    "np_2d = np.array([[1.73, 1.68, 1.71, 1.89, 1.79],\n",
    "                  [65.4, 59.2, 63.6, 88.4, 68.7]])"
   ]
  },
  {
   "cell_type": "code",
   "execution_count": 44,
   "id": "a6e67d5f-2288-4b6d-9507-d07d023e3615",
   "metadata": {},
   "outputs": [
    {
     "name": "stdout",
     "output_type": "stream",
     "text": [
      "(2, 5)\n",
      "1.71\n",
      "[[ 1.68  1.71]\n",
      " [59.2  63.6 ]]\n"
     ]
    }
   ],
   "source": [
    "print(np_2d.shape) # shape is an attribute of np.array\n",
    "print(np_2d[0][2])\n",
    "print(np_2d[:, 1:3])"
   ]
  },
  {
   "cell_type": "code",
   "execution_count": 45,
   "id": "da02e1f8-cb61-4a5b-8434-be8a5d718b00",
   "metadata": {},
   "outputs": [
    {
     "name": "stdout",
     "output_type": "stream",
     "text": [
      "[ 1.76 69.06]\n",
      "1.7600000000000002 69.06\n",
      "0.07429670248402682\n",
      "1.0\n"
     ]
    }
   ],
   "source": [
    "# Basic statistics with NumPy\n",
    "print(np_2d.mean(axis=1)) # Method of NumPy array data structure\n",
    "print(np.mean(np_2d[0,:]), np.mean(np_2d[1,:])) # NumPy function\n",
    "print(np.std(np_2d[0,:]))\n",
    "print(np.corrcoef(np_2d[0,:]))"
   ]
  },
  {
   "cell_type": "markdown",
   "id": "5fe8abfa-299b-44f5-8a32-79d970fa1523",
   "metadata": {},
   "source": [
    "Well done! You are now a Pythonista :)\n",
    "\n",
    "As a last remark, [Datacamp](https://www.datacamp.com) is a really great resource to learn coding skills relevant for Data Science.\n",
    "We can also really recommend the articles and tutorials from [Real Python](https://realpython.com/tutorials/basics/) (albeit less Data Science specific)."
   ]
  }
 ],
 "metadata": {
  "kernelspec": {
   "display_name": "Python 3 (ipykernel)",
   "language": "python",
   "name": "python3"
  },
  "language_info": {
   "codemirror_mode": {
    "name": "ipython",
    "version": 3
   },
   "file_extension": ".py",
   "mimetype": "text/x-python",
   "name": "python",
   "nbconvert_exporter": "python",
   "pygments_lexer": "ipython3",
   "version": "3.9.7"
  }
 },
 "nbformat": 4,
 "nbformat_minor": 5
}
