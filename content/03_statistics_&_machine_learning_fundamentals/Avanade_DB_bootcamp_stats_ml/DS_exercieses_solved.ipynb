{
 "cells": [
  {
   "cell_type": "code",
   "execution_count": 1,
   "id": "822b7531-923c-4b0a-9d8b-24b5a9c5a805",
   "metadata": {},
   "outputs": [],
   "source": [
    "## <ins>Data Science Bootcamp - 3th Day- Statistics and ML</ins>"
   ]
  },
  {
   "cell_type": "code",
   "execution_count": 2,
   "id": "c9772f0a-c643-4454-b3bf-7ffd3baf2c0b",
   "metadata": {},
   "outputs": [],
   "source": [
    "import math\n",
    "import pandas as pd\n",
    "import numpy as np\n",
    "import matplotlib.pyplot as plt\n",
    "from sklearn.metrics import r2_score"
   ]
  },
  {
   "cell_type": "markdown",
   "id": "40fab700-14f5-4dbc-8e39-8b17dcdea16c",
   "metadata": {
    "tags": []
   },
   "source": [
    "# Exercises\n",
    "# Data types\n",
    "A: Consider the following data and figure out what category of data they are.<br>\n",
    "nominal, ordinal, discrete, continous\n",
    "\n",
    "What is your ethnicity?\n",
    "– Central Asian\n",
    "- Indonesian\n",
    "- West Asian\n",
    "- Japanese\n",
    "- Indian\n",
    "\n",
    "B: The revenue from sales of a company:\n",
    "- $2.8b\n",
    "\n",
    "C: The number of sales of a company:\n",
    "- Product A: 1753\n",
    "- Product B: 104357\n",
    "- Product C: 3\n",
    "\n",
    "D: Grades in school (only the round numbers can be used as grades):\n",
    "- 1\n",
    "- 2\n",
    "- 3\n",
    "- 4\n",
    "- 5\n",
    "- 6\n",
    " "
   ]
  },
  {
   "cell_type": "markdown",
   "id": "a5402a25-2739-4ea9-ba1f-afcf1e496e70",
   "metadata": {},
   "source": [
    "## Solution:\n",
    "- A: nominal, there is no order of ethnicities and for the sake of simplicity no mixed  \n",
    "- B: numerical, the revenue is on a continuous scale \n",
    "- C: discrete, numerical count numbers, but as a group they are discrete\n",
    "- D: ordinal, clear hierarchy  of the categories"
   ]
  },
  {
   "cell_type": "markdown",
   "id": "494603c5-0bf8-4ec1-b295-94b72e63e562",
   "metadata": {},
   "source": [
    "# Probabilities\n",
    "What of the following are probailites?\n",
    "- A: P(X) = -0.1\n",
    "- B: P(X) = 1.1\n",
    "- C: P(X) = 1.0\n",
    "- D: P(X) = 0.4"
   ]
  },
  {
   "cell_type": "markdown",
   "id": "7ba06d17-415b-4d78-af7d-c91d99bed678",
   "metadata": {},
   "source": [
    "## Solution:\n",
    "- A: not a probability, negativ\n",
    "- B: not a probability, above 1\n",
    "- C: probability, event X always happens\n",
    "- D: probability"
   ]
  },
  {
   "cell_type": "markdown",
   "id": "3798c2bb-0c6e-417c-b74f-b76ae38b37bd",
   "metadata": {},
   "source": [
    "# Confidence intervall:\n",
    "We want to calculate the confidence intervall of a given data set.<br> We will be using the 0.95 confidence level.<br>\n",
    "$\\bar{X}$ is the mean of data set.<br>\n",
    "$u$  is the quantile value.<br>\n",
    "$\\sigma$ is the standartdeviation.<br>\n",
    "$n$ is the number of oberservations.<br>\n",
    "\n",
    "Formula for the normal distribution:<br>\n",
    "$[upper, lower] = \\bar{X}\\pm u\\cdot\\frac{\\sigma}{\\sqrt{n}}$"
   ]
  },
  {
   "cell_type": "code",
   "execution_count": 3,
   "id": "de3dce5e-5573-4231-9483-8a1f4f3d8ca9",
   "metadata": {},
   "outputs": [
    {
     "name": "stdout",
     "output_type": "stream",
     "text": [
      "71.0\n"
     ]
    }
   ],
   "source": [
    "data = [45, 55, 67, 45, 68, 79, 98, 87, 84, 82] #given dataset\n",
    "n = len(data) #number of data points\n",
    "#uncomment the next lime and caculate the mean the the dataset\n",
    "x = sum(data)/len(data) \n",
    "print(x) "
   ]
  },
  {
   "cell_type": "code",
   "execution_count": 4,
   "id": "ada37eb9-7021-4049-bdc5-7cfa07a26c33",
   "metadata": {},
   "outputs": [
    {
     "name": "stdout",
     "output_type": "stream",
     "text": [
      "17.23948955160796\n"
     ]
    }
   ],
   "source": [
    "sigma = np.std(data) #calculates the standartdeviation of the dataset\n",
    "print(sigma)"
   ]
  },
  {
   "cell_type": "code",
   "execution_count": 5,
   "id": "d5540e31-9626-4168-94a9-c3b15f341e64",
   "metadata": {},
   "outputs": [
    {
     "name": "stdout",
     "output_type": "stream",
     "text": [
      "55.62102153847662 86.37897846152337\n"
     ]
    }
   ],
   "source": [
    "u = 2.821\n",
    "#write here the formula for the upper and lower bound of the confidence intervall\n",
    "#note the root of a variable is math.sqrt(x)\n",
    "upper = x+u*sigma/math.sqrt(n)\n",
    "lower = x-u*sigma/math.sqrt(n)\n",
    "print(lower, upper)"
   ]
  },
  {
   "cell_type": "markdown",
   "id": "0ec97221-d49f-418f-befd-ad32579f5a2e",
   "metadata": {},
   "source": [
    "Between 55.62 and 86.38 0.95 percent of all values of the distribution will be located."
   ]
  },
  {
   "cell_type": "markdown",
   "id": "ea33bda3-014a-483f-94a2-a80297541d23",
   "metadata": {},
   "source": [
    "# Choose which kind of ML might the most fitting for the problem:\n",
    "- Predict the future returns of a company.\n",
    "- Data, in which we want to find commonalities, group them together into categories to better advertise to them.\n",
    "- We want to train a robot to do complex maneuvers, but we dont have a lot of preexisting data to train the robot on.\n"
   ]
  },
  {
   "cell_type": "markdown",
   "id": "6a551a47-07f7-4296-bf5d-09fa66a3d637",
   "metadata": {},
   "source": [
    "## Solution\n",
    "- A supervised model would probably fit the most, to add to that a time-series model like ARIMA would be a great fit.\n",
    "- Unsupervised learning, since we want to form clusters of people with commonalities.\n",
    "- Reinforcement learning might be a great fit, since we can train the robot on its own mistakes "
   ]
  },
  {
   "cell_type": "markdown",
   "id": "b5596e67-6b40-4828-acd4-9d290936a631",
   "metadata": {},
   "source": [
    "# Linear regression\n",
    "In order to get used to the simplest form of ML, linear regression. We will use a randomly crea"
   ]
  },
  {
   "cell_type": "code",
   "execution_count": 6,
   "id": "12d35173-bc0d-4bff-ad76-57a1f85e0d74",
   "metadata": {},
   "outputs": [],
   "source": [
    "np.random.seed(42)\n",
    "#Randomly creates data\n",
    "n_samples, n_features = 200, 50\n",
    "X = np.random.randn(n_samples, n_features)\n",
    "true_coef = 3 * np.random.randn(n_features)\n",
    "# Threshold coefficients to render them non-negative\n",
    "true_coef[true_coef < 0] = 0\n",
    "y = np.dot(X, true_coef)\n",
    "\n",
    "# Add some noise\n",
    "y += 5 * np.random.normal(size=(n_samples,))"
   ]
  },
  {
   "cell_type": "code",
   "execution_count": 7,
   "id": "c8dad49e-20fc-4883-a255-440ce9d0c18e",
   "metadata": {},
   "outputs": [],
   "source": [
    "from sklearn.model_selection import train_test_split\n",
    "\n",
    "#change the \"Nones\" below to split the data into two set, note the dataset are X and y\n",
    "X_train, X_test, y_train, y_test = train_test_split(X, y, test_size=0.5) #split the dataset into two, by half/0.5"
   ]
  },
  {
   "cell_type": "code",
   "execution_count": 8,
   "id": "879df2c4-688a-4897-b7c4-26cfac2669db",
   "metadata": {},
   "outputs": [
    {
     "name": "stdout",
     "output_type": "stream",
     "text": [
      "NNLS R2 score 0.8225220806196525\n"
     ]
    }
   ],
   "source": [
    "from sklearn.linear_model import LinearRegression\n",
    "\n",
    "reg_nnls = LinearRegression(positive=True)\n",
    "#add the above created training dataset to the fit\n",
    "y_pred_nnls = reg_nnls.fit(X_train, y_train).predict(X_test)\n",
    "r2_score_nnls = r2_score(y_test, y_pred_nnls)#gets the R^2 of the modell\n",
    "print(\"NNLS R2 score\", r2_score_nnls)"
   ]
  },
  {
   "cell_type": "markdown",
   "id": "e92e6246-752a-4cf5-9b4a-c84166d82256",
   "metadata": {},
   "source": [
    " Using the NNLS loss-function, we the $R^2$ of the model.<br>\n",
    " $R^2$ is the measesure of how much variance of the model is explained by the model. Generally the higher the better. Our 0.82 is fine."
   ]
  },
  {
   "cell_type": "code",
   "execution_count": 9,
   "id": "aa285ddc-5abe-4a6d-bdf5-86048122f544",
   "metadata": {},
   "outputs": [
    {
     "name": "stdout",
     "output_type": "stream",
     "text": [
      "OLS R2 score 0.743692629170035\n"
     ]
    }
   ],
   "source": [
    "reg_ols = LinearRegression()\n",
    "y_pred_ols = reg_ols.fit(X_train, y_train).predict(X_test)\n",
    "r2_score_ols = r2_score(y_test, y_pred_ols)\n",
    "print(\"OLS R2 score\", r2_score_ols)"
   ]
  },
  {
   "cell_type": "markdown",
   "id": "912f46f5-d1eb-4a07-a7e4-930d876d0f91",
   "metadata": {},
   "source": [
    "The OLS loss-function gets us a worse $R^2$, but still a resonable fit."
   ]
  },
  {
   "cell_type": "markdown",
   "id": "4c6af847-615c-4642-85fb-4d1b1568185f",
   "metadata": {},
   "source": [
    "Next we plot the data and regression line to see, how it fits."
   ]
  },
  {
   "cell_type": "code",
   "execution_count": 10,
   "id": "19a7d305-563f-4218-9499-daab9b39f7dc",
   "metadata": {},
   "outputs": [
    {
     "data": {
      "text/plain": [
       "Text(0, 0.5, 'NNLS regression coefficients')"
      ]
     },
     "execution_count": 10,
     "metadata": {},
     "output_type": "execute_result"
    },
    {
     "data": {
      "image/png": "[encoded data removed]",
      "text/plain": [
       "<Figure size 432x288 with 1 Axes>"
      ]
     },
     "metadata": {
      "needs_background": "light"
     },
     "output_type": "display_data"
    }
   ],
   "source": [
    "fig, ax = plt.subplots()\n",
    "ax.plot(reg_ols.coef_, reg_nnls.coef_, linewidth=0, marker=\".\")\n",
    "\n",
    "low_x, high_x = ax.get_xlim()\n",
    "low_y, high_y = ax.get_ylim()\n",
    "low = max(low_x, low_y)\n",
    "high = min(high_x, high_y)\n",
    "ax.plot([low, high], [low, high], ls=\"--\", c=\".3\", alpha=0.5)\n",
    "ax.set_xlabel(\"OLS regression coefficients\", fontweight=\"bold\")\n",
    "ax.set_ylabel(\"NNLS regression coefficients\", fontweight=\"bold\")"
   ]
  }
 ],
 "metadata": {
  "kernelspec": {
   "display_name": "Python 3 (ipykernel)",
   "language": "python",
   "name": "python3"
  },
  "language_info": {
   "codemirror_mode": {
    "name": "ipython",
    "version": 3
   },
   "file_extension": ".py",
   "mimetype": "text/x-python",
   "name": "python",
   "nbconvert_exporter": "python",
   "pygments_lexer": "ipython3",
   "version": "3.9.12"
  }
 },
 "nbformat": 4,
 "nbformat_minor": 5
}
