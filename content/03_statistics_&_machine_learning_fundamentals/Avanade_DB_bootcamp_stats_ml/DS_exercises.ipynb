{
 "cells": [
  {
   "cell_type": "markdown",
   "id": "9d86cf74-7cf9-4ea9-bc5d-159e35a16513",
   "metadata": {},
   "source": [
    "## <ins>Data Science Bootcamp - 3th Day- Statistics and ML</ins>"
   ]
  },
  {
   "cell_type": "code",
   "execution_count": 1,
   "id": "17f39c02-640f-4566-b9f3-781798007d61",
   "metadata": {},
   "outputs": [],
   "source": [
    "from IPython.display import HTML\n",
    "from IPython.display import Image\n",
    "from IPython.display import display\n",
    "import matplotlib.pyplot as plt\n",
    "import numpy as np\n",
    "import scipy.stats as stats\n",
    "import math\n",
    "import pandas as pd\n",
    "from sklearn.linear_model import LinearRegression\n",
    "#from toggle_cell import toggle_code as hide_solution\n",
    "ph = None"
   ]
  },
  {
   "cell_type": "markdown",
   "id": "06522d70-c852-4524-9a93-f19a12e69bac",
   "metadata": {},
   "source": [
    "# Exercises"
   ]
  },
  {
   "cell_type": "markdown",
   "id": "a83a0740-24f5-4271-844c-e9cfa85aa5b2",
   "metadata": {},
   "source": [
    "# Data types\n",
    "Consider the following data and figure out what category of data they are.\n",
    "- \n"
   ]
  },
  {
   "cell_type": "code",
   "execution_count": null,
   "id": "6b28eac1-8881-4573-acc5-dacda92ec6c9",
   "metadata": {},
   "outputs": [],
   "source": [
    "# Probabilities"
   ]
  },
  {
   "cell_type": "markdown",
   "id": "5a6543ef-a144-4c8d-8dbb-133302c67c66",
   "metadata": {},
   "source": [
    "## Distribustions"
   ]
  }
 ],
 "metadata": {
  "kernelspec": {
   "display_name": "Python 3 (ipykernel)",
   "language": "python",
   "name": "python3"
  },
  "language_info": {
   "codemirror_mode": {
    "name": "ipython",
    "version": 3
   },
   "file_extension": ".py",
   "mimetype": "text/x-python",
   "name": "python",
   "nbconvert_exporter": "python",
   "pygments_lexer": "ipython3",
   "version": "3.9.12"
  }
 },
 "nbformat": 4,
 "nbformat_minor": 5
}
